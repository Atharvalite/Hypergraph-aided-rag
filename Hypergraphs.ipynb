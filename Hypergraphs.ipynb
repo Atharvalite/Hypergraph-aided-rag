{
  "nbformat": 4,
  "nbformat_minor": 0,
  "metadata": {
    "colab": {
      "provenance": [],
      "gpuType": "T4"
    },
    "kernelspec": {
      "name": "python3",
      "display_name": "Python 3"
    },
    "language_info": {
      "name": "python"
    },
    "accelerator": "GPU",
    "widgets": {
      "application/vnd.jupyter.widget-state+json": {
        "fa8bd7a7b155431b8b81247516fbfeb1": {
          "model_module": "@jupyter-widgets/controls",
          "model_name": "HBoxModel",
          "model_module_version": "1.5.0",
          "state": {
            "_dom_classes": [],
            "_model_module": "@jupyter-widgets/controls",
            "_model_module_version": "1.5.0",
            "_model_name": "HBoxModel",
            "_view_count": null,
            "_view_module": "@jupyter-widgets/controls",
            "_view_module_version": "1.5.0",
            "_view_name": "HBoxView",
            "box_style": "",
            "children": [
              "IPY_MODEL_0da02506e8fa4fd295073f19831688e2",
              "IPY_MODEL_5ffbef1cc7814a908910cedf03e98ae9",
              "IPY_MODEL_523f922652a348d381ad00dd3f0b71a0"
            ],
            "layout": "IPY_MODEL_bc3a32acab32481eb81bcb4eb3eea773"
          }
        },
        "0da02506e8fa4fd295073f19831688e2": {
          "model_module": "@jupyter-widgets/controls",
          "model_name": "HTMLModel",
          "model_module_version": "1.5.0",
          "state": {
            "_dom_classes": [],
            "_model_module": "@jupyter-widgets/controls",
            "_model_module_version": "1.5.0",
            "_model_name": "HTMLModel",
            "_view_count": null,
            "_view_module": "@jupyter-widgets/controls",
            "_view_module_version": "1.5.0",
            "_view_name": "HTMLView",
            "description": "",
            "description_tooltip": null,
            "layout": "IPY_MODEL_9e85379ae3d240a78e7126928e3a3664",
            "placeholder": "​",
            "style": "IPY_MODEL_0d0fa59ecc0246e0a969a90f5d8f429b",
            "value": "Fetching 1 files: 100%"
          }
        },
        "5ffbef1cc7814a908910cedf03e98ae9": {
          "model_module": "@jupyter-widgets/controls",
          "model_name": "FloatProgressModel",
          "model_module_version": "1.5.0",
          "state": {
            "_dom_classes": [],
            "_model_module": "@jupyter-widgets/controls",
            "_model_module_version": "1.5.0",
            "_model_name": "FloatProgressModel",
            "_view_count": null,
            "_view_module": "@jupyter-widgets/controls",
            "_view_module_version": "1.5.0",
            "_view_name": "ProgressView",
            "bar_style": "success",
            "description": "",
            "description_tooltip": null,
            "layout": "IPY_MODEL_e69245ec18584bb1b5bda213c9271247",
            "max": 1,
            "min": 0,
            "orientation": "horizontal",
            "style": "IPY_MODEL_b3b5cd69556643ac9dc1e536ee35e270",
            "value": 1
          }
        },
        "523f922652a348d381ad00dd3f0b71a0": {
          "model_module": "@jupyter-widgets/controls",
          "model_name": "HTMLModel",
          "model_module_version": "1.5.0",
          "state": {
            "_dom_classes": [],
            "_model_module": "@jupyter-widgets/controls",
            "_model_module_version": "1.5.0",
            "_model_name": "HTMLModel",
            "_view_count": null,
            "_view_module": "@jupyter-widgets/controls",
            "_view_module_version": "1.5.0",
            "_view_name": "HTMLView",
            "description": "",
            "description_tooltip": null,
            "layout": "IPY_MODEL_43a9550ce84b4c20918e9a583d79855a",
            "placeholder": "​",
            "style": "IPY_MODEL_23e062b0b7e8476489727563fa8dd60a",
            "value": " 1/1 [00:00&lt;00:00,  1.91it/s]"
          }
        },
        "bc3a32acab32481eb81bcb4eb3eea773": {
          "model_module": "@jupyter-widgets/base",
          "model_name": "LayoutModel",
          "model_module_version": "1.2.0",
          "state": {
            "_model_module": "@jupyter-widgets/base",
            "_model_module_version": "1.2.0",
            "_model_name": "LayoutModel",
            "_view_count": null,
            "_view_module": "@jupyter-widgets/base",
            "_view_module_version": "1.2.0",
            "_view_name": "LayoutView",
            "align_content": null,
            "align_items": null,
            "align_self": null,
            "border": null,
            "bottom": null,
            "display": null,
            "flex": null,
            "flex_flow": null,
            "grid_area": null,
            "grid_auto_columns": null,
            "grid_auto_flow": null,
            "grid_auto_rows": null,
            "grid_column": null,
            "grid_gap": null,
            "grid_row": null,
            "grid_template_areas": null,
            "grid_template_columns": null,
            "grid_template_rows": null,
            "height": null,
            "justify_content": null,
            "justify_items": null,
            "left": null,
            "margin": null,
            "max_height": null,
            "max_width": null,
            "min_height": null,
            "min_width": null,
            "object_fit": null,
            "object_position": null,
            "order": null,
            "overflow": null,
            "overflow_x": null,
            "overflow_y": null,
            "padding": null,
            "right": null,
            "top": null,
            "visibility": null,
            "width": null
          }
        },
        "9e85379ae3d240a78e7126928e3a3664": {
          "model_module": "@jupyter-widgets/base",
          "model_name": "LayoutModel",
          "model_module_version": "1.2.0",
          "state": {
            "_model_module": "@jupyter-widgets/base",
            "_model_module_version": "1.2.0",
            "_model_name": "LayoutModel",
            "_view_count": null,
            "_view_module": "@jupyter-widgets/base",
            "_view_module_version": "1.2.0",
            "_view_name": "LayoutView",
            "align_content": null,
            "align_items": null,
            "align_self": null,
            "border": null,
            "bottom": null,
            "display": null,
            "flex": null,
            "flex_flow": null,
            "grid_area": null,
            "grid_auto_columns": null,
            "grid_auto_flow": null,
            "grid_auto_rows": null,
            "grid_column": null,
            "grid_gap": null,
            "grid_row": null,
            "grid_template_areas": null,
            "grid_template_columns": null,
            "grid_template_rows": null,
            "height": null,
            "justify_content": null,
            "justify_items": null,
            "left": null,
            "margin": null,
            "max_height": null,
            "max_width": null,
            "min_height": null,
            "min_width": null,
            "object_fit": null,
            "object_position": null,
            "order": null,
            "overflow": null,
            "overflow_x": null,
            "overflow_y": null,
            "padding": null,
            "right": null,
            "top": null,
            "visibility": null,
            "width": null
          }
        },
        "0d0fa59ecc0246e0a969a90f5d8f429b": {
          "model_module": "@jupyter-widgets/controls",
          "model_name": "DescriptionStyleModel",
          "model_module_version": "1.5.0",
          "state": {
            "_model_module": "@jupyter-widgets/controls",
            "_model_module_version": "1.5.0",
            "_model_name": "DescriptionStyleModel",
            "_view_count": null,
            "_view_module": "@jupyter-widgets/base",
            "_view_module_version": "1.2.0",
            "_view_name": "StyleView",
            "description_width": ""
          }
        },
        "e69245ec18584bb1b5bda213c9271247": {
          "model_module": "@jupyter-widgets/base",
          "model_name": "LayoutModel",
          "model_module_version": "1.2.0",
          "state": {
            "_model_module": "@jupyter-widgets/base",
            "_model_module_version": "1.2.0",
            "_model_name": "LayoutModel",
            "_view_count": null,
            "_view_module": "@jupyter-widgets/base",
            "_view_module_version": "1.2.0",
            "_view_name": "LayoutView",
            "align_content": null,
            "align_items": null,
            "align_self": null,
            "border": null,
            "bottom": null,
            "display": null,
            "flex": null,
            "flex_flow": null,
            "grid_area": null,
            "grid_auto_columns": null,
            "grid_auto_flow": null,
            "grid_auto_rows": null,
            "grid_column": null,
            "grid_gap": null,
            "grid_row": null,
            "grid_template_areas": null,
            "grid_template_columns": null,
            "grid_template_rows": null,
            "height": null,
            "justify_content": null,
            "justify_items": null,
            "left": null,
            "margin": null,
            "max_height": null,
            "max_width": null,
            "min_height": null,
            "min_width": null,
            "object_fit": null,
            "object_position": null,
            "order": null,
            "overflow": null,
            "overflow_x": null,
            "overflow_y": null,
            "padding": null,
            "right": null,
            "top": null,
            "visibility": null,
            "width": null
          }
        },
        "b3b5cd69556643ac9dc1e536ee35e270": {
          "model_module": "@jupyter-widgets/controls",
          "model_name": "ProgressStyleModel",
          "model_module_version": "1.5.0",
          "state": {
            "_model_module": "@jupyter-widgets/controls",
            "_model_module_version": "1.5.0",
            "_model_name": "ProgressStyleModel",
            "_view_count": null,
            "_view_module": "@jupyter-widgets/base",
            "_view_module_version": "1.2.0",
            "_view_name": "StyleView",
            "bar_color": null,
            "description_width": ""
          }
        },
        "43a9550ce84b4c20918e9a583d79855a": {
          "model_module": "@jupyter-widgets/base",
          "model_name": "LayoutModel",
          "model_module_version": "1.2.0",
          "state": {
            "_model_module": "@jupyter-widgets/base",
            "_model_module_version": "1.2.0",
            "_model_name": "LayoutModel",
            "_view_count": null,
            "_view_module": "@jupyter-widgets/base",
            "_view_module_version": "1.2.0",
            "_view_name": "LayoutView",
            "align_content": null,
            "align_items": null,
            "align_self": null,
            "border": null,
            "bottom": null,
            "display": null,
            "flex": null,
            "flex_flow": null,
            "grid_area": null,
            "grid_auto_columns": null,
            "grid_auto_flow": null,
            "grid_auto_rows": null,
            "grid_column": null,
            "grid_gap": null,
            "grid_row": null,
            "grid_template_areas": null,
            "grid_template_columns": null,
            "grid_template_rows": null,
            "height": null,
            "justify_content": null,
            "justify_items": null,
            "left": null,
            "margin": null,
            "max_height": null,
            "max_width": null,
            "min_height": null,
            "min_width": null,
            "object_fit": null,
            "object_position": null,
            "order": null,
            "overflow": null,
            "overflow_x": null,
            "overflow_y": null,
            "padding": null,
            "right": null,
            "top": null,
            "visibility": null,
            "width": null
          }
        },
        "23e062b0b7e8476489727563fa8dd60a": {
          "model_module": "@jupyter-widgets/controls",
          "model_name": "DescriptionStyleModel",
          "model_module_version": "1.5.0",
          "state": {
            "_model_module": "@jupyter-widgets/controls",
            "_model_module_version": "1.5.0",
            "_model_name": "DescriptionStyleModel",
            "_view_count": null,
            "_view_module": "@jupyter-widgets/base",
            "_view_module_version": "1.2.0",
            "_view_name": "StyleView",
            "description_width": ""
          }
        },
        "081aa99b83d1469880053057ebfac845": {
          "model_module": "@jupyter-widgets/controls",
          "model_name": "HBoxModel",
          "model_module_version": "1.5.0",
          "state": {
            "_dom_classes": [],
            "_model_module": "@jupyter-widgets/controls",
            "_model_module_version": "1.5.0",
            "_model_name": "HBoxModel",
            "_view_count": null,
            "_view_module": "@jupyter-widgets/controls",
            "_view_module_version": "1.5.0",
            "_view_name": "HBoxView",
            "box_style": "",
            "children": [
              "IPY_MODEL_2d0dbc59309f46f7bd322e4591061f90",
              "IPY_MODEL_4c07df6b0fbb47308bc4e4bd6d970b86",
              "IPY_MODEL_b13eeef2c1324e0d8b4ddf6af256af50"
            ],
            "layout": "IPY_MODEL_872599c2484e4c8ea9779e9409596e25"
          }
        },
        "2d0dbc59309f46f7bd322e4591061f90": {
          "model_module": "@jupyter-widgets/controls",
          "model_name": "HTMLModel",
          "model_module_version": "1.5.0",
          "state": {
            "_dom_classes": [],
            "_model_module": "@jupyter-widgets/controls",
            "_model_module_version": "1.5.0",
            "_model_name": "HTMLModel",
            "_view_count": null,
            "_view_module": "@jupyter-widgets/controls",
            "_view_module_version": "1.5.0",
            "_view_name": "HTMLView",
            "description": "",
            "description_tooltip": null,
            "layout": "IPY_MODEL_8a802258276149ceabe8e88fe716e308",
            "placeholder": "​",
            "style": "IPY_MODEL_6745e1f034ad44feba17d107c37c9dc6",
            "value": "config.json: 100%"
          }
        },
        "4c07df6b0fbb47308bc4e4bd6d970b86": {
          "model_module": "@jupyter-widgets/controls",
          "model_name": "FloatProgressModel",
          "model_module_version": "1.5.0",
          "state": {
            "_dom_classes": [],
            "_model_module": "@jupyter-widgets/controls",
            "_model_module_version": "1.5.0",
            "_model_name": "FloatProgressModel",
            "_view_count": null,
            "_view_module": "@jupyter-widgets/controls",
            "_view_module_version": "1.5.0",
            "_view_name": "ProgressView",
            "bar_style": "success",
            "description": "",
            "description_tooltip": null,
            "layout": "IPY_MODEL_77f7fffa43e0414c939520730f68b365",
            "max": 29,
            "min": 0,
            "orientation": "horizontal",
            "style": "IPY_MODEL_90c5fa3c9c3041359e75538d7c752b6a",
            "value": 29
          }
        },
        "b13eeef2c1324e0d8b4ddf6af256af50": {
          "model_module": "@jupyter-widgets/controls",
          "model_name": "HTMLModel",
          "model_module_version": "1.5.0",
          "state": {
            "_dom_classes": [],
            "_model_module": "@jupyter-widgets/controls",
            "_model_module_version": "1.5.0",
            "_model_name": "HTMLModel",
            "_view_count": null,
            "_view_module": "@jupyter-widgets/controls",
            "_view_module_version": "1.5.0",
            "_view_name": "HTMLView",
            "description": "",
            "description_tooltip": null,
            "layout": "IPY_MODEL_bf1be688888e4b668add5883edad616c",
            "placeholder": "​",
            "style": "IPY_MODEL_e7e8ab3ede8746839477081958d90c6a",
            "value": " 29.0/29.0 [00:00&lt;00:00, 2.35kB/s]"
          }
        },
        "872599c2484e4c8ea9779e9409596e25": {
          "model_module": "@jupyter-widgets/base",
          "model_name": "LayoutModel",
          "model_module_version": "1.2.0",
          "state": {
            "_model_module": "@jupyter-widgets/base",
            "_model_module_version": "1.2.0",
            "_model_name": "LayoutModel",
            "_view_count": null,
            "_view_module": "@jupyter-widgets/base",
            "_view_module_version": "1.2.0",
            "_view_name": "LayoutView",
            "align_content": null,
            "align_items": null,
            "align_self": null,
            "border": null,
            "bottom": null,
            "display": null,
            "flex": null,
            "flex_flow": null,
            "grid_area": null,
            "grid_auto_columns": null,
            "grid_auto_flow": null,
            "grid_auto_rows": null,
            "grid_column": null,
            "grid_gap": null,
            "grid_row": null,
            "grid_template_areas": null,
            "grid_template_columns": null,
            "grid_template_rows": null,
            "height": null,
            "justify_content": null,
            "justify_items": null,
            "left": null,
            "margin": null,
            "max_height": null,
            "max_width": null,
            "min_height": null,
            "min_width": null,
            "object_fit": null,
            "object_position": null,
            "order": null,
            "overflow": null,
            "overflow_x": null,
            "overflow_y": null,
            "padding": null,
            "right": null,
            "top": null,
            "visibility": null,
            "width": null
          }
        },
        "8a802258276149ceabe8e88fe716e308": {
          "model_module": "@jupyter-widgets/base",
          "model_name": "LayoutModel",
          "model_module_version": "1.2.0",
          "state": {
            "_model_module": "@jupyter-widgets/base",
            "_model_module_version": "1.2.0",
            "_model_name": "LayoutModel",
            "_view_count": null,
            "_view_module": "@jupyter-widgets/base",
            "_view_module_version": "1.2.0",
            "_view_name": "LayoutView",
            "align_content": null,
            "align_items": null,
            "align_self": null,
            "border": null,
            "bottom": null,
            "display": null,
            "flex": null,
            "flex_flow": null,
            "grid_area": null,
            "grid_auto_columns": null,
            "grid_auto_flow": null,
            "grid_auto_rows": null,
            "grid_column": null,
            "grid_gap": null,
            "grid_row": null,
            "grid_template_areas": null,
            "grid_template_columns": null,
            "grid_template_rows": null,
            "height": null,
            "justify_content": null,
            "justify_items": null,
            "left": null,
            "margin": null,
            "max_height": null,
            "max_width": null,
            "min_height": null,
            "min_width": null,
            "object_fit": null,
            "object_position": null,
            "order": null,
            "overflow": null,
            "overflow_x": null,
            "overflow_y": null,
            "padding": null,
            "right": null,
            "top": null,
            "visibility": null,
            "width": null
          }
        },
        "6745e1f034ad44feba17d107c37c9dc6": {
          "model_module": "@jupyter-widgets/controls",
          "model_name": "DescriptionStyleModel",
          "model_module_version": "1.5.0",
          "state": {
            "_model_module": "@jupyter-widgets/controls",
            "_model_module_version": "1.5.0",
            "_model_name": "DescriptionStyleModel",
            "_view_count": null,
            "_view_module": "@jupyter-widgets/base",
            "_view_module_version": "1.2.0",
            "_view_name": "StyleView",
            "description_width": ""
          }
        },
        "77f7fffa43e0414c939520730f68b365": {
          "model_module": "@jupyter-widgets/base",
          "model_name": "LayoutModel",
          "model_module_version": "1.2.0",
          "state": {
            "_model_module": "@jupyter-widgets/base",
            "_model_module_version": "1.2.0",
            "_model_name": "LayoutModel",
            "_view_count": null,
            "_view_module": "@jupyter-widgets/base",
            "_view_module_version": "1.2.0",
            "_view_name": "LayoutView",
            "align_content": null,
            "align_items": null,
            "align_self": null,
            "border": null,
            "bottom": null,
            "display": null,
            "flex": null,
            "flex_flow": null,
            "grid_area": null,
            "grid_auto_columns": null,
            "grid_auto_flow": null,
            "grid_auto_rows": null,
            "grid_column": null,
            "grid_gap": null,
            "grid_row": null,
            "grid_template_areas": null,
            "grid_template_columns": null,
            "grid_template_rows": null,
            "height": null,
            "justify_content": null,
            "justify_items": null,
            "left": null,
            "margin": null,
            "max_height": null,
            "max_width": null,
            "min_height": null,
            "min_width": null,
            "object_fit": null,
            "object_position": null,
            "order": null,
            "overflow": null,
            "overflow_x": null,
            "overflow_y": null,
            "padding": null,
            "right": null,
            "top": null,
            "visibility": null,
            "width": null
          }
        },
        "90c5fa3c9c3041359e75538d7c752b6a": {
          "model_module": "@jupyter-widgets/controls",
          "model_name": "ProgressStyleModel",
          "model_module_version": "1.5.0",
          "state": {
            "_model_module": "@jupyter-widgets/controls",
            "_model_module_version": "1.5.0",
            "_model_name": "ProgressStyleModel",
            "_view_count": null,
            "_view_module": "@jupyter-widgets/base",
            "_view_module_version": "1.2.0",
            "_view_name": "StyleView",
            "bar_color": null,
            "description_width": ""
          }
        },
        "bf1be688888e4b668add5883edad616c": {
          "model_module": "@jupyter-widgets/base",
          "model_name": "LayoutModel",
          "model_module_version": "1.2.0",
          "state": {
            "_model_module": "@jupyter-widgets/base",
            "_model_module_version": "1.2.0",
            "_model_name": "LayoutModel",
            "_view_count": null,
            "_view_module": "@jupyter-widgets/base",
            "_view_module_version": "1.2.0",
            "_view_name": "LayoutView",
            "align_content": null,
            "align_items": null,
            "align_self": null,
            "border": null,
            "bottom": null,
            "display": null,
            "flex": null,
            "flex_flow": null,
            "grid_area": null,
            "grid_auto_columns": null,
            "grid_auto_flow": null,
            "grid_auto_rows": null,
            "grid_column": null,
            "grid_gap": null,
            "grid_row": null,
            "grid_template_areas": null,
            "grid_template_columns": null,
            "grid_template_rows": null,
            "height": null,
            "justify_content": null,
            "justify_items": null,
            "left": null,
            "margin": null,
            "max_height": null,
            "max_width": null,
            "min_height": null,
            "min_width": null,
            "object_fit": null,
            "object_position": null,
            "order": null,
            "overflow": null,
            "overflow_x": null,
            "overflow_y": null,
            "padding": null,
            "right": null,
            "top": null,
            "visibility": null,
            "width": null
          }
        },
        "e7e8ab3ede8746839477081958d90c6a": {
          "model_module": "@jupyter-widgets/controls",
          "model_name": "DescriptionStyleModel",
          "model_module_version": "1.5.0",
          "state": {
            "_model_module": "@jupyter-widgets/controls",
            "_model_module_version": "1.5.0",
            "_model_name": "DescriptionStyleModel",
            "_view_count": null,
            "_view_module": "@jupyter-widgets/base",
            "_view_module_version": "1.2.0",
            "_view_name": "StyleView",
            "description_width": ""
          }
        },
        "ff052be1f2124d17a85a709501843c52": {
          "model_module": "@jupyter-widgets/controls",
          "model_name": "HBoxModel",
          "model_module_version": "1.5.0",
          "state": {
            "_dom_classes": [],
            "_model_module": "@jupyter-widgets/controls",
            "_model_module_version": "1.5.0",
            "_model_name": "HBoxModel",
            "_view_count": null,
            "_view_module": "@jupyter-widgets/controls",
            "_view_module_version": "1.5.0",
            "_view_name": "HBoxView",
            "box_style": "",
            "children": [
              "IPY_MODEL_ff2c96c056584e66ad513847870185c1",
              "IPY_MODEL_36cf148266dc4ab69e57f6c6457ce8a4",
              "IPY_MODEL_317c6022c02746838a84a979a17f8b25"
            ],
            "layout": "IPY_MODEL_bfb99a125c814aaeaed03c20e22988f5"
          }
        },
        "ff2c96c056584e66ad513847870185c1": {
          "model_module": "@jupyter-widgets/controls",
          "model_name": "HTMLModel",
          "model_module_version": "1.5.0",
          "state": {
            "_dom_classes": [],
            "_model_module": "@jupyter-widgets/controls",
            "_model_module_version": "1.5.0",
            "_model_name": "HTMLModel",
            "_view_count": null,
            "_view_module": "@jupyter-widgets/controls",
            "_view_module_version": "1.5.0",
            "_view_name": "HTMLView",
            "description": "",
            "description_tooltip": null,
            "layout": "IPY_MODEL_d672ee8d1b154eec8705dcf5bfd0eb44",
            "placeholder": "​",
            "style": "IPY_MODEL_597c514cb69a4ae3b7e4ed6c026ad881",
            "value": "Fetching 1 files: 100%"
          }
        },
        "36cf148266dc4ab69e57f6c6457ce8a4": {
          "model_module": "@jupyter-widgets/controls",
          "model_name": "FloatProgressModel",
          "model_module_version": "1.5.0",
          "state": {
            "_dom_classes": [],
            "_model_module": "@jupyter-widgets/controls",
            "_model_module_version": "1.5.0",
            "_model_name": "FloatProgressModel",
            "_view_count": null,
            "_view_module": "@jupyter-widgets/controls",
            "_view_module_version": "1.5.0",
            "_view_name": "ProgressView",
            "bar_style": "success",
            "description": "",
            "description_tooltip": null,
            "layout": "IPY_MODEL_a837c5470f8b489ab7c693c72ead2c25",
            "max": 1,
            "min": 0,
            "orientation": "horizontal",
            "style": "IPY_MODEL_a4cbcbfa7e8d44a8815d7c0a102659ec",
            "value": 1
          }
        },
        "317c6022c02746838a84a979a17f8b25": {
          "model_module": "@jupyter-widgets/controls",
          "model_name": "HTMLModel",
          "model_module_version": "1.5.0",
          "state": {
            "_dom_classes": [],
            "_model_module": "@jupyter-widgets/controls",
            "_model_module_version": "1.5.0",
            "_model_name": "HTMLModel",
            "_view_count": null,
            "_view_module": "@jupyter-widgets/controls",
            "_view_module_version": "1.5.0",
            "_view_name": "HTMLView",
            "description": "",
            "description_tooltip": null,
            "layout": "IPY_MODEL_2d7b41663ad14428812649801ff62b99",
            "placeholder": "​",
            "style": "IPY_MODEL_df80589d07f34be0b54dea2de3c93d3b",
            "value": " 1/1 [04:40&lt;00:00, 280.83s/it]"
          }
        },
        "bfb99a125c814aaeaed03c20e22988f5": {
          "model_module": "@jupyter-widgets/base",
          "model_name": "LayoutModel",
          "model_module_version": "1.2.0",
          "state": {
            "_model_module": "@jupyter-widgets/base",
            "_model_module_version": "1.2.0",
            "_model_name": "LayoutModel",
            "_view_count": null,
            "_view_module": "@jupyter-widgets/base",
            "_view_module_version": "1.2.0",
            "_view_name": "LayoutView",
            "align_content": null,
            "align_items": null,
            "align_self": null,
            "border": null,
            "bottom": null,
            "display": null,
            "flex": null,
            "flex_flow": null,
            "grid_area": null,
            "grid_auto_columns": null,
            "grid_auto_flow": null,
            "grid_auto_rows": null,
            "grid_column": null,
            "grid_gap": null,
            "grid_row": null,
            "grid_template_areas": null,
            "grid_template_columns": null,
            "grid_template_rows": null,
            "height": null,
            "justify_content": null,
            "justify_items": null,
            "left": null,
            "margin": null,
            "max_height": null,
            "max_width": null,
            "min_height": null,
            "min_width": null,
            "object_fit": null,
            "object_position": null,
            "order": null,
            "overflow": null,
            "overflow_x": null,
            "overflow_y": null,
            "padding": null,
            "right": null,
            "top": null,
            "visibility": null,
            "width": null
          }
        },
        "d672ee8d1b154eec8705dcf5bfd0eb44": {
          "model_module": "@jupyter-widgets/base",
          "model_name": "LayoutModel",
          "model_module_version": "1.2.0",
          "state": {
            "_model_module": "@jupyter-widgets/base",
            "_model_module_version": "1.2.0",
            "_model_name": "LayoutModel",
            "_view_count": null,
            "_view_module": "@jupyter-widgets/base",
            "_view_module_version": "1.2.0",
            "_view_name": "LayoutView",
            "align_content": null,
            "align_items": null,
            "align_self": null,
            "border": null,
            "bottom": null,
            "display": null,
            "flex": null,
            "flex_flow": null,
            "grid_area": null,
            "grid_auto_columns": null,
            "grid_auto_flow": null,
            "grid_auto_rows": null,
            "grid_column": null,
            "grid_gap": null,
            "grid_row": null,
            "grid_template_areas": null,
            "grid_template_columns": null,
            "grid_template_rows": null,
            "height": null,
            "justify_content": null,
            "justify_items": null,
            "left": null,
            "margin": null,
            "max_height": null,
            "max_width": null,
            "min_height": null,
            "min_width": null,
            "object_fit": null,
            "object_position": null,
            "order": null,
            "overflow": null,
            "overflow_x": null,
            "overflow_y": null,
            "padding": null,
            "right": null,
            "top": null,
            "visibility": null,
            "width": null
          }
        },
        "597c514cb69a4ae3b7e4ed6c026ad881": {
          "model_module": "@jupyter-widgets/controls",
          "model_name": "DescriptionStyleModel",
          "model_module_version": "1.5.0",
          "state": {
            "_model_module": "@jupyter-widgets/controls",
            "_model_module_version": "1.5.0",
            "_model_name": "DescriptionStyleModel",
            "_view_count": null,
            "_view_module": "@jupyter-widgets/base",
            "_view_module_version": "1.2.0",
            "_view_name": "StyleView",
            "description_width": ""
          }
        },
        "a837c5470f8b489ab7c693c72ead2c25": {
          "model_module": "@jupyter-widgets/base",
          "model_name": "LayoutModel",
          "model_module_version": "1.2.0",
          "state": {
            "_model_module": "@jupyter-widgets/base",
            "_model_module_version": "1.2.0",
            "_model_name": "LayoutModel",
            "_view_count": null,
            "_view_module": "@jupyter-widgets/base",
            "_view_module_version": "1.2.0",
            "_view_name": "LayoutView",
            "align_content": null,
            "align_items": null,
            "align_self": null,
            "border": null,
            "bottom": null,
            "display": null,
            "flex": null,
            "flex_flow": null,
            "grid_area": null,
            "grid_auto_columns": null,
            "grid_auto_flow": null,
            "grid_auto_rows": null,
            "grid_column": null,
            "grid_gap": null,
            "grid_row": null,
            "grid_template_areas": null,
            "grid_template_columns": null,
            "grid_template_rows": null,
            "height": null,
            "justify_content": null,
            "justify_items": null,
            "left": null,
            "margin": null,
            "max_height": null,
            "max_width": null,
            "min_height": null,
            "min_width": null,
            "object_fit": null,
            "object_position": null,
            "order": null,
            "overflow": null,
            "overflow_x": null,
            "overflow_y": null,
            "padding": null,
            "right": null,
            "top": null,
            "visibility": null,
            "width": null
          }
        },
        "a4cbcbfa7e8d44a8815d7c0a102659ec": {
          "model_module": "@jupyter-widgets/controls",
          "model_name": "ProgressStyleModel",
          "model_module_version": "1.5.0",
          "state": {
            "_model_module": "@jupyter-widgets/controls",
            "_model_module_version": "1.5.0",
            "_model_name": "ProgressStyleModel",
            "_view_count": null,
            "_view_module": "@jupyter-widgets/base",
            "_view_module_version": "1.2.0",
            "_view_name": "StyleView",
            "bar_color": null,
            "description_width": ""
          }
        },
        "2d7b41663ad14428812649801ff62b99": {
          "model_module": "@jupyter-widgets/base",
          "model_name": "LayoutModel",
          "model_module_version": "1.2.0",
          "state": {
            "_model_module": "@jupyter-widgets/base",
            "_model_module_version": "1.2.0",
            "_model_name": "LayoutModel",
            "_view_count": null,
            "_view_module": "@jupyter-widgets/base",
            "_view_module_version": "1.2.0",
            "_view_name": "LayoutView",
            "align_content": null,
            "align_items": null,
            "align_self": null,
            "border": null,
            "bottom": null,
            "display": null,
            "flex": null,
            "flex_flow": null,
            "grid_area": null,
            "grid_auto_columns": null,
            "grid_auto_flow": null,
            "grid_auto_rows": null,
            "grid_column": null,
            "grid_gap": null,
            "grid_row": null,
            "grid_template_areas": null,
            "grid_template_columns": null,
            "grid_template_rows": null,
            "height": null,
            "justify_content": null,
            "justify_items": null,
            "left": null,
            "margin": null,
            "max_height": null,
            "max_width": null,
            "min_height": null,
            "min_width": null,
            "object_fit": null,
            "object_position": null,
            "order": null,
            "overflow": null,
            "overflow_x": null,
            "overflow_y": null,
            "padding": null,
            "right": null,
            "top": null,
            "visibility": null,
            "width": null
          }
        },
        "df80589d07f34be0b54dea2de3c93d3b": {
          "model_module": "@jupyter-widgets/controls",
          "model_name": "DescriptionStyleModel",
          "model_module_version": "1.5.0",
          "state": {
            "_model_module": "@jupyter-widgets/controls",
            "_model_module_version": "1.5.0",
            "_model_name": "DescriptionStyleModel",
            "_view_count": null,
            "_view_module": "@jupyter-widgets/base",
            "_view_module_version": "1.2.0",
            "_view_name": "StyleView",
            "description_width": ""
          }
        },
        "1c2c4cc8efc044fd88fb0c67186ad172": {
          "model_module": "@jupyter-widgets/controls",
          "model_name": "HBoxModel",
          "model_module_version": "1.5.0",
          "state": {
            "_dom_classes": [],
            "_model_module": "@jupyter-widgets/controls",
            "_model_module_version": "1.5.0",
            "_model_name": "HBoxModel",
            "_view_count": null,
            "_view_module": "@jupyter-widgets/controls",
            "_view_module_version": "1.5.0",
            "_view_name": "HBoxView",
            "box_style": "",
            "children": [
              "IPY_MODEL_02d5e8709b4e4cadb7e8cd713b634473",
              "IPY_MODEL_e743feb763da4f94b43d6a72be2dfc1e",
              "IPY_MODEL_9c3ef08309104738bc77e58868bf772c"
            ],
            "layout": "IPY_MODEL_f746dba9a9484db9889d01f3c7ded62f"
          }
        },
        "02d5e8709b4e4cadb7e8cd713b634473": {
          "model_module": "@jupyter-widgets/controls",
          "model_name": "HTMLModel",
          "model_module_version": "1.5.0",
          "state": {
            "_dom_classes": [],
            "_model_module": "@jupyter-widgets/controls",
            "_model_module_version": "1.5.0",
            "_model_name": "HTMLModel",
            "_view_count": null,
            "_view_module": "@jupyter-widgets/controls",
            "_view_module_version": "1.5.0",
            "_view_name": "HTMLView",
            "description": "",
            "description_tooltip": null,
            "layout": "IPY_MODEL_116e25bd6afb4713aab7251d924acbff",
            "placeholder": "​",
            "style": "IPY_MODEL_cc1eaade6409493592c76a5f2bb5c6b2",
            "value": "orca-2-13b.Q2_K.gguf: 100%"
          }
        },
        "e743feb763da4f94b43d6a72be2dfc1e": {
          "model_module": "@jupyter-widgets/controls",
          "model_name": "FloatProgressModel",
          "model_module_version": "1.5.0",
          "state": {
            "_dom_classes": [],
            "_model_module": "@jupyter-widgets/controls",
            "_model_module_version": "1.5.0",
            "_model_name": "FloatProgressModel",
            "_view_count": null,
            "_view_module": "@jupyter-widgets/controls",
            "_view_module_version": "1.5.0",
            "_view_name": "ProgressView",
            "bar_style": "success",
            "description": "",
            "description_tooltip": null,
            "layout": "IPY_MODEL_959ffc0fa4d34a0b90a5dfa99d42edb2",
            "max": 5429366080,
            "min": 0,
            "orientation": "horizontal",
            "style": "IPY_MODEL_252a695ca9804af1b63d8693ae4434de",
            "value": 5429366080
          }
        },
        "9c3ef08309104738bc77e58868bf772c": {
          "model_module": "@jupyter-widgets/controls",
          "model_name": "HTMLModel",
          "model_module_version": "1.5.0",
          "state": {
            "_dom_classes": [],
            "_model_module": "@jupyter-widgets/controls",
            "_model_module_version": "1.5.0",
            "_model_name": "HTMLModel",
            "_view_count": null,
            "_view_module": "@jupyter-widgets/controls",
            "_view_module_version": "1.5.0",
            "_view_name": "HTMLView",
            "description": "",
            "description_tooltip": null,
            "layout": "IPY_MODEL_5f3b56367f614baaa80c926bf38fc47b",
            "placeholder": "​",
            "style": "IPY_MODEL_67d9d1511bb54b47811c37345aad83f3",
            "value": " 5.43G/5.43G [04:40&lt;00:00, 23.9MB/s]"
          }
        },
        "f746dba9a9484db9889d01f3c7ded62f": {
          "model_module": "@jupyter-widgets/base",
          "model_name": "LayoutModel",
          "model_module_version": "1.2.0",
          "state": {
            "_model_module": "@jupyter-widgets/base",
            "_model_module_version": "1.2.0",
            "_model_name": "LayoutModel",
            "_view_count": null,
            "_view_module": "@jupyter-widgets/base",
            "_view_module_version": "1.2.0",
            "_view_name": "LayoutView",
            "align_content": null,
            "align_items": null,
            "align_self": null,
            "border": null,
            "bottom": null,
            "display": null,
            "flex": null,
            "flex_flow": null,
            "grid_area": null,
            "grid_auto_columns": null,
            "grid_auto_flow": null,
            "grid_auto_rows": null,
            "grid_column": null,
            "grid_gap": null,
            "grid_row": null,
            "grid_template_areas": null,
            "grid_template_columns": null,
            "grid_template_rows": null,
            "height": null,
            "justify_content": null,
            "justify_items": null,
            "left": null,
            "margin": null,
            "max_height": null,
            "max_width": null,
            "min_height": null,
            "min_width": null,
            "object_fit": null,
            "object_position": null,
            "order": null,
            "overflow": null,
            "overflow_x": null,
            "overflow_y": null,
            "padding": null,
            "right": null,
            "top": null,
            "visibility": null,
            "width": null
          }
        },
        "116e25bd6afb4713aab7251d924acbff": {
          "model_module": "@jupyter-widgets/base",
          "model_name": "LayoutModel",
          "model_module_version": "1.2.0",
          "state": {
            "_model_module": "@jupyter-widgets/base",
            "_model_module_version": "1.2.0",
            "_model_name": "LayoutModel",
            "_view_count": null,
            "_view_module": "@jupyter-widgets/base",
            "_view_module_version": "1.2.0",
            "_view_name": "LayoutView",
            "align_content": null,
            "align_items": null,
            "align_self": null,
            "border": null,
            "bottom": null,
            "display": null,
            "flex": null,
            "flex_flow": null,
            "grid_area": null,
            "grid_auto_columns": null,
            "grid_auto_flow": null,
            "grid_auto_rows": null,
            "grid_column": null,
            "grid_gap": null,
            "grid_row": null,
            "grid_template_areas": null,
            "grid_template_columns": null,
            "grid_template_rows": null,
            "height": null,
            "justify_content": null,
            "justify_items": null,
            "left": null,
            "margin": null,
            "max_height": null,
            "max_width": null,
            "min_height": null,
            "min_width": null,
            "object_fit": null,
            "object_position": null,
            "order": null,
            "overflow": null,
            "overflow_x": null,
            "overflow_y": null,
            "padding": null,
            "right": null,
            "top": null,
            "visibility": null,
            "width": null
          }
        },
        "cc1eaade6409493592c76a5f2bb5c6b2": {
          "model_module": "@jupyter-widgets/controls",
          "model_name": "DescriptionStyleModel",
          "model_module_version": "1.5.0",
          "state": {
            "_model_module": "@jupyter-widgets/controls",
            "_model_module_version": "1.5.0",
            "_model_name": "DescriptionStyleModel",
            "_view_count": null,
            "_view_module": "@jupyter-widgets/base",
            "_view_module_version": "1.2.0",
            "_view_name": "StyleView",
            "description_width": ""
          }
        },
        "959ffc0fa4d34a0b90a5dfa99d42edb2": {
          "model_module": "@jupyter-widgets/base",
          "model_name": "LayoutModel",
          "model_module_version": "1.2.0",
          "state": {
            "_model_module": "@jupyter-widgets/base",
            "_model_module_version": "1.2.0",
            "_model_name": "LayoutModel",
            "_view_count": null,
            "_view_module": "@jupyter-widgets/base",
            "_view_module_version": "1.2.0",
            "_view_name": "LayoutView",
            "align_content": null,
            "align_items": null,
            "align_self": null,
            "border": null,
            "bottom": null,
            "display": null,
            "flex": null,
            "flex_flow": null,
            "grid_area": null,
            "grid_auto_columns": null,
            "grid_auto_flow": null,
            "grid_auto_rows": null,
            "grid_column": null,
            "grid_gap": null,
            "grid_row": null,
            "grid_template_areas": null,
            "grid_template_columns": null,
            "grid_template_rows": null,
            "height": null,
            "justify_content": null,
            "justify_items": null,
            "left": null,
            "margin": null,
            "max_height": null,
            "max_width": null,
            "min_height": null,
            "min_width": null,
            "object_fit": null,
            "object_position": null,
            "order": null,
            "overflow": null,
            "overflow_x": null,
            "overflow_y": null,
            "padding": null,
            "right": null,
            "top": null,
            "visibility": null,
            "width": null
          }
        },
        "252a695ca9804af1b63d8693ae4434de": {
          "model_module": "@jupyter-widgets/controls",
          "model_name": "ProgressStyleModel",
          "model_module_version": "1.5.0",
          "state": {
            "_model_module": "@jupyter-widgets/controls",
            "_model_module_version": "1.5.0",
            "_model_name": "ProgressStyleModel",
            "_view_count": null,
            "_view_module": "@jupyter-widgets/base",
            "_view_module_version": "1.2.0",
            "_view_name": "StyleView",
            "bar_color": null,
            "description_width": ""
          }
        },
        "5f3b56367f614baaa80c926bf38fc47b": {
          "model_module": "@jupyter-widgets/base",
          "model_name": "LayoutModel",
          "model_module_version": "1.2.0",
          "state": {
            "_model_module": "@jupyter-widgets/base",
            "_model_module_version": "1.2.0",
            "_model_name": "LayoutModel",
            "_view_count": null,
            "_view_module": "@jupyter-widgets/base",
            "_view_module_version": "1.2.0",
            "_view_name": "LayoutView",
            "align_content": null,
            "align_items": null,
            "align_self": null,
            "border": null,
            "bottom": null,
            "display": null,
            "flex": null,
            "flex_flow": null,
            "grid_area": null,
            "grid_auto_columns": null,
            "grid_auto_flow": null,
            "grid_auto_rows": null,
            "grid_column": null,
            "grid_gap": null,
            "grid_row": null,
            "grid_template_areas": null,
            "grid_template_columns": null,
            "grid_template_rows": null,
            "height": null,
            "justify_content": null,
            "justify_items": null,
            "left": null,
            "margin": null,
            "max_height": null,
            "max_width": null,
            "min_height": null,
            "min_width": null,
            "object_fit": null,
            "object_position": null,
            "order": null,
            "overflow": null,
            "overflow_x": null,
            "overflow_y": null,
            "padding": null,
            "right": null,
            "top": null,
            "visibility": null,
            "width": null
          }
        },
        "67d9d1511bb54b47811c37345aad83f3": {
          "model_module": "@jupyter-widgets/controls",
          "model_name": "DescriptionStyleModel",
          "model_module_version": "1.5.0",
          "state": {
            "_model_module": "@jupyter-widgets/controls",
            "_model_module_version": "1.5.0",
            "_model_name": "DescriptionStyleModel",
            "_view_count": null,
            "_view_module": "@jupyter-widgets/base",
            "_view_module_version": "1.2.0",
            "_view_name": "StyleView",
            "description_width": ""
          }
        }
      }
    }
  },
  "cells": [
    {
      "cell_type": "markdown",
      "metadata": {
        "id": "ZO1CgSqtbS5X"
      },
      "source": [
        "## Imports"
      ]
    },
    {
      "cell_type": "code",
      "execution_count": null,
      "metadata": {
        "id": "Ga8uDQ9DbS5Y"
      },
      "outputs": [],
      "source": [
        "!pip install PyPDF2 --quiet\n",
        "!pip install keybert --quiet"
      ]
    },
    {
      "cell_type": "code",
      "execution_count": null,
      "metadata": {
        "id": "dDih7YK5bS5Z"
      },
      "outputs": [],
      "source": [
        "import torch"
      ]
    },
    {
      "cell_type": "code",
      "execution_count": null,
      "metadata": {
        "id": "vZ4QNhfubS5a"
      },
      "outputs": [],
      "source": [
        "# from google.colab import drive\n",
        "# drive.mount('/content/drive')"
      ]
    },
    {
      "cell_type": "code",
      "execution_count": null,
      "metadata": {
        "id": "8UUEBJG0bS5b"
      },
      "outputs": [],
      "source": [
        "import json"
      ]
    },
    {
      "cell_type": "code",
      "execution_count": null,
      "metadata": {
        "id": "1_qJBZR3bS5b"
      },
      "outputs": [],
      "source": [
        "# for text preprocessing\n",
        "import re\n",
        "import spacy\n",
        "\n",
        "from nltk.corpus import stopwords\n",
        "from nltk.stem.wordnet import WordNetLemmatizer\n",
        "import string\n",
        "\n",
        "# import vectorizers\n",
        "from sklearn.feature_extraction.text import TfidfVectorizer, CountVectorizer\n",
        "\n",
        "from sklearn.decomposition import LatentDirichletAllocation"
      ]
    },
    {
      "cell_type": "code",
      "execution_count": null,
      "metadata": {
        "id": "8RF_xu_ybS5c"
      },
      "outputs": [],
      "source": [
        "from nltk.tokenize import RegexpTokenizer"
      ]
    },
    {
      "cell_type": "code",
      "execution_count": null,
      "metadata": {
        "id": "esLibZwBbS5c"
      },
      "outputs": [],
      "source": [
        "nlp = spacy.load('en_core_web_sm')"
      ]
    },
    {
      "cell_type": "code",
      "execution_count": null,
      "metadata": {
        "colab": {
          "base_uri": "https://localhost:8080/"
        },
        "outputId": "86ef2a06-ddd6-4466-c889-4cf03a5083da",
        "id": "EkZTi_OybS5c"
      },
      "outputs": [
        {
          "output_type": "stream",
          "name": "stderr",
          "text": [
            "[nltk_data] Downloading package stopwords to /root/nltk_data...\n",
            "[nltk_data]   Package stopwords is already up-to-date!\n",
            "[nltk_data] Downloading package wordnet to /root/nltk_data...\n",
            "[nltk_data]   Package wordnet is already up-to-date!\n"
          ]
        },
        {
          "output_type": "execute_result",
          "data": {
            "text/plain": [
              "True"
            ]
          },
          "metadata": {},
          "execution_count": 8
        }
      ],
      "source": [
        "import gensim\n",
        "from gensim.utils import simple_preprocess\n",
        "import nltk\n",
        "nltk.download('stopwords')\n",
        "from nltk.corpus import stopwords\n",
        "stop_words = stopwords.words('english')\n",
        "# import wordnet\n",
        "nltk.download('wordnet')\n"
      ]
    },
    {
      "cell_type": "code",
      "execution_count": null,
      "metadata": {
        "id": "XpjSxn2CbS5d"
      },
      "outputs": [],
      "source": [
        "from gensim.models import Phrases\n",
        "from gensim.corpora import Dictionary"
      ]
    },
    {
      "cell_type": "code",
      "execution_count": null,
      "metadata": {
        "id": "RJKkEfIobS5d"
      },
      "outputs": [],
      "source": [
        "from bs4 import BeautifulSoup\n",
        "import requests"
      ]
    },
    {
      "cell_type": "code",
      "execution_count": null,
      "metadata": {
        "id": "yMdQpvLZbS5d"
      },
      "outputs": [],
      "source": [
        "from gensim.models import Phrases"
      ]
    },
    {
      "cell_type": "code",
      "execution_count": null,
      "metadata": {
        "id": "rreJNsZebS5e"
      },
      "outputs": [],
      "source": [
        "from gensim.models.coherencemodel import CoherenceModel"
      ]
    },
    {
      "cell_type": "code",
      "execution_count": null,
      "metadata": {
        "id": "XOx4op3kbS5e"
      },
      "outputs": [],
      "source": [
        "from gensim.models import LdaModel, LdaMulticore"
      ]
    },
    {
      "cell_type": "code",
      "execution_count": null,
      "metadata": {
        "id": "GW8U0GPObS5e"
      },
      "outputs": [],
      "source": [
        "import re"
      ]
    },
    {
      "cell_type": "code",
      "execution_count": null,
      "metadata": {
        "id": "gIp1S8ZebS5f"
      },
      "outputs": [],
      "source": [
        "from collections import defaultdict\n",
        "import PyPDF2"
      ]
    },
    {
      "cell_type": "code",
      "execution_count": null,
      "metadata": {
        "id": "-D6soBxfbS5f"
      },
      "outputs": [],
      "source": [
        "# !pip install flair\n"
      ]
    },
    {
      "cell_type": "code",
      "execution_count": null,
      "metadata": {
        "id": "fj7wY4rnbS5f",
        "colab": {
          "base_uri": "https://localhost:8080/"
        },
        "outputId": "306bceb8-bc06-4d58-c436-65b29bc709c5"
      },
      "outputs": [
        {
          "output_type": "stream",
          "name": "stderr",
          "text": [
            "/usr/local/lib/python3.10/dist-packages/sentence_transformers/cross_encoder/CrossEncoder.py:11: TqdmExperimentalWarning: Using `tqdm.autonotebook.tqdm` in notebook mode. Use `tqdm.tqdm` instead to force console mode (e.g. in jupyter console)\n",
            "  from tqdm.autonotebook import tqdm, trange\n"
          ]
        }
      ],
      "source": [
        "from keybert import KeyBERT\n",
        "from keybert.backend import BaseEmbedder\n",
        "# from flair.embeddings import TransformerDocumentEmbeddings"
      ]
    },
    {
      "cell_type": "code",
      "execution_count": null,
      "metadata": {
        "id": "R6t_7oZsbS5g"
      },
      "outputs": [],
      "source": [
        "from transformers import DPRQuestionEncoder, DPRQuestionEncoderTokenizer\n",
        "\n",
        "# tokenizer = DPRQuestionEncoderTokenizer.from_pretrained(\"facebook/dpr-question_encoder-single-nq-base\")\n",
        "# query_model = DPRQuestionEncoder.from_pretrained(\"facebook/dpr-question_encoder-single-nq-base\")"
      ]
    },
    {
      "cell_type": "code",
      "execution_count": null,
      "metadata": {
        "id": "I_up5-mAbS5g"
      },
      "outputs": [],
      "source": [
        "import pandas as pd\n",
        "import numpy as np"
      ]
    },
    {
      "cell_type": "code",
      "execution_count": null,
      "metadata": {
        "id": "b4VeMzm9bS5g"
      },
      "outputs": [],
      "source": [
        "import io"
      ]
    },
    {
      "cell_type": "code",
      "execution_count": null,
      "metadata": {
        "colab": {
          "base_uri": "https://localhost:8080/"
        },
        "outputId": "dbbddba8-9bd4-45b3-aa43-cbb6821097c1",
        "id": "o_nxvnWmbS5h"
      },
      "outputs": [
        {
          "output_type": "stream",
          "name": "stdout",
          "text": [
            "Requirement already satisfied: faiss-gpu in /usr/local/lib/python3.10/dist-packages (1.7.2)\n"
          ]
        }
      ],
      "source": [
        "!pip install faiss-gpu"
      ]
    },
    {
      "cell_type": "code",
      "execution_count": null,
      "metadata": {
        "colab": {
          "base_uri": "https://localhost:8080/"
        },
        "outputId": "f145de04-3966-4731-fb69-1fcaa53c4818",
        "id": "sWi6Qt7cbS5h"
      },
      "outputs": [
        {
          "output_type": "stream",
          "name": "stdout",
          "text": [
            "\u001b[31mERROR: Could not find a version that satisfies the requirement faiss (from versions: none)\u001b[0m\u001b[31m\n",
            "\u001b[0m\u001b[31mERROR: No matching distribution found for faiss\u001b[0m\u001b[31m\n",
            "\u001b[0m"
          ]
        }
      ],
      "source": [
        "!pip install faiss"
      ]
    },
    {
      "cell_type": "code",
      "execution_count": null,
      "metadata": {
        "id": "kODJTzpCbS5h"
      },
      "outputs": [],
      "source": [
        "import faiss"
      ]
    },
    {
      "cell_type": "code",
      "execution_count": null,
      "metadata": {
        "id": "t2K-w0wWbS5h"
      },
      "outputs": [],
      "source": [
        "from transformers import AutoTokenizer, AutoModel"
      ]
    },
    {
      "cell_type": "code",
      "execution_count": null,
      "metadata": {
        "id": "ArQHqHBBbS5h"
      },
      "outputs": [],
      "source": [
        "import re"
      ]
    },
    {
      "cell_type": "markdown",
      "metadata": {
        "id": "sjqrKRTPbS5i"
      },
      "source": [
        "## Paragraph"
      ]
    },
    {
      "cell_type": "code",
      "execution_count": null,
      "metadata": {
        "id": "UZfz6vEzbS5i"
      },
      "outputs": [],
      "source": [
        "# pattern = r'fig(ure)?.?.?[0-9]+.[0-9]+'\n",
        "# re.search( string=\"This is a figure 1.5 and it works\", flags=re.IGNORECASE, pattern=pattern)"
      ]
    },
    {
      "cell_type": "code",
      "execution_count": null,
      "metadata": {
        "id": "WGQjwuG7bS5i"
      },
      "outputs": [],
      "source": [
        "DEVICE = \"cuda:0\" if torch.cuda.is_available() else \"cpu\"\n",
        "\n",
        "MODEL_STRING = \"facebook/dpr-ctx_encoder-single-nq-base\""
      ]
    },
    {
      "cell_type": "code",
      "execution_count": null,
      "metadata": {
        "id": "_rgDSVkAbS5i"
      },
      "outputs": [],
      "source": [
        "class Paragraph:\n",
        "    def __init__(self, book_id:int, id: int, text: str, embeddings: np.array, tagged_images: list=None):\n",
        "        self.text = text\n",
        "        self.embeddings = embeddings\n",
        "        self.id = id\n",
        "        self.book_id = book_id\n",
        "    def get_json(self):\n",
        "        dc = {\n",
        "            \"text\": self.text,\n",
        "            \"id\": self.id,\n",
        "            \"embeddings\": self.embeddings\n",
        "        }\n",
        "        return json.dumps(dc)"
      ]
    },
    {
      "cell_type": "code",
      "execution_count": null,
      "metadata": {
        "id": "z59sueVibS5i"
      },
      "outputs": [],
      "source": [
        "from transformers import DPRQuestionEncoder, DPRQuestionEncoderTokenizer\n",
        "from transformers import DPRContextEncoder, DPRContextEncoderTokenizer"
      ]
    },
    {
      "cell_type": "code",
      "source": [
        "class EncoderModels():\n",
        "    def __init__(self):\n",
        "        ctx_model_string = \"facebook/dpr-ctx_encoder-single-nq-base\"\n",
        "        query_model_string = \"facebook/dpr-question_encoder-single-nq-base\"\n",
        "\n",
        "        DEVICE = \"cuda:0\" if torch.cuda.is_available() else \"cpu\"\n",
        "        self.device = DEVICE\n",
        "\n",
        "        self.ctx_tokenizer = DPRContextEncoderTokenizer.from_pretrained(ctx_model_string)\n",
        "        self.ctx_model = DPRContextEncoder.from_pretrained(ctx_model_string)\n",
        "        self.ctx_model = self.ctx_model.to(DEVICE)\n",
        "\n",
        "        self.query_tokenizer = DPRQuestionEncoderTokenizer.from_pretrained(query_model_string)\n",
        "        self.query_model = DPRQuestionEncoder.from_pretrained(query_model_string)\n",
        "        self.query_model = self.query_model.to(DEVICE)\n",
        "\n",
        "    def encode_context(self, paragraph: list[str],):\n",
        "        num_paragraphs = len(paragraph)\n",
        "        cloned_doc_embeddings = []\n",
        "        batch_size = 32\n",
        "        # print(paragraph)\n",
        "        for itr in range(0, num_paragraphs, batch_size):\n",
        "            s = itr\n",
        "            e = min(itr+batch_size, num_paragraphs)\n",
        "            tokenized = self.ctx_tokenizer(paragraph[s : e],\n",
        "                                       padding=True, truncation=True,\n",
        "                                       return_tensors=\"pt\",\n",
        "                                       return_attention_mask=True,\n",
        "                                       add_special_tokens=True,\n",
        "                                       max_length=512,\n",
        "                                       pad_to_max_length=True\n",
        "                                       ).to(self.device)\n",
        "            input_ids = tokenized['input_ids']\n",
        "            print(input_ids.shape)\n",
        "            attention_mask = tokenized['attention_mask']\n",
        "            print(attention_mask)\n",
        "            with torch.no_grad():\n",
        "                doc_embeddings = self.ctx_model(input_ids, attention_mask=attention_mask).pooler_output\n",
        "\n",
        "            cloned_doc_embeddings.append(torch.clone(doc_embeddings).cpu().numpy())\n",
        "\n",
        "            ##clean up\n",
        "            torch.cuda.empty_cache()\n",
        "            del input_ids\n",
        "\n",
        "        return np.vstack(cloned_doc_embeddings)\n",
        "    def encode_query(self, query):\n",
        "\n",
        "        tokenized = self.query_tokenizer(query,\n",
        "                                    padding=True, truncation=True,\n",
        "                                    return_tensors=\"pt\",\n",
        "                                    return_attention_mask=True,\n",
        "                                    add_special_tokens=True,\n",
        "                                    max_length=512,\n",
        "                                    pad_to_max_length=True\n",
        "                                    ).to(self.device)\n",
        "        input_ids = tokenized['input_ids']\n",
        "        attention_mask = tokenized['attention_mask']\n",
        "        with torch.no_grad():\n",
        "            doc_embeddings = self.query_model(input_ids, attention_mask=attention_mask).pooler_output\n",
        "        embedding = torch.clone(doc_embeddings).cpu().numpy()\n",
        "\n",
        "        ##clean up\n",
        "        torch.cuda.empty_cache()\n",
        "        del input_ids\n",
        "\n",
        "        return embedding\n",
        "\n",
        "\n",
        "\n"
      ],
      "metadata": {
        "id": "WQh079EHaLAB"
      },
      "execution_count": null,
      "outputs": []
    },
    {
      "cell_type": "code",
      "execution_count": null,
      "metadata": {
        "id": "Hy2ARVuDbS5j"
      },
      "outputs": [],
      "source": [
        "class EncoderModel():\n",
        "    def __init__(self, model_string: str = MODEL_STRING, device: str= DEVICE):\n",
        "        super().__init__()\n",
        "        self.device = DEVICE\n",
        "        self.model_string = model_string\n",
        "\n",
        "        self.tokenizer = AutoTokenizer.from_pretrained(model_string)\n",
        "        self.model = AutoModel.from_pretrained(model_string, resume_download=True)\n",
        "        self.model = self.model.to(DEVICE)\n",
        "        # self.tokenizer = self.tokenizer.to(self.device)\n",
        "\n",
        "\n",
        "    def encode(self, paragraph: list[str],):\n",
        "        num_paragraphs = len(paragraph)\n",
        "        cloned_doc_embeddings = []\n",
        "        batch_size = 32\n",
        "        print(paragraph)\n",
        "        for itr in range(0, num_paragraphs, batch_size):\n",
        "            s = itr\n",
        "            e = min(itr+batch_size, num_paragraphs)\n",
        "            tokenized = self.tokenizer(paragraph[s : e],\n",
        "                                       padding=True, truncation=True,\n",
        "                                       return_tensors=\"pt\",\n",
        "                                       return_attention_mask=True,\n",
        "                                       add_special_tokens=True,\n",
        "                                       max_length=512,\n",
        "                                       pad_to_max_length=True\n",
        "                                       ).to(self.device)\n",
        "            input_ids = tokenized['input_ids']\n",
        "            print(input_ids.shape)\n",
        "            attention_mask = tokenized['attention_mask']\n",
        "            print(attention_mask)\n",
        "            with torch.no_grad():\n",
        "                doc_embeddings = self.model(input_ids, attention_mask=attention_mask).pooler_output\n",
        "\n",
        "            cloned_doc_embeddings.append(torch.clone(doc_embeddings).cpu().numpy())\n",
        "\n",
        "            ##clean up\n",
        "            torch.cuda.empty_cache()\n",
        "            del input_ids\n",
        "\n",
        "        return np.vstack(cloned_doc_embeddings)\n"
      ]
    },
    {
      "cell_type": "code",
      "execution_count": null,
      "metadata": {
        "id": "nXTjDLBLbS5j"
      },
      "outputs": [],
      "source": [
        "# encoder = Encoder_Model()"
      ]
    },
    {
      "cell_type": "code",
      "execution_count": null,
      "metadata": {
        "id": "zgdSaaAzbS5j"
      },
      "outputs": [],
      "source": [
        "# emb = encoder.encode([\"Its been a long night\",\"tomowwor we win this game by hige margin\"])"
      ]
    },
    {
      "cell_type": "code",
      "execution_count": null,
      "metadata": {
        "id": "3XVIvNXbbS5j"
      },
      "outputs": [],
      "source": [
        "# emb.shape"
      ]
    },
    {
      "cell_type": "markdown",
      "metadata": {
        "id": "AZHp4s2S5SN6"
      },
      "source": [
        "# PdfParagraphExtractor"
      ]
    },
    {
      "cell_type": "code",
      "execution_count": null,
      "metadata": {
        "id": "wY45lwIXbS5j"
      },
      "outputs": [],
      "source": [
        "#pdf outline extration\n",
        "class PdfParagraphExtractor:\n",
        "    def __init__(self, book_path: str) -> None:\n",
        "        # self.device = DEVICE\n",
        "        self.book_path = book_path\n",
        "\n",
        "\n",
        "        self.reader = PyPDF2.PdfReader(book_path)\n",
        "        self.outlines = self.reader.outline\n",
        "        self.ignore_outline_list = ['Contents', 'About Us', 'About', 'Preface', 'Glossary', 'Acknowledgement','References', 'Copyright', 'Cover', 'Table of Contents', 'Colophon', 'Index', 'Appendix', 'About the Authors']\n",
        "        self.ignore_outline_pattern = r\"(?i)\\b(?:Contents?|About Us?|Preface|Glossary|Acknowledgement|References?|Copyright|Cover|Table of Contents|Colophon|Index|Appendix|About the Authors)\\b\"\n",
        "        self.pdf_contents = dict()\n",
        "\n",
        "        self.pages=self.reader.pages\n",
        "        self.print_document_outline(self.reader, self.outlines)\n",
        "\n",
        "        self.content_in_paragraphs = defaultdict(list)\n",
        "        self.corpus = \"\"\n",
        "\n",
        "        self.paragraphs = []\n",
        "        self.paragraph_count = 0\n",
        "\n",
        "        # self.encoder_model = encoder_model\n",
        "        # self.doc_embeddings = None\n",
        "\n",
        "        self.paragraph_generator()\n",
        "        # self.compute_doc_embeddings()\n",
        "        return\n",
        "\n",
        "    def print_document_outline(self,reader, outlines, indent=0):\n",
        "        for outline in outlines:\n",
        "            if isinstance(outline, list):\n",
        "                self.print_document_outline(reader, outline, indent + 1)\n",
        "            else:\n",
        "                title = outline.title\n",
        "                # print(title)\n",
        "                try:\n",
        "                    page_number = reader.get_destination_page_number(outline)\n",
        "                except:\n",
        "                    page_number = -1\n",
        "\n",
        "\n",
        "                self.pdf_contents[title] = page_number\n",
        "                # print('  ' * indent + f\"Title: {title}, Page: {page_number}\")\n",
        "    def print_mapping(self):\n",
        "        print(self.pdf_contents)\n",
        "\n",
        "\n",
        "    def paragraph_generator(self):\n",
        "        self.pages = self.reader.pages\n",
        "        last_page = 0\n",
        "        pdf_Contents = list(self.pdf_contents.items())\n",
        "        temp_count = 0\n",
        "        for iterator in range(1,len(self.pdf_contents)):\n",
        "            (outline,page_number) =  (pdf_Contents[iterator-1][0],pdf_Contents[iterator][1])\n",
        "            if not re.match(self.ignore_outline_pattern, outline):\n",
        "                for page in self.pages[last_page:page_number]:\n",
        "                    # print(page.extract_text())\n",
        "                    text = page.extract_text()\n",
        "                    print('Text: ',text)\n",
        "                    # print(text)\n",
        "                    # print(text.splitlines())\n",
        "                    # print(text.split('.\\n'))\n",
        "                    paragraphs_arr = text.split('.\\n')\n",
        "\n",
        "                    for paragraph in paragraphs_arr:\n",
        "                        paragraph = paragraph.replace('\\n', '').replace('\\t', '')\n",
        "                        if(paragraph!='' and paragraph!=None and len(paragraph.split())>0):\n",
        "                            self.paragraphs.append(paragraph)\n",
        "\n",
        "                            temp_count+=1\n",
        "\n",
        "                            self.content_in_paragraphs[outline].append(self.paragraph_count)\n",
        "                            self.paragraph_count += 1\n",
        "            last_page = page_number\n",
        "    def get_paragraph_list(self):\n",
        "        return self.paragraphs\n",
        "\n",
        "\n",
        "pdf_paths =[ \"/content/Anderson OS 1.pdf\", \"/content/Anderson OS 2.pdf\", \"/content/Anderson OS 3.pdf\"]\n",
        "\n",
        "# print(\"Document Outline:\")\n",
        "# outlinegen = PdfParagraphExtractor(pdf_path)\n",
        "# outlinegen.pdf_reader(pdf_path)\n",
        "# outlinegen.outline_generator()\n",
        "# outlinegen.print_document_outline(outlinegen.reader,outlinegen.outlines)\n",
        "# # outlinegen.print_mapping()\n",
        "# outlinegen.paragraph_generator()"
      ]
    },
    {
      "cell_type": "code",
      "source": [
        "class PdfParagraphExtractor2:\n",
        "    def __init__(self, book_path: str):\n",
        "        self.book_path = book_path\n",
        "\n",
        "        self.reader = PyPDF2.PdfReader(book_path)\n",
        "\n",
        "        self.paragraphs = []\n",
        "        self.paragraph_count = 0\n",
        "\n",
        "        self.extract_paragraphs()\n",
        "    def extract_paragraphs(self):\n",
        "        for page in self.reader.pages:\n",
        "            text = page.extract_text()\n",
        "            paragraphs = text.split('.\\n')\n",
        "            for paragraph in paragraphs:\n",
        "                paragraph = paragraph.replace('\\n', '').replace('\\t', '')\n",
        "                if(paragraph!='' and paragraph!=None and len(paragraph.split())>0):\n",
        "                    self.paragraphs.append(paragraph)\n",
        "        self.paragraph_count = len(self.paragraphs)\n",
        "\n"
      ],
      "metadata": {
        "id": "TCQxeH2l0ldR"
      },
      "execution_count": null,
      "outputs": []
    },
    {
      "cell_type": "code",
      "execution_count": null,
      "metadata": {
        "id": "D217NKT-bS5k"
      },
      "outputs": [],
      "source": [
        "# outlinegen.document_embeddings.shape"
      ]
    },
    {
      "cell_type": "code",
      "execution_count": null,
      "metadata": {
        "id": "oM0g1EwVbS5k"
      },
      "outputs": [],
      "source": [
        "# encoder_model = EncoderModel()\n",
        "# outlinegen = PdfParagraphExtractor(pdf_path, encoder_model)"
      ]
    },
    {
      "cell_type": "markdown",
      "metadata": {
        "id": "jQpEAROj5NIY"
      },
      "source": [
        "# Key Bert"
      ]
    },
    {
      "cell_type": "code",
      "execution_count": null,
      "metadata": {
        "id": "NVhCKmBWbS5k"
      },
      "outputs": [],
      "source": [
        "class KeyBertModel():\n",
        "    def __init__(self, docs, doc_embeddings):\n",
        "        self.kw_model = KeyBERT()\n",
        "        self.top_eles = 5\n",
        "\n",
        "        self.key_map = dict()\n",
        "        self.score_map = dict()\n",
        "        self.key_words_per_docs = None\n",
        "        self.key_to_ids = dict()\n",
        "\n",
        "        self.extract(docs, doc_embeddings)\n",
        "\n",
        "        # required objects\n",
        "        self.hyperedge_dictionary = self.key_to_ids\n",
        "        self.hyperedge_embeddings = self.key_map\n",
        "\n",
        "    def extract(self, docs, doc_embeddings):\n",
        "        self.key_words_per_docs = self.kw_model.extract_keywords(docs, keyphrase_ngram_range=(1, 2), use_mmr=True, diversity=0.4, top_n=self.top_eles)\n",
        "        self.set_keyword_map(doc_embeddings)\n",
        "        return\n",
        "\n",
        "    def set_keyword_map(self,doc_embeddings, threshold=0.3):\n",
        "        for idx, key_list in enumerate(self.key_words_per_docs):\n",
        "            for item in key_list:\n",
        "                key, score = item\n",
        "                if score>=threshold:\n",
        "                    if key in self.key_map.keys():\n",
        "                        self.key_to_ids[key].append(idx)\n",
        "                        self.key_map[key]+= doc_embeddings[idx]\n",
        "                        self.score_map[key]+= score\n",
        "                    else:\n",
        "                        self.key_to_ids[key] = [idx]\n",
        "                        self.key_map[key] = doc_embeddings[idx]\n",
        "                        self.score_map[key] = score\n",
        "        for key in list(self.key_map):\n",
        "            self.key_map[key] = self.key_map[key] / self.score_map[key]\n",
        "        return\n",
        "\n",
        "    def get_hypergraph(self):\n",
        "        key_to_keyid = {}\n",
        "        keyid_to_key = {}\n",
        "        n = len(self.hyperedge_dictionary)\n",
        "        itr = 0\n",
        "        for key in list(self.hyperedge_dictionary.keys()):\n",
        "            key_to_keyid[key] = itr\n",
        "            keyid_to_key[itr] = key\n",
        "            itr+=1\n",
        "        return (self.hyperedge_dictionary, self.hyperedge_embeddings, key_to_keyid, keyid_to_key)\n",
        "\n",
        "\n",
        "\n",
        "\n",
        "\n"
      ]
    },
    {
      "cell_type": "code",
      "execution_count": null,
      "metadata": {
        "id": "E_UuK5edbS5k"
      },
      "outputs": [],
      "source": [
        "# kw_model = KeyBertModel()"
      ]
    },
    {
      "cell_type": "code",
      "execution_count": null,
      "metadata": {
        "id": "UQIVjfB8bS5l"
      },
      "outputs": [],
      "source": [
        "# kw_model.extract(outlinegen.paragraphs, outlinegen.document_embeddings)"
      ]
    },
    {
      "cell_type": "code",
      "execution_count": null,
      "metadata": {
        "id": "pM3FWPlcbS5l"
      },
      "outputs": [],
      "source": [
        "# kw_model.key_words_per_docs"
      ]
    },
    {
      "cell_type": "code",
      "execution_count": null,
      "metadata": {
        "id": "uUoEsPaQbS5l"
      },
      "outputs": [],
      "source": [
        "# kw_model.get_keyword_map(outlinegen.document_embeddings)"
      ]
    },
    {
      "cell_type": "markdown",
      "metadata": {
        "id": "r1bL1m-I5GoD"
      },
      "source": [
        "# LDA"
      ]
    },
    {
      "cell_type": "code",
      "execution_count": null,
      "metadata": {
        "id": "g7mX5NdUbS5m"
      },
      "outputs": [],
      "source": [
        "class LDA():\n",
        "    # while initializing the object, the input is an array of paragraph objects\n",
        "    # now list of paragraphs\n",
        "    def __init__(self, docs, doc_embeddings) -> None:\n",
        "        ##objects that will be used for text cleaning\n",
        "        self.tokenizer = RegexpTokenizer(r'\\w+')\n",
        "        self.stopWords = stopwords.words('english')\n",
        "        self.punctuations = set(string.punctuation)\n",
        "        self.lemma = WordNetLemmatizer()\n",
        "\n",
        "        ##ldamodel\n",
        "        self.lda_model = None\n",
        "        self.is_num_topic_set = False\n",
        "        self.num_topics = 0\n",
        "\n",
        "        ##corpus\n",
        "        self.paragraphs = docs\n",
        "        self.doc_embeddings = doc_embeddings\n",
        "        self.clean_corpus = [self.apply_cleaning_for_lda(doc) for doc in self.paragraphs]\n",
        "        self.clean_corpus = self.add_bigrams(self.clean_corpus)\n",
        "\n",
        "        ##bag of words representation\n",
        "        self.dictionary = Dictionary(self.clean_corpus)\n",
        "        self.bow_representation_of_corpus = [self.dictionary.doc2bow(doc) for doc in self.clean_corpus]\n",
        "\n",
        "        ## topic document mappings\n",
        "        self.hyperedge_dictionary = {}\n",
        "        self.hyperedge_embeddings = {}\n",
        "        self.hyperedge_probabilities = {}\n",
        "\n",
        "        ##compute everything\n",
        "        self.find_optimal_model()\n",
        "        self.compute_topic_document_mapping()\n",
        "        self.compute_hypergraph_embeddings()\n",
        "\n",
        "        ##array for mapping\n",
        "        self.arr_topics = list(self.hyperedge_embeddings.keys())\n",
        "        self.arr_embeddings = np.vstack(list(self.hyperedge_embeddings.values()))\n",
        "\n",
        "\n",
        "    def tokenize(self, x):\n",
        "        return self.tokenizer.tokenize(x)\n",
        "\n",
        "    def clean_string(self,x):\n",
        "        return re.sub(r'[,\\.!?]', '', x).replace('\\n', '').replace('\\t', '')\n",
        "\n",
        "    def lower(self,x):\n",
        "        return x.lower()\n",
        "\n",
        "    def remove_stopwords(self,x):\n",
        "        x = [word for word in x if word not in self.stopWords]\n",
        "        return x\n",
        "\n",
        "    def remove_punctuations(self, x):\n",
        "        x = [word for word in x if word not in self.punctuations]\n",
        "        return x\n",
        "\n",
        "    def lemmatize(self, x):\n",
        "        x = [self.lemma.lemmatize(word) for word in x]\n",
        "        return x\n",
        "\n",
        "    def remove_numbers(self, x):\n",
        "        return [token for token in x if not token.isnumeric()]\n",
        "\n",
        "    def remove_single_characters(self, x):\n",
        "        return [token for token in x if len(token)>1]\n",
        "\n",
        "\n",
        "    def add_bigrams(self, x):\n",
        "        bigram = Phrases(x, min_count=20)\n",
        "        for idx in range(len(x)):\n",
        "            for token in bigram[x[idx]]:\n",
        "                if '_' in token:\n",
        "                    # Token is a bigram, add to document.\n",
        "                    x[idx].append(token)\n",
        "        return x\n",
        "\n",
        "    def train_lda_model(self, num_topics,chunksize=2000, passes=40, iterations=1000, eval_every=None):\n",
        "        temp = self.dictionary[0]\n",
        "        id2word = self.dictionary.id2token\n",
        "\n",
        "        model = LdaModel(\n",
        "            corpus=self.bow_representation_of_corpus,\n",
        "            id2word=id2word,\n",
        "            chunksize=chunksize,\n",
        "            alpha='auto',\n",
        "            eta='auto',\n",
        "            iterations=iterations,\n",
        "            num_topics=num_topics,\n",
        "            passes=passes,\n",
        "            eval_every=eval_every\n",
        "        )\n",
        "\n",
        "        return model\n",
        "\n",
        "    def get_coherence_score(self, model):\n",
        "        coherence_model = CoherenceModel(model=model, corpus=self.bow_representation_of_corpus, coherence='u_mass')\n",
        "        return coherence_model.get_coherence()\n",
        "\n",
        "    def find_optimal_model(self):\n",
        "        # k_min = len(self.clean_corpus)//10\n",
        "        k_max = len(self.clean_corpus)//4\n",
        "\n",
        "        self.lda_model = self.train_lda_model(num_topics=k_max)\n",
        "        self.is_num_topic_set = True\n",
        "        self.num_topics = k_max\n",
        "\n",
        "        return\n",
        "\n",
        "        # step = (k_max-k_min)//10\n",
        "        # if step==0:\n",
        "        #     step = 1\n",
        "\n",
        "        # coh_score = -1e9\n",
        "        # num_topics = k_min\n",
        "        # itr_num_topics = num_topics\n",
        "\n",
        "        # while itr_num_topics<=k_max:\n",
        "        #     model = self.train_lda_model(num_topics=itr_num_topics)\n",
        "        #     score = self.get_coherence_score(model)\n",
        "        #     if(score>coh_score):\n",
        "        #         score = coh_score\n",
        "        #         num_topics = itr_num_topics\n",
        "        #         self.lda_model = model\n",
        "        #     itr_num_topics+=step\n",
        "        # self.num_topics = num_topics\n",
        "        # self.is_num_topic_set = True\n",
        "        # return\n",
        "\n",
        "    def get_topics(self):\n",
        "        return self.lda_model.get_topics()\n",
        "\n",
        "    def get_vocabulary(self):\n",
        "        return self.dictionary.id2token\n",
        "\n",
        "\n",
        "    def compute_topic_document_mapping(self, threshold=0.4):\n",
        "        topic_dic = defaultdict(list)\n",
        "        hg_emb = {}\n",
        "        hg_probs = defaultdict(float)\n",
        "\n",
        "        n = self.num_topics\n",
        "\n",
        "        for doc_id, doc_bow in enumerate(self.bow_representation_of_corpus):\n",
        "            topic_distribution = self.lda_model.get_document_topics(doc_bow, minimum_probability=None)\n",
        "\n",
        "            for topic_id, prob in topic_distribution:\n",
        "                if prob>=threshold:\n",
        "                    topic_dic[topic_id].append((doc_id, prob))\n",
        "\n",
        "                    hg_probs[topic_id]+=prob\n",
        "\n",
        "                    emb = prob * self.doc_embeddings[doc_id]\n",
        "                    if topic_id in hg_emb.keys():\n",
        "                        hg_emb[ topic_id ] += emb\n",
        "                    else:\n",
        "                        hg_emb[ topic_id ]=emb\n",
        "\n",
        "        self.hyperedge_dictionary = topic_dic\n",
        "        self.hyperedge_embeddings = hg_emb\n",
        "        self.hyperedge_probabilities = hg_probs\n",
        "        return\n",
        "\n",
        "    def compute_hypergraph_embeddings(self):\n",
        "        for topic_id in range(self.num_topics):\n",
        "            if topic_id in self.hyperedge_embeddings.keys():\n",
        "                self.hyperedge_embeddings[topic_id] = self.hyperedge_embeddings[topic_id]/self.hyperedge_probabilities[topic_id]\n",
        "        return\n",
        "\n",
        "\n",
        "    def apply_cleaning_for_lda(self, x):\n",
        "        x = self.clean_string(x)\n",
        "        x = self.lower(x)\n",
        "        x = self.tokenize(x) ##Now the returned element is a list of words\n",
        "        x = self.remove_stopwords(x)\n",
        "        x = self.remove_punctuations(x)\n",
        "        x = self.remove_single_characters(x)\n",
        "        x = self.remove_numbers(x)\n",
        "        x = self.lemmatize(x)\n",
        "        return x\n",
        "    def get_hypergraph(self):\n",
        "        key_to_keyid = {}\n",
        "        keyid_to_key = {}\n",
        "        n = len(self.hyperedge_dictionary)\n",
        "        itr = 0\n",
        "        for key in list(self.hyperedge_dictionary.keys()):\n",
        "            key_to_keyid[key] = itr\n",
        "            keyid_to_key[itr] = key\n",
        "            itr+=1\n",
        "        return (self.hyperedge_dictionary, self.hyperedge_embeddings, key_to_keyid, keyid_to_key)\n",
        "\n",
        "# lda = LDA(list(outlinegen.paragraphs.values()))\n"
      ]
    },
    {
      "cell_type": "markdown",
      "metadata": {
        "id": "rgSWjXdo5Jlp"
      },
      "source": [
        "# Faiss"
      ]
    },
    {
      "cell_type": "code",
      "execution_count": null,
      "metadata": {
        "id": "8TflQXgYbS5l"
      },
      "outputs": [],
      "source": [
        "class Faiss:\n",
        "    def __init__(self,doc_embeddings,model,top_k=15,dimension=768):\n",
        "        # doc embeddings is an array of vectors of shape (1,768)\n",
        "        self.doc_embeddings = np.vstack(doc_embeddings)\n",
        "        self.top_k=top_k\n",
        "        self.dimension=dimension\n",
        "        res = faiss.StandardGpuResources()\n",
        "        flat_config = faiss.GpuIndexFlatConfig()\n",
        "\n",
        "        faiss.normalize_L2(self.doc_embeddings)\n",
        "        self.index=faiss.GpuIndexFlatL2(res,self.dimension,flat_config)\n",
        "\n",
        "        self.query_model=model\n",
        "        self.create_index()\n",
        "    def create_index(self):\n",
        "        # Add your vector data to the index\n",
        "        self.index.add(self.doc_embeddings)\n",
        "        return self.index.ntotal\n",
        "    def serve_query(self,question):\n",
        "        query_embedding = self.query_model.encode_query(question)\n",
        "\n",
        "        faiss.normalize_L2(query_embedding)\n",
        "\n",
        "        D, I = self.index.search(query_embedding, self.top_k)\n",
        "        return D,I\n"
      ]
    },
    {
      "cell_type": "code",
      "execution_count": null,
      "metadata": {
        "id": "WQfT7rKLbS5l"
      },
      "outputs": [],
      "source": [
        "# from keybert import KeyBERT\n",
        "# from flair.embeddings import TransformerDocumentEmbeddings\n",
        "\n",
        "# roberta = TransformerDocumentEmbeddings('facebook/dpr-ctx_encoder-single-nq-base')\n",
        "# kw_model = KeyBERT(model=roberta)\n",
        "\n",
        "# def generate_keys(HyperGraph_Map, paragraph_id, paragraphs, keyBERT=kw_model, top_eles=3):\n",
        "#     doc = paragraphs[paragraph_id].text\n",
        "\n",
        "#     # Extract key phrases of different lengths in a single pass\n",
        "#     key_phrases = []\n",
        "#     for n in range(2, 3):\n",
        "#         key_phrases.extend(keyBERT.extract_keywords(doc, keyphrase_ngram_range=(n, n), use_mmr=True, diversity=0.7, top_n=top_eles))\n",
        "\n",
        "#     for key, prob in key_phrases:\n",
        "#         embeddings = keyBERT.extract_embeddings(doc, candidates=[key], keyphrase_ngram_range=(len(key.split()), len(key.split())), stop_words=None)\n",
        "#         # print(len(embeddings))\n",
        "#         if embeddings:\n",
        "#             key_list = {}\n",
        "#             if key not in HyperGraph_Map:\n",
        "#                 key_list = {\"keyword_embeddings\": embeddings[1] * prob, \"prob_sum\": prob}\n",
        "#             # key_list[\"keyword_embeddings\"] += (embeddings * torch.tensor(prob))\n",
        "#             else:\n",
        "#                 key_list[\"keyword_embeddings\"] = HyperGraph_Map[key][\"keyword_embeddings\"]+ embeddings[1] * prob\n",
        "#                 key_list[\"prob_sum\"] = HyperGraph_Map[key][\"prob_sum\"] + prob\n",
        "#             HyperGraph_Map[key] = key_list\n",
        "\n",
        "#     return\n",
        "\n",
        "# count=0\n",
        "# for content in outlinegen.pdf_contents:\n",
        "#     # print(content)\n",
        "#     paragraph_ids = outlinegen.content_in_paragraphs[content]\n",
        "#     # print(len(paragraphs))\n",
        "#     # print(paragraphs)crea\n",
        "#     for paragraph_id in paragraph_ids:\n",
        "#         if len(outlinegen.paragraphs[paragraph_id].text)!=0:\n",
        "#             count+=1\n",
        "#             # print(paragraph.embeddings)\n",
        "#             generate_keys(outlinegen.HyperGraph_Map,paragraph_id,outlinegen.paragraphs)"
      ]
    },
    {
      "cell_type": "markdown",
      "source": [
        "# Hypergraph Class"
      ],
      "metadata": {
        "id": "RbmyVxOYbZ8h"
      }
    },
    {
      "cell_type": "code",
      "source": [
        "class Hypergraph():\n",
        "    # all the hypergraph related mapping and its index\n",
        "    def __init__(self, name, key_to_docids, key_to_embeddings, key_to_keyid, keyid_to_key, encoder_models):\n",
        "        self.name = name\n",
        "        self.key_to_docids = key_to_docids\n",
        "        self.key_to_embeddings = key_to_embeddings\n",
        "        self.key_to_keyid = key_to_keyid\n",
        "        self.keyid_to_key = keyid_to_key\n",
        "\n",
        "        self.vector_db = Faiss(list(self.key_to_embeddings.values()), encoder_models)\n",
        "\n",
        "    def query_hypergraph(self, question):\n",
        "        D, I = self.vector_db.serve_query(question)\n",
        "        key_ids = I[0]\n",
        "        ans_arr = []\n",
        "        for key_id in key_ids:\n",
        "            key = self.keyid_to_key[key_id]\n",
        "            docids = self.key_to_docids[key]\n",
        "            ans_arr.extend(docids)\n",
        "        return ans_arr\n",
        "\n",
        "\n"
      ],
      "metadata": {
        "id": "MXIcE7s8bcur"
      },
      "execution_count": null,
      "outputs": []
    },
    {
      "cell_type": "code",
      "source": [],
      "metadata": {
        "id": "NHJ0bekpbfS7"
      },
      "execution_count": null,
      "outputs": []
    },
    {
      "cell_type": "code",
      "source": [],
      "metadata": {
        "id": "8rUr95-TbfPx"
      },
      "execution_count": null,
      "outputs": []
    },
    {
      "cell_type": "code",
      "source": [],
      "metadata": {
        "id": "c31BlVDjbfMW"
      },
      "execution_count": null,
      "outputs": []
    },
    {
      "cell_type": "markdown",
      "source": [
        "# Reader"
      ],
      "metadata": {
        "id": "Lw45dlf8jaCD"
      }
    },
    {
      "cell_type": "code",
      "source": [
        "!wget https://dl.fbaipublicfiles.com/FiD/pretrained_models/nq_reader_large.tar.gz"
      ],
      "metadata": {
        "colab": {
          "base_uri": "https://localhost:8080/"
        },
        "id": "WpkZrus3wZtC",
        "outputId": "7e684094-84b2-475b-9676-9c2ad2e594f4"
      },
      "execution_count": null,
      "outputs": [
        {
          "output_type": "stream",
          "name": "stdout",
          "text": [
            "--2024-08-31 18:27:16--  https://dl.fbaipublicfiles.com/FiD/pretrained_models/nq_reader_large.tar.gz\n",
            "Resolving dl.fbaipublicfiles.com (dl.fbaipublicfiles.com)... 3.163.189.14, 3.163.189.96, 3.163.189.51, ...\n",
            "Connecting to dl.fbaipublicfiles.com (dl.fbaipublicfiles.com)|3.163.189.14|:443... connected.\n",
            "HTTP request sent, awaiting response... 200 OK\n",
            "Length: 2732989981 (2.5G) [application/gzip]\n",
            "Saving to: ‘nq_reader_large.tar.gz’\n",
            "\n",
            "nq_reader_large.tar   3%[                    ]  89.99M  33.1MB/s               ^C\n"
          ]
        }
      ]
    },
    {
      "cell_type": "code",
      "source": [
        "!tar -xvzf /content/nq_reader_large.tar.gz"
      ],
      "metadata": {
        "colab": {
          "base_uri": "https://localhost:8080/"
        },
        "id": "KNxt63vcwcD6",
        "outputId": "d8c4959c-a154-478f-e0fa-441d1899fb49"
      },
      "execution_count": null,
      "outputs": [
        {
          "output_type": "stream",
          "name": "stdout",
          "text": [
            "nq_reader_large/\n",
            "nq_reader_large/config.json\n",
            "nq_reader_large/pytorch_model.bin\n",
            "\n",
            "gzip: stdin: unexpected end of file\n",
            "tar: Unexpected EOF in archive\n",
            "tar: Unexpected EOF in archive\n",
            "tar: Error is not recoverable: exiting now\n"
          ]
        }
      ]
    },
    {
      "cell_type": "code",
      "source": [
        "import torch"
      ],
      "metadata": {
        "id": "cavQ08i_9FRl"
      },
      "execution_count": null,
      "outputs": []
    },
    {
      "cell_type": "code",
      "source": [
        "from transformers import T5Tokenizer"
      ],
      "metadata": {
        "id": "5kVFG7yV47Pz"
      },
      "execution_count": null,
      "outputs": []
    },
    {
      "cell_type": "code",
      "source": [
        "import types\n",
        "import torch\n",
        "import transformers\n",
        "import torch.nn.functional as F\n",
        "from torch import nn\n",
        "from torch.nn import CrossEntropyLoss\n",
        "import numpy as np\n",
        "\n",
        "class FiDT5(transformers.T5ForConditionalGeneration):\n",
        "    def __init__(self, config):\n",
        "        super().__init__(config)\n",
        "        self.wrap_encoder()\n",
        "\n",
        "    def forward_(self, **kwargs):\n",
        "        if 'input_ids' in kwargs:\n",
        "            kwargs['input_ids'] = kwargs['input_ids'].view(kwargs['input_ids'].size(0), -1)\n",
        "        if 'attention_mask' in kwargs:\n",
        "            kwargs['attention_mask'] = kwargs['attention_mask'].view(kwargs['attention_mask'].size(0), -1)\n",
        "\n",
        "        return super(FiDT5, self).forward(\n",
        "            **kwargs\n",
        "        )\n",
        "\n",
        "    # We need to resize as B x (N * L) instead of (B * N) x L here\n",
        "    # because the T5 forward method uses the input tensors to infer\n",
        "    # dimensions used in the decoder.\n",
        "    # EncoderWrapper resizes the inputs as (B * N) x L.\n",
        "    def forward(self, input_ids=None, attention_mask=None, **kwargs):\n",
        "        if input_ids != None:\n",
        "            # inputs might have already be resized in the generate method\n",
        "            if input_ids.dim() == 3:\n",
        "                self.encoder.n_passages = input_ids.size(1)\n",
        "            input_ids = input_ids.view(input_ids.size(0), -1)\n",
        "        if attention_mask != None:\n",
        "            attention_mask = attention_mask.view(attention_mask.size(0), -1)\n",
        "        return super().forward(\n",
        "            input_ids=input_ids,\n",
        "            attention_mask=attention_mask,\n",
        "            **kwargs\n",
        "        )\n",
        "\n",
        "    # We need to resize the inputs here, as the generate method expect 2D tensors\n",
        "    def generate(self, input_ids, attention_mask, max_length):\n",
        "        self.encoder.n_passages = input_ids.size(1)\n",
        "        return super().generate(\n",
        "            input_ids=input_ids.view(input_ids.size(0), -1),\n",
        "            attention_mask=attention_mask.view(attention_mask.size(0), -1),\n",
        "            max_length=max_length\n",
        "        )\n",
        "\n",
        "    def wrap_encoder(self, use_checkpoint=False):\n",
        "        \"\"\"\n",
        "        Wrap T5 encoder to obtain a Fusion-in-Decoder model.\n",
        "        \"\"\"\n",
        "        self.encoder = EncoderWrapper(self.encoder, use_checkpoint=use_checkpoint)\n",
        "\n",
        "    def unwrap_encoder(self):\n",
        "        \"\"\"\n",
        "        Unwrap Fusion-in-Decoder encoder, useful to load T5 weights.\n",
        "        \"\"\"\n",
        "        self.encoder = self.encoder.encoder\n",
        "        block = []\n",
        "        for mod in self.encoder.block:\n",
        "            block.append(mod.module)\n",
        "        block = nn.ModuleList(block)\n",
        "        self.encoder.block = block\n",
        "\n",
        "    def load_t5(self, state_dict):\n",
        "        self.unwrap_encoder()\n",
        "        self.load_state_dict(state_dict)\n",
        "        self.wrap_encoder()\n",
        "\n",
        "    def set_checkpoint(self, use_checkpoint):\n",
        "        \"\"\"\n",
        "        Enable or disable checkpointing in the encoder.\n",
        "        See https://pytorch.org/docs/stable/checkpoint.html\n",
        "        \"\"\"\n",
        "        for mod in self.encoder.encoder.block:\n",
        "            mod.use_checkpoint = use_checkpoint\n",
        "\n",
        "    def reset_score_storage(self):\n",
        "        \"\"\"\n",
        "        Reset score storage, only used when cross-attention scores are saved\n",
        "        to train a retriever.\n",
        "        \"\"\"\n",
        "        for mod in self.decoder.block:\n",
        "            mod.layer[1].EncDecAttention.score_storage = None\n",
        "\n",
        "    def get_crossattention_scores(self, context_mask):\n",
        "        \"\"\"\n",
        "        Cross-attention scores are aggregated to obtain a single scalar per\n",
        "        passage. This scalar can be seen as a similarity score between the\n",
        "        question and the input passage. It is obtained by averaging the\n",
        "        cross-attention scores obtained on the first decoded token over heads,\n",
        "        layers, and tokens of the input passage.\n",
        "\n",
        "        More details in Distilling Knowledge from Reader to Retriever:\n",
        "        https://arxiv.org/abs/2012.04584.\n",
        "        \"\"\"\n",
        "        scores = []\n",
        "        n_passages = context_mask.size(1)\n",
        "        for mod in self.decoder.block:\n",
        "            scores.append(mod.layer[1].EncDecAttention.score_storage)\n",
        "        scores = torch.cat(scores, dim=2)\n",
        "        bsz, n_heads, n_layers, _ = scores.size()\n",
        "        # batch_size, n_head, n_layers, n_passages, text_maxlength\n",
        "        scores = scores.view(bsz, n_heads, n_layers, n_passages, -1)\n",
        "        scores = scores.masked_fill(~context_mask[:, None, None], 0.)\n",
        "        scores = scores.sum(dim=[1, 2, 4])\n",
        "        ntokens = context_mask.sum(dim=[2]) * n_layers * n_heads\n",
        "        scores = scores/ntokens\n",
        "        return scores\n",
        "\n",
        "    def overwrite_forward_crossattention(self):\n",
        "        \"\"\"\n",
        "        Replace cross-attention forward function, only used to save\n",
        "        cross-attention scores.\n",
        "        \"\"\"\n",
        "        for mod in self.decoder.block:\n",
        "            attn = mod.layer[1].EncDecAttention\n",
        "            attn.forward = types.MethodType(cross_attention_forward, attn)\n",
        "\n",
        "class EncoderWrapper(torch.nn.Module):\n",
        "    \"\"\"\n",
        "    Encoder Wrapper for T5 Wrapper to obtain a Fusion-in-Decoder model.\n",
        "    \"\"\"\n",
        "    def __init__(self, encoder, use_checkpoint=False):\n",
        "        super().__init__()\n",
        "\n",
        "        self.encoder = encoder\n",
        "        self.embed_tokens = encoder.embed_tokens\n",
        "        self.main_input_name=encoder.main_input_name\n",
        "        apply_checkpoint_wrapper(self.encoder, use_checkpoint)\n",
        "\n",
        "    def forward(self, input_ids=None, attention_mask=None, **kwargs,):\n",
        "        # total_length = n_passages * passage_length\n",
        "        bsz, total_length = input_ids.shape\n",
        "        passage_length = total_length // self.n_passages\n",
        "        input_ids = input_ids.view(bsz*self.n_passages, passage_length)\n",
        "        attention_mask = attention_mask.view(bsz*self.n_passages, passage_length)\n",
        "        outputs = self.encoder(input_ids, attention_mask, **kwargs)\n",
        "        outputs = (outputs[0].view(bsz, self.n_passages*passage_length, -1), ) + outputs[1:]\n",
        "        return outputs\n",
        "\n",
        "class CheckpointWrapper(torch.nn.Module):\n",
        "    \"\"\"\n",
        "    Wrapper replacing None outputs by empty tensors, which allows the use of\n",
        "    checkpointing.\n",
        "    \"\"\"\n",
        "    def __init__(self, module, use_checkpoint=False):\n",
        "        super().__init__()\n",
        "        self.module = module\n",
        "        self.use_checkpoint = use_checkpoint\n",
        "\n",
        "    def forward(self, hidden_states, attention_mask, position_bias, **kwargs):\n",
        "        if self.use_checkpoint and self.training:\n",
        "            kwargs = {k: v for k, v in kwargs.items() if v is not None}\n",
        "            def custom_forward(*inputs):\n",
        "                output = self.module(*inputs, **kwargs)\n",
        "                empty = torch.tensor(\n",
        "                    [],\n",
        "                    dtype=torch.float,\n",
        "                    device=output[0].device,\n",
        "                    requires_grad=True)\n",
        "                output = tuple(x if x is not None else empty for x in output)\n",
        "                return output\n",
        "\n",
        "            output = torch.utils.checkpoint.checkpoint(\n",
        "                custom_forward,\n",
        "                hidden_states,\n",
        "                attention_mask,\n",
        "                position_bias\n",
        "            )\n",
        "            output = tuple(x if x.size() != 0 else None for x in output)\n",
        "        else:\n",
        "            output = self.module(hidden_states, attention_mask, position_bias, **kwargs)\n",
        "        return output\n",
        "\n",
        "def apply_checkpoint_wrapper(t5stack, use_checkpoint):\n",
        "    \"\"\"\n",
        "    Wrap each block of the encoder to enable checkpointing.\n",
        "    \"\"\"\n",
        "    block = []\n",
        "    for mod in t5stack.block:\n",
        "        wrapped_mod = CheckpointWrapper(mod, use_checkpoint)\n",
        "        block.append(wrapped_mod)\n",
        "    block = nn.ModuleList(block)\n",
        "    t5stack.block = block\n",
        "\n",
        "def cross_attention_forward(\n",
        "        self,\n",
        "        input,\n",
        "        mask=None,\n",
        "        kv=None,\n",
        "        position_bias=None,\n",
        "        past_key_value_state=None,\n",
        "        head_mask=None,\n",
        "        query_length=None,\n",
        "        use_cache=False,\n",
        "        output_attentions=False,\n",
        "    ):\n",
        "    \"\"\"\n",
        "    This only works for computing cross attention over the input\n",
        "    \"\"\"\n",
        "    assert(kv != None)\n",
        "    assert(head_mask == None)\n",
        "    assert(position_bias != None or self.has_relative_attention_bias)\n",
        "\n",
        "    bsz, qlen, dim = input.size()\n",
        "    n_heads, d_heads = self.n_heads, self.d_kv\n",
        "    klen = kv.size(1)\n",
        "\n",
        "    q = self.q(input).view(bsz, -1, n_heads, d_heads).transpose(1, 2)\n",
        "    if past_key_value_state == None:\n",
        "        k = self.k(kv).view(bsz, -1, n_heads, d_heads).transpose(1, 2)\n",
        "        v = self.v(kv).view(bsz, -1, n_heads, d_heads).transpose(1, 2)\n",
        "    else:\n",
        "        k, v = past_key_value_state\n",
        "\n",
        "    scores = torch.einsum(\"bnqd,bnkd->bnqk\", q, k)\n",
        "\n",
        "    if mask is not None:\n",
        "       scores += mask\n",
        "\n",
        "    if position_bias is None:\n",
        "        position_bias = self.compute_bias(qlen, klen)\n",
        "    scores += position_bias\n",
        "\n",
        "    if self.score_storage is None:\n",
        "        self.score_storage = scores\n",
        "\n",
        "    attn = F.softmax(scores.float(), dim=-1).type_as(scores)\n",
        "    attn = F.dropout(attn, p=self.dropout, training=self.training)\n",
        "\n",
        "    output = torch.matmul(attn, v)\n",
        "    output = output.transpose(1, 2).contiguous().view(bsz, -1, self.inner_dim)\n",
        "    output = self.o(output)\n",
        "\n",
        "    if use_cache:\n",
        "        output = (output,) + ((k, v),)\n",
        "    else:\n",
        "        output = (output,) + (None,)\n",
        "\n",
        "    if output_attentions:\n",
        "        output = output + (attn,)\n",
        "\n",
        "    if self.has_relative_attention_bias:\n",
        "        output = output + (position_bias,)\n",
        "\n",
        "    return output"
      ],
      "metadata": {
        "id": "dnNVarkbOBjX"
      },
      "execution_count": null,
      "outputs": []
    },
    {
      "cell_type": "code",
      "execution_count": null,
      "metadata": {
        "id": "xjikGEaAgB2v"
      },
      "outputs": [],
      "source": [
        "doc1='''\n",
        "Simplified control: Docker Compose allows you to define and manage multi-container applications in a single YAML file. This simplifies the complex task of orchestrating and coordinating various services, making it easier to manage and replicate your application environment.\n",
        "\n",
        "Efficient collaboration: Docker Compose configuration files are easy to share, facilitating collaboration among developers, operations teams, and other stakeholders. This collaborative approach leads to smoother workflows, faster issue resolution, and increased overall efficiency.\n",
        "\n",
        "Rapid application development: Compose caches the configuration used to create a container. When you restart a service that has not changed, Compose re-uses the existing containers. Re-using containers means that you can make changes to your environment very quickly.\n",
        "'''"
      ]
    },
    {
      "cell_type": "code",
      "source": [
        "doc2='''\n",
        "Portability across environments: Compose supports variables in the Compose file. You can use these variables to customize your composition for different environments, or different users.\n",
        "\n",
        "Extensive community and support: Docker Compose benefits from a vibrant and active community, which means abundant resources, tutorials, and support. This community-driven ecosystem contributes to the continuous improvement of Docker Compose and helps users troubleshoot issues effectively.\n",
        "'''"
      ],
      "metadata": {
        "id": "8BrgqbOGgi_b"
      },
      "execution_count": null,
      "outputs": []
    },
    {
      "cell_type": "code",
      "source": [
        "doc3='''\n",
        "Development environments\n",
        "When you're developing software, the ability to run an application in an isolated environment and interact with it is crucial. The Compose command line tool can be used to create the environment and interact with it.\n",
        "\n",
        "The Compose file provides a way to document and configure all of the application's service dependencies (databases, queues, caches, web service APIs, etc). Using the Compose command line tool you can create and start one or more containers for each dependency with a single command (docker compose up).\n",
        "\n",
        "Together, these features provide a convenient way for you to get started on a project. Compose can reduce a multi-page \"developer getting started guide\" to a single machine-readable Compose file and a few commands.\n",
        "'''"
      ],
      "metadata": {
        "id": "5lQduH7Ggn84"
      },
      "execution_count": null,
      "outputs": []
    },
    {
      "cell_type": "code",
      "source": [
        "doc4='''\n",
        "Docker is a software platform that allows you to build, test, and deploy applications quickly. Docker packages software into standardized units called containers that have everything the software needs to run including libraries, system tools, code, and runtime. Using Docker, you can quickly deploy and scale applications into any environment and know your code will run.\n",
        "Running Docker on AWS provides developers and admins a highly reliable, low-cost way to build, ship, and run distributed applications at any scale.\n",
        "'''"
      ],
      "metadata": {
        "id": "bdP93EjYAjd1"
      },
      "execution_count": null,
      "outputs": []
    },
    {
      "cell_type": "code",
      "source": [
        "doc5='''\n",
        "'''"
      ],
      "metadata": {
        "id": "IYj846GnA-_A"
      },
      "execution_count": null,
      "outputs": []
    },
    {
      "cell_type": "code",
      "source": [
        "docs=[doc1,doc2,doc3,doc4]"
      ],
      "metadata": {
        "id": "lLJCHLwwgv_5"
      },
      "execution_count": null,
      "outputs": []
    },
    {
      "cell_type": "code",
      "source": [
        "device = \"cuda:0\" if torch.cuda.is_available() else \"cpu\"\n",
        "device"
      ],
      "metadata": {
        "id": "nj5PAF9jDUxF",
        "colab": {
          "base_uri": "https://localhost:8080/",
          "height": 35
        },
        "outputId": "62e21dbb-b64a-4712-b59c-4a81017db3ff"
      },
      "execution_count": null,
      "outputs": [
        {
          "output_type": "execute_result",
          "data": {
            "text/plain": [
              "'cuda:0'"
            ],
            "application/vnd.google.colaboratory.intrinsic+json": {
              "type": "string"
            }
          },
          "metadata": {},
          "execution_count": 58
        }
      ]
    },
    {
      "cell_type": "code",
      "source": [
        "# model_class = FiDT5\n",
        "# model = FiDT5.from_pretrained(\"/content/nq_reader_base\")\n",
        "# model = model.to(device)"
      ],
      "metadata": {
        "id": "OAlHF-hWMwEZ"
      },
      "execution_count": null,
      "outputs": []
    },
    {
      "cell_type": "code",
      "source": [
        "# print(FiDT5)"
      ],
      "metadata": {
        "id": "eoAdkBHWidLw"
      },
      "execution_count": null,
      "outputs": []
    },
    {
      "cell_type": "code",
      "source": [
        "# tokenizer = T5Tokenizer.from_pretrained('t5-base', return_dict=False)"
      ],
      "metadata": {
        "id": "8ZFF-V20nhiG"
      },
      "execution_count": null,
      "outputs": []
    },
    {
      "cell_type": "code",
      "source": [
        "question=\"Explain Docker\""
      ],
      "metadata": {
        "id": "d4xV9je_GzSp"
      },
      "execution_count": null,
      "outputs": []
    },
    {
      "cell_type": "code",
      "source": [
        "def append_question(question,docs):\n",
        "    return [question + \" \" + t for t in docs]\n",
        "text_passages = [append_question(question,docs) for passege in docs]"
      ],
      "metadata": {
        "id": "j16HSAU19cL4"
      },
      "execution_count": null,
      "outputs": []
    },
    {
      "cell_type": "code",
      "source": [
        "def encode_passages(batch_text_passages, tokenizer, max_length):\n",
        "    passage_ids, passage_masks = [], []\n",
        "    for k, text_passages in enumerate(batch_text_passages):\n",
        "        p = tokenizer(\n",
        "            text_passages,\n",
        "            max_length=max_length,\n",
        "            pad_to_max_length=True,\n",
        "            return_tensors='pt',\n",
        "            truncation=True\n",
        "        )\n",
        "        passage_ids.append(p['input_ids'][None])\n",
        "        passage_masks.append(p['attention_mask'][None])\n",
        "\n",
        "    passage_ids = torch.cat(passage_ids, dim=0)\n",
        "    passage_masks = torch.cat(passage_masks, dim=0)\n",
        "    return passage_ids, passage_masks.bool()\n",
        "# context_ids,context_mask=encode_passages(text_passages,tokenizer,2000)"
      ],
      "metadata": {
        "id": "_sQeraFIjCoG"
      },
      "execution_count": null,
      "outputs": []
    },
    {
      "cell_type": "code",
      "source": [
        "def encode_passages(batch_text_passages, tokenizer, max_length):\n",
        "    passage_ids, passage_masks = [], []\n",
        "    for k, text_passages in enumerate(batch_text_passages):\n",
        "        p = tokenizer(\n",
        "            text_passages,\n",
        "            max_length=max_length,\n",
        "            pad_to_max_length=True,\n",
        "            return_tensors='pt',\n",
        "            truncation=True\n",
        "        )\n",
        "        passage_ids.append(p['input_ids'][None])\n",
        "        passage_masks.append(p['attention_mask'][None])\n",
        "\n",
        "    passage_ids = torch.cat(passage_ids, dim=0)\n",
        "    passage_masks = torch.cat(passage_masks, dim=0)\n",
        "    return passage_ids, passage_masks.bool()\n",
        "\n",
        "def append_question(question,docs):\n",
        "    return [question + \" \" + t for t in docs]\n",
        "\n",
        "def generate(docs, question):\n",
        "    text_passages = [append_question(question,docs) for passege in docs]\n",
        "    context_ids,context_mask=encode_passages(text_passages,tokenizer,1000)\n",
        "    ans=None\n",
        "    with torch.no_grad():\n",
        "        outputs = model.generate(\n",
        "                input_ids=context_ids.to(device),\n",
        "                attention_mask=context_mask.to(device),\n",
        "                max_length=100)\n",
        "        for k, o in enumerate(outputs):\n",
        "            ans = tokenizer.decode(o, skip_special_tokens=True)\n",
        "    return ans\n",
        "\n"
      ],
      "metadata": {
        "id": "5oMFLVy9l75k"
      },
      "execution_count": null,
      "outputs": []
    },
    {
      "cell_type": "code",
      "source": [
        "# outputs = model.generate(\n",
        "#                 input_ids=context_ids.to(device),\n",
        "#                 attention_mask=context_mask.to(device),\n",
        "#                 max_length=100)"
      ],
      "metadata": {
        "id": "0Aad7Fh8F0d-"
      },
      "execution_count": null,
      "outputs": []
    },
    {
      "cell_type": "code",
      "source": [
        "# ans=None\n",
        "# with torch.no_grad():\n",
        "#     outputs = model.generate(\n",
        "#             input_ids=context_ids.to(device),\n",
        "#             attention_mask=context_mask.to(device),\n",
        "#             max_length=100)\n",
        "#     for k, o in enumerate(outputs):\n",
        "#         ans = tokenizer.decode(o, skip_special_tokens=True)"
      ],
      "metadata": {
        "id": "w8m5oEFjlnPx"
      },
      "execution_count": null,
      "outputs": []
    },
    {
      "cell_type": "code",
      "source": [
        "# for k, o in enumerate(outputs):\n",
        "#     ans = tokenizer.decode(o, skip_special_tokens=True)"
      ],
      "metadata": {
        "id": "vNDCcoVwHmK_"
      },
      "execution_count": null,
      "outputs": []
    },
    {
      "cell_type": "code",
      "source": [
        "# ans"
      ],
      "metadata": {
        "id": "NMwzkuol5sqB"
      },
      "execution_count": null,
      "outputs": []
    },
    {
      "cell_type": "code",
      "source": [
        "# # Load config from JSON file\n",
        "# model_class=T5ForConditionalGeneration\n",
        "# config = AutoConfig.from_pretrained(\"/content/nq_reader_base/config.json\")\n",
        "\n",
        "# # Load model weights from binary file\n",
        "# model = model_class.from_pretrained(\"/content/nq_reader_base/pytorch_model.bin\", config=config)\n",
        "# model=model.to(device)"
      ],
      "metadata": {
        "id": "-fecP7I1wxWX"
      },
      "execution_count": null,
      "outputs": []
    },
    {
      "cell_type": "code",
      "source": [
        "# from transformers import AutoTokenizer, LongformerForQuestionAnswering\n",
        "# import torch\n",
        "\n",
        "# tokenizer = AutoTokenizer.from_pretrained(\"allenai/longformer-large-4096-finetuned-triviaqa\")\n",
        "# model = LongformerForQuestionAnswering.from_pretrained(\"allenai/longformer-large-4096-finetuned-triviaqa\")\n",
        "\n"
      ],
      "metadata": {
        "id": "41E6VlM9TL5T"
      },
      "execution_count": null,
      "outputs": []
    },
    {
      "cell_type": "code",
      "source": [
        "# question = \"What is Docker compose file?\"\n",
        "# text= \" \".join(docs)\n",
        "# encoding = tokenizer(question, text, return_tensors=\"pt\")\n",
        "# input_ids = encoding[\"input_ids\"]\n",
        "\n",
        "# # default is local attention everywhere\n",
        "# # the forward method will automatically set global attention on question tokens\n",
        "# attention_mask = encoding[\"attention_mask\"]\n",
        "\n",
        "# outputs = model(input_ids, attention_mask=attention_mask)\n",
        "# start_logits = outputs.start_logits\n",
        "# end_logits = outputs.end_logits\n",
        "# all_tokens = tokenizer.convert_ids_to_tokens(input_ids[0].tolist())\n",
        "\n",
        "# answer_tokens = all_tokens[torch.argmax(start_logits) : torch.argmax(end_logits) + 1]\n",
        "# answer = tokenizer.decode(\n",
        "#     tokenizer.convert_tokens_to_ids(answer_tokens)\n",
        "# )  # remove space prepending space token"
      ],
      "metadata": {
        "id": "j7tgOY8ldWif"
      },
      "execution_count": null,
      "outputs": []
    },
    {
      "cell_type": "code",
      "source": [
        "# answer"
      ],
      "metadata": {
        "id": "ns1haTSw9kLu"
      },
      "execution_count": null,
      "outputs": []
    },
    {
      "cell_type": "code",
      "source": [
        "# ans"
      ],
      "metadata": {
        "id": "wszZcv7s-a1k"
      },
      "execution_count": null,
      "outputs": []
    },
    {
      "cell_type": "code",
      "source": [
        "# for ans_token in answer_tokens:\n",
        "#   ans"
      ],
      "metadata": {
        "id": "jqu2z0M5-JAe"
      },
      "execution_count": null,
      "outputs": []
    },
    {
      "cell_type": "markdown",
      "metadata": {
        "id": "rtpGpm0D5gah"
      },
      "source": [
        "# Book"
      ]
    },
    {
      "cell_type": "code",
      "source": [
        "class Models():\n",
        "    def __init__(self):\n",
        "        self.encoder_models = EncoderModels()\n",
        "        # self.decoder_model = FiDT5.from_pretrained(\"/content/nq_reader_large\")\n",
        "        # self.decoder_tokenizer = T5Tokenizer.from_pretrained('t5-base', return_dict=False)\n",
        "        # self.decoder_model = self.decoder_model.to(device)\n"
      ],
      "metadata": {
        "id": "jXBJqokCJVO7"
      },
      "execution_count": null,
      "outputs": []
    },
    {
      "cell_type": "code",
      "source": [
        "class Book():\n",
        "    def __init__(self, book_paths, models):\n",
        "        self.book_paths = book_paths\n",
        "        self.models = models\n",
        "\n",
        "        #some global identifiers\n",
        "        self.global_paragraphs = None\n",
        "        self.global_doc_embeddings = None\n",
        "        self.pobj = None\n",
        "        self.num_paragraphs = 0\n",
        "\n",
        "        #read book\n",
        "        self.books = [PdfParagraphExtractor2(book_path) for book_path in book_paths]\n",
        "        print(self.books[0].paragraphs)\n",
        "        self.bookid_to_pid = defaultdict(list)\n",
        "        self.pid_to_bookid = defaultdict(int)\n",
        "        self.set_global_info()\n",
        "\n",
        "\n",
        "    def set_global_info(self):\n",
        "        all_ps = []\n",
        "        all_objs = []\n",
        "        all_doc_embeddings = []\n",
        "\n",
        "        id = 0\n",
        "        for bookid, book in enumerate(self.books):\n",
        "            doc_embeddings_by_book = self.compute_doc_embeddings(book.paragraphs)\n",
        "\n",
        "            for pid, paragraph in enumerate(book.paragraphs):\n",
        "                all_ps.append(paragraph)\n",
        "                all_doc_embeddings.append(doc_embeddings_by_book[pid])\n",
        "\n",
        "                self.bookid_to_pid[bookid].append(id)\n",
        "                self.pid_to_bookid[id] = bookid\n",
        "                id+=1\n",
        "\n",
        "        self.num_paragraphs = len(all_ps)\n",
        "        self.global_paragraphs = all_ps\n",
        "        self.global_doc_embeddings = all_doc_embeddings\n",
        "\n",
        "        for id in range(self.num_paragraphs):\n",
        "            all_objs.append(Paragraph(self.pid_to_bookid[id], id, all_ps[id], all_doc_embeddings[id]))\n",
        "        self.pobj = all_objs\n",
        "\n",
        "        return\n",
        "\n",
        "    def compute_doc_embeddings(self, para_list):\n",
        "        doc_embeddings = self.models.encoder_models.encode_context(para_list)\n",
        "        r, c = doc_embeddings.shape\n",
        "        doc_embeddings = [doc_emb[:].reshape(1,-1) for doc_emb in doc_embeddings]\n",
        "        return doc_embeddings\n",
        "\n",
        "    def get_docs_from_docids(self, docids):\n",
        "        ans = []\n",
        "        for docid in docids:\n",
        "            ans.append(self.global_paragraphs[docid])\n",
        "        return \" \".join(ans)\n",
        "\n",
        "    def generate_normal_hg(self):\n",
        "        n = len(self.global_paragraphs)\n",
        "        key_to_docids = {}\n",
        "        key_to_keyid = {}\n",
        "        keyid_to_key = {}\n",
        "        key_to_embeddings = {}\n",
        "        for i in range(n):\n",
        "            key_to_docids[i] = [i]\n",
        "            key_to_keyid[i] = i\n",
        "            keyid_to_key[i] = i\n",
        "            key_to_embeddings[i] = self.global_doc_embeddings[i]\n",
        "\n",
        "        normal = Hypergraph('normal', key_to_docids, key_to_embeddings, key_to_keyid, keyid_to_key, self.models.encoder_models)\n",
        "        return normal\n",
        "\n",
        "\n"
      ],
      "metadata": {
        "id": "ZR2w5MLfKwtm"
      },
      "execution_count": null,
      "outputs": []
    },
    {
      "cell_type": "code",
      "source": [
        "def create_hg_from_model(name, model, encoder_models):\n",
        "    key_to_docids, key_to_embeddings, key_to_keyid, keyid_to_key = model.get_hypergraph()\n",
        "    hg = Hypergraph(name, key_to_docids, key_to_embeddings, key_to_keyid, keyid_to_key, model.encoder_models)\n",
        "    return hg"
      ],
      "metadata": {
        "id": "ES_QLMaNiP1U"
      },
      "execution_count": null,
      "outputs": []
    },
    {
      "cell_type": "code",
      "source": [
        "book_paths = ['/content/test2.pdf', '/content/test.pdf']"
      ],
      "metadata": {
        "id": "sGIjI0r0QqxP"
      },
      "execution_count": null,
      "outputs": []
    },
    {
      "cell_type": "code",
      "source": [
        "models = Models()"
      ],
      "metadata": {
        "colab": {
          "base_uri": "https://localhost:8080/"
        },
        "id": "i25Mj0tFRF-Z",
        "outputId": "03bc8bd3-45e7-4edf-a87c-68dffcf6cfdb"
      },
      "execution_count": null,
      "outputs": [
        {
          "output_type": "stream",
          "name": "stderr",
          "text": [
            "/usr/local/lib/python3.10/dist-packages/huggingface_hub/utils/_token.py:89: UserWarning: \n",
            "The secret `HF_TOKEN` does not exist in your Colab secrets.\n",
            "To authenticate with the Hugging Face Hub, create a token in your settings tab (https://huggingface.co/settings/tokens), set it as secret in your Google Colab and restart your session.\n",
            "You will be able to reuse this secret in all of your notebooks.\n",
            "Please note that authentication is recommended but still optional to access public models or datasets.\n",
            "  warnings.warn(\n",
            "The tokenizer class you load from this checkpoint is not the same type as the class this function is called from. It may result in unexpected tokenization. \n",
            "The tokenizer class you load from this checkpoint is 'DPRQuestionEncoderTokenizer'. \n",
            "The class this function is called from is 'DPRContextEncoderTokenizer'.\n",
            "Some weights of the model checkpoint at facebook/dpr-ctx_encoder-single-nq-base were not used when initializing DPRContextEncoder: ['ctx_encoder.bert_model.pooler.dense.bias', 'ctx_encoder.bert_model.pooler.dense.weight']\n",
            "- This IS expected if you are initializing DPRContextEncoder from the checkpoint of a model trained on another task or with another architecture (e.g. initializing a BertForSequenceClassification model from a BertForPreTraining model).\n",
            "- This IS NOT expected if you are initializing DPRContextEncoder from the checkpoint of a model that you expect to be exactly identical (initializing a BertForSequenceClassification model from a BertForSequenceClassification model).\n",
            "Some weights of the model checkpoint at facebook/dpr-question_encoder-single-nq-base were not used when initializing DPRQuestionEncoder: ['question_encoder.bert_model.pooler.dense.bias', 'question_encoder.bert_model.pooler.dense.weight']\n",
            "- This IS expected if you are initializing DPRQuestionEncoder from the checkpoint of a model trained on another task or with another architecture (e.g. initializing a BertForSequenceClassification model from a BertForPreTraining model).\n",
            "- This IS NOT expected if you are initializing DPRQuestionEncoder from the checkpoint of a model that you expect to be exactly identical (initializing a BertForSequenceClassification model from a BertForSequenceClassification model).\n"
          ]
        }
      ]
    },
    {
      "cell_type": "code",
      "source": [
        "books = Book(book_paths, models)"
      ],
      "metadata": {
        "colab": {
          "base_uri": "https://localhost:8080/"
        },
        "collapsed": true,
        "id": "YjjqZH0zQ1sQ",
        "outputId": "3e8c8cc9-0fe0-4f45-ec25-03573e99045d"
      },
      "execution_count": null,
      "outputs": [
        {
          "output_type": "stream",
          "name": "stdout",
          "text": [
            "['Health Insurance Coverage Status and Type by Geography: 2021 and 2022American Community Survey BriefsACSBR-015Issued September 2023Douglas Conway and Breauna BranchINTRODUCTIONDemographic shifts as well as economic and govern-ment policy changes can affect people’s access to health coverage. For example, between 2021 and 2022, the labor market continued to improve, which may have affected private coverage in the United States during that time', '1 Public policy changes included the renewal of the Public Health Emergency, which allowed Medicaid enrollees to remain covered under the Continuous Enrollment Provision', '2 The American Rescue Plan (ARP) enhanced Marketplace premium subsidies for those with incomes above 400 percent of the poverty level as well as for unemployed people', '3In addition to national policies, individual states and the District of Columbia can affect health insurance coverage by making Marketplace or Medicaid more accessible and affordable. This variation may be more or less pronounced across states. Missouri and Oklahoma expanded Medicaid eligibility under the Patient Protection and Affordable Care Act (ACA) in 2022, leaving only twelve states without expanded Medicaid eligibility, primarily in the South and parts 1 The Bureau of Labor Statistics reported increases in national employment from 2021 to 2022. More information is available at <www.bls.gov/opub/mlr/2023/article/unemployment-rate-returned-to-its-prepandemic-level-in-2022.htm>', '2 Juliette Cubanski et al., “What Happens When COVID-19 Emergency Declarations End? Implications for Coverage, Costs, and Access?,” Kaiser Family Foundation, 2023, <www.kff.org/coronavirus-covid-19/issue-brief/what-happens-when-covid-19-emergency-declarations-end-implications-for-coverage-costs-and-access/>', '3 For more information, refer to the American Rescue Plan Act, P.L. 117-2, March 11, 2021, <www.congress.gov/bill/117th-congress/house-bill/1319/text>.of the Midwest.4, 5 Kentucky, Maine, and New Mexico created state-based health insurance marketplaces on November 1, 2021, to replace their previously federally run exchanges', '6 State and federal policies designed to increase public coverage may also affect the supply and demand for private coverage. As a result, a variety of changes in coverage rates are possible. This brief uses the 2021 and 2022 American Community Survey (ACS) 1-year estimates to exam-ine differences in health insurance coverage status and select subtypes (Medicaid, direct purchase, and employer-based) for the 50 states, the District of Columbia, and the 25 most populous metro-politan areas (refer to the “What Is Health Insurance Coverage?” text box)', '7 It also examines year-to-year changes (2021 to 2022) across these geographies. 4 Note that for the purposes of this brief, we consider a state to have expanded Medicaid eligibility if it expanded eligibility on or before January 1st of that expansion year. For a state to have expanded Medicaid eligibility in 2022, it would have had to expand eligibility after January 1, 2021, but before January 1, 2022. For more information, refer to the Patient Protection and Affordable Care Act, P.L. 111-148, March 23, 2010, available at <www.congress.gov/bill/111th-congress/house-bill/3590>', '5 For more information on the U.S. Census Bureau’s geographic levels, refer to Geographic Levels at <www.census.gov/programs-surveys/economic-census/guidance-geographies/levels.html>', '6 “Kentucky, Maine, and New Mexico Launch State Marketplaces for 2022 Coverage,” Centers for Medicare & Medicaid Services press release, 2023, <www.cms.gov/newsroom/press-releases/kentucky-maine-and-new-mexico-launch-state-marketplaces-2022-coverage>', '7 The Census Bureau has reviewed this data product to ensure appropriate access, use, and disclosure avoidance protection of the confidential source data used to produce this product (Disclosure Review Board (DRB) approval number: CBDRB-FY23-SEHSD003-049). For information on confidentiality protection, sampling error, nonsampling error, and definitions in the American Community Survey, refer to <https:/ /www2.census.gov/programs-surveys/acs/ tech_docs/accuracy/ACS_Accuracy_of_Data_2022.pdf>.', '2 U.S. Census BureauWHAT IS HEALTH INSURANCE COVERAGE?This brief presents state-level estimates of health insurance coverage using data from the American Community Survey (ACS). The  U.S. Census Bureau conducts the ACS throughout the year; the survey asks respondents to report their coverage at the time of interview. The resulting measure of health insurance coverage, therefore, reflects an annual average of current comprehensive health insurance coverage status.* This uninsured rate measures a different concept than the measure based on the Current Population Survey Annual Social and Economic Supplement (CPS ASEC). For reporting purposes, the ACS broadly classifies health insurance coverage as private insurance or public insurance. The ACS defines private health insurance as a plan provided through an employer or a union, coverage purchased directly by an individual from an insurance company or through an exchange (such as healthcare', 'gov), or coverage through TRICARE. Public insurance coverage includes federal programs (such as Medicare, Medicaid, and the Children’s Health Insurance Program or CHIP), individual state health plans, and CHAMPVA (Civilian Health and Medical Program at the Department of Veterans Affairs), as well as care provided by the Department of Veterans Affairs. In the ACS, people are considered insured if they were covered by any of these types of health insurance at time of interview. People are considered uninsured if they were not covered by any of these types of health insurance at time of interview or if they only had coverage through the Indian Health Service (IHS), as IHS coverage is not considered comprehensive', '* Comprehensive health insurance covers basic health care needs. This definition excludes single-service plans, such as accident, disability, dental, vision, or prescription medicine plans.The large sample size of the ACS allows for an examination of the uninsured rate and coverage by type for subnational geographies.8Key Findings• In 2022, the uninsured rate varied from 2.4 percent in Massachusetts to 16.6 percent in Texas (Figure 1 and Figure 2). The District of Columbia was among the lowest with an uninsured rate of 2.9 percent, not statistically different from Massachusetts', '• Utah and North Dakota reported the highest rate of private cov -erage (78.4 percent) in 2022, while New Mexico had the low -est private coverage rate (54.4 percent) (Figure 3).9• Utah had the lowest rate of public coverage in 2022 (22.2 percent), and New Mexico had the highest (Figure 4). • Twenty-seven states had lower uninsured rates in 2022 com -pared with 2021. Maine was the only state whose uninsured rate increased (6.6 percent in 2022, up from 5.7 percent in 2021) (Figure 1 and Appendix Table B-1)', '• From 2021 to 2022, 13 states reported increases in public cov -erage, with only Rhode Island reporting a decrease of 2.2 percentage points (Appendix Table B-3)', '8 The Current Population Survey Annual Social and Economic Supplement (CPS ASEC) is the leading source of national level estimates of health insurance coverage. For a comparison of ACS and CPS ASEC measures of health insurance coverage, refer to < www', 'census.gov/topics/health/health-insurance/guidance.html >', '9 Respondents may have more than one health insurance coverage type at the time of interview. As a result, adding the total number of people with private coverage and the total number with public coverage will sum to more than the total number with any coverage.• From 2021 to 2022, nine states reported increases in private coverage, while seven reported decreases (Appendix Table B-2). DIFFERENCES IN THE UNINSURED RATE BY STATE IN 2022In 2022, uninsured rates at the time of interview ranged across states from a low of 2.4 percent in Massachusetts to a high of 16.6 percent in Texas, compared to the national rate of 8.0 percent.10 Ten of the 15 states with uninsured 10 The uninsured rates in the District of Columbia and Massachusetts were not statistically different.rates above the national aver -age were states that have not expanded Medicaid eligibility, and two of those 15 states, Oklahoma (11.7 percent) and Missouri (8.6 percent), had recently expanded Medicaid eligibility in 2022.11 Twenty-nine states and the District of Columbia had an uninsured rate below the national average. 11 Between January 1, 2014, and January 1, 2022, 38 states and the District of Columbia elected to expand Medicaid eligibility under the ACA. The 12 states that had not expanded Medicaid eligibility under the ACA on or before January 1, 2021, included Alabama, Florida, Georgia, Kansas, Mississippi, North Carolina, South Carolina, South Dakota, Tennessee, Texas, Wisconsin, and Wyoming. For more information on expansion states, refer to Appendix Table A-1.', 'U.S. Census Bureau  3Figure /one.tab/period.tabPercentage of People Without Health Insurance Coverage by State and State Medicaid Expansion Status/colon.tab /two.tab/zero.tab/two.tab/one.tab and /two.tab/zero.tab/two.tab/two.tab(Civilian, noninstitutionalized population)* Denotes a statistically signiﬁcant change between 2021 and 2022 at the 90 percent conﬁdence level', 'Note: State Medicaid expansion status in 2022 is used to estimate change between 2021 and 2022. For information on expansion status, refer to Appendix Table A-1. For information on conﬁdentiality protection, sampling error, nonsampling error, and deﬁnitions in the American Community Survey, refer to <https://www2.census.gov/programs-surveys/acs/tech_docs/accuracy/ACS_Accuracy_of_Data_2022.pdf>', 'Source: U.S. Census Bureau, 2021 and 2022 American Community Survey, 1-year estimates.*UNITED STATES*EXPANSION STATESMassachusettsDistrict Of ColumbiaHawaiiVermontRhode IslandIowaMinnesota*Michigan*New YorkNew HampshireConnecticutPennsylvaniaKentuckyDelaware*OhioWest VirginiaOregonMaryland*Washington*North Dakota*Virginia*California*Illinois*MaineNebraska*New Jersey*Louisiana*Indiana*Colorado*UtahIdaho*New MexicoMontana*Arkansas*MissouriArizonaAlaskaNevada*Oklahoma*NONEXPANSION STATESWisconsin*South Dakota*Kansas*Alabama*South Carolina*North Carolina*Tennessee*Mississippi*FloridaWyoming*Georgia*Texas/one.tab/zero.tab /zero.tab /two.tab/zero.tab /two.tab /four.tab /six.tab /eight.tab /one.tab/two.tab /one.tab/four.tab /one.tab/six.tab /one.tab/eight.tabUnited StatesExpansion statesNonexpansion states/two.tab/zero.tab/two.tab/one.tab   /two.tab/zero.tab/two.tab/two.tab', '4 U.S. Census BureauAmong that group, only Wisconsin had not expanded Medicaid eligi -bility. As a group, the states that expanded Medicaid eligibility had a lower uninsured rate (6.3 per -cent) compared with nonexpan -sion states (11.8 percent).12States in the South had some of the highest uninsured rates, while states in the Northeast had some of the lowest uninsured rates. Of the 15 states that had uninsured rates above the national average, nine were in the South, ranging 12 Nonexpansion states are states that did not expand Medicaid eligibility.from 8.8 percent to 16.6 percent. All states in the Northeast—Connecticut, Maine, Massachusetts, New Hampshire, New Jersey, New York, Pennsylvania, Rhode Island, and Vermont—had uninsured rates below the national average.13PRIVATE HEALTH INSURANCE COVERAGE BY STATE IN 2022Private coverage may be held through an individual’s or family member’s employer, by buying 13 For more information on states by region, refer to < www.census.gov/programs-surveys/economic-census/guidance-geographies/levels.html#par_textimage_34 >.it directly on the Marketplace Exchange or through a broker (direct purchase), or through TRICARE for current or retired members of the military or their dependents', 'Private health insurance coverage at the time of interview ranged from a low of 54.4 percent in New Mexico to a high of 78.4 percent in Utah and North Dakota.14 Louisiana had the second-lowest rate of private coverage (58.1 percent) 14 In 2022, the private coverage rates were not statistically different in North Dakota and Utah', 'TXAZNVWYFLOKGA MSAKDCCAMTIDNMCOILORUTKSIANESDMNNDWIMOWAALLAARMIINPANYNCTNVAKYOHSCMEWVVTNHNJMACTMDDERI9.6 or more7.6 to 9.54.6 to 7.5Less than 4.6Percentage without health insurancecoverageU.S. uninsured rate: 8.0%HIFigure 2', '(Civilian, noninstitutionalized population)Uninsured Rate by State/colon.tab /two.tab/zero.tab/two.tab/two.tabMiles500 00 100MilesMiles100 0A state abbreviation surrounded by the “   ” symbol denotes that the state expanded Medicaid eligibility on or before January 1, 2022', 'Note: For information on conﬁdentiality protection, sampling error, nonsampling error, and deﬁnitions in the American Community Survey,visit <https:/ /www2.census.gov/programs-surveys/acs/tech-docs/accuracy/ACS-Accuracy_of_Data_2022.pdf>', 'Source: U.S. Census Bureau, 2022 American Community Survey, 1-year estimates.', 'U.S. Census Bureau  5followed by Arkansas (60.0 percent). Hawaii (75.0 percent), Minnesota (74.7 percent), and New Hampshire (75.6 percent) had among the highest rates of private coverage (Figure 3 and Appendix Table B-2).15 States that had high rates of pri -vate health coverage at the time of interview were also among the states with the highest employer-sponsored coverage rates: Hawaii (61.3 percent), Minnesota (61.0 percent), New Hampshire (62.0 percent), North Dakota (60.9 per -cent), and Utah (64.4 percent).16 A high rate of employer-sponsored coverage may be related to a low unemployment rate in a state. Unemployment rates in Minnesota (2.7 percent), New Hampshire (2.5 percent), North Dakota (2.1 per -cent), and Utah (2.3 percent) were lower than the national average of 3.6 percent.17Four of the five states with the highest private coverage rates had higher direct-purchase cov -erage rates than the national average of 13.9 percent in 2022. Direct-purchase coverage rates in those states were: Minnesota (16.2 percent), New Hampshire (15.3 percent), North Dakota (19.2 percent), and Utah (15.4 percent).18 This may be related to the cost of direct purchase plans. Two of these states, Minnesota and New Hampshire, had the lowest aver -age benchmark ACA Marketplace 15 In 2022, the private coverage rates in Hawaii, Minnesota, and New Hampshire were not statistically different', '16 In 2022, the rates of employer-sponsored health coverage in Hawaii, Minnesota, New Hampshire, and North Dakota were not statistically different from one another', '17 U.S. Department of Labor, Bureau of Labor Statistics, Local Area Unemployment Statistics, Table A, < www.bls.gov/news', 'release/pdf/srgune.pdf >', '18 In 2022, the direct-purchase coverage rates were not statistically different in New Hampshire and Utah.premiums of any state.19 North Dakota had one of the highest direct-purchase coverage rates at 19.2 percent, which likely contrib -uted to its high private coverage rate', 'Although it is possible for states that expand Medicaid eligibility to have lower private coverage rates triggered by an increase in public coverage, it is also possible that Medicaid and private cover -age complement each other, and, thus, private coverage may go up with Medicaid eligibility expan -sion due to competitive pricing. For example, a report from the Department of Health and Human Services indicated that states that expand Medicaid eligibility have, on average, 7 percent lower ACA Marketplace premiums.20 In 2022, the private coverage rate for the group of states that expanded Medicaid eligibility was 67.9 per -cent, while the group of nonexpan -sion states had a private coverage rate of 65.6 percent (Appendix Table B-5)', 'PUBLIC HEALTH INSURANCE COVERAGE BY STATE IN 2022Public health insurance coverage may be obtained through Medicare (coverage for most people aged 65 or older or people with certain disabilities), Medicaid (coverage for those with low incomes or 19 The Kaiser Family Foundation analyzed monthly premium data for all tiers (bronze, silver, and gold) for a 40-year-old in each state and county, weighted by county plan selections. Refer to < www.kff.org/health-reform/state-indicator/average-marketplace-premiums-by-metal-tier/?currentTimeframe=0&sortModel=%7B%22colId%22 :%22  Average%20Benchmark%20Premium%22,%22sort%22:%22asc%22%7D>', '20 Aditi Sen and Thomas DeLeire, “The Effect of Medicaid Expansion on Marketplace Premiums,” 2016, < https:/ /aspe.hhs.gov/sites/default/files/migrated_legacy_files/ /153561/McaidExpMktplPrem.pdf >. The Urban Institute also found lower premiums among Medicaid expansion states. Refer to < www', 'urban.org/sites/default/files/2023-03/Changes%20in%20Marketplace%20Premiums%20and%20Insurer%20Participation%2C%202022-2023.pdf >.a disability), or the Department of Veterans Affairs (coverage for eligible veterans: VA Care or CHAMPVA). As in 2021, New Mexico had the highest rate of public health insurance coverage at 51.2 per -cent, while Utah had the lowest rate at 22.2 percent (Figure 4 and Appendix Table B-3).21 While the public coverage was high in New Mexico, it had the lowest rate of private coverage rate in 2022, leav -ing it with an uninsured rate near the national average. Similarly, Utah’s low public coverage rate was offset by its relatively high pri -vate coverage, also resulting in an uninsured rate close to the national average. If a state expanded its Medicaid eligibility as part of the ACA, that may affect its public coverage rate. Examining expansion states as a group, the prevalence of public coverage in 2022 was 38.5 per -cent, 4.2 percentage points higher than nonexpansion states, at 34.3 percent (Appendix Table B-5). Medicaid coverage accounted for a portion of that difference. Medicaid coverage was 22.7 per -cent in the group of states that expanded Medicaid eligibility and 18.0 percent in the group of nonex -pansion states', 'CHANGES IN THE UNINSURED RATE BY STATE FROM 2021 TO 2022From 2021 to 2022, uninsured rates decreased across 27 states, while only Maine had an increase. The uninsured rate in Maine increased from 5.7 percent to 6.6 percent, although it remained below the national average. Maine’s uninsured rate was still below 8.0 percent, 21 Douglas Conway and Breauna Branch, “Health Insurance Coverage Status and Type by Geography: 2019 and 2021,” 2022, < www', 'census.gov/content/dam/Census/library/publications/2022/acs/acsbr-013.pdf >.', '6 U.S. Census BureauFigure /three.tab/period.tabPercentage of People With Private Coverage by State and State Medicaid Expansion Status/colon.tab /two.tab/zero.tab/two.tab/one.tab and /two.tab/zero.tab/two.tab/two.tab(Civilian, noninstitutionalized population) *UNITED STATESEXPANSION STATESNew MexicoLouisianaArkansasOklahomaWest VirginiaKentuckyNevadaCaliforniaArizona*Montana*New York*AlaskaOregon*OhioIdahoIndiana*Maine*MissouriConnecticutIllinoisVermontMichiganRhode IslandColoradoWashingtonPennsylvaniaNew JerseyDelawareDistrict Of ColumbiaMaryland*Virginia*IowaMassachusetts*Nebraska*MinnesotaHawaiiNew HampshireNorth DakotaUtah*NONEXPANSION STATES*Mississippi*Texas*FloridaGeorgia*South CarolinaAlabamaTennessee*North CarolinaWyomingWisconsinSouth Dakota*Kansas* Denotes a statistically signiﬁcant change between 2021 and 2022 at the 90 percent conﬁdence level', 'Note: State Medicaid expansion status in 2022 is used to compare change between 2021 and 2022. For more information on expansion states, refer to Appendix Table A-1. For information on conﬁdentiality protection, sampling error, nonsampling error, and deﬁnitions in the American Community Survey, refer to <https://www2.census.gov/programs-surveys/acs/tech_docs/accuracy/ACS_Accuracy_of_Data_2022.pdf>', 'Source: U.S. Census Bureau, 2021 and 2022 American Community Survey, 1-year estimates./zero.tab /four.tab/zero.tab /five.tab/zero.tab /six.tab/zero.tab /seven.tab/zero.tab /eight.tab/zero.tab /nine.tab/zero.tabUnited StatesExpansion statesNonexpansion states/two.tab/zero.tab/two.tab/one.tab   /two.tab/zero.tab/two.tab/two.tab', 'U.S. Census Bureau  7Figure /four.tab/period.tabPercentage of People With Public Coverage by State and State Medicaid Expansion Status/colon.tab /two.tab/zero.tab/two.tab/one.tab and /two.tab/zero.tab/two.tab/two.tab(Civilian, noninstitutionalized population) *UNITED STATES*EXPANSION STATESUtahNorth Dakota*NebraskaColoradoNew HampshireNew JerseyDistrict Of Columbia*Virginia*MissouriMaryland*Minnesota*IllinoisWashingtonIowa*IndianaNevadaAlaskaIdahoConnecticutMassachusetts*Rhode IslandArizonaOhio*PennsylvaniaHawaiiDelaware*Oklahoma*CaliforniaMaineMontana*MichiganOregonVermont*New YorkArkansasKentuckyLouisianaWest VirginiaNew MexicoNONEXPANSION STATESTexasWyomingKansasSouth Dakota*GeorgiaWisconsinTennesseeNorth CarolinaFlorida*AlabamaSouth CarolinaMississippi* Denotes a statistically signiﬁcant change between 2021 and 2022 at the 90 percent conﬁdence level', 'Note: State Medicaid expansion status in 2022 is used to compare change between 2021 and 2022. For more information on expansion states, refer to Appendix Table A-1. For information on conﬁdentiality protection, sampling error, nonsampling error, and deﬁnitions in the American Community Survey, refer to <https://www2.census.gov/programs-surveys/acs/tech_docs/accuracy/ACS_Accuracy_of_Data_2022.pdf>', 'Source: U.S. Census Bureau, 2021 and 2022 American Community Survey, 1-year estimates./two.tab/zero.tab /one.tab/zero.tab /zero.tab /three.tab/zero.tab /four.tab/zero.tab /five.tab/zero.tab /six.tab/zero.tabUnited StatesExpansion statesNonexpansion states/two.tab/zero.tab/two.tab/one.tab   /two.tab/zero.tab/two.tab/two.tab', '8 U.S. Census Bureauwhich was the state’s uninsured rate in 2019, the year before it expanded Medicaid eligibility.22Declines in the uninsured rate in the majority of these states were related to changes in their public and private coverage rates. For seven of the states with lower uninsured rates in 2022, the dif -ference was driven by increases in private coverage. These states were Florida, Kansas, Mississippi, North Carolina, Ohio, South Carolina, and Texas', 'For seven states, the uninsured rate decrease was related to increases in public coverage with no corresponding change in the level of private coverage. These states were Alabama, California, Georgia, Illinois, Indiana, Michigan, and Oklahoma. In three states (Missouri, New York, and Virginia), it was shifts in coverage from pri -vate to public that contributed to the decline in their uninsured rates. The uninsured rate in expansion states as a group decreased from 6.8 percent to 6.3 percent; non -expansion states experienced a decrease in the uninsured rate from 12.8 percent to 11.8 percent, which was driven by an increase in private coverage', 'CHANGES IN PRIVATE HEALTH INSURANCE COVERAGE BY STATE FROM 2021 TO 2022Changes in private insurance subtypes in a state can affect the overall distribution of changes in private coverage. Sixteen states had changes to private health insurance coverage; nine had increases and seven had decreases. 22 Douglas Conway and Laryssa Mykyta, “Decline in Share of People Without Health Insurance Driven by Increase in Public Coverage in 36 States,” 2022, < www.census', 'gov/library/stories/2022/09/uninsured-rate-declined-in-28-states.html >.Of the nine states in which private coverage rose, three reported combined increases in employer-sponsored and direct-purchase coverage (Iowa, North Carolina, and Texas); three reported increases in direct-purchase cover -age only (Florida, Kansas, and Mississippi); and two reported increases in employer-based coverage only (Alaska and South Carolina) (Appendix Table B-4). The Centers for Medicare and Medicaid Services (CMS) reported that Marketplace enrollment in the U.S. increased from 12.0 to 14.5 million people between 2021 to 2022.23 Many states with increases in direct-purchase coverage also showed increases in Marketplace enrollment of 22 percent or greater (based on CMS data), and many states with increases in employer-based coverage had decreases in unemployment rates.24For the seven states with declines in private coverage rates, two experienced decreases in employer-sponsored coverage (Appendix Table B-2). Decreases in direct-purchase coverage were also seen in Minnesota (0.5 23 In January 2021, an executive order extended a special enrollment period to sign up for Marketplace coverage, continued and expanded through 2022. Kaiser Family Foundation, “Marketplace Enrollment 2014–2023,” based on analysis of Centers for and Medicare Marketplace Open Enrollment Period Public Use Files. Refer to < www', 'cms.gov/files/document/health-insurance-exchanges-2022-open-enrollment-report-final.pdf >, <www.kff.org/health-reform/state-indicator/marketplace-enrollment/?currentTimeframe=0&sortModel=%7B%22colId%22:%22Location%22,%22sort%22:%22asc%22%7D>, and < www.healthaffairs.org/content/forefront/new-biden-executive-order-aims-build-coverage-gains >', '24 U.S. Department of Labor, Bureau of Labor Statistics, Local Area Unemployment Statistics, Unemployment Rates for States, 2022 Annual Averages, < www.bls.gov/lau/lastrk22.htm >, and Unemployment Rates for States, 2021 Annual Averages, < www.bls.gov/lau/lastrk21.htm >. For estimates of direct purchase health insurance coverage by state, refer to Appendix Table B-4 in this brief https:/ /www.cms.gov/files/document/health-insurance-exchanges-2022-open-enrollment-report-final.pdf .percentage points) and Missouri (0.8 percentage points).25While states that expanded Medicaid eligibility as a group did not experience a change to the pri -vate coverage rate, nonexpansion states as a group had an increase of 0.8 percentage points', 'CHANGES IN PUBLIC COVERAGE BY STATE FROM 2021 TO 2022In 2022, 13 states saw increases in public health insurance coverage while only one state, Rhode Island, had a decrease. This led to an increased public coverage rate for the nation overall at 37.2 percent in 2022. As with private cover -age, changes in the distribution of public coverage subtypes (e.g., Medicaid) may affect the overall public coverage rate. Rhode Island reported a decrease in public coverage of 2.2 percentage points, which was driven by a decrease in people reporting Medicaid (2.3 percentage points) (Figure 4 and Appendix Table B-3).26 Increases in public health insurance coverage ranged from 0.6 percentage points to 2.3 percentage points across states', 'At the time of interview, 21.2 percent of people were cov -ered through Medicaid in 2022. In general, people in states that expanded Medicaid eligibility may report higher rates of public coverage than those in nonex -pansion states, and with poten -tially larger increases in states that more recently expanded 25 There was no statistical difference in the decrease in the direct-purchase rate in in Minnesota and Missouri between 2021 and 2022', '26 Per CMS, Rhode Island reported a decline in Child Medicaid and CHIP (Children’s Health Insurance Program) enrollment from December 2021 to January 2022. Refer to < www.medicaid.gov/medicaid/national-medicaid-chip-program-information/downloads/dec-2021-jan-2022-medicaid-chip-enrollment-trend-snapshot', 'pdf>.', 'U.S. Census Bureau  9Medicaid eligibility. Eleven of the 38 expansion states reported increases in public coverage from 2021 to 2022. Oklahoma, which expanded Medicaid eligibility in 2022, reported one of the larg -est increases (2.3 percentage points).27 Among other states that had expanded Medicaid eligibility recently, Missouri (on/after January 1, 2022), Nebraska (on/after January 1, 2020), and Virginia (on/after January 1, 2018) all reported increases of 1.0 percentage point or greater from 2021. Only two nonexpansion states experienced increases in public coverage in 2022 (Alabama and Georgia). As a group, states that expanded Medicaid eligibility may have increased Medicaid rates over time, but rates may also decrease in some years due to economic conditions.28 Between 2021 and 2022, the group of states that had expanded Medicaid eligibility saw an increase of 0.2 percentage points in Medicaid coverage, to 22.7 percent; however, there was no increase for the group of non -expansion states.29 The increase in public coverage, and by exten -sion Medicaid, was consistent with Medicaid enrollment, which has increased since 2020, as reported by CMS.3027 There was no statistical difference in the increase in the public coverage rate in Nebraska and Oklahoma between 2021 and 2022', '28 State Medicaid eligibility expansion status in 2022 is used to compare change between 2021 and 2022', '29 There was no statistically significant change among nonexpansion states from 2021 to 2022', '30 Data from the CMS showed that Medicaid enrollment continued to increase in 2022, following increases in 2020 and 2021. At the end of 2021, 44.2 million adults were enrolled in Medicaid, while 40.0 million children were enrolled in Medicaid/CHIP. At the end of 2022, Medicaid enrollment in adults increased by about 4.2 million and 1.7 million in children. Refer to Appendix B of the December 2022 Medicaid and CHIP Enrollment Trends Snapshot at < www', 'medicaid.gov/medicaid/national-medicaid-chip-program-information/downloads/December-2022-medicaid-chip-enrollment-trend-snapshot.pdf >.METROPOLITAN AREASDifferences in the Uninsured Rate in the 25 Most Populous Metropolitan Areas in 2022The uninsured rates in the 25 most populous metropolitan areas of the United States followed a similar pattern to the states, with uninsured rates ranging from 2.4 percent in Boston-Cambridge-Newton, MA-NH, to 18.0 percent in Houston-The Woodlands-Sugar Land, TX. The Boston-Cambridge-Newton, MA-NH, metropolitan area has a competi -tive ACA Marketplace, both states expanded Medicaid eligibility, and Massachusetts has an individual health insurance mandate, all of which may have contributed to the low rate.31 Among the most popu -lous metropolitan areas, the San Francisco-Oakland-Berkeley, CA, metropolitan area had the second-lowest uninsured rate, and has expanded its healthcare, both in the private and public markets, via its Medi-Cal system and Healthy San Francisco program for the uninsured.32 In May 2022, California expanded Medi-Cal to all adults 50 years or older, which also may contribute to the higher insured rates in this metropolitan area.33 By 31 John Holahan, Erik Wengle, and Claire O’Brien, “Marketplace Competition and Premiums, 2019–2022,” Urban Institute, April 2022, < www.urban.org/sites/default/files/2022-04/Marketplace%20Premiums%20and%20Competition%202019-22.pdf >; ACA Marketplace Participation Tracker 2015–2023, Robert Wood Johnson Foundation, <www.rwjf.org/en/insights/our-research/interactives/aca-marketplace-participation-tracker.html >. Massachusetts implemented a state individual health insurance mandate starting in 2006', '32 Caroline Davis, “San Francisco Bay Area: Regional Health Systems Vie for Market Share,” California Health Care Almanac , California Health Care Foundation, April 2021, < www.chcf', 'org/wp-content/uploads/2021/04/RegionalMarketAlmanac2020BayArea.pdf >', '33 For more information, refer to Older Care Expansion at California Department of Health Care Services at < www.dhcs', 'ca.gov/services/medi-cal/eligibility/Pages/OlderAdultExpansion.aspx >.contrast, the three metropolitan areas with the highest uninsured rates—two of which accounted for about half of the state population (Dallas-Fort Worth-Arlington and Houston-The Woodlands-Sugar Land)—were in Texas, a nonexpan -sion state with the highest unin -sured rate for a second year in a row.34Changes in the Uninsured Rate by 25 Most Populous Metropolitan Areas from 2021 to 2022Between 2021 and 2022, 11 out of the 25 most populous metro -politan areas in the United States saw declines in the uninsured rate; and none experienced an increase in uninsured rates.35 Charlotte-Concord-Gastonia, NC-SC, experienced one of the largest decreases (1.8 percentage points) in the uninsured rate from 2021 to 2022, which is consistent with the decrease in the uninsured rates in both South Carolina and North Carolina.36 The uninsured rate in 14 metropolitan areas did not statisti -cally change between 2021 and 2022', '34 These most populous metropolitan areas had the highest uninsured rates in 2022 and 2021. Refer to < www.census', 'gov/content/dam/Census/library/publications/2022/acs/acsbr-013.pdf >', '35 When comparing metropolitan areas from 2021 to 2022, we used the 25 most populous metropolitan areas in 2022 as the basis for comparison. However, none of the 25 most populous metropolitan areas changed from 2021 to 2022; only the order of their population ranking within the 25 metro areas did', '36 The changes in the uninsured rates from 2021 to 2022 in Dallas-Fort Worth-Arlington, TX (1.0 percentage points); Denver-Aurora-Lakewood, CO (1.4 percentage points); Houston-The Woodlands-Sugar Land, TX (1.3 percentage points); and Orlando-Kissimmee-Sanford, FL (1.4 percentage points), were not statistically different from the change in Charlotte-Concord-Gastonia, NC-SC.', '10 U.S. Census BureauSUMMARYThe uninsured rate fell in 27 states (mainly states that had expanded Medicaid eligibility), while only Maine had an increase of 0.8 percentage points. Only one state saw a decrease in public coverage (Rhode Island), while seven states experienced decreases in private coverage. As groups, states that expanded Medicaid eligibility saw an increase in public coverage, while states that did not expand Medicaid eligibility saw an increase in private coverage from 2021 to 2022, although expansion states had both higher private and public coverage rates than nonexpansion states to start with in both 2021 and 2022. Massachusetts had the low -est uninsured rate and Texas had the highest in 2022.37 In 2022, Utah had the highest private coverage and lowest public coverage rate, while New Mexico had the high -est public coverage and the lowest private coverage rate, consistent 37 The uninsured rates in the District of Columbia and Massachusetts were not statistically different from one another.with the pattern in 2021.38, 39 Across the 25 most populous metropolitan areas, Boston-Cambridge-Newton, MA-NH, had the lowest uninsured rate in 2022, while three metropoli -tan areas in Texas had the highest uninsured rates, consistent with the state’s uninsured state ranking', '38 Douglas Conway and Breauna Branch, “Health Insurance Coverage Status and Type by Geography: 2019 and 2021,” American Community Survey Briefs , ACSBR-013,  U.S. Census Bureau, Washington, DC, 2022, <www.census.gov/content/dam/Census/library/publications/2022/acs/acsbr-013.pdf >', '39 In 2022, the private coverage rates were not statistically different in North Dakota and Utah.Figure /five.tab/period.tabPercentage of Uninsured People for the /two.tab/five.tab Most Populous Metropolitan Areas/colon.tab /two.tab/zero.tab/two.tab/one.tab and /two.tab/zero.tab/two.tab/two.tab(Civilian, noninstitutionalized population) /uni00A0* Denotes a statistically signiﬁcant change between 2021 and 2022 at the 90 percent conﬁdence level', 'Note: For information on conﬁdentiality protection, sampling error, nonsampling error, and deﬁnitions in the American CommunitySurvey, refer to <https://www2.census.gov/programs-surveys/acs/tech_docs/accuracy/ACS_Accuracy_of_Data_2022.pdf>', 'Source: U.S. Census Bureau, 2021 and 2022 American Community Survey, 1-year estimates. Boston-Cambridge-Newton/comma.tab MA-NHSan Francisco-Oakland-Berkeley/comma.tab CA*Detroit-Warren-Dearborn/comma.tab MIMinneapolis-St/period.tab Paul-Bloomington/comma.tab MN-WIBaltimore-Columbia-Towson/comma.tab MDPhiladelphia-Camden-Wilmington/comma.tab PA-NJ-DE-MDSeattle-Tacoma-Bellevue/comma.tab WAPortland-Vancouver-Hillsboro/comma.tab OR-WA*St/period.tab Louis/comma.tab MO-IL*New York-Newark-Jersey City/comma.tab NY-NJ-PASan Diego-Chula Vista-Carlsbad/comma.tab CA*Denver-Aurora-Lakewood/comma.tab COWashington-Arlington-Alexandria/comma.tab DC-VA-MD-WVChicago-Naperville-Elgin/comma.tab IL-IN-WI*Los Angeles-Long Beach-Anaheim/comma.tab CA*Riverside-San Bernardino-Ontario/comma.tab CA*Charlotte-Concord-Gastonia/comma.tab NC-SC*Orlando-Kissimmee-Sanford/comma.tab FLPhoenix-Mesa-Chandler/comma.tab AZTampa-St/period.tab Petersburg-Clearwater/comma.tab FL*Atlanta-Sandy Springs-Alpharetta/comma.tab GAMiami-Fort Lauderdale-Pompano Beach/comma.tab FLSan Antonio-New Braunfels/comma.tab TX*Dallas-Fort Worth-Arlington/comma.tab TX*Houston-The Woodlands-Sugar Land/comma.tab TX/zero.tab/five.tab /one.tab/zero.tab /one.tab/five.tab /two.tab/zero.tab /two.tab/five.tab/two.tab/zero.tab/two.tab/one.tab /two.tab/zero.tab/two.tab/two.tab/zero.tab /five.tab /one.tab/zero.tab /one.tab/five.tab /two.tab/zero.tab /two.tab/five.tab', 'U.S. Census Bureau  11SOURCE AND ACCURACYThe data presented in this brief are based on the ACS sample interviewed from January 2021 through December 2021 (2021 ACS) and the ACS sample interviewed from January 2022 through December 2022 (2022 ACS). The estimates based on these samples describe the average values of person, household, and housing unit characteristics over the period of collection. Data presented in this brief are subject to sampling and nonsampling error. Sampling error is the uncertainty between an estimate based on a sample and the corresponding value that would be obtained if the estimates were based on the entire population (as from a census). Measures of sampling error are provided in the form of margins of error for all estimates included in this brief. All comparative statements in this brief have undergone statistical testing, and comparisons are significant at the 90 percent confidence level, unless otherwise noted. In addition to sampling error, nonsampling error may be introduced during any of the operations used to collect and process survey data such as editing, reviewing, or keying data from questionnaires. For more information on sampling and estimation methods, confidentiality protection, and sampling and nonsampling errors, refer to the 2022 ACS Accuracy of the Data document at <https:/ /www2', 'census.gov/programs-surveys/acs/tech_docs/accuracy/ACS_Accuracy_of_Data_2022.pdf>.', '12 U.S. Census BureauTable A-1', 'Medicaid Expansion StatesYear of expansion StatesAs of January 1, 2014 Arizona, Arkansas, California, Colorado, Connecticut, Delaware, District of Columbia, Hawaii, Illinois, Iowa, Kentucky, Maryland, Massachusetts, Minnesota, Nevada,  New Jersey, New Mexico, New York, North Dakota, Ohio, Oregon, Rhode Island, Vermont, Washington, and  West VirginiaAfter January 1, 2014, and on or before January 1, 2015 Michigan, New Hampshire, and PennsylvaniaAfter January 1, 2015, and on or before January 1, 2016 Alaska, Indiana, and MontanaAfter January 1, 2016, and on or before January 1, 2017 LouisianaAfter January 1, 2017, and on or before January 1, 2018 No states expanded Medicaid during this periodAfter January 1, 2018, and on or before January 1, 2019 VirginiaAfter January 1, 2019, and on or before January 1, 2020 Maine (coverage retroactive to July 2018), Idaho, and UtahAfter January 1, 2020, and on or before January 1, 2021 NebraskaAfter January 1, 2021, and on or before January 1, 2022 Missouri and OklahomaSource: Kaiser Family Foundation Status of State Action on the Medicaid Expansion Decision, < www.kff.org/health-reform/state-indicator/state-activity-around-expanding-medicaid-under-the-affordable-care-act/?currentTimeframe=0&sortModel=%7B%22colId%22 :%22Location%22,%22sort%22:%22asc%22%7D>.', 'U.S. Census Bureau  13Table B-1', 'Percentage of People Without Health Insurance Coverage by State: 2021 and 2022(Civilian, noninstitutionalized population. For information on confidentiality protection, sampling error, nonsampling error, and definitions, refer to < https:/ /www2.census.gov/programs-surveys/acs/tech_docs/accuracy/ACS_Accuracy_of_Data_2022.pdf >) State2022 2021 Change 2022 less 2021Uninsured (percent)Margin of  error1Uninsured (percent)Margin of  error1Uninsured (percent)Margin of  error1United States   . . . . . . . . . . . 8.0 0.1 8.6 0.1 *–0.6 0.1Alabama  ................ 8.8 0.3 9.9 0.4 *–1.1 0.5Alaska2 .................. 11.0 0.8 11.4 0.8 –0.4 1.1Arizona2 ................. 10.3 0.3 10.7 0.4 –0.4 0.5Arkansas2 ................ 8.4 0.4 9.2 0.5 *–0.7 0.6California2 ............... 6.5 0.1 7.0 0.1 *–0.5 0.1Colorado2. . . . . . . . . . . . . . . . 7.1 0.3 8.0 0.3 *–0.9 0.4Connecticut2 ............. 5.2 0.3 5.2 0.3 Z 0.4Delaware2 ............... 5.6 0.6 5.7 0.6 –0.1 0.9District of Columbia2 ...... 2.9 0.5 3.7 0.6 –0.7 0.8Florida  .................. 11.2 0.2 12.1 0.2 *–0.9 0.2Georgia  ................. 11.7 0.2 12.6 0.3 *–1.0 0.4Hawaii2 .................. 3.5 0.4 3.9 0.4 –0.4 0.5Idaho2 ................... 8.2 0.5 8.8 0.6 –0.6 0.8Illinois2 .................. 6.6 0.2 7.0 0.2 *–0.5 0.2Indiana2 ................. 7.0 0.2 7.5 0.3 *–0.6 0.4Iowa2 .................... 4.5 0.2 4.8 0.3 –0.3 0.4Kansas  .................. 8.6 0.3 9.2 0.4 *–0.6 0.5Kentucky2 ............... 5.6 0.3 5.7 0.3 –0.1 0.4Louisiana2 ............... 6.9 0.3 7.6 0.3 *–0.7 0.4Maine2. . . . . . . . . . . . . . . . . . . 6.6 0.5 5.7 0.4 *0.8 0.6Maryland2 ............... 6.1 0.3 6.1 0.2 Z 0.4Massachusetts2 ........... 2.4 0.2 2.5 0.1 –0.1 0.2Michigan2 ................ 4.5 0.2 5.0 0.1 *–0.4 0.2Minnesota2 ............... 4.5 0.2 4.5 0.2 Z 0.2Mississippi  ............... 10.8 0.4 11.9 0.5 *–1.0 0.6Missouri2 ................ 8.6 0.3 9.4 0.3 *–0.8 0.4Montana2 ................ 8.3 0.6 8.2 0.5 Z 0.8Nebraska2 ............... 6.7 0.4 7.1 0.4 –0.4 0.6Nevada2 ................. 11.1 0.4 11.6 0.4 –0.5 0.6New Hampshire2. . . . . . . . . . 4.9 0.4 5.1 0.5 –0.2 0.6New Jersey2 ............. 6.8 0.2 7.2 0.2 *–0.3 0.3New Mexico2 ............. 8.2 0.5 10.0 0.6 *–1.8 0.8New York2 ............... 4.9 0.1 5.2 0.1 *–0.3 0.2North Carolina  ........... 9.3 0.2 10.4 0.2 *–1.1 0.3North Dakota2 ............ 6.4 0.7 7.9 0.7 *–1.5 0.9Ohio2. . . . . . . . . . . . . . . . . . . . 5.9 0.2 6.5 0.2 *–0.6 0.3Oklahoma2 ............... 11.7 0.3 13.8 0.3 *–2.0 0.4Oregon2 ................. 6.0 0.3 6.1 0.3 –0.1 0.4Pennsylvania2 ............ 5.3 0.2 5.5 0.2 –0.2 0.3Rhode Island2 ............ 4.2 0.6 4.3 0.6 –0.1 0.8South Carolina  ........... 9.1 0.3 10.0 0.4 *–1.0 0.5South Dakota  ............ 8.1 0.5 9.5 0.8 *–1.4 0.9Tennessee  ............... 9.3 0.3 10.0 0.2 *–0.7 0.4Texas  .................... 16.6 0.2 18.0 0.2 *–1.4 0.3Utah2 .................... 8.1 0.5 9.0 0.5 *–0.9 0.7Vermont2 ................ 3.9 0.5 3.7 0.5 0.2 0.7Virginia2 ................. 6.5 0.2 6.8 0.2 *–0.4 0.3Washington2 ............. 6.1 0.2 6.4 0.2 *–0.3 0.3West Virginia2 ............ 5.9 0.4 6.1 0.4 –0.2 0.6Wisconsin  ............... 5.2 0.2 5.4 0.2 –0.2 0.3Wyoming  ................ 11.5 1.2 12.2 1.1 –0.7 1.6* Denotes a statistically significant change between 2021 and 2022 at the 90 percent confidence level', 'Z Represents or rounds to zero', '1 Data are based on a sample and are subject to sampling variability. A margin of error is a measure of an estimate’s variability. The larger the margin of error in relation to the size of the estimate, the less reliable the estimate. When added to and subtracted from the estimate, the margin of error forms the 90 percent confidence interval', '2 State expanded Medicaid eligibility on or before January 1, 2022', 'Note: Differences are calculated with unrounded numbers, which may produce different results from using the rounded values in the table', 'Source: U.S. Census Bureau, 2021 and 2022 American Community Survey, 1-year estimates.', '14 U.S. Census BureauTable B-2', 'Percentage of People With Private Health Insurance Coverage by State: 2021 and 2022(Civilian, noninstitutionalized population. For information on confidentiality protection, sampling error, nonsampling error, and definitions, refer to < https:/ /www2.census.gov/programs-surveys/acs/tech_docs/accuracy/ACS_Accuracy_of_Data_2022.pdf >)State2022 2021 Change 2022 less 2021With private coverage  (percent)Margin of  error1With private coverage  (percent)Margin of  error1With private  coverage  (percent change)Margin of  error1United States   . . . . . . . . . 67.2 0.1 67.0 0.1 *0.2 0.2Alabama  .............. 67.0 0.5 66.4 0.6 0.6 0.8Alaska2 ................ 66.4 1.2 64.2 1.4 *2.2 1.8Arizona2 ............... 63.9 0.5 63.2 0.5 0.6 0.7Arkansas2 ............. 60.0 0.8 59.0 0.7 0.9 1.1California2 ............. 63.8 0.2 63.7 0.2 Z 0.3Colorado2 ............. 70.5 0.5 70.1 0.5 0.4 0.7Connecticut2 .......... 68.9 0.6 69.2 0.7 –0.3 0.9Delaware2 ............. 71.8 1.2 71.2 1.3 0.6 1.7District of Columbia2 ... 72.5 1.5 71.9 1.3 0.6 2.0Florida  ................ 63.6 0.3 63.1 0.3 *0.5 0.4Georgia  ............... 66.6 0.4 66.1 0.5 0.5 0.7Hawaii2 ................ 75.0 0.8 74.5 0.9 0.5 1.2Idaho2 ................. 68.3 0.9 68.1 1.0 0.3 1.4Illinois2 ................ 69.3 0.4 69.4 0.3 –0.1 0.5Indiana2 ............... 68.4 0.5 69.0 0.4 –0.6 0.7Iowa2 ................. 73.3 0.5 72.3 0.5 *1.0 0.7Kansas  ................ 73.7 0.6 72.6 0.6 *1.1 0.8Kentucky2 ............. 62.8 0.6 62.8 0.6 Z 0.8Louisiana2 ............. 58.1 0.7 57.1 0.7 1.0 1.0Maine2 ................ 68.7 1.0 70.6 1.0 *–1.9 1.4Maryland2 ............. 72.8 0.5 73.0 0.5 –0.2 0.7Massachusetts2 ........ 73.4 0.4 73.9 0.4 –0.5 0.6Michigan2 ............. 70.4 0.4 70.5 0.4 –0.1 0.5Minnesota2 ............ 74.7 0.5 75.9 0.4 *–1.1 0.6Mississippi  ............. 61.5 0.6 59.7 0.8 *1.8 1.0Missouri2 .............. 68.8 0.5 69.8 0.4 *–1.0 0.6Montana2 .............. 65.2 1.0 66.9 1.0 *–1.7 1.5Nebraska2 ............. 73.6 0.7 74.8 0.7 *–1.2 1.0Nevada2 ............... 63.4 0.8 62.7 0.7 0.7 1.1New Hampshire2 ....... 75.6 0.8 76.6 0.9 –1.0 1.2New Jersey2 ........... 71.2 0.4 71.2 0.3 Z 0.5New Mexico2 ........... 54.4 1.0 53.3 1.1 1.1 1.5New York2 ............. 65.4 0.3 65.9 0.3 *–0.5 0.4North Carolina  ......... 67.8 0.4 66.9 0.3 *0.9 0.5North Dakota2 ......... 78.4 1.1 77.3 1.1 1.1 1.6Ohio2 ................. 68.1 0.4 67.6 0.3 *0.6 0.5Oklahoma2 ............ 61.7 0.5 62.2 0.5 –0.5 0.7Oregon2 ............... 67.1 0.6 67.0 0.6 0.1 0.9Pennsylvania2 .......... 71.2 0.3 71.7 0.4 –0.5 0.5Rhode Island2 .......... 70.5 1.3 69.2 1.4 1.3 1.9South Carolina  ......... 66.9 0.5 65.4 0.5 *1.5 0.7South Dakota  .......... 73.3 0.9 72.5 1.1 0.8 1.4Tennessee  ............. 67.2 0.5 66.7 0.5 0.4 0.7Texas  ................. 62.8 0.3 61.4 0.3 *1.4 0.4Utah2 ................. 78.4 0.6 77.8 0.6 0.7 0.9Vermont2 .............. 70.0 1.2 70.0 1.0 Z 1.6Virginia2 ............... 73.0 0.4 73.9 0.4 *–0.9 0.6Washington2 ........... 70.8 0.4 70.5 0.4 0.3 0.6West Virginia2 ......... 61.8 1.0 62.7 1.1 –0.9 1.5Wisconsin  ............. 73.3 0.4 73.5 0.4 –0.2 0.6Wyoming . . . . . . . . . . . . . . 71.0 1.6 71.8 1.4 –0.9 2.1* Denotes a statistically significant change between 2021 and 2022 at the 90 percent confidence level', 'Z Represents or rounds to zero', '1 Data are based on a sample and are subject to sampling variability. A margin of error is a measure of an estimate’s variability. The larger the margin of error in relation to the size of the estimate, the less reliable the estimate. When added to and subtracted from the estimate, the margin of error forms the 90 percent confidence interval', '2 State expanded Medicaid eligibility on or before January 1, 2022', 'Note: Differences are calculated with unrounded numbers, which may produce different results from using the rounded values in the table', 'Source: U.S. Census Bureau, 2021 and 2022 American Community Survey, 1-year estimates.', 'U.S. Census Bureau  15Table B-3', 'Percentage of People With Public Health Insurance Coverage by State: 2021 and 2022(Civilian, noninstitutionalized population. For information on confidentiality protection, sampling error, nonsampling error, and definitions, refer to < https:/ /www2.census.gov/programs-surveys/acs/tech_docs/accuracy/ACS_Accuracy_of_Data_2022.pdf >) State2022 2021 Change 2022 less 2021With public coverage (percent)Margin of error1With public coverage (percent)Margin of error1With public  coverage  (percent change)Margin of  error1 United States   . . . . . . . . . . 37.2 0.1 36.8 0.1 *0.4 0.1Alabama  ............... 38.4 0.4 37.3 0.4 *1.1 0.6Alaska2 ................. 37.2 1.2 37.6 1.3 –0.4 1.7Arizona2 ................ 38.3 0.5 39.0 0.5 –0.7 0.7Arkansas2 .............. 45.0 0.7 44.4 0.7 0.6 0.9California2 .............. 40.0 0.2 39.3 0.2 *0.7 0.3Colorado2 .............. 33.3 0.4 33.3 0.4 Z 0.6Connecticut2 ........... 37.6 0.6 37.7 0.7 –0.1 0.9Delaware2 .............. 39.5 1.0 40.1 1.2 –0.6 1.6District of Columbia2 .... 33.8 1.5 34.5 1.4 –0.7 2.1Florida  ................. 37.5 0.2 37.4 0.2 0.1 0.3Georgia  ................ 33.0 0.3 32.4 0.4 *0.6 0.5Hawaii2 ................. 39.4 0.8 39.8 0.9 –0.4 1.2Idaho2 .................. 37.2 0.8 36.8 0.8 0.5 1.1Illinois2 ................. 35.8 0.4 35.0 0.3 *0.8 0.4Indiana2 ................ 36.8 0.4 35.9 0.4 *0.9 0.5Iowa2 .................. 36.8 0.5 37.0 0.5 –0.2 0.7Kansas  ................. 31.2 0.4 31.2 0.5 Z 0.6Kentucky2 .............. 45.2 0.5 45.4 0.5 –0.2 0.7Louisiana2 .............. 47.7 0.6 47.0 0.6 0.8 0.9Maine2 ................. 40.5 0.9 39.8 0.9 0.7 1.2Maryland2 .............. 35.2 0.5 35.4 0.3 –0.2 0.6Massachusetts2 ......... 37.8 0.4 37.3 0.4 0.5 0.6Michigan2 .............. 41.0 0.3 40.4 0.4 *0.6 0.5Minnesota2 ............. 35.3 0.4 34.3 0.4 *1.1 0.6Mississippi  .............. 40.1 0.6 40.2 0.6 –0.1 0.8Missouri2 ............... 34.3 0.4 32.9 0.3 *1.4 0.5Montana2 ............... 40.6 0.8 39.8 1.0 0.8 1.3Nebraska2 .............. 32.3 0.7 30.5 0.5 *1.8 0.9Nevada2 ................ 36.9 0.7 36.6 0.7 0.3 1.0New Hampshire2 ........ 33.5 0.8 32.6 0.8 0.9 1.1New Jersey2 ............ 33.6 0.4 33.2 0.3 0.4 0.5New Mexico2 ............ 51.2 0.9 50.9 1.1 0.3 1.4New York2 .............. 42.9 0.3 41.9 0.3 *1.0 0.4North Carolina  .......... 35.9 0.3 35.8 0.3 0.2 0.4North Dakota2 .......... 29.5 1.2 28.4 1.0 1.1 1.6Ohio2 .................. 38.8 0.3 38.6 0.3 0.2 0.5Oklahoma2 ............. 39.6 0.5 37.3 0.4 *2.3 0.6Oregon2 ................ 41.2 0.5 41.3 0.5 –0.2 0.7Pennsylvania2 ........... 38.8 0.3 38.2 0.3 *0.6 0.4Rhode Island2 ........... 37.9 1.2 40.1 1.2 *–2.2 1.7South Carolina  .......... 38.7 0.4 38.9 0.5 –0.2 0.7South Dakota  ........... 32.0 0.8 31.0 0.8 1.0 1.1Tennessee  .............. 35.9 0.4 36.5 0.4 –0.6 0.6Texas  .................. 29.6 0.2 29.7 0.2 –0.1 0.3Utah2 .................. 22.2 0.5 22.3 0.4 –0.1 0.7Vermont2 ............... 41.9 1.1 41.6 0.9 0.3 1.4Virginia2 ................ 34.2 0.3 32.7 0.3 *1.5 0.4Washington2 ............ 36.3 0.4 36.5 0.4 –0.1 0.5West Virginia2 .......... 49.2 0.9 48.8 0.9 0.4 1.3Wisconsin  .............. 35.7 0.4 35.1 0.4 0.5 0.5Wyoming . . . . . . . . . . . . . . . 31.2 1.0 30.1 1.2 1.1 1.5* Denotes a statistically significant change between 2021 and 2022 at the 90 percent confidence level', 'Z Represents or rounds to zero', '1 Data are based on a sample and are subject to sampling variability. A margin of error is a measure of an estimate’s variability. The larger the margin of error in relation to the size of the estimate, the less reliable the estimate. When added to and subtracted from the estimate, the margin of error forms the 90 percent confidence interval', '2 State expanded Medicaid eligibility on or before January 1, 2022', 'Note: Differences are calculated with unrounded numbers, which may produce different results from using the rounded values in the table', 'Source: U.S. Census Bureau, 2021 and 2022 American Community Survey, 1-year estimates.', '16 U.S. Census BureauTable B-4', 'Percentage of People With Health Insurance Coverage by Selected Subtype and State:  2021 and 2022(Civilian, noninstitutionalized population. For information on confidentiality protection, sampling error, nonsampling error, and definitions, refer to < https:/ /www2.census.gov/programs-surveys/acs/tech_docs/accuracy/ACS_Accuracy_of_Data_2022.pdf >)  State2022 2021Employment-basedDirect  purchaseMedicaidEmployment-basedDirect  purchaseMedicaidPercentMargin  of error1PercentMargin  of error1PercentMargin  of error1PercentMargin  of error1PercentMargin  of error1PercentMargin  of error1United States   . . . . . . . . . 54.8 0.1 13.9 Z 21.2 0.1 54.7 0.1 13.7 Z 21.1 0.1Alabama  .............. 53.6 0.5 14.3 0.3 20.5 0.4 53.1 0.6 14.4 0.4 19.4 0.4Alaska2 ................ 55.4 1.3 8.7 0.7 23.1 1.1 53.1 1.4 8.7 0.9 24.2 1.2Arizona2 ............... 51.2 0.5 13.5 0.3 20.8 0.5 50.9 0.5 12.9 0.3 21.4 0.5Arkansas2 ............. 47.1 0.7 13.9 0.5 27.4 0.6 46.0 0.7 13.5 0.5 27.2 0.7California2 ............. 52.5 0.2 13.1 0.1 27.0 0.2 52.5 0.2 12.9 0.1 26.6 0.2Colorado2 ............. 57.4 0.5 13.6 0.3 18.4 0.4 56.4 0.5 13.5 0.3 18.7 0.4Connecticut2 .......... 58.9 0.7 12.4 0.4 22.4 0.6 58.7 0.7 12.5 0.3 22.5 0.6Delaware2 ............. 60.2 1.2 14.3 0.8 19.8 1.0 58.6 1.3 15.6 0.9 20.9 1.2District of Columbia2 ... 62.3 1.7 12.2 0.9 24.1 1.6 61.2 1.5 12.6 1.0 24.9 1.5Florida  ................ 45.5 0.3 18.8 0.2 17.8 0.2 45.5 0.3 18.4 0.2 17.9 0.2Georgia  ............... 53.9 0.4 13.8 0.3 18.3 0.3 53.9 0.5 12.6 0.3 18.0 0.4Hawaii2 ................ 61.3 1.0 13.7 0.6 19.6 0.8 60.5 0.9 13.6 0.7 20.8 0.9Idaho2 ................. 53.0 1.0 16.1 0.7 20.6 0.7 52.8 1.1 15.5 0.7 20.2 0.9Illinois2 ................ 58.8 0.4 12.9 0.2 20.2 0.3 58.8 0.4 12.8 0.2 19.7 0.3Indiana2 ............... 57.4 0.5 13.0 0.3 20.7 0.4 58.2 0.5 12.6 0.3 20.1 0.4Iowa2 ................. 59.5 0.6 16.1 0.3 19.8 0.5 58.6 0.6 15.6 0.4 20.4 0.5Kansas  ................ 58.2 0.6 17.2 0.4 14.5 0.5 57.9 0.7 15.9 0.5 14.9 0.5Kentucky2 ............. 52.9 0.6 11.4 0.3 28.2 0.5 52.2 0.6 11.8 0.3 28.7 0.5Louisiana2 ............. 47.3 0.7 11.9 0.4 32.4 0.6 46.9 0.7 11.2 0.4 32.0 0.6Maine2 ................ 53.9 0.9 15.3 0.5 20.0 0.9 55.3 1.1 15.3 0.6 19.9 0.9Maryland2 ............. 61.7 0.6 13.3 0.3 19.9 0.5 61.5 0.5 13.2 0.3 20.1 0.4Massachusetts2 ........ 62.4 0.5 14.2 0.3 23.1 0.4 62.6 0.5 14.2 0.3 23.1 0.4Michigan2 ............. 59.8 0.4 13.2 0.2 23.7 0.3 59.9 0.4 13.0 0.2 23.5 0.3Minnesota2 ............ 61.0 0.5 16.2 0.3 18.8 0.4 61.5 0.5 16.7 0.3 18.1 0.4Mississippi  ............. 47.3 0.8 15.3 0.5 24.1 0.6 46.8 0.8 13.5 0.5 24.1 0.5Missouri2 .............. 56.4 0.5 13.6 0.3 16.5 0.4 57.0 0.4 14.3 0.3 15.1 0.3Montana2 .............. 48.1 1.1 17.3 0.7 21.3 0.8 49.2 1.1 18.0 0.7 20.2 0.9Nebraska2 ............. 57.8 0.8 17.2 0.6 16.3 0.6 59.9 0.8 16.8 0.5 14.7 0.5Nevada2 ............... 52.2 0.9 11.6 0.4 20.7 0.7 51.3 0.7 11.8 0.5 20.5 0.7New Hampshire2 ....... 62.0 1.0 15.3 0.7 13.4 0.7 64.0 0.9 14.1 0.6 13.5 0.8New Jersey2 ........... 61.2 0.4 12.6 0.4 18.4 0.4 61.2 0.4 12.6 0.3 18.4 0.3New Mexico2 ........... 43.8 1.0 10.5 0.5 33.6 0.9 42.3 1.0 11.3 0.6 33.6 1.1New York2 ............. 55.1 0.3 13.3 0.2 28.5 0.3 55.2 0.3 13.4 0.2 27.7 0.3North Carolina  ......... 52.6 0.4 15.6 0.2 18.5 0.3 51.9 0.4 15.2 0.3 18.7 0.2North Dakota2 ......... 60.9 1.3 19.2 1.0 13.4 1.1 59.8 1.4 18.5 1.0 12.0 1.0Ohio2 ................. 58.1 0.4 12.2 0.2 21.3 0.3 57.6 0.3 12.1 0.2 21.5 0.3Oklahoma2 ............ 48.7 0.5 13.3 0.3 22.4 0.4 49.0 0.6 13.5 0.3 20.2 0.4Oregon2 ............... 54.4 0.6 14.4 0.4 23.4 0.6 54.1 0.6 14.1 0.4 23.5 0.5Pennsylvania2 .......... 58.9 0.3 14.9 0.2 21.2 0.3 59.1 0.4 15.3 0.2 20.8 0.3Rhode Island2 .......... 56.4 1.4 16.3 0.9 21.6 1.1 56.3 1.5 15.1 0.8 23.9 1.3South Carolina  ......... 52.1 0.6 15.5 0.4 19.5 0.5 50.8 0.6 15.2 0.3 20.0 0.4South Dakota  .......... 55.5 1.2 17.9 0.7 13.9 0.8 54.8 1.2 18.1 0.9 13.7 0.8Tennessee  ............. 53.3 0.5 14.5 0.3 19.3 0.4 53.6 0.4 14.9 0.4 19.9 0.4Texas  ................. 51.4 0.3 12.2 0.2 16.9 0.2 50.4 0.4 11.6 0.1 17.0 0.2Utah2 ................. 64.4 0.7 15.4 0.6 10.9 0.5 63.7 0.7 15.2 0.6 11.3 0.4Vermont2 .............. 55.4 1.3 16.3 0.7 22.1 1.0 55.9 1.1 15.8 0.7 23.1 0.9Virginia2 ............... 59.1 0.4 13.0 0.3 16.6 0.3 59.9 0.4 12.7 0.3 15.5 0.3Washington2 ........... 58.6 0.4 13.2 0.3 20.7 0.4 58.2 0.4 12.8 0.2 21.2 0.4West Virginia2 ......... 52.9 0.9 11.6 0.5 28.4 0.9 53.1 1.0 12.3 0.6 28.2 0.9Wisconsin  ............. 60.6 0.4 14.9 0.3 18.3 0.3 60.6 0.4 15.1 0.3 18.2 0.4Wyoming . . . . . . . . . . . . . . 54.5 1.6 16.7 1.2 11.6 1.0 54.6 1.7 16.7 1.0 11.8 1.1Z Represents or rounds to zero', '1 Data are based on a sample and are subject to sampling variability. A margin of error is a measure of an estimate’s variability. The larger the margin of error in relation to the size of the estimate, the less reliable the estimate. When added to and subtracted from the estimate, the margin of error forms the 90 percent confidence interval', '2 State expanded Medicaid eligibility on or before January 1, 2022', 'Note: Differences are calculated with unrounded numbers, which may produce different results from using the rounded values in the table', 'Source: U.S. Census Bureau, 2021 and 2022 American Community Survey, 1-year estimates.', 'U.S. Census Bureau  17Table B-5', 'Number and Percentage of People by Health Insurance Coverage Status and Type by State Medicaid Expansion Status: 2021 and 2022(Numbers in thousands. Civilian, noninstitutionalized population. For information on confidentiality protection, sampling error, nonsampling error, and definitions, refer to < https:/ /www2.census.gov/programs-surveys/acs/tech_docs/accuracy/ACS_Accuracy_of_Data_2022.pdf >) Expansion state status and  insurance type2022 2021Change 2022  less 2021NumberMargin  of error1PercentMargin  of error1NumberMargin  of error1PercentMargin  of error1Percent changeMargin  of error1Expansion StateUninsured  ........... 14,240 119 6.3 0.1 15,230 119 6.8 0.1 *–0.4 0.1Private coverage  ..... 153,200 326 67.9 0.1 153,400 260 68.0 0.1 –0.1 0.2Public coverage  ...... 86,740 217 38.5 0.1 85,510 184 37.9 0.1 *0.5 0.1\\u2003Medicaid  .......... 51,190 231 22.7 0.1 50,620 196 22.5 0.1 *0.2 0.1Nonexpansion StateUninsured  ........... 12,120 90 11.8 0.1 13,000 104 12.8 0.1 *–1.0 0.1Private coverage  ..... 67,440 180 65.6 0.2 65,700 167 64.8 0.2 *0.8 0.2Public coverage  ...... 35,270 119 34.3 0.1 34,690 110 34.2 0.1 0.1 0.2\\u2003Medicaid  .......... 18,530 127 18.0 0.1 18,360 110 18.1 0.1 –0.1 0.2* Denotes a statistically significant change between 2021 and 2022 at the 90 percent confidence level', '1 Data are based on a sample and are subject to sampling variability. A margin of error is a measure of an estimate’s variability. The larger the margin of error in relation to the size of the estimate, the less reliable the estimate. When added to and subtracted from the estimate, the margin of error forms the 90 percent confidence interval', 'Note: State Medicaid expansion status in 2022 is used to compare change between 2021 and 2022. Differences are calculated with unrounded numbers, which may produce different results from using the rounded values in the table', 'Source: U.S. Census Bureau, 2021 and 2022 American Community Survey, 1-year estimates.', '18 U.S. Census BureauTable B-6', 'Percentage of People Without Health Insurance Coverage in the 25 Most Populous Metropolitan Areas: 2021 and 2022(Civilian, noninstitutionalized population. For information on confidentiality protection, sampling error, nonsampling error, and definitions, refer to < https:/ /www2.census.gov/programs-surveys/acs/tech_docs/accuracy/ACS_Accuracy_of_Data_2022.pdf >)  Metropolitan area2022 2021 Change 2022 less 2021Uninsured (percent)Margin of error1Uninsured (percent)Margin of error1Uninsured (percent change)Margin of error1Atlanta-Sandy Springs-Alpharetta, GA  ............. 11.1 0.3 11.8 0.4 *–0.7 0.5Baltimore-Columbia-Towson, MD  .................. 4.6 0.4 4.9 0.4 –0.3 0.5Boston-Cambridge-Newton, MA-NH  ............... 2.4 0.2 2.6 0.2 –0.2 0.2Charlotte-Concord-Gastonia, NC-SC  ............... 8.6 0.5 10.4 0.5 *–1.8 0.7Chicago-Naperville-Elgin, IL-IN-WI  ................ 7.3 0.2 7.6 0.2 –0.2 0.3Dallas-Fort Worth-Arlington, TX  ................... 15.8 0.3 16.8 0.3 *–1.0 0.5Denver-Aurora-Lakewood, CO  .................... 6.9 0.4 8.3 0.4 *–1.4 0.6Detroit-Warren-Dearborn, MI  ...................... 4.3 0.2 4.8 0.2 *–0.5 0.3Houston-The Woodlands-Sugar Land, TX  .......... 18.0 0.4 19.3 0.5 *–1.3 0.6Los Angeles-Long Beach-Anaheim, CA  ............ 7.7 0.2 8.5 0.2 *–0.7 0.2Miami-Fort Lauderdale-Pompano Beach, FL  ........ 13.0 0.4 13.3 0.4 –0.3 0.5Minneapolis-St. Paul-Bloomington, MN-WI  ......... 4.4 0.2 4.2 0.2 0.2 0.3New York-Newark-Jersey City, NY-NJ-PA  .......... 6.0 0.1 6.5 0.1 *–0.6 0.2Orlando-Kissimmee-Sanford, FL  .................. 10.5 0.6 11.9 0.5 *–1.4 0.8Philadelphia-Camden-Wilmington, PA-NJ-DE-MD  .. 5.1 0.3 5.1 0.3 Z 0.4Phoenix-Mesa-Chandler, AZ  ...................... 10.6 0.4 10.6 0.4 Z 0.6Portland-Vancouver-Hillsboro, OR-WA  ............. 5.5 0.3 5.5 0.3 –0.1 0.5Riverside-San Bernardino-Ontario, CA  ............. 7.7 0.3 8.5 0.4 *–0.8 0.5San Antonio-New Braunfels, TX  ................... 15.0 0.6 15.7 0.6 –0.7 0.9San Diego-Chula Vista-Carlsbad, CA  .............. 6.4 0.4 6.7 0.4 –0.3 0.5San Francisco-Oakland-Berkeley, CA  .............. 3.9 0.2 3.9 0.2 –0.1 0.3Seattle-Tacoma-Bellevue, WA  ..................... 5.3 0.3 5.6 0.3 –0.3 0.4St. Louis, MO-IL  .................................. 5.5 0.3 6.2 0.3 *–0.7 0.5Tampa-St. Petersburg-Clearwater, FL  .............. 10.7 0.5 11.3 0.4 –0.7 0.7Washington-Arlington-Alexandria, DC-VA-MD-WV  .. 7.2 0.3 7.2 0.3 Z 0.4* Denotes a statistically significant change between 2021 and 2022 at the 90 percent confidence level', 'Z Represents or rounds to zero', '1 Data are based on a sample and are subject to sampling variability. A margin of error is a measure of an estimate’s variability. The larger the margin of error in relation to the size of the estimate, the less reliable the estimate. When added to and subtracted from the estimate, the margin of error forms the 90 percent confidence interval', 'Note: Differences are calculated with unrounded numbers, which may produce different results from using the rounded values in the table', 'Source: U.S. Census Bureau, 2021 and 2022 American Community Survey, 1-year estimates.']\n",
            "torch.Size([32, 353])\n",
            "tensor([[1, 1, 1,  ..., 0, 0, 0],\n",
            "        [1, 1, 1,  ..., 0, 0, 0],\n",
            "        [1, 1, 1,  ..., 0, 0, 0],\n",
            "        ...,\n",
            "        [1, 1, 1,  ..., 0, 0, 0],\n",
            "        [1, 1, 1,  ..., 0, 0, 0],\n",
            "        [1, 1, 1,  ..., 0, 0, 0]], device='cuda:0')\n"
          ]
        },
        {
          "output_type": "stream",
          "name": "stderr",
          "text": [
            "/usr/local/lib/python3.10/dist-packages/transformers/tokenization_utils_base.py:2783: UserWarning: Though `pad_to_max_length` = `True`, it is ignored because `padding`=`True`.\n",
            "  warnings.warn(\"Though `pad_to_max_length` = `True`, it is ignored because `padding`=`True`.\")\n"
          ]
        },
        {
          "output_type": "stream",
          "name": "stdout",
          "text": [
            "torch.Size([32, 423])\n",
            "tensor([[1, 1, 1,  ..., 0, 0, 0],\n",
            "        [1, 1, 1,  ..., 0, 0, 0],\n",
            "        [1, 1, 1,  ..., 0, 0, 0],\n",
            "        ...,\n",
            "        [1, 1, 1,  ..., 0, 0, 0],\n",
            "        [1, 1, 1,  ..., 0, 0, 0],\n",
            "        [1, 1, 1,  ..., 0, 0, 0]], device='cuda:0')\n",
            "torch.Size([32, 512])\n",
            "tensor([[1, 1, 1,  ..., 0, 0, 0],\n",
            "        [1, 1, 1,  ..., 0, 0, 0],\n",
            "        [1, 1, 1,  ..., 0, 0, 0],\n",
            "        ...,\n",
            "        [1, 1, 1,  ..., 0, 0, 0],\n",
            "        [1, 1, 1,  ..., 0, 0, 0],\n",
            "        [1, 1, 1,  ..., 0, 0, 0]], device='cuda:0')\n",
            "torch.Size([19, 512])\n",
            "tensor([[1, 1, 1,  ..., 0, 0, 0],\n",
            "        [1, 1, 1,  ..., 0, 0, 0],\n",
            "        [1, 1, 1,  ..., 0, 0, 0],\n",
            "        ...,\n",
            "        [1, 1, 1,  ..., 0, 0, 0],\n",
            "        [1, 1, 1,  ..., 0, 0, 0],\n",
            "        [1, 1, 1,  ..., 0, 0, 0]], device='cuda:0')\n",
            "torch.Size([27, 512])\n",
            "tensor([[1, 1, 1,  ..., 0, 0, 0],\n",
            "        [1, 1, 1,  ..., 1, 1, 1],\n",
            "        [1, 1, 1,  ..., 1, 1, 1],\n",
            "        ...,\n",
            "        [1, 1, 1,  ..., 1, 1, 1],\n",
            "        [1, 1, 1,  ..., 1, 1, 1],\n",
            "        [1, 1, 1,  ..., 0, 0, 0]], device='cuda:0')\n"
          ]
        }
      ]
    },
    {
      "cell_type": "code",
      "source": [
        "hg = books.generate_normal_hg()"
      ],
      "metadata": {
        "id": "F-ndEPyFlSMj"
      },
      "execution_count": null,
      "outputs": []
    },
    {
      "cell_type": "code",
      "source": [
        "question = 'What is scope of work for MPDA?'"
      ],
      "metadata": {
        "id": "9BrNJkC4l1QW"
      },
      "execution_count": null,
      "outputs": []
    },
    {
      "cell_type": "code",
      "source": [
        "extracted_text = books.get_docs_from_docids(hg.query_hypergraph(question=question))"
      ],
      "metadata": {
        "colab": {
          "base_uri": "https://localhost:8080/"
        },
        "id": "Bg416wwplSJV",
        "outputId": "bc135c89-c4e7-4929-bea4-095258874a21"
      },
      "execution_count": null,
      "outputs": [
        {
          "output_type": "stream",
          "name": "stderr",
          "text": [
            "/usr/local/lib/python3.10/dist-packages/transformers/tokenization_utils_base.py:2783: UserWarning: Though `pad_to_max_length` = `True`, it is ignored because `padding`=`True`.\n",
            "  warnings.warn(\"Though `pad_to_max_length` = `True`, it is ignored because `padding`=`True`.\")\n"
          ]
        }
      ]
    },
    {
      "cell_type": "code",
      "source": [
        "extracted_text"
      ],
      "metadata": {
        "colab": {
          "base_uri": "https://localhost:8080/",
          "height": 157
        },
        "id": "PTuVA6B_lSG4",
        "outputId": "da48bd4c-4ce5-49e2-dd96-e9d641e25598"
      },
      "execution_count": null,
      "outputs": [
        {
          "output_type": "execute_result",
          "data": {
            "text/plain": [
              "\"gov), or coverage through TRICARE. Public insurance coverage includes federal programs (such as Medicare, Medicaid, and the Children’s Health Insurance Program or CHIP), individual state health plans, and CHAMPVA (Civilian Health and Medical Program at the Department of Veterans Affairs), as well as care provided by the Department of Veterans Affairs. In the ACS, people are considered insured if they were covered by any of these types of health insurance at time of interview. People are considered uninsured if they were not covered by any of these types of health insurance at time of interview or if they only had coverage through the Indian Health Service (IHS), as IHS coverage is not considered comprehensive 2 U.S. Census BureauWHAT IS HEALTH INSURANCE COVERAGE?This brief presents state-level estimates of health insurance coverage using data from the American Community Survey (ACS). The  U.S. Census Bureau conducts the ACS throughout the year; the survey asks respondents to report their coverage at the time of interview. The resulting measure of health insurance coverage, therefore, reflects an annual average of current comprehensive health insurance coverage status.* This uninsured rate measures a different concept than the measure based on the Current Population Survey Annual Social and Economic Supplement (CPS ASEC). For reporting purposes, the ACS broadly classifies health insurance coverage as private insurance or public insurance. The ACS defines private health insurance as a plan provided through an employer or a union, coverage purchased directly by an individual from an insurance company or through an exchange (such as healthcare  Public - عامة Page 9 of 27                                               Version: 2. 0                                                                                       DESB -RFP  Copyr i ght ( c)  2024  Aj m an M uni ci pal i t y  & Pl anni ng Depar t m ent . Al l  Ri ght s Reser ved.  Thi s docum ent  i s pr ot ect ed by copyr i ght  and di st r i but ed under  l i censes r est r i ct i ng copyi ng,  di st r i but i on & de-com pi l at i on.    4 Project Overview  The objective of this Request for Proposal (RFP) is to identify a system/software and implementation partner tasked with delivering a comprehensive solution and necessary professional services for MPDA. This entail s the design, development, implementation, and ongoing maintenance of an Application Programming Interface (API) alongside an API development,  API gateway solution and integration technology referred to as ASAB.  ASAB is integral for augmenting MPDA's exist ing integration capabilities, both internally and externally. It encompasses various functionalities, including design, development, migration, execution, logging, routing, monitoring, and insights for applications that leverage APIs.     The primary object ives of this project include:   1. Improved Performance: MPDA aims to significantly enhance application performance to ensure a superior user experience and greater efficiency in overall MPDA business services.  2. Scalability: MPDA requires an ASAB solution capab le of accommodating future growth and increased demands for service connectivity with ease.  3. Security: Security is paramount. The new ASAB must feature robust, proven security measures to safeguard sensitive data and protect against cyber threats effectivel y. 4. Cost-Effectiveness: While pursuing technological excellence, MPDA is mindful of associated costs. The solution should offer value for investment in terms of both initial capital expenditure (CAPEX), ongoing operational expenditure (OPEX), and total cost  of ownership (TCO).  5. Vendor Dependency Avoidance: MPDA adopts a strategic approach aiming to decrease AM’s dependence on a single provider for its products and services.    MPDA invites qualified vendors to submit proposals for the ASAB project. We are seek ing experienced partners with a proven track record in delivering comprehensive solutions that align with our project goals and objectives. Your proposal should detail your technical expertise, implementation plan, methodologies for implementation and migr ation, delivery schedule, and pricing information.       Public - عامة Page 19 of 27                                               Version: 2. 0                                                                                       DESB -RFP  Copyr i ght ( c)  2024  Aj m an M uni ci pal i t y  & Pl anni ng Depar t m ent . Al l  Ri ght s Reser ved.  Thi s docum ent  i s pr ot ect ed by copyr i ght  and di st r i but ed under  l i censes r est r i ct i ng copyi ng,  di st r i but i on & de-com pi l at i on.    - Project management Plan .  - Training Plan   Project Executing & Controlling Process  This process includes the following:  - Weekly reports  - Steering committees report  - Components (software, licenses) delivery sign -off document  - Testing use cases sign -off document  - Testing results and acceptance sign -off document  - Training and certifications booking sign -off document.  - Knowledge transfer sign -off document  - Issue log   Project C losure Process  This Process includes the following:  - Project Closure Report  - Deliverables sign off. - Hand over Sessi ons - Lesson learned.   - Support contract for 3 years sign -off document   Technical Implementation approach (release mgmt.)  In addition to the above management processes, we expected the project implementation activities to be managed based on MPDA release mana gement standards that comply with ISO 20000 standards.    “Release Management” is responsible for planning, building, testing, deploying and verification of all releases into the live environment.   Release management process including “but not limited to “ :  1. MPDA will provide UAT “Staging” and production environments.  2. Vendor to do the required health check on both “UAT  & Production” environments, in addition to provide all licensing requirements.  3. Preparing and configuring all users’  credentials on the UAT a nd Production environments  4. Vendor to provide QA report (functional, performance, security,  and usability) that comply with project quality criteria.   6 State and federal policies designed to increase public coverage may also affect the supply and demand for private coverage. As a result, a variety of changes in coverage rates are possible. This brief uses the 2021 and 2022 American Community Survey (ACS) 1-year estimates to exam-ine differences in health insurance coverage status and select subtypes (Medicaid, direct purchase, and employer-based) for the 50 states, the District of Columbia, and the 25 most populous metro-politan areas (refer to the “What Is Health Insurance Coverage?” text box) 9 Respondents may have more than one health insurance coverage type at the time of interview. As a result, adding the total number of people with private coverage and the total number with public coverage will sum to more than the total number with any coverage.• From 2021 to 2022, nine states reported increases in private coverage, while seven reported decreases (Appendix Table B-2). DIFFERENCES IN THE UNINSURED RATE BY STATE IN 2022In 2022, uninsured rates at the time of interview ranged across states from a low of 2.4 percent in Massachusetts to a high of 16.6 percent in Texas, compared to the national rate of 8.0 percent.10 Ten of the 15 states with uninsured 10 The uninsured rates in the District of Columbia and Massachusetts were not statistically different.rates above the national aver -age were states that have not expanded Medicaid eligibility, and two of those 15 states, Oklahoma (11.7 percent) and Missouri (8.6 percent), had recently expanded Medicaid eligibility in 2022.11 Twenty-nine states and the District of Columbia had an uninsured rate below the national average. 11 Between January 1, 2014, and January 1, 2022, 38 states and the District of Columbia elected to expand Medicaid eligibility under the ACA. The 12 states that had not expanded Medicaid eligibility under the ACA on or before January 1, 2021, included Alabama, Florida, Georgia, Kansas, Mississippi, North Carolina, South Carolina, South Dakota, Tennessee, Texas, Wisconsin, and Wyoming. For more information on expansion states, refer to Appendix Table A-1. 17 U.S. Department of Labor, Bureau of Labor Statistics, Local Area Unemployment Statistics, Table A, < www.bls.gov/news  Public - عامة Page 10 of 27                                               Version: 2. 0                                                                                       DESB -RFP  Copyr i ght ( c)  2024  Aj m an M uni ci pal i t y  & Pl anni ng Depar t m ent . Al l  Ri ght s Reser ved.  Thi s docum ent  i s pr ot ect ed by copyr i ght  and di st r i but ed under  l i censes r est r i ct i ng copyi ng,  di st r i but i on & de-com pi l at i on.    5 Scope of Work  The scope of work for MPDA entails the implementation of a new API architecture aimed at enhancing integration and interoperability capabilities across both internal applications and exter nal strategic partners. This project involves the deployment of the new architecture, coupled with product implementation, migration from the current ASAB 1.0 to the new ASAB 2.0, and post -project support.  Key aspects of the project scope include:  1. Adoption  of a proven and industry -standard solution based on Open -API principles, ensuring comprehensive documentation, enhanced security, and real -time integration capabilities.  2. Focus on improving visibility of existing APIs, reducing time -to-market, and simplify ing complex operations and troubleshooting processes.  3. In addition to the solution, MPDA seeks a partner to provide services to address staffing shortages and knowledge gaps.  4. Implementation of the API Management solution and seamless integration with existi ng application systems, including migration to the new ASAB 2.0.  5. Design and development of a robust and scalable API architecture meeting MPDA's integration requirements for seamless connectivity with internal and external systems.  6. Development of APIs with  advanced functionality to enable secure data exchange and communication between various applications and systems.  7. Facilitation of a smooth migration process for existing systems and data to the new API solution, minimizing disruptions to operations.  8. Effic ient execution of APIs to allow for real -time data access and processing.  9. Implementation of comprehensive logging mechanisms to track API usage, monitor performance, and troubleshoot issues effectively.  10. Configuration of API routing rules to direct incoming  requests to appropriate endpoints based on predefined criteria.  11. Establishment of monitoring tools and processes to continuously monitor API performance, identify potential bottlenecks or failures, and take proactive measures to optimize performance.  12. Provi sion of insights and analytics capabilities to gain valuable insights into API usage patterns, user behavior, and system performance  with ability to integrate with MPDA systems .        Public - عامة Page 18 of 27                                               Version: 2. 0                                                                                       DESB -RFP  Copyr i ght ( c)  2024  Aj m an M uni ci pal i t y  & Pl anni ng Depar t m ent . Al l  Ri ght s Reser ved.  Thi s docum ent  i s pr ot ect ed by copyr i ght  and di st r i but ed under  l i censes r est r i ct i ng copyi ng,  di st r i but i on & de-com pi l at i on.    6 Project Management Approach   Our PM Methodology  To indicate the scope of this project, vendor should use  all forms included in the MPDA PM  methodology for all phases of the project to ensure consistency and data accuracy, moreover  we would expect that project to be comprehensively defined as several  stages and iterative with the following PMID  standard processes:  1. Project initiation process  2. Project planning process  3. Project executing and controlling process.   4. Project closure process   The plan should cover vendor resources responsibilities, MPDA’s  responsibilities, and the responsibilities of any other parties involved. Communication plan, Quality plan and others must be provided, besides risk plan must include a list of potential risk s and risks mitigation plans, on the other hand the project management tool that will be used and credited is Microsoft Project . We would expect that you would provide  a work  breakdown structure for the team as well.  For any change required to be done dur ing the implementation stages, Change Management procedures of MPDA  to be followed by the Bidder in case of the shortlisted development model, Bidder needs to clarify the requirement of any development and/or UAT resources requirement to be facilitated by MPDA  Required tools & versions to be mentioned. Additionally,  vendor must provide licenses details required.  Bidder must clearly state  the escalation procedures, progress reporting, and procedures of conflict management.   Project Initiation P rocess  This pro cess includes the following:  - Contract  signed off  - Kick -off meeting & Presentation  - Project Charter  - Team member Mobilization   - Project documents ( risk register, stakeholder register, and assumption log)    Project Planning Process  This process includes the fo llowing:  - Project schedul e (.mp p) plan to be delivered after <<3 weeks >> from  signing the contract to be in high level plan (modules  and functional level ). Detailed plan  (activity level)  to be delivered for  each phase.  - Risk register.   cms.gov/files/document/health-insurance-exchanges-2022-open-enrollment-report-final.pdf >, <www.kff.org/health-reform/state-indicator/marketplace-enrollment/?currentTimeframe=0&sortModel=%7B%22colId%22:%22Location%22,%22sort%22:%22asc%22%7D>, and < www.healthaffairs.org/content/forefront/new-biden-executive-order-aims-build-coverage-gains > Although it is possible for states that expand Medicaid eligibility to have lower private coverage rates triggered by an increase in public coverage, it is also possible that Medicaid and private cover -age complement each other, and, thus, private coverage may go up with Medicaid eligibility expan -sion due to competitive pricing. For example, a report from the Department of Health and Human Services indicated that states that expand Medicaid eligibility have, on average, 7 percent lower ACA Marketplace premiums.20 In 2022, the private coverage rate for the group of states that expanded Medicaid eligibility was 67.9 per -cent, while the group of nonexpan -sion states had a private coverage rate of 65.6 percent (Appendix Table B-5)  Public - عامة Page 20 of 27                                               Version: 2. 0                                                                                       DESB -RFP  Copyr i ght ( c)  2024  Aj m an M uni ci pal i t y  & Pl anni ng Depar t m ent . Al l  Ri ght s Reser ved.  Thi s docum ent  i s pr ot ect ed by copyr i ght  and di st r i but ed under  l i censes r est r i ct i ng copyi ng,  di st r i but i on & de-com pi l at i on.    5. Vendor to provide rollout plan, back out plan testing results activities “using  MPDA template “  6. Vendor mus t provide all relevant documentation (UAT Signoffs, test plan, risk analysis, and communication plan “support channels”)  7. Preparing release note that includes all required details.  8. Identify deployment location, users and dependencies all vendor requirements  9. Identify impact and / or conflicts with other business impact  10. Risk assessment  11. Identify roles and responsibilities.  12. Safety and Security procedures   Project Duration  Total project duration 8 months  MPDA would expect to get a quick win in the first milestone of the project, which will have a great impact on the whole project implementation.   Project Status Reporting  We would expect to receive detailed proposals that include below “but not limited to”:  - Progress report  - Weekly report  - Status report  - Issue log. - Steering Committee Meeting  / Report   This should be aligned with PM Methodology and should define reporting channels and frequency of reports/meetings, etc… .   List of Project  Deliverables  Below Are the Expected  Project Deliverables, “ Not limited to ”: 1. Project Charter  2. Project Schedule (MS Project Format)  3. Risk Management Plan (Risk Register)  4. System Architecture Design Document  (SAD D) 5. Software, licenses and delivery sign -off document  6. User Manual  7. Test Cases & Test Results   8. UAT Plan  9. UAT Signoffs  10. Training Plan  and c ertifications exams registration  11. Training material  12. Training Signoff s   Public - عامة Page 16 of 27                                               Version: 2. 0                                                                                       DESB -RFP  Copyr i ght ( c)  2024  Aj m an M uni ci pal i t y  & Pl anni ng Depar t m ent . Al l  Ri ght s Reser ved.  Thi s docum ent  i s pr ot ect ed by copyr i ght  and di st r i but ed under  l i censes r est r i ct i ng copyi ng,  di st r i but i on & de-com pi l at i on.    Ref. No.  Requirement  API-NFR -044 The provided API’s shall provide response within 2.5 seconds as  a maximum and round trip should be up to 5 seconds  Training Requirements  API-NFR -045 Hand-outs, and User Manuals to be provided to all participants to whom the Training would be provided by the Bidder  API-NFR -046 Provide training plan and details for various user types (administrator, end user) for which training will be provided, the mod e and duration of the training, numbers of users for whom training will be provided, Describing the knowledge transfer plan  API-NFR -047 Provide best -fit training methodology (Full End user training {for power users, and admins}  API-NFR -048 Provide assoc iate certification for attendees  API-NFR -049 AM requires that trainers provided by the vendors are certified  API-NFR -050 Provide testing / demo environment for testing and job training purpose (new joiners…etc)  Maintenance and Support Requirement  API-NFR -051 System must have one -year maintenance and support after completing the project and the vendor should give the cost of additional 3years  support   API-NFR -052 The Vendor shall include onsite one months as hyper care period after the go live date an d before starting the one -year support period.  API-NFR -053 The Vendor should include All Software maintenance such as upgrades, updates and reinstallations  during support period  API-NFR -054 The Vendor should Provide resources at various offices of Muni cipality, if required.  API-NFR -055 The Vendor should Provide resources that are on call to support the application for 24 x 7, and in case of disaster, immediate support response within 2 hours is needed.   API-NFR -056 The vendor shall comply with MPDA vendor SLA document        Public - عامة Page 21 of 27                                               Version: 2. 0                                                                                       DESB -RFP  Copyr i ght ( c)  2024  Aj m an M uni ci pal i t y  & Pl anni ng Depar t m ent . Al l  Ri ght s Reser ved.  Thi s docum ent  i s pr ot ect ed by copyr i ght  and di st r i but ed under  l i censes r est r i ct i ng copyi ng,  di st r i but i on & de-com pi l at i on.    13. Project Closure REPORT  14. Implementation  guide /manual  15. Technical Support commitment  16. Deliverables signoffs  Please note that all management related templates to be provided through upcoming bidding process  (to short listed nominations only ). 7 Project Terms & C onditions   Tender Evaluation C riteria  The award criterion will be “the most economically advantageous” tender that includes the requested services. Apart from this criterion, the evaluati on will be based on the following evaluation criteria listed in order of priority:   The table below provides an indicative representation of the marks distribution for technical evaluation. The Actual  Criteria will be finalized by the evaluation committee.   Category Criteria  Weight of category (%) 1. Company Profile (References &  Related Experience)   10 2. Compliance with requirements:  1. (Functional ) 2. (Non-Functional)   30 3. Project Implementation Approach  10 4. Propo sed project team  Structure,  Size, Technical expert ise and Number of years of experience  in implementing wireless network infrastructure.  10 Total - Technical Evaluation - (60%) 60 Financial Evaluation / proposal - (40%) 40 Total of 100%  100      3In addition to national policies, individual states and the District of Columbia can affect health insurance coverage by making Marketplace or Medicaid more accessible and affordable. This variation may be more or less pronounced across states. Missouri and Oklahoma expanded Medicaid eligibility under the Patient Protection and Affordable Care Act (ACA) in 2022, leaving only twelve states without expanded Medicaid eligibility, primarily in the South and parts 1 The Bureau of Labor Statistics reported increases in national employment from 2021 to 2022. More information is available at <www.bls.gov/opub/mlr/2023/article/unemployment-rate-returned-to-its-prepandemic-level-in-2022.htm>\""
            ],
            "application/vnd.google.colaboratory.intrinsic+json": {
              "type": "string"
            }
          },
          "metadata": {},
          "execution_count": 79
        }
      ]
    },
    {
      "cell_type": "code",
      "source": [
        "prompt = f'Given the context: {extracted_text} /n Answer the question {question}'"
      ],
      "metadata": {
        "id": "uqhBzAk8lSEL"
      },
      "execution_count": null,
      "outputs": []
    },
    {
      "cell_type": "code",
      "source": [
        "prompt"
      ],
      "metadata": {
        "colab": {
          "base_uri": "https://localhost:8080/",
          "height": 157
        },
        "id": "7e4DNyMOlSCN",
        "outputId": "4a2a33f1-b568-46ec-eec9-86501d0ddb78"
      },
      "execution_count": null,
      "outputs": [
        {
          "output_type": "execute_result",
          "data": {
            "text/plain": [
              "\"Given the context: gov), or coverage through TRICARE. Public insurance coverage includes federal programs (such as Medicare, Medicaid, and the Children’s Health Insurance Program or CHIP), individual state health plans, and CHAMPVA (Civilian Health and Medical Program at the Department of Veterans Affairs), as well as care provided by the Department of Veterans Affairs. In the ACS, people are considered insured if they were covered by any of these types of health insurance at time of interview. People are considered uninsured if they were not covered by any of these types of health insurance at time of interview or if they only had coverage through the Indian Health Service (IHS), as IHS coverage is not considered comprehensive 2 U.S. Census BureauWHAT IS HEALTH INSURANCE COVERAGE?This brief presents state-level estimates of health insurance coverage using data from the American Community Survey (ACS). The  U.S. Census Bureau conducts the ACS throughout the year; the survey asks respondents to report their coverage at the time of interview. The resulting measure of health insurance coverage, therefore, reflects an annual average of current comprehensive health insurance coverage status.* This uninsured rate measures a different concept than the measure based on the Current Population Survey Annual Social and Economic Supplement (CPS ASEC). For reporting purposes, the ACS broadly classifies health insurance coverage as private insurance or public insurance. The ACS defines private health insurance as a plan provided through an employer or a union, coverage purchased directly by an individual from an insurance company or through an exchange (such as healthcare  Public - عامة Page 9 of 27                                               Version: 2. 0                                                                                       DESB -RFP  Copyr i ght ( c)  2024  Aj m an M uni ci pal i t y  & Pl anni ng Depar t m ent . Al l  Ri ght s Reser ved.  Thi s docum ent  i s pr ot ect ed by copyr i ght  and di st r i but ed under  l i censes r est r i ct i ng copyi ng,  di st r i but i on & de-com pi l at i on.    4 Project Overview  The objective of this Request for Proposal (RFP) is to identify a system/software and implementation partner tasked with delivering a comprehensive solution and necessary professional services for MPDA. This entail s the design, development, implementation, and ongoing maintenance of an Application Programming Interface (API) alongside an API development,  API gateway solution and integration technology referred to as ASAB.  ASAB is integral for augmenting MPDA's exist ing integration capabilities, both internally and externally. It encompasses various functionalities, including design, development, migration, execution, logging, routing, monitoring, and insights for applications that leverage APIs.     The primary object ives of this project include:   1. Improved Performance: MPDA aims to significantly enhance application performance to ensure a superior user experience and greater efficiency in overall MPDA business services.  2. Scalability: MPDA requires an ASAB solution capab le of accommodating future growth and increased demands for service connectivity with ease.  3. Security: Security is paramount. The new ASAB must feature robust, proven security measures to safeguard sensitive data and protect against cyber threats effectivel y. 4. Cost-Effectiveness: While pursuing technological excellence, MPDA is mindful of associated costs. The solution should offer value for investment in terms of both initial capital expenditure (CAPEX), ongoing operational expenditure (OPEX), and total cost  of ownership (TCO).  5. Vendor Dependency Avoidance: MPDA adopts a strategic approach aiming to decrease AM’s dependence on a single provider for its products and services.    MPDA invites qualified vendors to submit proposals for the ASAB project. We are seek ing experienced partners with a proven track record in delivering comprehensive solutions that align with our project goals and objectives. Your proposal should detail your technical expertise, implementation plan, methodologies for implementation and migr ation, delivery schedule, and pricing information.       Public - عامة Page 19 of 27                                               Version: 2. 0                                                                                       DESB -RFP  Copyr i ght ( c)  2024  Aj m an M uni ci pal i t y  & Pl anni ng Depar t m ent . Al l  Ri ght s Reser ved.  Thi s docum ent  i s pr ot ect ed by copyr i ght  and di st r i but ed under  l i censes r est r i ct i ng copyi ng,  di st r i but i on & de-com pi l at i on.    - Project management Plan .  - Training Plan   Project Executing & Controlling Process  This process includes the following:  - Weekly reports  - Steering committees report  - Components (software, licenses) delivery sign -off document  - Testing use cases sign -off document  - Testing results and acceptance sign -off document  - Training and certifications booking sign -off document.  - Knowledge transfer sign -off document  - Issue log   Project C losure Process  This Process includes the following:  - Project Closure Report  - Deliverables sign off. - Hand over Sessi ons - Lesson learned.   - Support contract for 3 years sign -off document   Technical Implementation approach (release mgmt.)  In addition to the above management processes, we expected the project implementation activities to be managed based on MPDA release mana gement standards that comply with ISO 20000 standards.    “Release Management” is responsible for planning, building, testing, deploying and verification of all releases into the live environment.   Release management process including “but not limited to “ :  1. MPDA will provide UAT “Staging” and production environments.  2. Vendor to do the required health check on both “UAT  & Production” environments, in addition to provide all licensing requirements.  3. Preparing and configuring all users’  credentials on the UAT a nd Production environments  4. Vendor to provide QA report (functional, performance, security,  and usability) that comply with project quality criteria.   6 State and federal policies designed to increase public coverage may also affect the supply and demand for private coverage. As a result, a variety of changes in coverage rates are possible. This brief uses the 2021 and 2022 American Community Survey (ACS) 1-year estimates to exam-ine differences in health insurance coverage status and select subtypes (Medicaid, direct purchase, and employer-based) for the 50 states, the District of Columbia, and the 25 most populous metro-politan areas (refer to the “What Is Health Insurance Coverage?” text box) 9 Respondents may have more than one health insurance coverage type at the time of interview. As a result, adding the total number of people with private coverage and the total number with public coverage will sum to more than the total number with any coverage.• From 2021 to 2022, nine states reported increases in private coverage, while seven reported decreases (Appendix Table B-2). DIFFERENCES IN THE UNINSURED RATE BY STATE IN 2022In 2022, uninsured rates at the time of interview ranged across states from a low of 2.4 percent in Massachusetts to a high of 16.6 percent in Texas, compared to the national rate of 8.0 percent.10 Ten of the 15 states with uninsured 10 The uninsured rates in the District of Columbia and Massachusetts were not statistically different.rates above the national aver -age were states that have not expanded Medicaid eligibility, and two of those 15 states, Oklahoma (11.7 percent) and Missouri (8.6 percent), had recently expanded Medicaid eligibility in 2022.11 Twenty-nine states and the District of Columbia had an uninsured rate below the national average. 11 Between January 1, 2014, and January 1, 2022, 38 states and the District of Columbia elected to expand Medicaid eligibility under the ACA. The 12 states that had not expanded Medicaid eligibility under the ACA on or before January 1, 2021, included Alabama, Florida, Georgia, Kansas, Mississippi, North Carolina, South Carolina, South Dakota, Tennessee, Texas, Wisconsin, and Wyoming. For more information on expansion states, refer to Appendix Table A-1. 17 U.S. Department of Labor, Bureau of Labor Statistics, Local Area Unemployment Statistics, Table A, < www.bls.gov/news  Public - عامة Page 10 of 27                                               Version: 2. 0                                                                                       DESB -RFP  Copyr i ght ( c)  2024  Aj m an M uni ci pal i t y  & Pl anni ng Depar t m ent . Al l  Ri ght s Reser ved.  Thi s docum ent  i s pr ot ect ed by copyr i ght  and di st r i but ed under  l i censes r est r i ct i ng copyi ng,  di st r i but i on & de-com pi l at i on.    5 Scope of Work  The scope of work for MPDA entails the implementation of a new API architecture aimed at enhancing integration and interoperability capabilities across both internal applications and exter nal strategic partners. This project involves the deployment of the new architecture, coupled with product implementation, migration from the current ASAB 1.0 to the new ASAB 2.0, and post -project support.  Key aspects of the project scope include:  1. Adoption  of a proven and industry -standard solution based on Open -API principles, ensuring comprehensive documentation, enhanced security, and real -time integration capabilities.  2. Focus on improving visibility of existing APIs, reducing time -to-market, and simplify ing complex operations and troubleshooting processes.  3. In addition to the solution, MPDA seeks a partner to provide services to address staffing shortages and knowledge gaps.  4. Implementation of the API Management solution and seamless integration with existi ng application systems, including migration to the new ASAB 2.0.  5. Design and development of a robust and scalable API architecture meeting MPDA's integration requirements for seamless connectivity with internal and external systems.  6. Development of APIs with  advanced functionality to enable secure data exchange and communication between various applications and systems.  7. Facilitation of a smooth migration process for existing systems and data to the new API solution, minimizing disruptions to operations.  8. Effic ient execution of APIs to allow for real -time data access and processing.  9. Implementation of comprehensive logging mechanisms to track API usage, monitor performance, and troubleshoot issues effectively.  10. Configuration of API routing rules to direct incoming  requests to appropriate endpoints based on predefined criteria.  11. Establishment of monitoring tools and processes to continuously monitor API performance, identify potential bottlenecks or failures, and take proactive measures to optimize performance.  12. Provi sion of insights and analytics capabilities to gain valuable insights into API usage patterns, user behavior, and system performance  with ability to integrate with MPDA systems .        Public - عامة Page 18 of 27                                               Version: 2. 0                                                                                       DESB -RFP  Copyr i ght ( c)  2024  Aj m an M uni ci pal i t y  & Pl anni ng Depar t m ent . Al l  Ri ght s Reser ved.  Thi s docum ent  i s pr ot ect ed by copyr i ght  and di st r i but ed under  l i censes r est r i ct i ng copyi ng,  di st r i but i on & de-com pi l at i on.    6 Project Management Approach   Our PM Methodology  To indicate the scope of this project, vendor should use  all forms included in the MPDA PM  methodology for all phases of the project to ensure consistency and data accuracy, moreover  we would expect that project to be comprehensively defined as several  stages and iterative with the following PMID  standard processes:  1. Project initiation process  2. Project planning process  3. Project executing and controlling process.   4. Project closure process   The plan should cover vendor resources responsibilities, MPDA’s  responsibilities, and the responsibilities of any other parties involved. Communication plan, Quality plan and others must be provided, besides risk plan must include a list of potential risk s and risks mitigation plans, on the other hand the project management tool that will be used and credited is Microsoft Project . We would expect that you would provide  a work  breakdown structure for the team as well.  For any change required to be done dur ing the implementation stages, Change Management procedures of MPDA  to be followed by the Bidder in case of the shortlisted development model, Bidder needs to clarify the requirement of any development and/or UAT resources requirement to be facilitated by MPDA  Required tools & versions to be mentioned. Additionally,  vendor must provide licenses details required.  Bidder must clearly state  the escalation procedures, progress reporting, and procedures of conflict management.   Project Initiation P rocess  This pro cess includes the following:  - Contract  signed off  - Kick -off meeting & Presentation  - Project Charter  - Team member Mobilization   - Project documents ( risk register, stakeholder register, and assumption log)    Project Planning Process  This process includes the fo llowing:  - Project schedul e (.mp p) plan to be delivered after <<3 weeks >> from  signing the contract to be in high level plan (modules  and functional level ). Detailed plan  (activity level)  to be delivered for  each phase.  - Risk register.   cms.gov/files/document/health-insurance-exchanges-2022-open-enrollment-report-final.pdf >, <www.kff.org/health-reform/state-indicator/marketplace-enrollment/?currentTimeframe=0&sortModel=%7B%22colId%22:%22Location%22,%22sort%22:%22asc%22%7D>, and < www.healthaffairs.org/content/forefront/new-biden-executive-order-aims-build-coverage-gains > Although it is possible for states that expand Medicaid eligibility to have lower private coverage rates triggered by an increase in public coverage, it is also possible that Medicaid and private cover -age complement each other, and, thus, private coverage may go up with Medicaid eligibility expan -sion due to competitive pricing. For example, a report from the Department of Health and Human Services indicated that states that expand Medicaid eligibility have, on average, 7 percent lower ACA Marketplace premiums.20 In 2022, the private coverage rate for the group of states that expanded Medicaid eligibility was 67.9 per -cent, while the group of nonexpan -sion states had a private coverage rate of 65.6 percent (Appendix Table B-5)  Public - عامة Page 20 of 27                                               Version: 2. 0                                                                                       DESB -RFP  Copyr i ght ( c)  2024  Aj m an M uni ci pal i t y  & Pl anni ng Depar t m ent . Al l  Ri ght s Reser ved.  Thi s docum ent  i s pr ot ect ed by copyr i ght  and di st r i but ed under  l i censes r est r i ct i ng copyi ng,  di st r i but i on & de-com pi l at i on.    5. Vendor to provide rollout plan, back out plan testing results activities “using  MPDA template “  6. Vendor mus t provide all relevant documentation (UAT Signoffs, test plan, risk analysis, and communication plan “support channels”)  7. Preparing release note that includes all required details.  8. Identify deployment location, users and dependencies all vendor requirements  9. Identify impact and / or conflicts with other business impact  10. Risk assessment  11. Identify roles and responsibilities.  12. Safety and Security procedures   Project Duration  Total project duration 8 months  MPDA would expect to get a quick win in the first milestone of the project, which will have a great impact on the whole project implementation.   Project Status Reporting  We would expect to receive detailed proposals that include below “but not limited to”:  - Progress report  - Weekly report  - Status report  - Issue log. - Steering Committee Meeting  / Report   This should be aligned with PM Methodology and should define reporting channels and frequency of reports/meetings, etc… .   List of Project  Deliverables  Below Are the Expected  Project Deliverables, “ Not limited to ”: 1. Project Charter  2. Project Schedule (MS Project Format)  3. Risk Management Plan (Risk Register)  4. System Architecture Design Document  (SAD D) 5. Software, licenses and delivery sign -off document  6. User Manual  7. Test Cases & Test Results   8. UAT Plan  9. UAT Signoffs  10. Training Plan  and c ertifications exams registration  11. Training material  12. Training Signoff s   Public - عامة Page 16 of 27                                               Version: 2. 0                                                                                       DESB -RFP  Copyr i ght ( c)  2024  Aj m an M uni ci pal i t y  & Pl anni ng Depar t m ent . Al l  Ri ght s Reser ved.  Thi s docum ent  i s pr ot ect ed by copyr i ght  and di st r i but ed under  l i censes r est r i ct i ng copyi ng,  di st r i but i on & de-com pi l at i on.    Ref. No.  Requirement  API-NFR -044 The provided API’s shall provide response within 2.5 seconds as  a maximum and round trip should be up to 5 seconds  Training Requirements  API-NFR -045 Hand-outs, and User Manuals to be provided to all participants to whom the Training would be provided by the Bidder  API-NFR -046 Provide training plan and details for various user types (administrator, end user) for which training will be provided, the mod e and duration of the training, numbers of users for whom training will be provided, Describing the knowledge transfer plan  API-NFR -047 Provide best -fit training methodology (Full End user training {for power users, and admins}  API-NFR -048 Provide assoc iate certification for attendees  API-NFR -049 AM requires that trainers provided by the vendors are certified  API-NFR -050 Provide testing / demo environment for testing and job training purpose (new joiners…etc)  Maintenance and Support Requirement  API-NFR -051 System must have one -year maintenance and support after completing the project and the vendor should give the cost of additional 3years  support   API-NFR -052 The Vendor shall include onsite one months as hyper care period after the go live date an d before starting the one -year support period.  API-NFR -053 The Vendor should include All Software maintenance such as upgrades, updates and reinstallations  during support period  API-NFR -054 The Vendor should Provide resources at various offices of Muni cipality, if required.  API-NFR -055 The Vendor should Provide resources that are on call to support the application for 24 x 7, and in case of disaster, immediate support response within 2 hours is needed.   API-NFR -056 The vendor shall comply with MPDA vendor SLA document        Public - عامة Page 21 of 27                                               Version: 2. 0                                                                                       DESB -RFP  Copyr i ght ( c)  2024  Aj m an M uni ci pal i t y  & Pl anni ng Depar t m ent . Al l  Ri ght s Reser ved.  Thi s docum ent  i s pr ot ect ed by copyr i ght  and di st r i but ed under  l i censes r est r i ct i ng copyi ng,  di st r i but i on & de-com pi l at i on.    13. Project Closure REPORT  14. Implementation  guide /manual  15. Technical Support commitment  16. Deliverables signoffs  Please note that all management related templates to be provided through upcoming bidding process  (to short listed nominations only ). 7 Project Terms & C onditions   Tender Evaluation C riteria  The award criterion will be “the most economically advantageous” tender that includes the requested services. Apart from this criterion, the evaluati on will be based on the following evaluation criteria listed in order of priority:   The table below provides an indicative representation of the marks distribution for technical evaluation. The Actual  Criteria will be finalized by the evaluation committee.   Category Criteria  Weight of category (%) 1. Company Profile (References &  Related Experience)   10 2. Compliance with requirements:  1. (Functional ) 2. (Non-Functional)   30 3. Project Implementation Approach  10 4. Propo sed project team  Structure,  Size, Technical expert ise and Number of years of experience  in implementing wireless network infrastructure.  10 Total - Technical Evaluation - (60%) 60 Financial Evaluation / proposal - (40%) 40 Total of 100%  100      3In addition to national policies, individual states and the District of Columbia can affect health insurance coverage by making Marketplace or Medicaid more accessible and affordable. This variation may be more or less pronounced across states. Missouri and Oklahoma expanded Medicaid eligibility under the Patient Protection and Affordable Care Act (ACA) in 2022, leaving only twelve states without expanded Medicaid eligibility, primarily in the South and parts 1 The Bureau of Labor Statistics reported increases in national employment from 2021 to 2022. More information is available at <www.bls.gov/opub/mlr/2023/article/unemployment-rate-returned-to-its-prepandemic-level-in-2022.htm> /n Answer the question What is scope of work for MPDA?\""
            ],
            "application/vnd.google.colaboratory.intrinsic+json": {
              "type": "string"
            }
          },
          "metadata": {},
          "execution_count": 81
        }
      ]
    },
    {
      "cell_type": "code",
      "source": [
        "!pip install langchain\n",
        "!pip install ctransformers\n",
        "!pip install ctransformers[cuda]\n"
      ],
      "metadata": {
        "colab": {
          "base_uri": "https://localhost:8080/"
        },
        "collapsed": true,
        "id": "uSLTF22UpjsX",
        "outputId": "4a096002-29c1-4d05-d3b3-60a20e0a9bc9"
      },
      "execution_count": null,
      "outputs": [
        {
          "output_type": "stream",
          "name": "stdout",
          "text": [
            "Collecting langchain\n",
            "  Downloading langchain-0.2.15-py3-none-any.whl.metadata (7.1 kB)\n",
            "Requirement already satisfied: PyYAML>=5.3 in /usr/local/lib/python3.10/dist-packages (from langchain) (6.0.2)\n",
            "Requirement already satisfied: SQLAlchemy<3,>=1.4 in /usr/local/lib/python3.10/dist-packages (from langchain) (2.0.32)\n",
            "Requirement already satisfied: aiohttp<4.0.0,>=3.8.3 in /usr/local/lib/python3.10/dist-packages (from langchain) (3.10.5)\n",
            "Requirement already satisfied: async-timeout<5.0.0,>=4.0.0 in /usr/local/lib/python3.10/dist-packages (from langchain) (4.0.3)\n",
            "Collecting langchain-core<0.3.0,>=0.2.35 (from langchain)\n",
            "  Downloading langchain_core-0.2.37-py3-none-any.whl.metadata (6.2 kB)\n",
            "Collecting langchain-text-splitters<0.3.0,>=0.2.0 (from langchain)\n",
            "  Downloading langchain_text_splitters-0.2.2-py3-none-any.whl.metadata (2.1 kB)\n",
            "Collecting langsmith<0.2.0,>=0.1.17 (from langchain)\n",
            "  Downloading langsmith-0.1.108-py3-none-any.whl.metadata (13 kB)\n",
            "Requirement already satisfied: numpy<2,>=1 in /usr/local/lib/python3.10/dist-packages (from langchain) (1.26.4)\n",
            "Requirement already satisfied: pydantic<3,>=1 in /usr/local/lib/python3.10/dist-packages (from langchain) (2.8.2)\n",
            "Requirement already satisfied: requests<3,>=2 in /usr/local/lib/python3.10/dist-packages (from langchain) (2.32.3)\n",
            "Collecting tenacity!=8.4.0,<9.0.0,>=8.1.0 (from langchain)\n",
            "  Downloading tenacity-8.5.0-py3-none-any.whl.metadata (1.2 kB)\n",
            "Requirement already satisfied: aiohappyeyeballs>=2.3.0 in /usr/local/lib/python3.10/dist-packages (from aiohttp<4.0.0,>=3.8.3->langchain) (2.4.0)\n",
            "Requirement already satisfied: aiosignal>=1.1.2 in /usr/local/lib/python3.10/dist-packages (from aiohttp<4.0.0,>=3.8.3->langchain) (1.3.1)\n",
            "Requirement already satisfied: attrs>=17.3.0 in /usr/local/lib/python3.10/dist-packages (from aiohttp<4.0.0,>=3.8.3->langchain) (24.2.0)\n",
            "Requirement already satisfied: frozenlist>=1.1.1 in /usr/local/lib/python3.10/dist-packages (from aiohttp<4.0.0,>=3.8.3->langchain) (1.4.1)\n",
            "Requirement already satisfied: multidict<7.0,>=4.5 in /usr/local/lib/python3.10/dist-packages (from aiohttp<4.0.0,>=3.8.3->langchain) (6.0.5)\n",
            "Requirement already satisfied: yarl<2.0,>=1.0 in /usr/local/lib/python3.10/dist-packages (from aiohttp<4.0.0,>=3.8.3->langchain) (1.9.4)\n",
            "Collecting jsonpatch<2.0,>=1.33 (from langchain-core<0.3.0,>=0.2.35->langchain)\n",
            "  Downloading jsonpatch-1.33-py2.py3-none-any.whl.metadata (3.0 kB)\n",
            "Requirement already satisfied: packaging<25,>=23.2 in /usr/local/lib/python3.10/dist-packages (from langchain-core<0.3.0,>=0.2.35->langchain) (24.1)\n",
            "Requirement already satisfied: typing-extensions>=4.7 in /usr/local/lib/python3.10/dist-packages (from langchain-core<0.3.0,>=0.2.35->langchain) (4.12.2)\n",
            "Collecting httpx<1,>=0.23.0 (from langsmith<0.2.0,>=0.1.17->langchain)\n",
            "  Downloading httpx-0.27.2-py3-none-any.whl.metadata (7.1 kB)\n",
            "Collecting orjson<4.0.0,>=3.9.14 (from langsmith<0.2.0,>=0.1.17->langchain)\n",
            "  Downloading orjson-3.10.7-cp310-cp310-manylinux_2_17_x86_64.manylinux2014_x86_64.whl.metadata (50 kB)\n",
            "\u001b[2K     \u001b[90m━━━━━━━━━━━━━━━━━━━━━━━━━━━━━━━━━━━━━━━━\u001b[0m \u001b[32m50.4/50.4 kB\u001b[0m \u001b[31m4.8 MB/s\u001b[0m eta \u001b[36m0:00:00\u001b[0m\n",
            "\u001b[?25hRequirement already satisfied: annotated-types>=0.4.0 in /usr/local/lib/python3.10/dist-packages (from pydantic<3,>=1->langchain) (0.7.0)\n",
            "Requirement already satisfied: pydantic-core==2.20.1 in /usr/local/lib/python3.10/dist-packages (from pydantic<3,>=1->langchain) (2.20.1)\n",
            "Requirement already satisfied: charset-normalizer<4,>=2 in /usr/local/lib/python3.10/dist-packages (from requests<3,>=2->langchain) (3.3.2)\n",
            "Requirement already satisfied: idna<4,>=2.5 in /usr/local/lib/python3.10/dist-packages (from requests<3,>=2->langchain) (3.8)\n",
            "Requirement already satisfied: urllib3<3,>=1.21.1 in /usr/local/lib/python3.10/dist-packages (from requests<3,>=2->langchain) (2.0.7)\n",
            "Requirement already satisfied: certifi>=2017.4.17 in /usr/local/lib/python3.10/dist-packages (from requests<3,>=2->langchain) (2024.7.4)\n",
            "Requirement already satisfied: greenlet!=0.4.17 in /usr/local/lib/python3.10/dist-packages (from SQLAlchemy<3,>=1.4->langchain) (3.0.3)\n",
            "Requirement already satisfied: anyio in /usr/local/lib/python3.10/dist-packages (from httpx<1,>=0.23.0->langsmith<0.2.0,>=0.1.17->langchain) (3.7.1)\n",
            "Collecting httpcore==1.* (from httpx<1,>=0.23.0->langsmith<0.2.0,>=0.1.17->langchain)\n",
            "  Downloading httpcore-1.0.5-py3-none-any.whl.metadata (20 kB)\n",
            "Requirement already satisfied: sniffio in /usr/local/lib/python3.10/dist-packages (from httpx<1,>=0.23.0->langsmith<0.2.0,>=0.1.17->langchain) (1.3.1)\n",
            "Collecting h11<0.15,>=0.13 (from httpcore==1.*->httpx<1,>=0.23.0->langsmith<0.2.0,>=0.1.17->langchain)\n",
            "  Downloading h11-0.14.0-py3-none-any.whl.metadata (8.2 kB)\n",
            "Collecting jsonpointer>=1.9 (from jsonpatch<2.0,>=1.33->langchain-core<0.3.0,>=0.2.35->langchain)\n",
            "  Downloading jsonpointer-3.0.0-py2.py3-none-any.whl.metadata (2.3 kB)\n",
            "Requirement already satisfied: exceptiongroup in /usr/local/lib/python3.10/dist-packages (from anyio->httpx<1,>=0.23.0->langsmith<0.2.0,>=0.1.17->langchain) (1.2.2)\n",
            "Downloading langchain-0.2.15-py3-none-any.whl (1.0 MB)\n",
            "\u001b[2K   \u001b[90m━━━━━━━━━━━━━━━━━━━━━━━━━━━━━━━━━━━━━━━━\u001b[0m \u001b[32m1.0/1.0 MB\u001b[0m \u001b[31m53.6 MB/s\u001b[0m eta \u001b[36m0:00:00\u001b[0m\n",
            "\u001b[?25hDownloading langchain_core-0.2.37-py3-none-any.whl (396 kB)\n",
            "\u001b[2K   \u001b[90m━━━━━━━━━━━━━━━━━━━━━━━━━━━━━━━━━━━━━━━━\u001b[0m \u001b[32m396.2/396.2 kB\u001b[0m \u001b[31m37.0 MB/s\u001b[0m eta \u001b[36m0:00:00\u001b[0m\n",
            "\u001b[?25hDownloading langchain_text_splitters-0.2.2-py3-none-any.whl (25 kB)\n",
            "Downloading langsmith-0.1.108-py3-none-any.whl (150 kB)\n",
            "\u001b[2K   \u001b[90m━━━━━━━━━━━━━━━━━━━━━━━━━━━━━━━━━━━━━━━━\u001b[0m \u001b[32m150.7/150.7 kB\u001b[0m \u001b[31m14.8 MB/s\u001b[0m eta \u001b[36m0:00:00\u001b[0m\n",
            "\u001b[?25hDownloading tenacity-8.5.0-py3-none-any.whl (28 kB)\n",
            "Downloading httpx-0.27.2-py3-none-any.whl (76 kB)\n",
            "\u001b[2K   \u001b[90m━━━━━━━━━━━━━━━━━━━━━━━━━━━━━━━━━━━━━━━━\u001b[0m \u001b[32m76.4/76.4 kB\u001b[0m \u001b[31m8.1 MB/s\u001b[0m eta \u001b[36m0:00:00\u001b[0m\n",
            "\u001b[?25hDownloading httpcore-1.0.5-py3-none-any.whl (77 kB)\n",
            "\u001b[2K   \u001b[90m━━━━━━━━━━━━━━━━━━━━━━━━━━━━━━━━━━━━━━━━\u001b[0m \u001b[32m77.9/77.9 kB\u001b[0m \u001b[31m8.0 MB/s\u001b[0m eta \u001b[36m0:00:00\u001b[0m\n",
            "\u001b[?25hDownloading jsonpatch-1.33-py2.py3-none-any.whl (12 kB)\n",
            "Downloading orjson-3.10.7-cp310-cp310-manylinux_2_17_x86_64.manylinux2014_x86_64.whl (141 kB)\n",
            "\u001b[2K   \u001b[90m━━━━━━━━━━━━━━━━━━━━━━━━━━━━━━━━━━━━━━━━\u001b[0m \u001b[32m141.9/141.9 kB\u001b[0m \u001b[31m13.2 MB/s\u001b[0m eta \u001b[36m0:00:00\u001b[0m\n",
            "\u001b[?25hDownloading jsonpointer-3.0.0-py2.py3-none-any.whl (7.6 kB)\n",
            "Downloading h11-0.14.0-py3-none-any.whl (58 kB)\n",
            "\u001b[2K   \u001b[90m━━━━━━━━━━━━━━━━━━━━━━━━━━━━━━━━━━━━━━━━\u001b[0m \u001b[32m58.3/58.3 kB\u001b[0m \u001b[31m6.2 MB/s\u001b[0m eta \u001b[36m0:00:00\u001b[0m\n",
            "\u001b[?25hInstalling collected packages: tenacity, orjson, jsonpointer, h11, jsonpatch, httpcore, httpx, langsmith, langchain-core, langchain-text-splitters, langchain\n",
            "  Attempting uninstall: tenacity\n",
            "    Found existing installation: tenacity 9.0.0\n",
            "    Uninstalling tenacity-9.0.0:\n",
            "      Successfully uninstalled tenacity-9.0.0\n",
            "Successfully installed h11-0.14.0 httpcore-1.0.5 httpx-0.27.2 jsonpatch-1.33 jsonpointer-3.0.0 langchain-0.2.15 langchain-core-0.2.37 langchain-text-splitters-0.2.2 langsmith-0.1.108 orjson-3.10.7 tenacity-8.5.0\n",
            "Collecting ctransformers\n",
            "  Downloading ctransformers-0.2.27-py3-none-any.whl.metadata (17 kB)\n",
            "Requirement already satisfied: huggingface-hub in /usr/local/lib/python3.10/dist-packages (from ctransformers) (0.23.5)\n",
            "Requirement already satisfied: py-cpuinfo<10.0.0,>=9.0.0 in /usr/local/lib/python3.10/dist-packages (from ctransformers) (9.0.0)\n",
            "Requirement already satisfied: filelock in /usr/local/lib/python3.10/dist-packages (from huggingface-hub->ctransformers) (3.15.4)\n",
            "Requirement already satisfied: fsspec>=2023.5.0 in /usr/local/lib/python3.10/dist-packages (from huggingface-hub->ctransformers) (2024.6.1)\n",
            "Requirement already satisfied: packaging>=20.9 in /usr/local/lib/python3.10/dist-packages (from huggingface-hub->ctransformers) (24.1)\n",
            "Requirement already satisfied: pyyaml>=5.1 in /usr/local/lib/python3.10/dist-packages (from huggingface-hub->ctransformers) (6.0.2)\n",
            "Requirement already satisfied: requests in /usr/local/lib/python3.10/dist-packages (from huggingface-hub->ctransformers) (2.32.3)\n",
            "Requirement already satisfied: tqdm>=4.42.1 in /usr/local/lib/python3.10/dist-packages (from huggingface-hub->ctransformers) (4.66.5)\n",
            "Requirement already satisfied: typing-extensions>=3.7.4.3 in /usr/local/lib/python3.10/dist-packages (from huggingface-hub->ctransformers) (4.12.2)\n",
            "Requirement already satisfied: charset-normalizer<4,>=2 in /usr/local/lib/python3.10/dist-packages (from requests->huggingface-hub->ctransformers) (3.3.2)\n",
            "Requirement already satisfied: idna<4,>=2.5 in /usr/local/lib/python3.10/dist-packages (from requests->huggingface-hub->ctransformers) (3.8)\n",
            "Requirement already satisfied: urllib3<3,>=1.21.1 in /usr/local/lib/python3.10/dist-packages (from requests->huggingface-hub->ctransformers) (2.0.7)\n",
            "Requirement already satisfied: certifi>=2017.4.17 in /usr/local/lib/python3.10/dist-packages (from requests->huggingface-hub->ctransformers) (2024.7.4)\n",
            "Downloading ctransformers-0.2.27-py3-none-any.whl (9.9 MB)\n",
            "\u001b[2K   \u001b[90m━━━━━━━━━━━━━━━━━━━━━━━━━━━━━━━━━━━━━━━━\u001b[0m \u001b[32m9.9/9.9 MB\u001b[0m \u001b[31m74.2 MB/s\u001b[0m eta \u001b[36m0:00:00\u001b[0m\n",
            "\u001b[?25hInstalling collected packages: ctransformers\n",
            "Successfully installed ctransformers-0.2.27\n",
            "Requirement already satisfied: ctransformers[cuda] in /usr/local/lib/python3.10/dist-packages (0.2.27)\n",
            "Requirement already satisfied: huggingface-hub in /usr/local/lib/python3.10/dist-packages (from ctransformers[cuda]) (0.23.5)\n",
            "Requirement already satisfied: py-cpuinfo<10.0.0,>=9.0.0 in /usr/local/lib/python3.10/dist-packages (from ctransformers[cuda]) (9.0.0)\n",
            "Collecting nvidia-cublas-cu12 (from ctransformers[cuda])\n",
            "  Downloading nvidia_cublas_cu12-12.6.1.4-py3-none-manylinux2014_x86_64.whl.metadata (1.5 kB)\n",
            "Collecting nvidia-cuda-runtime-cu12 (from ctransformers[cuda])\n",
            "  Downloading nvidia_cuda_runtime_cu12-12.6.68-py3-none-manylinux2014_x86_64.whl.metadata (1.5 kB)\n",
            "Requirement already satisfied: filelock in /usr/local/lib/python3.10/dist-packages (from huggingface-hub->ctransformers[cuda]) (3.15.4)\n",
            "Requirement already satisfied: fsspec>=2023.5.0 in /usr/local/lib/python3.10/dist-packages (from huggingface-hub->ctransformers[cuda]) (2024.6.1)\n",
            "Requirement already satisfied: packaging>=20.9 in /usr/local/lib/python3.10/dist-packages (from huggingface-hub->ctransformers[cuda]) (24.1)\n",
            "Requirement already satisfied: pyyaml>=5.1 in /usr/local/lib/python3.10/dist-packages (from huggingface-hub->ctransformers[cuda]) (6.0.2)\n",
            "Requirement already satisfied: requests in /usr/local/lib/python3.10/dist-packages (from huggingface-hub->ctransformers[cuda]) (2.32.3)\n",
            "Requirement already satisfied: tqdm>=4.42.1 in /usr/local/lib/python3.10/dist-packages (from huggingface-hub->ctransformers[cuda]) (4.66.5)\n",
            "Requirement already satisfied: typing-extensions>=3.7.4.3 in /usr/local/lib/python3.10/dist-packages (from huggingface-hub->ctransformers[cuda]) (4.12.2)\n",
            "Requirement already satisfied: charset-normalizer<4,>=2 in /usr/local/lib/python3.10/dist-packages (from requests->huggingface-hub->ctransformers[cuda]) (3.3.2)\n",
            "Requirement already satisfied: idna<4,>=2.5 in /usr/local/lib/python3.10/dist-packages (from requests->huggingface-hub->ctransformers[cuda]) (3.8)\n",
            "Requirement already satisfied: urllib3<3,>=1.21.1 in /usr/local/lib/python3.10/dist-packages (from requests->huggingface-hub->ctransformers[cuda]) (2.0.7)\n",
            "Requirement already satisfied: certifi>=2017.4.17 in /usr/local/lib/python3.10/dist-packages (from requests->huggingface-hub->ctransformers[cuda]) (2024.7.4)\n",
            "Downloading nvidia_cublas_cu12-12.6.1.4-py3-none-manylinux2014_x86_64.whl (378.9 MB)\n",
            "\u001b[2K   \u001b[90m━━━━━━━━━━━━━━━━━━━━━━━━━━━━━━━━━━━━━━━━\u001b[0m \u001b[32m378.9/378.9 MB\u001b[0m \u001b[31m4.7 MB/s\u001b[0m eta \u001b[36m0:00:00\u001b[0m\n",
            "\u001b[?25hDownloading nvidia_cuda_runtime_cu12-12.6.68-py3-none-manylinux2014_x86_64.whl (897 kB)\n",
            "\u001b[2K   \u001b[90m━━━━━━━━━━━━━━━━━━━━━━━━━━━━━━━━━━━━━━━━\u001b[0m \u001b[32m897.7/897.7 kB\u001b[0m \u001b[31m46.6 MB/s\u001b[0m eta \u001b[36m0:00:00\u001b[0m\n",
            "\u001b[?25hInstalling collected packages: nvidia-cuda-runtime-cu12, nvidia-cublas-cu12\n",
            "Successfully installed nvidia-cublas-cu12-12.6.1.4 nvidia-cuda-runtime-cu12-12.6.68\n"
          ]
        }
      ]
    },
    {
      "cell_type": "code",
      "source": [
        "!pip install langchain-community"
      ],
      "metadata": {
        "colab": {
          "base_uri": "https://localhost:8080/"
        },
        "collapsed": true,
        "id": "YKHeTcZNpm9u",
        "outputId": "5eb252b5-0b8b-4b55-8a1e-4a5da6bd19f5"
      },
      "execution_count": null,
      "outputs": [
        {
          "output_type": "stream",
          "name": "stdout",
          "text": [
            "Collecting langchain-community\n",
            "  Downloading langchain_community-0.2.15-py3-none-any.whl.metadata (2.7 kB)\n",
            "Requirement already satisfied: PyYAML>=5.3 in /usr/local/lib/python3.10/dist-packages (from langchain-community) (6.0.2)\n",
            "Requirement already satisfied: SQLAlchemy<3,>=1.4 in /usr/local/lib/python3.10/dist-packages (from langchain-community) (2.0.32)\n",
            "Requirement already satisfied: aiohttp<4.0.0,>=3.8.3 in /usr/local/lib/python3.10/dist-packages (from langchain-community) (3.10.5)\n",
            "Collecting dataclasses-json<0.7,>=0.5.7 (from langchain-community)\n",
            "  Downloading dataclasses_json-0.6.7-py3-none-any.whl.metadata (25 kB)\n",
            "Requirement already satisfied: langchain<0.3.0,>=0.2.15 in /usr/local/lib/python3.10/dist-packages (from langchain-community) (0.2.15)\n",
            "Requirement already satisfied: langchain-core<0.3.0,>=0.2.37 in /usr/local/lib/python3.10/dist-packages (from langchain-community) (0.2.37)\n",
            "Requirement already satisfied: langsmith<0.2.0,>=0.1.0 in /usr/local/lib/python3.10/dist-packages (from langchain-community) (0.1.108)\n",
            "Requirement already satisfied: numpy<2,>=1 in /usr/local/lib/python3.10/dist-packages (from langchain-community) (1.26.4)\n",
            "Requirement already satisfied: requests<3,>=2 in /usr/local/lib/python3.10/dist-packages (from langchain-community) (2.32.3)\n",
            "Requirement already satisfied: tenacity!=8.4.0,<9.0.0,>=8.1.0 in /usr/local/lib/python3.10/dist-packages (from langchain-community) (8.5.0)\n",
            "Requirement already satisfied: aiohappyeyeballs>=2.3.0 in /usr/local/lib/python3.10/dist-packages (from aiohttp<4.0.0,>=3.8.3->langchain-community) (2.4.0)\n",
            "Requirement already satisfied: aiosignal>=1.1.2 in /usr/local/lib/python3.10/dist-packages (from aiohttp<4.0.0,>=3.8.3->langchain-community) (1.3.1)\n",
            "Requirement already satisfied: attrs>=17.3.0 in /usr/local/lib/python3.10/dist-packages (from aiohttp<4.0.0,>=3.8.3->langchain-community) (24.2.0)\n",
            "Requirement already satisfied: frozenlist>=1.1.1 in /usr/local/lib/python3.10/dist-packages (from aiohttp<4.0.0,>=3.8.3->langchain-community) (1.4.1)\n",
            "Requirement already satisfied: multidict<7.0,>=4.5 in /usr/local/lib/python3.10/dist-packages (from aiohttp<4.0.0,>=3.8.3->langchain-community) (6.0.5)\n",
            "Requirement already satisfied: yarl<2.0,>=1.0 in /usr/local/lib/python3.10/dist-packages (from aiohttp<4.0.0,>=3.8.3->langchain-community) (1.9.4)\n",
            "Requirement already satisfied: async-timeout<5.0,>=4.0 in /usr/local/lib/python3.10/dist-packages (from aiohttp<4.0.0,>=3.8.3->langchain-community) (4.0.3)\n",
            "Collecting marshmallow<4.0.0,>=3.18.0 (from dataclasses-json<0.7,>=0.5.7->langchain-community)\n",
            "  Downloading marshmallow-3.22.0-py3-none-any.whl.metadata (7.2 kB)\n",
            "Collecting typing-inspect<1,>=0.4.0 (from dataclasses-json<0.7,>=0.5.7->langchain-community)\n",
            "  Downloading typing_inspect-0.9.0-py3-none-any.whl.metadata (1.5 kB)\n",
            "Requirement already satisfied: langchain-text-splitters<0.3.0,>=0.2.0 in /usr/local/lib/python3.10/dist-packages (from langchain<0.3.0,>=0.2.15->langchain-community) (0.2.2)\n",
            "Requirement already satisfied: pydantic<3,>=1 in /usr/local/lib/python3.10/dist-packages (from langchain<0.3.0,>=0.2.15->langchain-community) (2.8.2)\n",
            "Requirement already satisfied: jsonpatch<2.0,>=1.33 in /usr/local/lib/python3.10/dist-packages (from langchain-core<0.3.0,>=0.2.37->langchain-community) (1.33)\n",
            "Requirement already satisfied: packaging<25,>=23.2 in /usr/local/lib/python3.10/dist-packages (from langchain-core<0.3.0,>=0.2.37->langchain-community) (24.1)\n",
            "Requirement already satisfied: typing-extensions>=4.7 in /usr/local/lib/python3.10/dist-packages (from langchain-core<0.3.0,>=0.2.37->langchain-community) (4.12.2)\n",
            "Requirement already satisfied: httpx<1,>=0.23.0 in /usr/local/lib/python3.10/dist-packages (from langsmith<0.2.0,>=0.1.0->langchain-community) (0.27.2)\n",
            "Requirement already satisfied: orjson<4.0.0,>=3.9.14 in /usr/local/lib/python3.10/dist-packages (from langsmith<0.2.0,>=0.1.0->langchain-community) (3.10.7)\n",
            "Requirement already satisfied: charset-normalizer<4,>=2 in /usr/local/lib/python3.10/dist-packages (from requests<3,>=2->langchain-community) (3.3.2)\n",
            "Requirement already satisfied: idna<4,>=2.5 in /usr/local/lib/python3.10/dist-packages (from requests<3,>=2->langchain-community) (3.8)\n",
            "Requirement already satisfied: urllib3<3,>=1.21.1 in /usr/local/lib/python3.10/dist-packages (from requests<3,>=2->langchain-community) (2.0.7)\n",
            "Requirement already satisfied: certifi>=2017.4.17 in /usr/local/lib/python3.10/dist-packages (from requests<3,>=2->langchain-community) (2024.7.4)\n",
            "Requirement already satisfied: greenlet!=0.4.17 in /usr/local/lib/python3.10/dist-packages (from SQLAlchemy<3,>=1.4->langchain-community) (3.0.3)\n",
            "Requirement already satisfied: anyio in /usr/local/lib/python3.10/dist-packages (from httpx<1,>=0.23.0->langsmith<0.2.0,>=0.1.0->langchain-community) (3.7.1)\n",
            "Requirement already satisfied: httpcore==1.* in /usr/local/lib/python3.10/dist-packages (from httpx<1,>=0.23.0->langsmith<0.2.0,>=0.1.0->langchain-community) (1.0.5)\n",
            "Requirement already satisfied: sniffio in /usr/local/lib/python3.10/dist-packages (from httpx<1,>=0.23.0->langsmith<0.2.0,>=0.1.0->langchain-community) (1.3.1)\n",
            "Requirement already satisfied: h11<0.15,>=0.13 in /usr/local/lib/python3.10/dist-packages (from httpcore==1.*->httpx<1,>=0.23.0->langsmith<0.2.0,>=0.1.0->langchain-community) (0.14.0)\n",
            "Requirement already satisfied: jsonpointer>=1.9 in /usr/local/lib/python3.10/dist-packages (from jsonpatch<2.0,>=1.33->langchain-core<0.3.0,>=0.2.37->langchain-community) (3.0.0)\n",
            "Requirement already satisfied: annotated-types>=0.4.0 in /usr/local/lib/python3.10/dist-packages (from pydantic<3,>=1->langchain<0.3.0,>=0.2.15->langchain-community) (0.7.0)\n",
            "Requirement already satisfied: pydantic-core==2.20.1 in /usr/local/lib/python3.10/dist-packages (from pydantic<3,>=1->langchain<0.3.0,>=0.2.15->langchain-community) (2.20.1)\n",
            "Collecting mypy-extensions>=0.3.0 (from typing-inspect<1,>=0.4.0->dataclasses-json<0.7,>=0.5.7->langchain-community)\n",
            "  Downloading mypy_extensions-1.0.0-py3-none-any.whl.metadata (1.1 kB)\n",
            "Requirement already satisfied: exceptiongroup in /usr/local/lib/python3.10/dist-packages (from anyio->httpx<1,>=0.23.0->langsmith<0.2.0,>=0.1.0->langchain-community) (1.2.2)\n",
            "Downloading langchain_community-0.2.15-py3-none-any.whl (2.3 MB)\n",
            "\u001b[2K   \u001b[90m━━━━━━━━━━━━━━━━━━━━━━━━━━━━━━━━━━━━━━━━\u001b[0m \u001b[32m2.3/2.3 MB\u001b[0m \u001b[31m81.8 MB/s\u001b[0m eta \u001b[36m0:00:00\u001b[0m\n",
            "\u001b[?25hDownloading dataclasses_json-0.6.7-py3-none-any.whl (28 kB)\n",
            "Downloading marshmallow-3.22.0-py3-none-any.whl (49 kB)\n",
            "\u001b[2K   \u001b[90m━━━━━━━━━━━━━━━━━━━━━━━━━━━━━━━━━━━━━━━━\u001b[0m \u001b[32m49.3/49.3 kB\u001b[0m \u001b[31m5.3 MB/s\u001b[0m eta \u001b[36m0:00:00\u001b[0m\n",
            "\u001b[?25hDownloading typing_inspect-0.9.0-py3-none-any.whl (8.8 kB)\n",
            "Downloading mypy_extensions-1.0.0-py3-none-any.whl (4.7 kB)\n",
            "Installing collected packages: mypy-extensions, marshmallow, typing-inspect, dataclasses-json, langchain-community\n",
            "Successfully installed dataclasses-json-0.6.7 langchain-community-0.2.15 marshmallow-3.22.0 mypy-extensions-1.0.0 typing-inspect-0.9.0\n"
          ]
        }
      ]
    },
    {
      "cell_type": "code",
      "source": [
        "import os\n",
        "from langchain.llms import CTransformers"
      ],
      "metadata": {
        "id": "4X_KX0CRlR__"
      },
      "execution_count": null,
      "outputs": []
    },
    {
      "cell_type": "code",
      "source": [
        "from langchain.callbacks.streaming_stdout import StreamingStdOutCallbackHandler"
      ],
      "metadata": {
        "id": "u4V_ySIzp7xF"
      },
      "execution_count": null,
      "outputs": []
    },
    {
      "cell_type": "code",
      "source": [
        "# os.environ['XDG_CACHE_HOME'] = '/content/LLM_data/model/cache'\n",
        "# model_id = 'TheBloke/Orca-2-13B-GGUF'\n",
        "\n",
        "# config = {'temperature':0.00,'max_new_tokens': 512, 'context_length':4000,'gpu_layers':50,'repetition_penalty':1 }\n",
        "# llm = CTransformers(model=model_id,\n",
        "#                     model_type=\"llama\",\n",
        "#                     gpu_layers=50,\n",
        "#                     device = 0,\n",
        "#                     config=config,\n",
        "#                     callbacks=[StreamingStdOutCallbackHandler()],\n",
        "#                    )"
      ],
      "metadata": {
        "colab": {
          "base_uri": "https://localhost:8080/",
          "height": 145,
          "referenced_widgets": [
            "fa8bd7a7b155431b8b81247516fbfeb1",
            "0da02506e8fa4fd295073f19831688e2",
            "5ffbef1cc7814a908910cedf03e98ae9",
            "523f922652a348d381ad00dd3f0b71a0",
            "bc3a32acab32481eb81bcb4eb3eea773",
            "9e85379ae3d240a78e7126928e3a3664",
            "0d0fa59ecc0246e0a969a90f5d8f429b",
            "e69245ec18584bb1b5bda213c9271247",
            "b3b5cd69556643ac9dc1e536ee35e270",
            "43a9550ce84b4c20918e9a583d79855a",
            "23e062b0b7e8476489727563fa8dd60a",
            "081aa99b83d1469880053057ebfac845",
            "2d0dbc59309f46f7bd322e4591061f90",
            "4c07df6b0fbb47308bc4e4bd6d970b86",
            "b13eeef2c1324e0d8b4ddf6af256af50",
            "872599c2484e4c8ea9779e9409596e25",
            "8a802258276149ceabe8e88fe716e308",
            "6745e1f034ad44feba17d107c37c9dc6",
            "77f7fffa43e0414c939520730f68b365",
            "90c5fa3c9c3041359e75538d7c752b6a",
            "bf1be688888e4b668add5883edad616c",
            "e7e8ab3ede8746839477081958d90c6a",
            "ff052be1f2124d17a85a709501843c52",
            "ff2c96c056584e66ad513847870185c1",
            "36cf148266dc4ab69e57f6c6457ce8a4",
            "317c6022c02746838a84a979a17f8b25",
            "bfb99a125c814aaeaed03c20e22988f5",
            "d672ee8d1b154eec8705dcf5bfd0eb44",
            "597c514cb69a4ae3b7e4ed6c026ad881",
            "a837c5470f8b489ab7c693c72ead2c25",
            "a4cbcbfa7e8d44a8815d7c0a102659ec",
            "2d7b41663ad14428812649801ff62b99",
            "df80589d07f34be0b54dea2de3c93d3b",
            "1c2c4cc8efc044fd88fb0c67186ad172",
            "02d5e8709b4e4cadb7e8cd713b634473",
            "e743feb763da4f94b43d6a72be2dfc1e",
            "9c3ef08309104738bc77e58868bf772c",
            "f746dba9a9484db9889d01f3c7ded62f",
            "116e25bd6afb4713aab7251d924acbff",
            "cc1eaade6409493592c76a5f2bb5c6b2",
            "959ffc0fa4d34a0b90a5dfa99d42edb2",
            "252a695ca9804af1b63d8693ae4434de",
            "5f3b56367f614baaa80c926bf38fc47b",
            "67d9d1511bb54b47811c37345aad83f3"
          ]
        },
        "id": "AM0HgufGlR-I",
        "outputId": "dc37acbe-dd92-4863-e909-1e08add5e3ed"
      },
      "execution_count": null,
      "outputs": [
        {
          "output_type": "display_data",
          "data": {
            "text/plain": [
              "Fetching 1 files:   0%|          | 0/1 [00:00<?, ?it/s]"
            ],
            "application/vnd.jupyter.widget-view+json": {
              "version_major": 2,
              "version_minor": 0,
              "model_id": "fa8bd7a7b155431b8b81247516fbfeb1"
            }
          },
          "metadata": {}
        },
        {
          "output_type": "display_data",
          "data": {
            "text/plain": [
              "config.json:   0%|          | 0.00/29.0 [00:00<?, ?B/s]"
            ],
            "application/vnd.jupyter.widget-view+json": {
              "version_major": 2,
              "version_minor": 0,
              "model_id": "081aa99b83d1469880053057ebfac845"
            }
          },
          "metadata": {}
        },
        {
          "output_type": "display_data",
          "data": {
            "text/plain": [
              "Fetching 1 files:   0%|          | 0/1 [00:00<?, ?it/s]"
            ],
            "application/vnd.jupyter.widget-view+json": {
              "version_major": 2,
              "version_minor": 0,
              "model_id": "ff052be1f2124d17a85a709501843c52"
            }
          },
          "metadata": {}
        },
        {
          "output_type": "display_data",
          "data": {
            "text/plain": [
              "orca-2-13b.Q2_K.gguf:   0%|          | 0.00/5.43G [00:00<?, ?B/s]"
            ],
            "application/vnd.jupyter.widget-view+json": {
              "version_major": 2,
              "version_minor": 0,
              "model_id": "1c2c4cc8efc044fd88fb0c67186ad172"
            }
          },
          "metadata": {}
        }
      ]
    },
    {
      "cell_type": "code",
      "source": [
        "# llm(prompt)"
      ],
      "metadata": {
        "colab": {
          "base_uri": "https://localhost:8080/"
        },
        "id": "_oINqzbQlR7-",
        "outputId": "a7a8a2a4-27d8-4753-8616-91d027a79a4c"
      },
      "execution_count": null,
      "outputs": [
        {
          "output_type": "stream",
          "name": "stderr",
          "text": [
            "<ipython-input-70-5b4e25c8175c>:1: LangChainDeprecationWarning: The method `BaseLLM.__call__` was deprecated in langchain-core 0.1.7 and will be removed in 1.0. Use invoke instead.\n",
            "  llm(prompt)\n",
            "WARNING:ctransformers:Number of tokens (6942) exceeded maximum context length (4000).\n"
          ]
        }
      ]
    },
    {
      "cell_type": "code",
      "source": [
        "!pip install groq"
      ],
      "metadata": {
        "colab": {
          "base_uri": "https://localhost:8080/"
        },
        "id": "NYy8gBWv4hit",
        "outputId": "17bf8394-11fa-46f4-8bf1-e384119d77b7"
      },
      "execution_count": null,
      "outputs": [
        {
          "output_type": "stream",
          "name": "stdout",
          "text": [
            "Collecting groq\n",
            "  Downloading groq-0.10.0-py3-none-any.whl.metadata (13 kB)\n",
            "Requirement already satisfied: anyio<5,>=3.5.0 in /usr/local/lib/python3.10/dist-packages (from groq) (3.7.1)\n",
            "Requirement already satisfied: distro<2,>=1.7.0 in /usr/lib/python3/dist-packages (from groq) (1.7.0)\n",
            "Requirement already satisfied: httpx<1,>=0.23.0 in /usr/local/lib/python3.10/dist-packages (from groq) (0.27.2)\n",
            "Requirement already satisfied: pydantic<3,>=1.9.0 in /usr/local/lib/python3.10/dist-packages (from groq) (2.8.2)\n",
            "Requirement already satisfied: sniffio in /usr/local/lib/python3.10/dist-packages (from groq) (1.3.1)\n",
            "Requirement already satisfied: typing-extensions<5,>=4.7 in /usr/local/lib/python3.10/dist-packages (from groq) (4.12.2)\n",
            "Requirement already satisfied: idna>=2.8 in /usr/local/lib/python3.10/dist-packages (from anyio<5,>=3.5.0->groq) (3.8)\n",
            "Requirement already satisfied: exceptiongroup in /usr/local/lib/python3.10/dist-packages (from anyio<5,>=3.5.0->groq) (1.2.2)\n",
            "Requirement already satisfied: certifi in /usr/local/lib/python3.10/dist-packages (from httpx<1,>=0.23.0->groq) (2024.7.4)\n",
            "Requirement already satisfied: httpcore==1.* in /usr/local/lib/python3.10/dist-packages (from httpx<1,>=0.23.0->groq) (1.0.5)\n",
            "Requirement already satisfied: h11<0.15,>=0.13 in /usr/local/lib/python3.10/dist-packages (from httpcore==1.*->httpx<1,>=0.23.0->groq) (0.14.0)\n",
            "Requirement already satisfied: annotated-types>=0.4.0 in /usr/local/lib/python3.10/dist-packages (from pydantic<3,>=1.9.0->groq) (0.7.0)\n",
            "Requirement already satisfied: pydantic-core==2.20.1 in /usr/local/lib/python3.10/dist-packages (from pydantic<3,>=1.9.0->groq) (2.20.1)\n",
            "Downloading groq-0.10.0-py3-none-any.whl (106 kB)\n",
            "\u001b[?25l   \u001b[90m━━━━━━━━━━━━━━━━━━━━━━━━━━━━━━━━━━━━━━━━\u001b[0m \u001b[32m0.0/106.3 kB\u001b[0m \u001b[31m?\u001b[0m eta \u001b[36m-:--:--\u001b[0m\r\u001b[2K   \u001b[90m━━━━━━━━━━━━━━━━━━━━━━━━━━━━━━━━━━━━━━━━\u001b[0m \u001b[32m106.3/106.3 kB\u001b[0m \u001b[31m8.8 MB/s\u001b[0m eta \u001b[36m0:00:00\u001b[0m\n",
            "\u001b[?25hInstalling collected packages: groq\n",
            "Successfully installed groq-0.10.0\n"
          ]
        }
      ]
    },
    {
      "cell_type": "code",
      "source": [
        "!pip install langchain-groq"
      ],
      "metadata": {
        "colab": {
          "base_uri": "https://localhost:8080/"
        },
        "id": "Ts9mNPFn6AV5",
        "outputId": "154fbbaa-7e98-4dd2-806d-461e123bd96a"
      },
      "execution_count": null,
      "outputs": [
        {
          "output_type": "stream",
          "name": "stdout",
          "text": [
            "Collecting langchain-groq\n",
            "  Downloading langchain_groq-0.1.9-py3-none-any.whl.metadata (2.9 kB)\n",
            "Requirement already satisfied: groq<1,>=0.4.1 in /usr/local/lib/python3.10/dist-packages (from langchain-groq) (0.10.0)\n",
            "Requirement already satisfied: langchain-core<0.3.0,>=0.2.26 in /usr/local/lib/python3.10/dist-packages (from langchain-groq) (0.2.37)\n",
            "Requirement already satisfied: anyio<5,>=3.5.0 in /usr/local/lib/python3.10/dist-packages (from groq<1,>=0.4.1->langchain-groq) (3.7.1)\n",
            "Requirement already satisfied: distro<2,>=1.7.0 in /usr/lib/python3/dist-packages (from groq<1,>=0.4.1->langchain-groq) (1.7.0)\n",
            "Requirement already satisfied: httpx<1,>=0.23.0 in /usr/local/lib/python3.10/dist-packages (from groq<1,>=0.4.1->langchain-groq) (0.27.2)\n",
            "Requirement already satisfied: pydantic<3,>=1.9.0 in /usr/local/lib/python3.10/dist-packages (from groq<1,>=0.4.1->langchain-groq) (2.8.2)\n",
            "Requirement already satisfied: sniffio in /usr/local/lib/python3.10/dist-packages (from groq<1,>=0.4.1->langchain-groq) (1.3.1)\n",
            "Requirement already satisfied: typing-extensions<5,>=4.7 in /usr/local/lib/python3.10/dist-packages (from groq<1,>=0.4.1->langchain-groq) (4.12.2)\n",
            "Requirement already satisfied: PyYAML>=5.3 in /usr/local/lib/python3.10/dist-packages (from langchain-core<0.3.0,>=0.2.26->langchain-groq) (6.0.2)\n",
            "Requirement already satisfied: jsonpatch<2.0,>=1.33 in /usr/local/lib/python3.10/dist-packages (from langchain-core<0.3.0,>=0.2.26->langchain-groq) (1.33)\n",
            "Requirement already satisfied: langsmith<0.2.0,>=0.1.75 in /usr/local/lib/python3.10/dist-packages (from langchain-core<0.3.0,>=0.2.26->langchain-groq) (0.1.108)\n",
            "Requirement already satisfied: packaging<25,>=23.2 in /usr/local/lib/python3.10/dist-packages (from langchain-core<0.3.0,>=0.2.26->langchain-groq) (24.1)\n",
            "Requirement already satisfied: tenacity!=8.4.0,<9.0.0,>=8.1.0 in /usr/local/lib/python3.10/dist-packages (from langchain-core<0.3.0,>=0.2.26->langchain-groq) (8.5.0)\n",
            "Requirement already satisfied: idna>=2.8 in /usr/local/lib/python3.10/dist-packages (from anyio<5,>=3.5.0->groq<1,>=0.4.1->langchain-groq) (3.8)\n",
            "Requirement already satisfied: exceptiongroup in /usr/local/lib/python3.10/dist-packages (from anyio<5,>=3.5.0->groq<1,>=0.4.1->langchain-groq) (1.2.2)\n",
            "Requirement already satisfied: certifi in /usr/local/lib/python3.10/dist-packages (from httpx<1,>=0.23.0->groq<1,>=0.4.1->langchain-groq) (2024.7.4)\n",
            "Requirement already satisfied: httpcore==1.* in /usr/local/lib/python3.10/dist-packages (from httpx<1,>=0.23.0->groq<1,>=0.4.1->langchain-groq) (1.0.5)\n",
            "Requirement already satisfied: h11<0.15,>=0.13 in /usr/local/lib/python3.10/dist-packages (from httpcore==1.*->httpx<1,>=0.23.0->groq<1,>=0.4.1->langchain-groq) (0.14.0)\n",
            "Requirement already satisfied: jsonpointer>=1.9 in /usr/local/lib/python3.10/dist-packages (from jsonpatch<2.0,>=1.33->langchain-core<0.3.0,>=0.2.26->langchain-groq) (3.0.0)\n",
            "Requirement already satisfied: orjson<4.0.0,>=3.9.14 in /usr/local/lib/python3.10/dist-packages (from langsmith<0.2.0,>=0.1.75->langchain-core<0.3.0,>=0.2.26->langchain-groq) (3.10.7)\n",
            "Requirement already satisfied: requests<3,>=2 in /usr/local/lib/python3.10/dist-packages (from langsmith<0.2.0,>=0.1.75->langchain-core<0.3.0,>=0.2.26->langchain-groq) (2.32.3)\n",
            "Requirement already satisfied: annotated-types>=0.4.0 in /usr/local/lib/python3.10/dist-packages (from pydantic<3,>=1.9.0->groq<1,>=0.4.1->langchain-groq) (0.7.0)\n",
            "Requirement already satisfied: pydantic-core==2.20.1 in /usr/local/lib/python3.10/dist-packages (from pydantic<3,>=1.9.0->groq<1,>=0.4.1->langchain-groq) (2.20.1)\n",
            "Requirement already satisfied: charset-normalizer<4,>=2 in /usr/local/lib/python3.10/dist-packages (from requests<3,>=2->langsmith<0.2.0,>=0.1.75->langchain-core<0.3.0,>=0.2.26->langchain-groq) (3.3.2)\n",
            "Requirement already satisfied: urllib3<3,>=1.21.1 in /usr/local/lib/python3.10/dist-packages (from requests<3,>=2->langsmith<0.2.0,>=0.1.75->langchain-core<0.3.0,>=0.2.26->langchain-groq) (2.0.7)\n",
            "Downloading langchain_groq-0.1.9-py3-none-any.whl (14 kB)\n",
            "Installing collected packages: langchain-groq\n",
            "Successfully installed langchain-groq-0.1.9\n"
          ]
        }
      ]
    },
    {
      "cell_type": "code",
      "source": [
        "from langchain_groq import ChatGroq"
      ],
      "metadata": {
        "id": "ZUtU2na64k3S"
      },
      "execution_count": null,
      "outputs": []
    },
    {
      "cell_type": "code",
      "source": [
        "groq_api_key=\"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\"\n",
        "\n",
        "# st.title(\"Objectbox VectorstoreDB With Llama3 Demo\")\n",
        "\n",
        "llm=ChatGroq(groq_api_key=groq_api_key,\n",
        "             model_name=\"Llama3-8b-8192\")"
      ],
      "metadata": {
        "id": "l_ZReUuJlR5a"
      },
      "execution_count": null,
      "outputs": []
    },
    {
      "cell_type": "code",
      "source": [
        "response = llm.invoke(prompt)"
      ],
      "metadata": {
        "id": "-7OXbAh1lR3c"
      },
      "execution_count": null,
      "outputs": []
    },
    {
      "cell_type": "code",
      "source": [
        "response.content"
      ],
      "metadata": {
        "colab": {
          "base_uri": "https://localhost:8080/",
          "height": 157
        },
        "id": "74bxu8XZlR1B",
        "outputId": "f0287fb1-806d-4d68-a32d-fac2d00b2436"
      },
      "execution_count": null,
      "outputs": [
        {
          "output_type": "execute_result",
          "data": {
            "text/plain": [
              "\"The scope of work for MPDA entails the implementation of a new API architecture aimed at enhancing integration and interoperability capabilities across both internal applications and external strategic partners. The project involves the deployment of the new architecture, coupled with product implementation, migration from the current ASAB 1.0 to the new ASAB 2.0, and post-project support.\\n\\nThe key aspects of the project scope include:\\n\\n1. Adoption of a proven and industry-standard solution based on Open-API principles, ensuring comprehensive documentation, enhanced security, and real-time integration capabilities.\\n2. Focus on improving visibility of existing APIs, reducing time-to-market, and simplifying complex operations and troubleshooting processes.\\n3. Implementation of the API Management solution and seamless integration with existing application systems, including migration to the new ASAB 2.0.\\n4. Design and development of a robust and scalable API architecture meeting MPDA's integration requirements for seamless connectivity with internal and external systems.\\n5. Development of APIs with advanced functionality to enable secure data exchange and communication between various applications and systems.\\n6. Facilitation of a smooth migration process for existing systems and data to the new API solution, minimizing disruptions to operations.\\n7. Efficient execution of APIs to allow for real-time data access and processing.\\n8. Implementation of comprehensive logging mechanisms to track API usage, monitor performance, and troubleshoot issues effectively.\\n9. Configuration of API routing rules to direct incoming requests to appropriate endpoints based on predefined criteria.\\n10. Establishment of monitoring tools and processes to continuously monitor API performance, identify potential bottlenecks or failures, and take proactive measures to optimize performance.\\n11. Provision of insights and analytics capabilities to gain valuable insights into API usage patterns, user behavior, and system performance with the ability to integrate with MPDA systems.\""
            ],
            "application/vnd.google.colaboratory.intrinsic+json": {
              "type": "string"
            }
          },
          "metadata": {},
          "execution_count": 83
        }
      ]
    },
    {
      "cell_type": "code",
      "source": [],
      "metadata": {
        "id": "ply9X4D0lRyv"
      },
      "execution_count": null,
      "outputs": []
    },
    {
      "cell_type": "code",
      "source": [],
      "metadata": {
        "id": "QJXdA75alRwC"
      },
      "execution_count": null,
      "outputs": []
    },
    {
      "cell_type": "code",
      "source": [],
      "metadata": {
        "id": "mGi1TUOXlRsL"
      },
      "execution_count": null,
      "outputs": []
    },
    {
      "cell_type": "code",
      "source": [
        "len(books.global_doc_embeddings)"
      ],
      "metadata": {
        "colab": {
          "base_uri": "https://localhost:8080/"
        },
        "id": "V40B6hFXksdK",
        "outputId": "486a2464-2830-45e4-efab-fe6ef0d383dd"
      },
      "execution_count": null,
      "outputs": [
        {
          "output_type": "execute_result",
          "data": {
            "text/plain": [
              "703"
            ]
          },
          "metadata": {},
          "execution_count": 87
        }
      ]
    },
    {
      "cell_type": "code",
      "source": [
        "lda_hg = LDA(books.global_paragraphs, books.global_doc_embeddings)"
      ],
      "metadata": {
        "id": "uBroaYjskaz2"
      },
      "execution_count": null,
      "outputs": []
    },
    {
      "cell_type": "code",
      "source": [
        "key_to_docids, key_to_embeddings, key_to_keyid, keyid_to_key = lda_hg.get_hypergraph()"
      ],
      "metadata": {
        "id": "NPZMF1X_lHaT"
      },
      "execution_count": null,
      "outputs": []
    },
    {
      "cell_type": "code",
      "source": [
        "keyid_to_key"
      ],
      "metadata": {
        "colab": {
          "base_uri": "https://localhost:8080/"
        },
        "collapsed": true,
        "id": "tyr3RCOLyAoJ",
        "outputId": "4c024a6e-e66f-4e20-9e9d-ef2fe895d17a"
      },
      "execution_count": null,
      "outputs": [
        {
          "output_type": "execute_result",
          "data": {
            "text/plain": [
              "{0: 47,\n",
              " 1: 7,\n",
              " 2: 159,\n",
              " 3: 61,\n",
              " 4: 90,\n",
              " 5: 11,\n",
              " 6: 78,\n",
              " 7: 118,\n",
              " 8: 18,\n",
              " 9: 31,\n",
              " 10: 50,\n",
              " 11: 151,\n",
              " 12: 75,\n",
              " 13: 160,\n",
              " 14: 79,\n",
              " 15: 115,\n",
              " 16: 105,\n",
              " 17: 8,\n",
              " 18: 16,\n",
              " 19: 94,\n",
              " 20: 153,\n",
              " 21: 57,\n",
              " 22: 164,\n",
              " 23: 9,\n",
              " 24: 103,\n",
              " 25: 45,\n",
              " 26: 69,\n",
              " 27: 24,\n",
              " 28: 55,\n",
              " 29: 0,\n",
              " 30: 172,\n",
              " 31: 76,\n",
              " 32: 29,\n",
              " 33: 170,\n",
              " 34: 65,\n",
              " 35: 81,\n",
              " 36: 41,\n",
              " 37: 110,\n",
              " 38: 13,\n",
              " 39: 48,\n",
              " 40: 119,\n",
              " 41: 166,\n",
              " 42: 111,\n",
              " 43: 35,\n",
              " 44: 67,\n",
              " 45: 104,\n",
              " 46: 173,\n",
              " 47: 125,\n",
              " 48: 1,\n",
              " 49: 91,\n",
              " 50: 88,\n",
              " 51: 96,\n",
              " 52: 64,\n",
              " 53: 138,\n",
              " 54: 116,\n",
              " 55: 121,\n",
              " 56: 95,\n",
              " 57: 168,\n",
              " 58: 107,\n",
              " 59: 109,\n",
              " 60: 100,\n",
              " 61: 22,\n",
              " 62: 62,\n",
              " 63: 32,\n",
              " 64: 114,\n",
              " 65: 39,\n",
              " 66: 144,\n",
              " 67: 28,\n",
              " 68: 30,\n",
              " 69: 89,\n",
              " 70: 99,\n",
              " 71: 21,\n",
              " 72: 136,\n",
              " 73: 19,\n",
              " 74: 44,\n",
              " 75: 131,\n",
              " 76: 54,\n",
              " 77: 148,\n",
              " 78: 120,\n",
              " 79: 140,\n",
              " 80: 155,\n",
              " 81: 82,\n",
              " 82: 98,\n",
              " 83: 26,\n",
              " 84: 137,\n",
              " 85: 85,\n",
              " 86: 4,\n",
              " 87: 133,\n",
              " 88: 42,\n",
              " 89: 132,\n",
              " 90: 23,\n",
              " 91: 60,\n",
              " 92: 147,\n",
              " 93: 158,\n",
              " 94: 112,\n",
              " 95: 154,\n",
              " 96: 135,\n",
              " 97: 72,\n",
              " 98: 86,\n",
              " 99: 128,\n",
              " 100: 68,\n",
              " 101: 66,\n",
              " 102: 93,\n",
              " 103: 6,\n",
              " 104: 77,\n",
              " 105: 83,\n",
              " 106: 150,\n",
              " 107: 40,\n",
              " 108: 17,\n",
              " 109: 171,\n",
              " 110: 36,\n",
              " 111: 126,\n",
              " 112: 43,\n",
              " 113: 14,\n",
              " 114: 145,\n",
              " 115: 51,\n",
              " 116: 3,\n",
              " 117: 167,\n",
              " 118: 108,\n",
              " 119: 20,\n",
              " 120: 53,\n",
              " 121: 59,\n",
              " 122: 113,\n",
              " 123: 157,\n",
              " 124: 12,\n",
              " 125: 122,\n",
              " 126: 169,\n",
              " 127: 134,\n",
              " 128: 5,\n",
              " 129: 97,\n",
              " 130: 92,\n",
              " 131: 15,\n",
              " 132: 34,\n",
              " 133: 101,\n",
              " 134: 70,\n",
              " 135: 58,\n",
              " 136: 139,\n",
              " 137: 2,\n",
              " 138: 74,\n",
              " 139: 87,\n",
              " 140: 38,\n",
              " 141: 52,\n",
              " 142: 152,\n",
              " 143: 33,\n",
              " 144: 80,\n",
              " 145: 162,\n",
              " 146: 117,\n",
              " 147: 161,\n",
              " 148: 37,\n",
              " 149: 142,\n",
              " 150: 106,\n",
              " 151: 10,\n",
              " 152: 124,\n",
              " 153: 49,\n",
              " 154: 63,\n",
              " 155: 127,\n",
              " 156: 130,\n",
              " 157: 123,\n",
              " 158: 46,\n",
              " 159: 102,\n",
              " 160: 73,\n",
              " 161: 165,\n",
              " 162: 56}"
            ]
          },
          "metadata": {},
          "execution_count": 91
        }
      ]
    },
    {
      "cell_type": "code",
      "source": [
        "key_to_docids"
      ],
      "metadata": {
        "colab": {
          "base_uri": "https://localhost:8080/"
        },
        "collapsed": true,
        "id": "dE7Jnru3lSe7",
        "outputId": "7626665f-c087-446e-a6b5-670897d4dc0d"
      },
      "execution_count": null,
      "outputs": [
        {
          "output_type": "execute_result",
          "data": {
            "text/plain": [
              "defaultdict(list,\n",
              "            {122: [(0, 0.9673714), (290, 0.9851039)],\n",
              "             107: [(1, 0.9827809),\n",
              "              (115, 0.981312),\n",
              "              (143, 0.971629),\n",
              "              (180, 0.40874648),\n",
              "              (227, 0.77317286),\n",
              "              (297, 0.7530678),\n",
              "              (469, 0.49594155),\n",
              "              (474, 0.6074802),\n",
              "              (480, 0.44561306),\n",
              "              (508, 0.88884664),\n",
              "              (517, 0.89679456),\n",
              "              (519, 0.6268717),\n",
              "              (656, 0.8114617),\n",
              "              (670, 0.8013136)],\n",
              "             24: [(2, 0.98536015),\n",
              "              (4, 0.4376217),\n",
              "              (166, 0.9685581),\n",
              "              (386, 0.516569),\n",
              "              (514, 0.9816912),\n",
              "              (516, 0.522803),\n",
              "              (518, 0.5341653),\n",
              "              (520, 0.47671738)],\n",
              "             70: [(3, 0.97333735),\n",
              "              (36, 0.98206437),\n",
              "              (114, 0.987272),\n",
              "              (118, 0.9848532),\n",
              "              (152, 0.97486585),\n",
              "              (432, 0.8637952),\n",
              "              (534, 0.97801715)],\n",
              "             148: [(4, 0.50765073),\n",
              "              (216, 0.44801924),\n",
              "              (219, 0.6894008),\n",
              "              (221, 0.9834661),\n",
              "              (278, 0.4948008),\n",
              "              (311, 0.9536941),\n",
              "              (340, 0.7436217),\n",
              "              (351, 0.7296594),\n",
              "              (358, 0.4537959),\n",
              "              (480, 0.42818072),\n",
              "              (488, 0.59062153),\n",
              "              (502, 0.74097085),\n",
              "              (506, 0.4307301),\n",
              "              (507, 0.6623552)],\n",
              "             64: [(5, 0.98726845), (141, 0.99002105), (220, 0.8460758)],\n",
              "             20: [(6, 0.9509562)],\n",
              "             58: [(7, 0.7001358), (11, 0.9934001)],\n",
              "             125: [(8, 0.6231549), (666, 0.98484546)],\n",
              "             53: [(9, 0.7351329),\n",
              "              (94, 0.9824203),\n",
              "              (254, 0.9785502),\n",
              "              (302, 0.43144774),\n",
              "              (479, 0.7609598)],\n",
              "             160: [(10, 0.980457)],\n",
              "             159: [(12, 0.94471157),\n",
              "              (82, 0.9647646),\n",
              "              (224, 0.5655264),\n",
              "              (259, 0.6116316),\n",
              "              (455, 0.9474336),\n",
              "              (493, 0.95356816),\n",
              "              (497, 0.9337988),\n",
              "              (585, 0.8270755)],\n",
              "             12: [(13, 0.99155897),\n",
              "              (601, 0.9795516),\n",
              "              (614, 0.63492244),\n",
              "              (678, 0.98402274)],\n",
              "             99: [(14, 0.99002385),\n",
              "              (25, 0.4366756),\n",
              "              (238, 0.41553944),\n",
              "              (269, 0.99139464),\n",
              "              (495, 0.92214006),\n",
              "              (503, 0.5745683),\n",
              "              (604, 0.66759527),\n",
              "              (657, 0.97412395)],\n",
              "             34: [(15, 0.98668665), (293, 0.62285435), (301, 0.9447728)],\n",
              "             65: [(16, 0.98484856),\n",
              "              (282, 0.47050035),\n",
              "              (631, 0.98241866),\n",
              "              (637, 0.77408516),\n",
              "              (690, 0.98605335)],\n",
              "             83: [(17, 0.64297336), (18, 0.9768511), (76, 0.8908145)],\n",
              "             167: [(19, 0.992924),\n",
              "              (55, 0.51048523),\n",
              "              (56, 0.974128),\n",
              "              (90, 0.4746755),\n",
              "              (137, 0.48108262),\n",
              "              (213, 0.93329763),\n",
              "              (283, 0.82583356),\n",
              "              (562, 0.9795576),\n",
              "              (602, 0.7155819)],\n",
              "             118: [(20, 0.7785613),\n",
              "              (153, 0.45618296),\n",
              "              (274, 0.88329524),\n",
              "              (546, 0.9480625)],\n",
              "             115: [(21, 0.7886768),\n",
              "              (30, 0.9741158),\n",
              "              (172, 0.98796684),\n",
              "              (232, 0.9884425)],\n",
              "             172: [(22, 0.6981063),\n",
              "              (322, 0.67660147),\n",
              "              (324, 0.964775),\n",
              "              (329, 0.7516887),\n",
              "              (330, 0.6515147),\n",
              "              (373, 0.7175498),\n",
              "              (515, 0.97066855),\n",
              "              (556, 0.9411039)],\n",
              "             98: [(23, 0.97486216),\n",
              "              (183, 0.9830991),\n",
              "              (350, 0.7794433),\n",
              "              (409, 0.7570138),\n",
              "              (560, 0.872588),\n",
              "              (579, 0.97685295)],\n",
              "             161: [(24, 0.9848549),\n",
              "              (74, 0.98763263),\n",
              "              (131, 0.9780194),\n",
              "              (159, 0.96329254),\n",
              "              (177, 0.98169184),\n",
              "              (186, 0.83741635),\n",
              "              (210, 0.9914793),\n",
              "              (427, 0.5671388),\n",
              "              (524, 0.5811815)],\n",
              "             137: [(26, 0.8340279),\n",
              "              (188, 0.99268746),\n",
              "              (191, 0.85787916),\n",
              "              (310, 0.6155939),\n",
              "              (336, 0.66247094),\n",
              "              (344, 0.9343008),\n",
              "              (513, 0.8619966),\n",
              "              (632, 0.6477784)],\n",
              "             104: [(27, 0.9848465)],\n",
              "             91: [(28, 0.52944964),\n",
              "              (279, 0.4036341),\n",
              "              (308, 0.6001609),\n",
              "              (418, 0.99309),\n",
              "              (419, 0.74223936),\n",
              "              (481, 0.9319378)],\n",
              "             120: [(28, 0.43072352),\n",
              "              (46, 0.40889332),\n",
              "              (52, 0.9785579),\n",
              "              (103, 0.987633),\n",
              "              (126, 0.53427905),\n",
              "              (132, 0.9888872),\n",
              "              (139, 0.6282814),\n",
              "              (147, 0.96329415),\n",
              "              (162, 0.66123474),\n",
              "              (314, 0.40522134)],\n",
              "             28: [(29, 0.65580046), (39, 0.9896665), (65, 0.98859125)],\n",
              "             108: [(31, 0.9853505)],\n",
              "             174: [(32, 0.9866867)],\n",
              "             36: [(33, 0.9853558),\n",
              "              (71, 0.9453738),\n",
              "              (75, 0.9851071),\n",
              "              (239, 0.8615651),\n",
              "              (298, 0.98648447),\n",
              "              (476, 0.4768496)],\n",
              "             162: [(34, 0.986272),\n",
              "              (184, 0.64100796),\n",
              "              (422, 0.56818855),\n",
              "              (699, 0.70107174)],\n",
              "             73: [(35, 0.9410796),\n",
              "              (97, 0.8665376),\n",
              "              (101, 0.985357),\n",
              "              (271, 0.919423),\n",
              "              (277, 0.79887843),\n",
              "              (303, 0.7524609),\n",
              "              (347, 0.8261558)],\n",
              "             32: [(37, 0.98796713),\n",
              "              (217, 0.40787524),\n",
              "              (395, 0.56021273),\n",
              "              (646, 0.70439935)],\n",
              "             26: [(38, 0.7680745),\n",
              "              (158, 0.86367345),\n",
              "              (258, 0.94107527),\n",
              "              (574, 0.97622377),\n",
              "              (627, 0.9804617)],\n",
              "             128: [(40, 0.6313128),\n",
              "              (41, 0.61106706),\n",
              "              (42, 0.6804207),\n",
              "              (137, 0.468625),\n",
              "              (138, 0.9848876),\n",
              "              (149, 0.4115428),\n",
              "              (223, 0.46298382),\n",
              "              (459, 0.46411932),\n",
              "              (498, 0.40812746)],\n",
              "             171: [(43, 0.5871379),\n",
              "              (66, 0.98874027),\n",
              "              (201, 0.9834173),\n",
              "              (337, 0.7354015)],\n",
              "             133: [(44, 0.9616706), (360, 0.97159994), (490, 0.9535507)],\n",
              "             94: [(45, 0.9866925),\n",
              "              (61, 0.97412395),\n",
              "              (204, 0.89095813),\n",
              "              (456, 0.9632889),\n",
              "              (575, 0.5396991),\n",
              "              (673, 0.98954815)],\n",
              "             111: [(46, 0.54237604),\n",
              "              (121, 0.9866928),\n",
              "              (316, 0.52096575),\n",
              "              (387, 0.64195675),\n",
              "              (550, 0.85311204)],\n",
              "             147: [(47, 0.9250035),\n",
              "              (83, 0.95096815),\n",
              "              (109, 0.9774503),\n",
              "              (299, 0.61465484),\n",
              "              (404, 0.69960505),\n",
              "              (541, 0.89856666),\n",
              "              (595, 0.7744354)],\n",
              "             169: [(49, 0.98206383), (253, 0.98168916), (448, 0.45337766)],\n",
              "             27: [(50, 0.97410893)],\n",
              "             134: [(51, 0.9748565), (242, 0.5961704)],\n",
              "             78: [(53, 0.985107),\n",
              "              (163, 0.8692169),\n",
              "              (203, 0.97249454),\n",
              "              (266, 0.9848498),\n",
              "              (693, 0.8967464)],\n",
              "             4: [(54, 0.4239173),\n",
              "              (89, 0.41850573),\n",
              "              (117, 0.98458725),\n",
              "              (156, 0.98745435),\n",
              "              (451, 0.96476513),\n",
              "              (454, 0.84764373),\n",
              "              (624, 0.90576273)],\n",
              "             15: [(57, 0.9808895),\n",
              "              (145, 0.9917188),\n",
              "              (241, 0.7727834),\n",
              "              (686, 0.8478579)],\n",
              "             38: [(58, 0.4420913),\n",
              "              (60, 0.94736445),\n",
              "              (106, 0.9685503),\n",
              "              (505, 0.84969884),\n",
              "              (687, 0.87584454)],\n",
              "             5: [(59, 0.9868913),\n",
              "              (77, 0.9774513),\n",
              "              (189, 0.6442104),\n",
              "              (530, 0.7540197),\n",
              "              (552, 0.98797053)],\n",
              "             153: [(62, 0.98941684), (629, 0.99103874)],\n",
              "             138: [(63, 0.9853548),\n",
              "              (111, 0.9724929),\n",
              "              (182, 0.9774449),\n",
              "              (352, 0.88244104)],\n",
              "             154: [(64, 0.9647693),\n",
              "              (98, 0.74536943),\n",
              "              (197, 0.9755699),\n",
              "              (244, 0.97334105),\n",
              "              (291, 0.45627487),\n",
              "              (328, 0.9453738),\n",
              "              (369, 0.4762122),\n",
              "              (394, 0.9870864),\n",
              "              (477, 0.85837984),\n",
              "              (549, 0.98089415)],\n",
              "             143: [(67, 0.955917),\n",
              "              (125, 0.98583645),\n",
              "              (129, 0.45409426),\n",
              "              (167, 0.9831067),\n",
              "              (168, 0.62379426),\n",
              "              (233, 0.98459154),\n",
              "              (396, 0.40335438),\n",
              "              (423, 0.7742233),\n",
              "              (435, 0.96070176),\n",
              "              (444, 0.5567127)],\n",
              "             62: [(68, 0.9897912),\n",
              "              (79, 0.9804656),\n",
              "              (335, 0.5900193),\n",
              "              (365, 0.86266464),\n",
              "              (582, 0.9930902),\n",
              "              (605, 0.4138763),\n",
              "              (609, 0.5966037),\n",
              "              (620, 0.60730237)],\n",
              "             44: [(69, 0.9748581), (364, 0.61960554)],\n",
              "             163: [(70, 0.9762349),\n",
              "              (321, 0.45965657),\n",
              "              (323, 0.9862796),\n",
              "              (463, 0.40107638),\n",
              "              (468, 0.43920735),\n",
              "              (516, 0.42558718)],\n",
              "             136: [(72, 0.9706515), (164, 0.9748583)],\n",
              "             23: [(73, 0.9774467),\n",
              "              (185, 0.9755611),\n",
              "              (285, 0.7295869),\n",
              "              (494, 0.98001647)],\n",
              "             39: [(78, 0.9580301),\n",
              "              (81, 0.9706708),\n",
              "              (196, 0.47365463),\n",
              "              (250, 0.41840425),\n",
              "              (260, 0.98207116),\n",
              "              (261, 0.54227996),\n",
              "              (566, 0.9804733)],\n",
              "             17: [(80, 0.9755721),\n",
              "              (95, 0.499669),\n",
              "              (140, 0.875142),\n",
              "              (196, 0.49269134),\n",
              "              (591, 0.837584),\n",
              "              (662, 0.6958608),\n",
              "              (664, 0.9851141),\n",
              "              (680, 0.9862791),\n",
              "              (697, 0.6156169)],\n",
              "             93: [(84, 0.96964216),\n",
              "              (160, 0.94806296),\n",
              "              (195, 0.9706581),\n",
              "              (626, 0.9724988),\n",
              "              (641, 0.98129797)],\n",
              "             85: [(85, 0.9913928),\n",
              "              (570, 0.9840219),\n",
              "              (599, 0.5779375),\n",
              "              (633, 0.9860544)],\n",
              "             18: [(86, 0.9716021),\n",
              "              (313, 0.8409502),\n",
              "              (434, 0.9724928),\n",
              "              (498, 0.58009946)],\n",
              "             72: [(87, 0.9834211),\n",
              "              (122, 0.9447972),\n",
              "              (190, 0.9365849),\n",
              "              (630, 0.9834212),\n",
              "              (642, 0.8347933),\n",
              "              (665, 0.97955495)],\n",
              "             166: [(88, 0.9843081),\n",
              "              (659, 0.5323147),\n",
              "              (698, 0.59983975),\n",
              "              (700, 0.9923001)],\n",
              "             96: [(92, 0.95801), (402, 0.5083704), (540, 0.7715738)],\n",
              "             77: [(93, 0.97905743), (318, 0.64253986), (594, 0.97905755)],\n",
              "             164: [(96, 0.9808834), (473, 0.40607107)],\n",
              "             149: [(99, 0.9830959), (263, 0.98341554), (284, 0.7641246)],\n",
              "             79: [(100, 0.98668945), (107, 0.992561), (108, 0.53507155)],\n",
              "             75: [(102, 0.5340874), (287, 0.9804642), (535, 0.98829085)],\n",
              "             47: [(105, 0.93679637),\n",
              "              (192, 0.68526363),\n",
              "              (450, 0.97801584),\n",
              "              (452, 0.8179392),\n",
              "              (453, 0.88876444),\n",
              "              (457, 0.74316466)],\n",
              "             127: [(112, 0.86679226),\n",
              "              (150, 0.79364055),\n",
              "              (179, 0.78372914),\n",
              "              (639, 0.9827655)],\n",
              "             103: [(113, 0.98779964),\n",
              "              (414, 0.89179486),\n",
              "              (643, 0.90827245),\n",
              "              (695, 0.9840204)],\n",
              "             8: [(116, 0.95588404), (130, 0.9780073), (702, 0.936816)],\n",
              "             63: [(119, 0.98915637), (377, 0.7843585)],\n",
              "             105: [(120, 0.9685463),\n",
              "              (135, 0.97411644),\n",
              "              (215, 0.9830965),\n",
              "              (383, 0.5209697)],\n",
              "             123: [(123, 0.98991),\n",
              "              (149, 0.57505625),\n",
              "              (211, 0.73709977),\n",
              "              (235, 0.98689276),\n",
              "              (267, 0.9140368),\n",
              "              (270, 0.9762317),\n",
              "              (276, 0.40502796),\n",
              "              (458, 0.5289343),\n",
              "              (510, 0.93192184),\n",
              "              (689, 0.7965204)],\n",
              "             152: [(124, 0.9879677), (136, 0.5108873), (504, 0.86044353)],\n",
              "             131: [(127, 0.9876289),\n",
              "              (175, 0.98559695),\n",
              "              (194, 0.74831307),\n",
              "              (212, 0.9903515)],\n",
              "             116: [(128, 0.9800164), (207, 0.955893), (366, 0.98341745)],\n",
              "             90: [(133, 0.9827653),\n",
              "              (281, 0.8990994),\n",
              "              (326, 0.9724946),\n",
              "              (356, 0.97801197)],\n",
              "             92: [(134, 0.9632753), (181, 0.9762199)],\n",
              "             66: [(142, 0.98668873),\n",
              "              (354, 0.81867343),\n",
              "              (400, 0.5971003),\n",
              "              (645, 0.76442397)],\n",
              "             102: [(146, 0.98206437),\n",
              "              (236, 0.54012907),\n",
              "              (460, 0.68601036),\n",
              "              (496, 0.96476436),\n",
              "              (571, 0.988292),\n",
              "              (672, 0.9845869)],\n",
              "             52: [(148, 0.62120664),\n",
              "              (412, 0.6582187),\n",
              "              (573, 0.59473145),\n",
              "              (612, 0.611589),\n",
              "              (659, 0.418933),\n",
              "              (685, 0.6753709)],\n",
              "             97: [(151, 0.97249943),\n",
              "              (174, 0.98431057),\n",
              "              (245, 0.98689115),\n",
              "              (397, 0.9198826),\n",
              "              (420, 0.7741473),\n",
              "              (428, 0.57982683),\n",
              "              (526, 0.9862753),\n",
              "              (681, 0.6608571)],\n",
              "             146: [(154, 0.9447885), (436, 0.8161116), (587, 0.97955185)],\n",
              "             51: [(155, 0.98916304),\n",
              "              (218, 0.7577027),\n",
              "              (272, 0.9673939),\n",
              "              (581, 0.9509832),\n",
              "              (592, 0.718146),\n",
              "              (596, 0.822318),\n",
              "              (597, 0.6448549),\n",
              "              (619, 0.8034323),\n",
              "              (688, 0.70992124)],\n",
              "             157: [(157, 0.9762286),\n",
              "              (321, 0.4032499),\n",
              "              (500, 0.94479656),\n",
              "              (608, 0.41044733),\n",
              "              (622, 0.9843111)],\n",
              "             54: [(161, 0.953541)],\n",
              "             126: [(170, 0.5060685),\n",
              "              (173, 0.94109297),\n",
              "              (222, 0.98560077),\n",
              "              (357, 0.4496612),\n",
              "              (370, 0.9768583),\n",
              "              (593, 0.6694678),\n",
              "              (661, 0.9795566),\n",
              "              (667, 0.9559072)],\n",
              "             55: [(171, 0.9933992), (583, 0.9860514)],\n",
              "             67: [(180, 0.44554865),\n",
              "              (304, 0.42994556),\n",
              "              (395, 0.4148887),\n",
              "              (401, 0.62086326),\n",
              "              (402, 0.45194587),\n",
              "              (406, 0.56052554),\n",
              "              (416, 0.9675089),\n",
              "              (417, 0.84921515),\n",
              "              (425, 0.60103965),\n",
              "              (426, 0.4343477),\n",
              "              (471, 0.4815543),\n",
              "              (472, 0.5229726)],\n",
              "             151: [(187, 0.98242396),\n",
              "              (206, 0.9447967),\n",
              "              (225, 0.9509716),\n",
              "              (240, 0.9848532),\n",
              "              (529, 0.68786347)],\n",
              "             16: [(193, 0.89957875), (231, 0.67134), (411, 0.8331372)],\n",
              "             139: [(198, 0.416187), (525, 0.97954696)],\n",
              "             87: [(199, 0.4116913), (246, 0.98829347), (424, 0.47219533)],\n",
              "             1: [(200, 0.759782),\n",
              "              (230, 0.99223316),\n",
              "              (286, 0.78987586),\n",
              "              (449, 0.9855993)],\n",
              "             158: [(202, 0.967373), (653, 0.97485584)],\n",
              "             165: [(205, 0.7346169),\n",
              "              (295, 0.62331444),\n",
              "              (539, 0.57448226),\n",
              "              (553, 0.96856767),\n",
              "              (557, 0.85100543),\n",
              "              (558, 0.5012034),\n",
              "              (561, 0.661298),\n",
              "              (569, 0.9616169),\n",
              "              (607, 0.82757455)],\n",
              "             21: [(208, 0.9405748),\n",
              "              (315, 0.9804632),\n",
              "              (438, 0.8612049),\n",
              "              (555, 0.9800179)],\n",
              "             110: [(209, 0.9535723), (216, 0.42569655)],\n",
              "             30: [(214, 0.67831886), (362, 0.97684777)],\n",
              "             74: [(223, 0.52438664), (429, 0.98430413), (430, 0.8508806)],\n",
              "             121: [(226, 0.97800875), (319, 0.74228)],\n",
              "             3: [(228, 0.6248184), (371, 0.98942316)],\n",
              "             170: [(229, 0.98129535),\n",
              "              (317, 0.9853559),\n",
              "              (482, 0.7487879),\n",
              "              (634, 0.96328104)],\n",
              "             60: [(236, 0.42861003),\n",
              "              (650, 0.8311499),\n",
              "              (651, 0.97685504),\n",
              "              (655, 0.4726632)],\n",
              "             11: [(237, 0.66618973)],\n",
              "             2: [(243, 0.40989366),\n",
              "              (255, 0.98168784),\n",
              "              (256, 0.63172984),\n",
              "              (465, 0.84811395),\n",
              "              (580, 0.98046386),\n",
              "              (610, 0.8203962),\n",
              "              (663, 0.9733345)],\n",
              "             7: [(247, 0.9509462)],\n",
              "             101: [(248, 0.5108544), (567, 0.97954595)],\n",
              "             141: [(249, 0.98535067)],\n",
              "             10: [(251, 0.45734653), (671, 0.97249734)],\n",
              "             81: [(252, 0.9685651),\n",
              "              (296, 0.99002683),\n",
              "              (346, 0.6972946),\n",
              "              (461, 0.86814225),\n",
              "              (462, 0.91130793),\n",
              "              (463, 0.51887894),\n",
              "              (464, 0.9013237),\n",
              "              (470, 0.41471678),\n",
              "              (617, 0.62183654)],\n",
              "             35: [(262, 0.98648334),\n",
              "              (446, 0.5059919),\n",
              "              (528, 0.98627174),\n",
              "              (682, 0.9580026)],\n",
              "             45: [(264, 0.9685489), (309, 0.6390261), (345, 0.9368301)],\n",
              "             95: [(265, 0.97905445)],\n",
              "             76: [(268, 0.9696311), (586, 0.959916)],\n",
              "             56: [(275, 0.5643923),\n",
              "              (447, 0.9285727),\n",
              "              (483, 0.49255472),\n",
              "              (484, 0.43080148)],\n",
              "             80: [(278, 0.46546376), (543, 0.9899054), (621, 0.8497783)],\n",
              "             6: [(280, 0.87900704),\n",
              "              (327, 0.98276556),\n",
              "              (459, 0.52135605),\n",
              "              (545, 0.94107425),\n",
              "              (628, 0.98242)],\n",
              "             140: [(288, 0.97744656),\n",
              "              (405, 0.7272671),\n",
              "              (522, 0.781278),\n",
              "              (638, 0.96328086)],\n",
              "             31: [(292, 0.9616816), (374, 0.40350872), (677, 0.7146124)],\n",
              "             0: [(294, 0.98688704), (437, 0.988288), (527, 0.98941845)],\n",
              "             130: [(300, 0.7536753),\n",
              "              (331, 0.41598612),\n",
              "              (334, 0.7927499),\n",
              "              (355, 0.6317218),\n",
              "              (396, 0.55687743),\n",
              "              (398, 0.95564556),\n",
              "              (408, 0.7749003),\n",
              "              (431, 0.975597),\n",
              "              (487, 0.42205524),\n",
              "              (492, 0.98460567),\n",
              "              (523, 0.9320275),\n",
              "              (668, 0.9124633)],\n",
              "             155: [(312, 0.96965617), (443, 0.41070104), (445, 0.96965647)],\n",
              "             117: [(332, 0.5298459), (603, 0.97854686), (658, 0.941066)],\n",
              "             109: [(333, 0.42014772), (378, 0.9768461)],\n",
              "             61: [(338, 0.65495765),\n",
              "              (339, 0.6553177),\n",
              "              (342, 0.9368432),\n",
              "              (343, 0.6227107),\n",
              "              (433, 0.8367204),\n",
              "              (568, 0.9881332),\n",
              "              (606, 0.50595343)],\n",
              "             89: [(353, 0.9509621),\n",
              "              (512, 0.9812959),\n",
              "              (521, 0.97955126),\n",
              "              (684, 0.9599265)],\n",
              "             114: [(359, 0.66668314),\n",
              "              (367, 0.8944232),\n",
              "              (381, 0.6871141),\n",
              "              (683, 0.8344582)],\n",
              "             129: [(361, 0.8095258), (380, 0.5079274), (383, 0.44662765)],\n",
              "             150: [(363, 0.6588326),\n",
              "              (648, 0.8377543),\n",
              "              (649, 0.9804615),\n",
              "              (654, 0.88874185),\n",
              "              (655, 0.5049146)],\n",
              "             40: [(375, 0.80818343), (413, 0.9862698)],\n",
              "             41: [(384, 0.5239345), (563, 0.9868848)],\n",
              "             49: [(385, 0.69675374), (584, 0.9808845)],\n",
              "             135: [(390, 0.9834129)],\n",
              "             168: [(399, 0.9748551), (692, 0.9768463)],\n",
              "             57: [(415, 0.9866846)],\n",
              "             173: [(421, 0.542903), (669, 0.9685624)],\n",
              "             112: [(440, 0.95095825), (499, 0.7494342), (576, 0.9616746)],\n",
              "             84: [(466, 0.6280378),\n",
              "              (491, 0.9724966),\n",
              "              (542, 0.845079),\n",
              "              (640, 0.98648536)],\n",
              "             13: [(511, 0.5777013), (554, 0.98744947), (589, 0.9790588)],\n",
              "             46: [(532, 0.9599259), (600, 0.9447864)],\n",
              "             25: [(536, 0.85549337),\n",
              "              (537, 0.98583025),\n",
              "              (539, 0.40053728),\n",
              "              (679, 0.96963996)],\n",
              "             113: [(538, 0.9733272), (676, 0.42122337)],\n",
              "             86: [(544, 0.97685194)],\n",
              "             82: [(547, 0.99249667), (636, 0.9632776)],\n",
              "             144: [(564, 0.9647441)],\n",
              "             145: [(565, 0.461607), (575, 0.4054134), (696, 0.986485)],\n",
              "             9: [(572, 0.9874513), (625, 0.78595006), (674, 0.9580055)],\n",
              "             71: [(588, 0.97332156)],\n",
              "             22: [(598, 0.93298197)],\n",
              "             50: [(615, 0.9480444), (701, 0.6718738)],\n",
              "             33: [(616, 0.97160244)],\n",
              "             19: [(618, 0.9480702)],\n",
              "             142: [(644, 0.97250956)],\n",
              "             69: [(647, 0.7206975)],\n",
              "             68: [(652, 0.97800577), (675, 0.9632703)],\n",
              "             37: [],\n",
              "             14: []})"
            ]
          },
          "metadata": {},
          "execution_count": 83
        }
      ]
    },
    {
      "cell_type": "code",
      "source": [
        "def analyse_hypergraph(key_to_ids):\n",
        "    mx = -1e9\n",
        "    mn = 1e9\n",
        "    mean = 0\n",
        "    median = 0\n",
        "    arr_of_len = []\n",
        "    n = len(key_to_ids)\n",
        "\n",
        "    for i, key in enumerate(list(key_to_ids.keys())):\n",
        "        size = len(key_to_ids[key])\n",
        "        arr_of_len.append(size)\n",
        "\n",
        "        mx = max(mx, size)\n",
        "        mn = min(size, mn)\n",
        "        mean+=size\n",
        "        print(key_to_ids[key])\n",
        "    mean/=n\n",
        "    arr_of_len.sort()\n",
        "    print(\"Array of lenghts: \",arr_of_len)\n",
        "    if(n%2==0):\n",
        "        median = (arr_of_len[n//2]+arr_of_len[(n//2)-1])/2\n",
        "    else:\n",
        "        median = arr_of_len[n//2]\n",
        "    print(\"Mean: \",mean)\n",
        "    print(\"Max: \",mx)\n",
        "    print(\"Min: \",mn)\n",
        "    print(\"Median: \", median)"
      ],
      "metadata": {
        "id": "zPxSJfILlW-W"
      },
      "execution_count": null,
      "outputs": []
    },
    {
      "cell_type": "code",
      "source": [
        "analyse_hypergraph(key_to_docids)"
      ],
      "metadata": {
        "colab": {
          "base_uri": "https://localhost:8080/"
        },
        "collapsed": true,
        "id": "r740Vv2-pe3o",
        "outputId": "d34b388e-edde-4f45-a429-dc73f441470e"
      },
      "execution_count": null,
      "outputs": [
        {
          "output_type": "stream",
          "name": "stdout",
          "text": [
            "[(0, 0.9673714), (290, 0.9851039)]\n",
            "[(1, 0.9827809), (115, 0.981312), (143, 0.971629), (180, 0.40874648), (227, 0.77317286), (297, 0.7530678), (469, 0.49594155), (474, 0.6074802), (480, 0.44561306), (508, 0.88884664), (517, 0.89679456), (519, 0.6268717), (656, 0.8114617), (670, 0.8013136)]\n",
            "[(2, 0.98536015), (4, 0.4376217), (166, 0.9685581), (386, 0.516569), (514, 0.9816912), (516, 0.522803), (518, 0.5341653), (520, 0.47671738)]\n",
            "[(3, 0.97333735), (36, 0.98206437), (114, 0.987272), (118, 0.9848532), (152, 0.97486585), (432, 0.8637952), (534, 0.97801715)]\n",
            "[(4, 0.50765073), (216, 0.44801924), (219, 0.6894008), (221, 0.9834661), (278, 0.4948008), (311, 0.9536941), (340, 0.7436217), (351, 0.7296594), (358, 0.4537959), (480, 0.42818072), (488, 0.59062153), (502, 0.74097085), (506, 0.4307301), (507, 0.6623552)]\n",
            "[(5, 0.98726845), (141, 0.99002105), (220, 0.8460758)]\n",
            "[(6, 0.9509562)]\n",
            "[(7, 0.7001358), (11, 0.9934001)]\n",
            "[(8, 0.6231549), (666, 0.98484546)]\n",
            "[(9, 0.7351329), (94, 0.9824203), (254, 0.9785502), (302, 0.43144774), (479, 0.7609598)]\n",
            "[(10, 0.980457)]\n",
            "[(12, 0.94471157), (82, 0.9647646), (224, 0.5655264), (259, 0.6116316), (455, 0.9474336), (493, 0.95356816), (497, 0.9337988), (585, 0.8270755)]\n",
            "[(13, 0.99155897), (601, 0.9795516), (614, 0.63492244), (678, 0.98402274)]\n",
            "[(14, 0.99002385), (25, 0.4366756), (238, 0.41553944), (269, 0.99139464), (495, 0.92214006), (503, 0.5745683), (604, 0.66759527), (657, 0.97412395)]\n",
            "[(15, 0.98668665), (293, 0.62285435), (301, 0.9447728)]\n",
            "[(16, 0.98484856), (282, 0.47050035), (631, 0.98241866), (637, 0.77408516), (690, 0.98605335)]\n",
            "[(17, 0.64297336), (18, 0.9768511), (76, 0.8908145)]\n",
            "[(19, 0.992924), (55, 0.51048523), (56, 0.974128), (90, 0.4746755), (137, 0.48108262), (213, 0.93329763), (283, 0.82583356), (562, 0.9795576), (602, 0.7155819)]\n",
            "[(20, 0.7785613), (153, 0.45618296), (274, 0.88329524), (546, 0.9480625)]\n",
            "[(21, 0.7886768), (30, 0.9741158), (172, 0.98796684), (232, 0.9884425)]\n",
            "[(22, 0.6981063), (322, 0.67660147), (324, 0.964775), (329, 0.7516887), (330, 0.6515147), (373, 0.7175498), (515, 0.97066855), (556, 0.9411039)]\n",
            "[(23, 0.97486216), (183, 0.9830991), (350, 0.7794433), (409, 0.7570138), (560, 0.872588), (579, 0.97685295)]\n",
            "[(24, 0.9848549), (74, 0.98763263), (131, 0.9780194), (159, 0.96329254), (177, 0.98169184), (186, 0.83741635), (210, 0.9914793), (427, 0.5671388), (524, 0.5811815)]\n",
            "[(26, 0.8340279), (188, 0.99268746), (191, 0.85787916), (310, 0.6155939), (336, 0.66247094), (344, 0.9343008), (513, 0.8619966), (632, 0.6477784)]\n",
            "[(27, 0.9848465)]\n",
            "[(28, 0.52944964), (279, 0.4036341), (308, 0.6001609), (418, 0.99309), (419, 0.74223936), (481, 0.9319378)]\n",
            "[(28, 0.43072352), (46, 0.40889332), (52, 0.9785579), (103, 0.987633), (126, 0.53427905), (132, 0.9888872), (139, 0.6282814), (147, 0.96329415), (162, 0.66123474), (314, 0.40522134)]\n",
            "[(29, 0.65580046), (39, 0.9896665), (65, 0.98859125)]\n",
            "[(31, 0.9853505)]\n",
            "[(32, 0.9866867)]\n",
            "[(33, 0.9853558), (71, 0.9453738), (75, 0.9851071), (239, 0.8615651), (298, 0.98648447), (476, 0.4768496)]\n",
            "[(34, 0.986272), (184, 0.64100796), (422, 0.56818855), (699, 0.70107174)]\n",
            "[(35, 0.9410796), (97, 0.8665376), (101, 0.985357), (271, 0.919423), (277, 0.79887843), (303, 0.7524609), (347, 0.8261558)]\n",
            "[(37, 0.98796713), (217, 0.40787524), (395, 0.56021273), (646, 0.70439935)]\n",
            "[(38, 0.7680745), (158, 0.86367345), (258, 0.94107527), (574, 0.97622377), (627, 0.9804617)]\n",
            "[(40, 0.6313128), (41, 0.61106706), (42, 0.6804207), (137, 0.468625), (138, 0.9848876), (149, 0.4115428), (223, 0.46298382), (459, 0.46411932), (498, 0.40812746)]\n",
            "[(43, 0.5871379), (66, 0.98874027), (201, 0.9834173), (337, 0.7354015)]\n",
            "[(44, 0.9616706), (360, 0.97159994), (490, 0.9535507)]\n",
            "[(45, 0.9866925), (61, 0.97412395), (204, 0.89095813), (456, 0.9632889), (575, 0.5396991), (673, 0.98954815)]\n",
            "[(46, 0.54237604), (121, 0.9866928), (316, 0.52096575), (387, 0.64195675), (550, 0.85311204)]\n",
            "[(47, 0.9250035), (83, 0.95096815), (109, 0.9774503), (299, 0.61465484), (404, 0.69960505), (541, 0.89856666), (595, 0.7744354)]\n",
            "[(49, 0.98206383), (253, 0.98168916), (448, 0.45337766)]\n",
            "[(50, 0.97410893)]\n",
            "[(51, 0.9748565), (242, 0.5961704)]\n",
            "[(53, 0.985107), (163, 0.8692169), (203, 0.97249454), (266, 0.9848498), (693, 0.8967464)]\n",
            "[(54, 0.4239173), (89, 0.41850573), (117, 0.98458725), (156, 0.98745435), (451, 0.96476513), (454, 0.84764373), (624, 0.90576273)]\n",
            "[(57, 0.9808895), (145, 0.9917188), (241, 0.7727834), (686, 0.8478579)]\n",
            "[(58, 0.4420913), (60, 0.94736445), (106, 0.9685503), (505, 0.84969884), (687, 0.87584454)]\n",
            "[(59, 0.9868913), (77, 0.9774513), (189, 0.6442104), (530, 0.7540197), (552, 0.98797053)]\n",
            "[(62, 0.98941684), (629, 0.99103874)]\n",
            "[(63, 0.9853548), (111, 0.9724929), (182, 0.9774449), (352, 0.88244104)]\n",
            "[(64, 0.9647693), (98, 0.74536943), (197, 0.9755699), (244, 0.97334105), (291, 0.45627487), (328, 0.9453738), (369, 0.4762122), (394, 0.9870864), (477, 0.85837984), (549, 0.98089415)]\n",
            "[(67, 0.955917), (125, 0.98583645), (129, 0.45409426), (167, 0.9831067), (168, 0.62379426), (233, 0.98459154), (396, 0.40335438), (423, 0.7742233), (435, 0.96070176), (444, 0.5567127)]\n",
            "[(68, 0.9897912), (79, 0.9804656), (335, 0.5900193), (365, 0.86266464), (582, 0.9930902), (605, 0.4138763), (609, 0.5966037), (620, 0.60730237)]\n",
            "[(69, 0.9748581), (364, 0.61960554)]\n",
            "[(70, 0.9762349), (321, 0.45965657), (323, 0.9862796), (463, 0.40107638), (468, 0.43920735), (516, 0.42558718)]\n",
            "[(72, 0.9706515), (164, 0.9748583)]\n",
            "[(73, 0.9774467), (185, 0.9755611), (285, 0.7295869), (494, 0.98001647)]\n",
            "[(78, 0.9580301), (81, 0.9706708), (196, 0.47365463), (250, 0.41840425), (260, 0.98207116), (261, 0.54227996), (566, 0.9804733)]\n",
            "[(80, 0.9755721), (95, 0.499669), (140, 0.875142), (196, 0.49269134), (591, 0.837584), (662, 0.6958608), (664, 0.9851141), (680, 0.9862791), (697, 0.6156169)]\n",
            "[(84, 0.96964216), (160, 0.94806296), (195, 0.9706581), (626, 0.9724988), (641, 0.98129797)]\n",
            "[(85, 0.9913928), (570, 0.9840219), (599, 0.5779375), (633, 0.9860544)]\n",
            "[(86, 0.9716021), (313, 0.8409502), (434, 0.9724928), (498, 0.58009946)]\n",
            "[(87, 0.9834211), (122, 0.9447972), (190, 0.9365849), (630, 0.9834212), (642, 0.8347933), (665, 0.97955495)]\n",
            "[(88, 0.9843081), (659, 0.5323147), (698, 0.59983975), (700, 0.9923001)]\n",
            "[(92, 0.95801), (402, 0.5083704), (540, 0.7715738)]\n",
            "[(93, 0.97905743), (318, 0.64253986), (594, 0.97905755)]\n",
            "[(96, 0.9808834), (473, 0.40607107)]\n",
            "[(99, 0.9830959), (263, 0.98341554), (284, 0.7641246)]\n",
            "[(100, 0.98668945), (107, 0.992561), (108, 0.53507155)]\n",
            "[(102, 0.5340874), (287, 0.9804642), (535, 0.98829085)]\n",
            "[(105, 0.93679637), (192, 0.68526363), (450, 0.97801584), (452, 0.8179392), (453, 0.88876444), (457, 0.74316466)]\n",
            "[(112, 0.86679226), (150, 0.79364055), (179, 0.78372914), (639, 0.9827655)]\n",
            "[(113, 0.98779964), (414, 0.89179486), (643, 0.90827245), (695, 0.9840204)]\n",
            "[(116, 0.95588404), (130, 0.9780073), (702, 0.936816)]\n",
            "[(119, 0.98915637), (377, 0.7843585)]\n",
            "[(120, 0.9685463), (135, 0.97411644), (215, 0.9830965), (383, 0.5209697)]\n",
            "[(123, 0.98991), (149, 0.57505625), (211, 0.73709977), (235, 0.98689276), (267, 0.9140368), (270, 0.9762317), (276, 0.40502796), (458, 0.5289343), (510, 0.93192184), (689, 0.7965204)]\n",
            "[(124, 0.9879677), (136, 0.5108873), (504, 0.86044353)]\n",
            "[(127, 0.9876289), (175, 0.98559695), (194, 0.74831307), (212, 0.9903515)]\n",
            "[(128, 0.9800164), (207, 0.955893), (366, 0.98341745)]\n",
            "[(133, 0.9827653), (281, 0.8990994), (326, 0.9724946), (356, 0.97801197)]\n",
            "[(134, 0.9632753), (181, 0.9762199)]\n",
            "[(142, 0.98668873), (354, 0.81867343), (400, 0.5971003), (645, 0.76442397)]\n",
            "[(146, 0.98206437), (236, 0.54012907), (460, 0.68601036), (496, 0.96476436), (571, 0.988292), (672, 0.9845869)]\n",
            "[(148, 0.62120664), (412, 0.6582187), (573, 0.59473145), (612, 0.611589), (659, 0.418933), (685, 0.6753709)]\n",
            "[(151, 0.97249943), (174, 0.98431057), (245, 0.98689115), (397, 0.9198826), (420, 0.7741473), (428, 0.57982683), (526, 0.9862753), (681, 0.6608571)]\n",
            "[(154, 0.9447885), (436, 0.8161116), (587, 0.97955185)]\n",
            "[(155, 0.98916304), (218, 0.7577027), (272, 0.9673939), (581, 0.9509832), (592, 0.718146), (596, 0.822318), (597, 0.6448549), (619, 0.8034323), (688, 0.70992124)]\n",
            "[(157, 0.9762286), (321, 0.4032499), (500, 0.94479656), (608, 0.41044733), (622, 0.9843111)]\n",
            "[(161, 0.953541)]\n",
            "[(170, 0.5060685), (173, 0.94109297), (222, 0.98560077), (357, 0.4496612), (370, 0.9768583), (593, 0.6694678), (661, 0.9795566), (667, 0.9559072)]\n",
            "[(171, 0.9933992), (583, 0.9860514)]\n",
            "[(180, 0.44554865), (304, 0.42994556), (395, 0.4148887), (401, 0.62086326), (402, 0.45194587), (406, 0.56052554), (416, 0.9675089), (417, 0.84921515), (425, 0.60103965), (426, 0.4343477), (471, 0.4815543), (472, 0.5229726)]\n",
            "[(187, 0.98242396), (206, 0.9447967), (225, 0.9509716), (240, 0.9848532), (529, 0.68786347)]\n",
            "[(193, 0.89957875), (231, 0.67134), (411, 0.8331372)]\n",
            "[(198, 0.416187), (525, 0.97954696)]\n",
            "[(199, 0.4116913), (246, 0.98829347), (424, 0.47219533)]\n",
            "[(200, 0.759782), (230, 0.99223316), (286, 0.78987586), (449, 0.9855993)]\n",
            "[(202, 0.967373), (653, 0.97485584)]\n",
            "[(205, 0.7346169), (295, 0.62331444), (539, 0.57448226), (553, 0.96856767), (557, 0.85100543), (558, 0.5012034), (561, 0.661298), (569, 0.9616169), (607, 0.82757455)]\n",
            "[(208, 0.9405748), (315, 0.9804632), (438, 0.8612049), (555, 0.9800179)]\n",
            "[(209, 0.9535723), (216, 0.42569655)]\n",
            "[(214, 0.67831886), (362, 0.97684777)]\n",
            "[(223, 0.52438664), (429, 0.98430413), (430, 0.8508806)]\n",
            "[(226, 0.97800875), (319, 0.74228)]\n",
            "[(228, 0.6248184), (371, 0.98942316)]\n",
            "[(229, 0.98129535), (317, 0.9853559), (482, 0.7487879), (634, 0.96328104)]\n",
            "[(236, 0.42861003), (650, 0.8311499), (651, 0.97685504), (655, 0.4726632)]\n",
            "[(237, 0.66618973)]\n",
            "[(243, 0.40989366), (255, 0.98168784), (256, 0.63172984), (465, 0.84811395), (580, 0.98046386), (610, 0.8203962), (663, 0.9733345)]\n",
            "[(247, 0.9509462)]\n",
            "[(248, 0.5108544), (567, 0.97954595)]\n",
            "[(249, 0.98535067)]\n",
            "[(251, 0.45734653), (671, 0.97249734)]\n",
            "[(252, 0.9685651), (296, 0.99002683), (346, 0.6972946), (461, 0.86814225), (462, 0.91130793), (463, 0.51887894), (464, 0.9013237), (470, 0.41471678), (617, 0.62183654)]\n",
            "[(262, 0.98648334), (446, 0.5059919), (528, 0.98627174), (682, 0.9580026)]\n",
            "[(264, 0.9685489), (309, 0.6390261), (345, 0.9368301)]\n",
            "[(265, 0.97905445)]\n",
            "[(268, 0.9696311), (586, 0.959916)]\n",
            "[(275, 0.5643923), (447, 0.9285727), (483, 0.49255472), (484, 0.43080148)]\n",
            "[(278, 0.46546376), (543, 0.9899054), (621, 0.8497783)]\n",
            "[(280, 0.87900704), (327, 0.98276556), (459, 0.52135605), (545, 0.94107425), (628, 0.98242)]\n",
            "[(288, 0.97744656), (405, 0.7272671), (522, 0.781278), (638, 0.96328086)]\n",
            "[(292, 0.9616816), (374, 0.40350872), (677, 0.7146124)]\n",
            "[(294, 0.98688704), (437, 0.988288), (527, 0.98941845)]\n",
            "[(300, 0.7536753), (331, 0.41598612), (334, 0.7927499), (355, 0.6317218), (396, 0.55687743), (398, 0.95564556), (408, 0.7749003), (431, 0.975597), (487, 0.42205524), (492, 0.98460567), (523, 0.9320275), (668, 0.9124633)]\n",
            "[(312, 0.96965617), (443, 0.41070104), (445, 0.96965647)]\n",
            "[(332, 0.5298459), (603, 0.97854686), (658, 0.941066)]\n",
            "[(333, 0.42014772), (378, 0.9768461)]\n",
            "[(338, 0.65495765), (339, 0.6553177), (342, 0.9368432), (343, 0.6227107), (433, 0.8367204), (568, 0.9881332), (606, 0.50595343)]\n",
            "[(353, 0.9509621), (512, 0.9812959), (521, 0.97955126), (684, 0.9599265)]\n",
            "[(359, 0.66668314), (367, 0.8944232), (381, 0.6871141), (683, 0.8344582)]\n",
            "[(361, 0.8095258), (380, 0.5079274), (383, 0.44662765)]\n",
            "[(363, 0.6588326), (648, 0.8377543), (649, 0.9804615), (654, 0.88874185), (655, 0.5049146)]\n",
            "[(375, 0.80818343), (413, 0.9862698)]\n",
            "[(384, 0.5239345), (563, 0.9868848)]\n",
            "[(385, 0.69675374), (584, 0.9808845)]\n",
            "[(390, 0.9834129)]\n",
            "[(399, 0.9748551), (692, 0.9768463)]\n",
            "[(415, 0.9866846)]\n",
            "[(421, 0.542903), (669, 0.9685624)]\n",
            "[(440, 0.95095825), (499, 0.7494342), (576, 0.9616746)]\n",
            "[(466, 0.6280378), (491, 0.9724966), (542, 0.845079), (640, 0.98648536)]\n",
            "[(511, 0.5777013), (554, 0.98744947), (589, 0.9790588)]\n",
            "[(532, 0.9599259), (600, 0.9447864)]\n",
            "[(536, 0.85549337), (537, 0.98583025), (539, 0.40053728), (679, 0.96963996)]\n",
            "[(538, 0.9733272), (676, 0.42122337)]\n",
            "[(544, 0.97685194)]\n",
            "[(547, 0.99249667), (636, 0.9632776)]\n",
            "[(564, 0.9647441)]\n",
            "[(565, 0.461607), (575, 0.4054134), (696, 0.986485)]\n",
            "[(572, 0.9874513), (625, 0.78595006), (674, 0.9580055)]\n",
            "[(588, 0.97332156)]\n",
            "[(598, 0.93298197)]\n",
            "[(615, 0.9480444), (701, 0.6718738)]\n",
            "[(616, 0.97160244)]\n",
            "[(618, 0.9480702)]\n",
            "[(644, 0.97250956)]\n",
            "[(647, 0.7206975)]\n",
            "[(652, 0.97800577), (675, 0.9632703)]\n",
            "Array of lenghts:  [1, 1, 1, 1, 1, 1, 1, 1, 1, 1, 1, 1, 1, 1, 1, 1, 1, 1, 1, 1, 1, 2, 2, 2, 2, 2, 2, 2, 2, 2, 2, 2, 2, 2, 2, 2, 2, 2, 2, 2, 2, 2, 2, 2, 2, 2, 2, 2, 2, 2, 2, 2, 3, 3, 3, 3, 3, 3, 3, 3, 3, 3, 3, 3, 3, 3, 3, 3, 3, 3, 3, 3, 3, 3, 3, 3, 3, 3, 3, 3, 3, 4, 4, 4, 4, 4, 4, 4, 4, 4, 4, 4, 4, 4, 4, 4, 4, 4, 4, 4, 4, 4, 4, 4, 4, 4, 4, 4, 4, 4, 5, 5, 5, 5, 5, 5, 5, 5, 5, 5, 5, 5, 6, 6, 6, 6, 6, 6, 6, 6, 6, 7, 7, 7, 7, 7, 7, 7, 8, 8, 8, 8, 8, 8, 8, 8, 9, 9, 9, 9, 9, 9, 9, 10, 10, 10, 10, 12, 12, 14, 14]\n",
            "Mean:  4.149068322981367\n",
            "Max:  14\n",
            "Min:  1\n",
            "Median:  3\n"
          ]
        }
      ]
    },
    {
      "cell_type": "code",
      "source": [
        "analyse_hypergraph(key_to_docids)"
      ],
      "metadata": {
        "colab": {
          "base_uri": "https://localhost:8080/"
        },
        "collapsed": true,
        "id": "46awtclqnJog",
        "outputId": "6d0890af-05c0-4d95-f3da-2dc378722e8c"
      },
      "execution_count": null,
      "outputs": [
        {
          "output_type": "stream",
          "name": "stdout",
          "text": [
            "[(0, 0.9661555), (515, 0.96954954), (536, 0.929472), (537, 0.98528725)]\n",
            "[(1, 0.9821107), (404, 0.3740168), (590, 0.3252819), (591, 0.9731441), (638, 0.80121064), (695, 0.9834137), (698, 0.9345468)]\n",
            "[(2, 0.9847939), (667, 0.9542539)]\n",
            "[(3, 0.9723301), (9, 0.33764926), (28, 0.43996596), (74, 0.9871568), (99, 0.98245645), (139, 0.77188915), (153, 0.26409817)]\n",
            "[(4, 0.5358544), (182, 0.92034334), (265, 0.978273), (396, 0.2875619), (438, 0.7408674), (615, 0.9461633), (621, 0.23423994), (624, 0.97774214), (701, 0.60657895)]\n",
            "[(4, 0.40724796), (10, 0.97971845), (103, 0.98715436), (504, 0.81307036), (520, 0.44600525)]\n",
            "[(5, 0.9867802), (380, 0.2566426)]\n",
            "[(6, 0.94915515), (55, 0.5161626), (57, 0.98016083), (379, 0.63621193)]\n",
            "[(7, 0.9461487), (69, 0.97391015), (231, 0.949154), (354, 0.9884567)]\n",
            "[(8, 0.9564618), (148, 0.9896418), (659, 0.2841795), (673, 0.9891481), (674, 0.30999336), (676, 0.3542515), (677, 0.3606524), (678, 0.9834176), (680, 0.28733847), (681, 0.36756364), (682, 0.4502029), (684, 0.35210055), (685, 0.29519767)]\n",
            "[(9, 0.3706652), (495, 0.9007017), (592, 0.975324), (630, 0.98278517)]\n",
            "[(11, 0.9931468), (194, 0.3552478), (318, 0.45503742), (564, 0.8309442), (572, 0.98697144)]\n",
            "[(12, 0.9839931), (170, 0.84600765), (543, 0.98951805)]\n",
            "[(13, 0.99123704), (75, 0.9845439), (110, 0.2033858), (112, 0.86502784), (114, 0.98678666), (270, 0.9753331), (374, 0.39357823), (399, 0.55333257), (410, 0.34038922), (684, 0.41211402)]\n",
            "[(14, 0.9896428), (24, 0.9842777), (50, 0.94328904), (109, 0.9766014), (138, 0.7333608), (212, 0.9899847), (219, 0.20831385), (434, 0.62574214), (499, 0.44363442), (521, 0.51412493), (526, 0.42055267), (573, 0.5931185), (664, 0.9845447)]\n",
            "[(15, 0.98618495), (30, 0.9731505), (119, 0.98874587), (177, 0.98099536), (193, 0.79386467), (235, 0.98639137), (250, 0.655373), (252, 0.9673794), (527, 0.9890175), (694, 0.79687315), (702, 0.93456084)]\n",
            "[(16, 0.9842703), (58, 0.46373907), (118, 0.9842703), (508, 0.8849197)]\n",
            "[(17, 0.9345271)]\n",
            "[(18, 0.4703761), (25, 0.42862007), (36, 0.9813807), (377, 0.5657937)]\n",
            "[(18, 0.50574523), (19, 0.9926506), (44, 0.29938447), (55, 0.3925175), (64, 0.9634489), (89, 0.5961416), (90, 0.38482884), (92, 0.95645905), (153, 0.298736)]\n",
            "[(20, 0.98210824), (300, 0.21849602), (517, 0.7386152), (518, 0.524567), (519, 0.94915354)]\n",
            "[(21, 0.57139367), (105, 0.9929882), (256, 0.24872112), (641, 0.9805834)]\n",
            "[(21, 0.3270204), (22, 0.31938994), (37, 0.9875072), (46, 0.94915634), (48, 0.37995967), (68, 0.98939747)]\n",
            "[(22, 0.6584918), (29, 0.34895533), (39, 0.8966705), (59, 0.6861061), (97, 0.9498987), (123, 0.98952764), (130, 0.977197), (179, 0.79654515), (229, 0.5670291), (233, 0.9840083), (241, 0.67510223), (266, 0.9842842), (313, 0.6879192), (316, 0.4584947), (456, 0.4490977), (490, 0.95188206), (621, 0.38775352), (657, 0.973163), (680, 0.6985062)]\n",
            "[(23, 0.9739103), (307, 0.31474054), (308, 0.88536197), (548, 0.31800035), (570, 0.98341215), (608, 0.22193895)]\n",
            "[(25, 0.2899396), (33, 0.9847977), (73, 0.97659415), (140, 0.9817521), (276, 0.41737267), (460, 0.5080257)]\n",
            "[(26, 0.985288), (197, 0.9746379), (238, 0.8516166), (248, 0.84603167), (602, 0.9731425), (613, 0.25879657)]\n",
            "[(27, 0.98427266), (31, 0.77019256), (195, 0.9695528), (249, 0.9847977), (441, 0.21693328), (628, 0.9817522)]\n",
            "[(28, 0.5187151), (343, 0.218166), (581, 0.39101416), (582, 0.9493438), (605, 0.49935266), (609, 0.5074993), (620, 0.59634393)]\n",
            "[(29, 0.2773569), (129, 0.2472683), (156, 0.9869713), (259, 0.9777371), (287, 0.97971976), (639, 0.60921127)]\n",
            "[(29, 0.2727997), (237, 0.3057101), (247, 0.5494642), (557, 0.33898145), (558, 0.338985), (559, 0.56687576), (578, 0.5673406), (606, 0.25674218), (668, 0.98138326)]\n",
            "[(32, 0.98618025), (314, 0.961911), (421, 0.26211783), (677, 0.35254523), (697, 0.20445739)]\n",
            "[(34, 0.9857514), (84, 0.9685051), (132, 0.9884598), (186, 0.863849), (189, 0.6114706), (200, 0.72033024), (389, 0.40731132), (500, 0.8346139), (679, 0.8507502)]\n",
            "[(35, 0.93893087), (339, 0.20005667), (522, 0.9518447)]\n",
            "[(38, 0.96736187)]\n",
            "[(40, 0.82013357), (41, 0.54078394), (42, 0.47481227), (43, 0.33514374), (126, 0.5541508), (137, 0.40920365), (138, 0.25102267), (149, 0.4092701), (178, 0.35945815), (189, 0.3561252), (207, 0.25136346), (223, 0.3073586), (297, 0.23935363), (459, 0.98481214), (467, 0.35164803), (475, 0.26272672), (499, 0.27235675), (573, 0.38800514), (663, 0.31719786), (685, 0.26343757)]\n",
            "[(41, 0.4407182), (171, 0.9931463), (445, 0.6156168)]\n",
            "[(42, 0.3289918), (94, 0.981753), (158, 0.960254), (223, 0.54106253), (307, 0.29417455), (525, 0.787432), (551, 0.24175982)]\n",
            "[(43, 0.63894033), (386, 0.2566565), (646, 0.9542585)]\n",
            "[(44, 0.20461796), (100, 0.98618263), (115, 0.98058695), (160, 0.94615793), (206, 0.9427748), (227, 0.5764919), (642, 0.50132054), (665, 0.9787774)]\n",
            "[(44, 0.26442906), (77, 0.9765982), (141, 0.9896412), (173, 0.93894506), (273, 0.4033306), (309, 0.65647477), (443, 0.4764207), (448, 0.3892396), (454, 0.9518549)]\n",
            "[(45, 0.98618066), (183, 0.9824542), (254, 0.9777369), (336, 0.3893105), (449, 0.98504627)]\n",
            "[(47, 0.97053474), (392, 0.46524152), (394, 0.9865871), (414, 0.9842711), (487, 0.36115542)]\n",
            "[(48, 0.32369512), (129, 0.30305877), (545, 0.9389248), (688, 0.9813763)]\n",
            "[(49, 0.9813834), (104, 0.30309665), (133, 0.98211443), (199, 0.28997132), (247, 0.3282692), (251, 0.6704516), (294, 0.9442812), (660, 0.3273582), (677, 0.2221274)]\n",
            "[(51, 0.9739092), (366, 0.9827842), (513, 0.7646792)]\n",
            "[(52, 0.97773635), (217, 0.7610124), (353, 0.9491549), (417, 0.20075504), (595, 0.9824535)]\n",
            "[(53, 0.9845407), (54, 0.49391693), (93, 0.97827077), (539, 0.97391456), (540, 0.79550016), (567, 0.6455986)]\n",
            "[(54, 0.24913561), (321, 0.30323195), (323, 0.98575073), (324, 0.40308097), (325, 0.31418335), (443, 0.33150283), (463, 0.38129112), (468, 0.50927585), (672, 0.98399806)]\n",
            "[(56, 0.97314507), (65, 0.9881582), (144, 0.2854298), (388, 0.28072527), (534, 0.9771817), (571, 0.98784214), (697, 0.20449024)]\n",
            "[(58, 0.47553283), (59, 0.30036896), (60, 0.9883088), (117, 0.98399514), (155, 0.9887423), (159, 0.9619109)]\n",
            "[(61, 0.97314197), (286, 0.96615726), (485, 0.43448675)]\n",
            "[(62, 0.98901355), (90, 0.22817801), (213, 0.77543503), (411, 0.34453937), (581, 0.55843264)]\n",
            "[(63, 0.98479545), (181, 0.9753225), (510, 0.9673662), (635, 0.95184004)]\n",
            "[(66, 0.9883093), (79, 0.9797202), (80, 0.9746383), (95, 0.24551956), (104, 0.2167443), (556, 0.38783354)]\n",
            "[(67, 0.9542923), (125, 0.98529714), (232, 0.9880088), (234, 0.5757661), (239, 0.91640866), (280, 0.80672514), (296, 0.9896455), (321, 0.5206351), (426, 0.23953277), (431, 0.67372346), (432, 0.94454974), (436, 0.903206), (451, 0.750032), (475, 0.26847532), (494, 0.9792708), (616, 0.31294516)]\n",
            "[(70, 0.9753277), (152, 0.97391444), (228, 0.76767915), (616, 0.6577802), (617, 0.9634455), (640, 0.9248286)]\n",
            "[(71, 0.9875067), (523, 0.4016613), (597, 0.9824533), (625, 0.9634388), (660, 0.20049685)]\n",
            "[(72, 0.9695483), (554, 0.98697007), (636, 0.88292474), (683, 0.8612011)]\n",
            "[(76, 0.9673638), (472, 0.46009043)]\n",
            "[(78, 0.956443), (658, 0.9389215)]\n",
            "[(81, 0.96955085), (96, 0.9801613), (199, 0.28993648), (245, 0.89538187), (453, 0.5794016)]\n",
            "[(82, 0.9634356)]\n",
            "[(83, 0.9491521), (355, 0.5013147)]\n",
            "[(85, 0.99106115), (169, 0.39488277), (175, 0.30252123), (234, 0.20549153)]\n",
            "[(86, 0.97053206), (312, 0.9684939), (517, 0.21349339)]\n",
            "[(87, 0.98278385), (210, 0.9532755), (381, 0.39669997), (492, 0.9839938)]\n",
            "[(88, 0.9837096), (316, 0.24171625), (331, 0.21967989), (373, 0.7581289), (391, 0.5551183)]\n",
            "[(89, 0.21169922), (362, 0.76024306), (386, 0.25669172), (452, 0.36691302), (453, 0.3061888), (457, 0.96025187)]\n",
            "[(91, 0.36727703), (282, 0.4048642), (290, 0.98453933), (292, 0.42751434), (538, 0.9723268)]\n",
            "[(95, 0.29708806), (161, 0.95184386), (187, 0.9817509), (347, 0.97232586), (486, 0.56975424)]\n",
            "[(95, 0.21111332), (236, 0.8518222), (243, 0.54114515), (255, 0.9809923), (256, 0.71341187), (416, 0.9661626), (424, 0.66761476), (429, 0.91363156), (430, 0.84605396)]\n",
            "[(98, 0.88337696), (167, 0.9824628), (175, 0.68261606), (180, 0.55168396), (215, 0.98246276), (378, 0.7656732), (393, 0.39138415), (428, 0.6719005), (458, 0.8886485), (469, 0.46898797), (585, 0.86721855), (600, 0.49251232), (693, 0.9277586)]\n",
            "[(101, 0.9847939), (697, 0.20443119)]\n",
            "[(102, 0.52454025), (542, 0.9813756), (689, 0.985286)]\n",
            "[(104, 0.28852928), (372, 0.517753), (402, 0.65934026), (433, 0.7911964), (524, 0.9753253)]\n",
            "[(106, 0.96737015), (127, 0.98715526), (253, 0.72267306), (505, 0.90026635), (690, 0.985522)]\n",
            "[(107, 0.992275), (108, 0.51655924), (142, 0.9861808), (151, 0.97145903), (375, 0.5733137), (526, 0.41636038)]\n",
            "[(110, 0.25220415), (145, 0.99139965), (335, 0.5147653), (356, 0.68321025), (368, 0.4342354), (471, 0.26765716)]\n",
            "[(111, 0.9714732), (196, 0.9648689), (198, 0.30281827), (209, 0.951868), (276, 0.39017862), (289, 0.54668844), (295, 0.9813874), (304, 0.26066247), (306, 0.83594567), (319, 0.4356788), (337, 0.7591778), (340, 0.21675096), (368, 0.50507355), (421, 0.4302821)]\n",
            "[(113, 0.98733306), (153, 0.23730876), (297, 0.56723094), (651, 0.97597414)]\n",
            "[(116, 0.95429903), (264, 0.9673956), (299, 0.29054478), (304, 0.35797086), (396, 0.3105542), (399, 0.4207574), (400, 0.9474576), (402, 0.29936773), (403, 0.7024581), (404, 0.5881456), (405, 0.8684012), (417, 0.471515), (419, 0.21558331), (426, 0.2818832), (431, 0.3010958), (434, 0.21150665), (471, 0.3462552), (487, 0.3767), (521, 0.30430168), (565, 0.21507834), (612, 0.9389803)]\n",
            "[(120, 0.96737194), (184, 0.2269937), (336, 0.20070346), (338, 0.89897686), (340, 0.6552592), (384, 0.45578218), (467, 0.22071978)]\n",
            "[(121, 0.9861827), (176, 0.20221956), (191, 0.3976526), (292, 0.53296864), (552, 0.9875093), (643, 0.98310745), (675, 0.8661428)]\n",
            "[(122, 0.94276536), (136, 0.4535358), (244, 0.9723251), (285, 0.81293464), (390, 0.9827849)]\n",
            "[(124, 0.9875098), (131, 0.97718394), (136, 0.39339566), (184, 0.7366656), (185, 0.9746428), (246, 0.98784345), (269, 0.87540215), (271, 0.815863), (289, 0.32244778), (319, 0.37737337)]\n",
            "[(126, 0.26180556), (203, 0.9714596), (257, 0.32668504), (509, 0.53571844), (514, 0.9809899), (516, 0.48913544)]\n",
            "[(128, 0.97925895), (144, 0.33677465), (398, 0.94499516), (497, 0.9482282), (533, 0.9542656), (549, 0.9801623), (650, 0.9834135)]\n",
            "[(129, 0.25802913), (397, 0.5156429), (502, 0.42318332), (561, 0.86832577), (566, 0.9797249), (569, 0.98816), (607, 0.82496935), (619, 0.21681857), (633, 0.9855253)]\n",
            "[(134, 0.9619161), (154, 0.9427737), (165, 0.2500557), (324, 0.5605778), (496, 0.96344453)]\n",
            "[(135, 0.9731482), (211, 0.89572746), (230, 0.99193484), (299, 0.21869917), (427, 0.7951904), (435, 0.98016596), (474, 0.5329634), (563, 0.98639065), (626, 0.97146606)]\n",
            "[(137, 0.5768591), (326, 0.97146064), (389, 0.3506905), (499, 0.25583333)]\n",
            "[(143, 0.97053653), (176, 0.38289985), (330, 0.4569832), (437, 0.98784125), (553, 0.9673703)]\n",
            "[(146, 0.98137534), (262, 0.98596585), (586, 0.9584302)]\n",
            "[(147, 0.9619167), (274, 0.9920046), (349, 0.41969654), (529, 0.81975096), (593, 0.9695547), (656, 0.97146285)]\n",
            "[(149, 0.57679397), (224, 0.73800945), (229, 0.3575414), (237, 0.65478307), (293, 0.71359295), (482, 0.6478423), (485, 0.2726914), (562, 0.90349776), (576, 0.35808364), (587, 0.9787779)]\n",
            "[(150, 0.9759728)]\n",
            "[(157, 0.9753254), (205, 0.9673703), (226, 0.9771799)]\n",
            "[(162, 0.6710643), (395, 0.585663), (528, 0.98574966), (532, 0.2182999), (547, 0.9922097), (621, 0.21792172), (691, 0.8532644)]\n",
            "[(163, 0.8246122), (242, 0.8318955), (288, 0.97659296), (291, 0.42205754)]\n",
            "[(164, 0.97391117), (320, 0.3446972), (498, 0.98767644), (697, 0.20446767)]\n",
            "[(166, 0.96736467), (531, 0.24185109), (535, 0.98783904)]\n",
            "[(168, 0.497219), (413, 0.98574895), (598, 0.9904034), (659, 0.56583416)]\n",
            "[(168, 0.40120447), (201, 0.9827859), (363, 0.40745994), (541, 0.92474365)]\n",
            "[(169, 0.36236185), (202, 0.96615857), (544, 0.94960374), (588, 0.97232735), (603, 0.977738), (611, 0.43452907), (696, 0.98596853)]\n",
            "[(172, 0.9875077), (240, 0.9842723), (328, 0.986588), (516, 0.4573237), (590, 0.52076507), (604, 0.98370975)]\n",
            "[(174, 0.98370695), (352, 0.9765895), (686, 0.8558518)]\n",
            "[(178, 0.587047), (322, 0.9777341), (682, 0.5065019)]\n",
            "[(180, 0.3949119), (304, 0.23057371), (309, 0.31115466), (332, 0.7208295), (333, 0.30420113), (334, 0.20402275), (336, 0.24690156), (406, 0.2717878), (421, 0.2715492), (422, 0.2374661), (425, 0.6825961), (438, 0.23757373), (439, 0.2673408), (530, 0.97238237), (531, 0.4210727), (532, 0.39090785), (681, 0.31822446)]\n",
            "[(188, 0.9242663), (310, 0.5542145), (420, 0.7674175), (546, 0.9461561), (555, 0.9792598), (556, 0.21767154)]\n",
            "[(190, 0.9648497), (473, 0.42439854), (692, 0.97597444)]\n",
            "[(191, 0.32421425), (258, 0.93893147), (302, 0.67529243), (365, 0.99186087)]\n",
            "[(192, 0.98341054), (194, 0.60979843), (350, 0.979717)]\n",
            "[(198, 0.32049114), (491, 0.9714644), (558, 0.32037428), (600, 0.2947289), (608, 0.5148427), (622, 0.9837125), (644, 0.9714647)]\n",
            "[(200, 0.22280596), (251, 0.29005674), (330, 0.2363612), (331, 0.22828408), (333, 0.24238606), (356, 0.29411104), (359, 0.6982179), (361, 0.32929197), (362, 0.21588284), (363, 0.41254392), (372, 0.27534285), (375, 0.3942589), (381, 0.32052085), (384, 0.38341972), (387, 0.9723409), (419, 0.26078415)]\n",
            "[(204, 0.9827844), (311, 0.648932), (315, 0.97971815), (349, 0.22488385)]\n",
            "[(207, 0.7032098), (281, 0.98058593), (293, 0.25006503)]\n",
            "[(208, 0.95249534), (300, 0.6799269), (329, 0.45928538), (396, 0.24337994), (408, 0.9262114), (410, 0.46871528), (411, 0.28881115), (523, 0.5153743)]\n",
            "[(214, 0.75893265), (442, 0.826568), (479, 0.88146377), (671, 0.9714587)]\n",
            "[(216, 0.53645355), (217, 0.2053506), (279, 0.25469026), (348, 0.23536877), (374, 0.3410792), (480, 0.53049767), (488, 0.3982801), (506, 0.3795972), (507, 0.94279206)]\n",
            "[(218, 0.93199146), (360, 0.97053313), (627, 0.97971773)]\n",
            "[(219, 0.58834606), (221, 0.98278487), (548, 0.2962921), (647, 0.4113223), (653, 0.97391003)]\n",
            "[(220, 0.9695495), (348, 0.28193507), (357, 0.25287163)]\n",
            "[(222, 0.98504674), (341, 0.5632372), (383, 0.39879104), (583, 0.6357514), (652, 0.9771799), (685, 0.30838987)]\n",
            "[(225, 0.94914705)]\n",
            "[(241, 0.27630347), (275, 0.23652811), (310, 0.26178282), (348, 0.24364366), (460, 0.37813693), (461, 0.87495697), (462, 0.908246), (463, 0.3629673), (464, 0.8979553), (468, 0.3901196), (470, 0.939002), (473, 0.27834105), (474, 0.36388057), (475, 0.33978778), (476, 0.30069867), (489, 0.3946875), (503, 0.9705697), (511, 0.8513871)]\n",
            "[(250, 0.21372499), (260, 0.9813799), (267, 0.96616054), (452, 0.2719397), (606, 0.51206225), (669, 0.9673727)]\n",
            "[(261, 0.705006), (344, 0.8570836), (481, 0.9294817), (550, 0.97314507), (551, 0.34611344), (623, 0.24239136), (631, 0.9817529), (637, 0.7674202)]\n",
            "[(263, 0.9390419), (574, 0.9753213), (594, 0.97826517)]\n",
            "[(268, 0.96849245), (666, 0.9842691)]\n",
            "[(272, 0.9661621), (279, 0.5356187), (333, 0.40831986), (648, 0.8396596), (649, 0.97972274), (654, 0.88494754)]\n",
            "[(275, 0.38250226), (282, 0.33674172), (447, 0.8983445), (483, 0.44754052), (484, 0.3899919)]\n",
            "[(277, 0.71978295), (331, 0.3970657), (419, 0.36452785), (565, 0.38100386), (568, 0.9876794), (583, 0.34985697), (584, 0.98016626), (599, 0.9479929)]\n",
            "[(278, 0.9584598), (305, 0.38652256), (311, 0.3032098), (401, 0.8299101), (406, 0.3416212), (407, 0.76752484), (473, 0.23698883), (488, 0.34797788)]\n",
            "[(283, 0.83218354), (303, 0.9855238), (415, 0.98618275), (422, 0.54729456), (476, 0.5066643), (531, 0.29606983), (681, 0.28848532)]\n",
            "[(284, 0.9813779), (351, 0.978268), (484, 0.3238494), (699, 0.5336294)]\n",
            "[(298, 0.90457034), (317, 0.90489566), (661, 0.97877246)]\n",
            "[(301, 0.942771), (325, 0.5916965), (369, 0.95843834), (455, 0.9869721), (456, 0.37678906), (532, 0.34979382)]\n",
            "[(307, 0.2022797), (320, 0.34514818), (329, 0.52454144), (332, 0.2360177), (335, 0.35072696), (346, 0.9788043), (355, 0.47350085), (358, 0.4457152), (376, 0.9543273), (382, 0.39848384), (383, 0.5272796), (388, 0.27214947), (392, 0.32622078), (426, 0.21912405), (441, 0.30856246), (478, 0.30527002), (502, 0.5290146), (611, 0.2901091)]\n",
            "[(327, 0.9821063), (670, 0.9759711)]\n",
            "[(334, 0.7693222), (465, 0.9602427)]\n",
            "[(339, 0.2752955), (342, 0.9345385), (343, 0.31861493)]\n",
            "[(345, 0.9345334), (423, 0.76736134)]\n",
            "[(357, 0.38933972), (370, 0.97597665), (382, 0.40673012), (386, 0.25668925), (440, 0.7343735), (623, 0.4619253)]\n",
            "[(364, 0.79234475), (450, 0.9771805), (451, 0.21364142), (466, 0.9821105), (489, 0.36471424)]\n",
            "[(367, 0.9542518)]\n",
            "[(371, 0.82109237), (613, 0.2684536), (618, 0.9461527), (629, 0.9906972), (632, 0.9705365)]\n",
            "[(377, 0.3773072), (385, 0.9427676)]\n",
            "[(380, 0.25671014), (439, 0.6822162), (440, 0.21508126), (441, 0.321088), (444, 0.25427735), (445, 0.2394779)]\n",
            "[(380, 0.25678635), (556, 0.3341554), (557, 0.5080368), (560, 0.8683517), (565, 0.21150856), (567, 0.33330896), (575, 0.79748356), (576, 0.3830848), (577, 0.27918994), (579, 0.9759864)]\n",
            "[(393, 0.35702816), (397, 0.43889672), (412, 0.98831064), (674, 0.6467233)]\n",
            "[(395, 0.21060126), (409, 0.9837084)]\n",
            "[(418, 0.99282235), (687, 0.8911004)]\n",
            "[(444, 0.6712613), (512, 0.98058414)]\n",
            "[(446, 0.98137856), (448, 0.5202458), (662, 0.687634), (663, 0.65531445)]\n",
            "[(477, 0.9845392), (478, 0.30261153), (645, 0.96191293)]\n",
            "[(493, 0.9518398), (655, 0.97659063)]\n",
            "[(580, 0.9797158), (610, 0.8146735)]\n",
            "[(589, 0.97826403)]\n",
            "[(596, 0.96026474), (601, 0.9787825), (609, 0.24900798), (613, 0.2811279), (614, 0.8073283), (619, 0.4522369), (639, 0.35159296), (642, 0.47198778)]\n",
            "[(634, 0.96190315)]\n",
            "[(699, 0.43798727), (700, 0.9920023)]\n",
            "Array of lenghts:  [1, 1, 1, 1, 1, 1, 1, 1, 2, 2, 2, 2, 2, 2, 2, 2, 2, 2, 2, 2, 2, 2, 2, 2, 2, 3, 3, 3, 3, 3, 3, 3, 3, 3, 3, 3, 3, 3, 3, 3, 3, 3, 3, 3, 3, 3, 3, 4, 4, 4, 4, 4, 4, 4, 4, 4, 4, 4, 4, 4, 4, 4, 4, 4, 4, 4, 4, 4, 4, 4, 4, 5, 5, 5, 5, 5, 5, 5, 5, 5, 5, 5, 5, 5, 5, 5, 5, 5, 5, 5, 5, 5, 5, 6, 6, 6, 6, 6, 6, 6, 6, 6, 6, 6, 6, 6, 6, 6, 6, 6, 6, 6, 6, 6, 6, 6, 7, 7, 7, 7, 7, 7, 7, 7, 7, 7, 7, 7, 8, 8, 8, 8, 8, 8, 9, 9, 9, 9, 9, 9, 9, 9, 9, 9, 9, 10, 10, 10, 10, 11, 13, 13, 13, 14, 16, 16, 17, 18, 18, 19, 20, 21]\n",
            "Mean:  5.753086419753086\n",
            "Max:  21\n",
            "Min:  1\n",
            "Median:  5.0\n"
          ]
        }
      ]
    },
    {
      "cell_type": "code",
      "source": [],
      "metadata": {
        "id": "1VU55ARyp6kS"
      },
      "execution_count": null,
      "outputs": []
    },
    {
      "cell_type": "code",
      "source": [
        "def print_if_above_threshold(docs, key_to_ids, threshold=7):\n",
        "    for key in list(key_to_ids.keys()):\n",
        "        if len(key_to_ids[key])>=threshold:\n",
        "            print(f\"Topic {key} is above threhsold, it contains the following documents: \")\n",
        "            map = key_to_ids[key]\n",
        "            for entity in map:\n",
        "                id, prob = entity\n",
        "                print(\"Probability: \",prob)\n",
        "                print(\"Doc: \",docs[id])\n",
        "\n",
        "\n"
      ],
      "metadata": {
        "id": "0Hl9XBALnsLO"
      },
      "execution_count": null,
      "outputs": []
    },
    {
      "cell_type": "code",
      "source": [
        "def print_retrieved(docs, key_to_ids,keyid_to_key, topics):\n",
        "    for topic in topics:\n",
        "        key = keyid_to_key[topic]\n",
        "        print(f'For topic {key}')\n",
        "        for entity in key_to_ids[key]:\n",
        "            id, prob = entity\n",
        "            print(\"Doc: \",docs[id])\n",
        "        print('---------------------------------')\n",
        "\n"
      ],
      "metadata": {
        "id": "kHrqyn5LuJR4"
      },
      "execution_count": null,
      "outputs": []
    },
    {
      "cell_type": "code",
      "source": [
        "print_if_above_threshold(books.global_paragraphs, key_to_docids)"
      ],
      "metadata": {
        "colab": {
          "base_uri": "https://localhost:8080/"
        },
        "collapsed": true,
        "id": "2e0RHkyDrB0s",
        "outputId": "53e53a0e-e2da-425f-979d-5fd5240beb54"
      },
      "execution_count": null,
      "outputs": [
        {
          "output_type": "stream",
          "name": "stdout",
          "text": [
            "Topic 107 is above threhsold, it contains the following documents: \n",
            "Length:  14\n",
            "--------------------------------------------------------------------------------\n",
            "Probability:  0.9827809\n",
            "Doc:  First, the bad news: operating systems concepts are among the most complex in computerscience. A modern, general-purpose operating system can exceed 50 million lines of code,or in other words, more than a thousand times longer than this textbook. New operatingsystems are being written all the time: if you use an e-book reader , tablet, or smartphone,an operating system is managing your device. Given this inherent complexity , we limit ourfocus to the essential concepts that every computer scientist should know \n",
            "Probability:  0.981312\n",
            "Doc:  Making it easy to port applications from existing systems to a new operating system canhelp a new system become established; conversely , designing an operating system APIthat makes it dif ficult to port applications away from the operating system can help preventcompetition from becoming established. Thus, there are often commercial pressures foroperating system interfaces to become idiosyncratic. Throughout this book, we discuss\n",
            "Probability:  0.971629\n",
            "Doc:  The earliest time-sharing systems supported many simultaneous users, but even this wasjust a phase. Eventually , computers became cheap enough that people could af ford theirown dedicated \"personal” computers, which would sit patiently unused for much of the day \n",
            "Probability:  0.40874648\n",
            "Doc:  Figure 2.1: User-level and kernel-level operation. The operating system kernel is trusted to arbitratebetween untrusted applications and users\n",
            "Probability:  0.77317286\n",
            "Doc:  Instructions available in kernel mode, but not in user mode, are called privilegedinstructions . The operating system kernel must be able to execute these instructions to doits work — it needs to change privilege levels, adjust memory access, and disable andenable interrupts. If these instructions were available to applications, then a rogueapplication would in ef fect have the power of the operating system kernel\n",
            "Probability:  0.7530678\n",
            "Doc:  More generally, processor exceptions are used to transparently emulate a virtual machine. When aguest operating system is running as a user-level process on top of an operating system, it will attemptto execute privileged instructions as if it were running on physical hardware. These instructions willcause processor exceptions, trapping into the host operating system kernel. To maintain the illusion ofphysical hardware, the host kernel then performs the requested instruction of behalf of the user-levelvirtual machine and restarts the guest operating system at the instruction immediately following the onethat caused the exception\n",
            "Probability:  0.49594155\n",
            "Doc:  Next, consider what happens when the guest user process does a system call, illustratedin Figure 2.19. To the hardware, there is only one kernel, the host operating system. Thus,the trap instruction traps into the host kernel’ s system call handler . Of course, the systemcall was not intended for the host! Rather , the host kernel simulates what would havehappened had the system call instruction occurred on real hardware running the guestoperating system:1. The host kernel saves the instruction counter , processor status register , and userstack pointer on the interrupt stack of the guest operating system\n",
            "Probability:  0.6074802\n",
            "Doc:  The host kernel handles processor exceptions similarly , with one caveat. Some exceptionsgenerated by the virtual machine are due to the user process; the host kernel forwardsthese to the guest kernel for handling. Other exceptions are generated by the guest kernel(e.g., when it tries to execute privileged instructions); the host kernel simulates these itself\n",
            "Probability:  0.44561306\n",
            "Doc:  Privileged instructions: instructions available only in kernel mode\n",
            "Probability:  0.88884664\n",
            "Doc:  a. Explain where in the operating system this instruction would be used\n",
            "Probability:  0.89679456\n",
            "Doc:  13. Suppose you have to implement an operating system on hardware that supportsinterrupts and exceptions but does not have a trap instruction. Can you devise asatisfactory substitute for traps using interrupts and/or exceptions? If so, explain how \n",
            "Probability:  0.6268717\n",
            "Doc:  14. Suppose you have to implement an operating system on hardware that supportsexceptions and traps but does not have interrupts. Can you devise a satisfactorysubstitute for interrupts using exceptions and/or traps? If so, explain how . If not,explain why \n",
            "Probability:  0.8114617\n",
            "Doc:  3.5 Operating System StructureWe started this chapter with a list of functionality that users and applications need from theoperating system. W e have shown that by careful design of the system call interface, wecan of fload some of the work of the operating system to user programs, such as to a shellor to a print server \n",
            "Probability:  0.8013136\n",
            "Doc:  The hardware abstraction layer in WindowsAs a concrete example, Windows has a two-pronged strategy for portability. To allow the same Windowskernel binary to be used across personal computers manufactured by different vendors, the kernel isdynamically linked at boot time with a set of library routines specifically written for each hardwareconfiguration. This isolates the kernel from the specifics of the motherboard hardware\n",
            "Topic 24 is above threhsold, it contains the following documents: \n",
            "Length:  8\n",
            "--------------------------------------------------------------------------------\n",
            "Probability:  0.98536015\n",
            "Doc:  Now the good news: operating systems concepts are also among the most accessible incomputer science. Many topics in this book will seem familiar to you — if you have evertried to do two things at once, or picked the “wrong” line at a grocery store, or tried to keepa roommate or sibling from messing with your things, or succeeded at pulling of f an AprilFool’ s joke. Each of these activities has an analogue in operating systems. It is thisfamiliarity that gives us hope that we can explain how operating systems work in a singletextbook. All we assume of the reader is a basic understanding of the operation of acomputer and the ability to read pseudo-code\n",
            "Probability:  0.4376217\n",
            "Doc:  This book aims to go much deeper than that, to explain operating system internals that werely on every day without realizing it\n",
            "Probability:  0.9685581\n",
            "Doc:  a. How should an operating system allocate time on the processor? Should it givethe entire processor to each application until it no longer needs it? If there weremultiple tasks ready to go at the same time, should it schedule first the task withthe least amount of work to do or the one with the most? Justify your answer \n",
            "Probability:  0.516569\n",
            "Doc:  now do whatever work it needs to do\n",
            "Probability:  0.9816912\n",
            "Doc:  Explain how you might design the hardware and software to get this to work. (Hint:The device needs much of the same hardware support as the operating systemkernel.)12. System calls vs. procedure calls: How much more expensive is a system call than aprocedure call? W rite a simple test program to compare the cost of a simple procedurecall to a simple system call (getpid() is a good candidate on UNIX; see the man page)\n",
            "Probability:  0.522803\n",
            "Doc:  Explain the dif ference (if any) between the time required by your simple procedure calland simple system call by discussing what work each call must do\n",
            "Probability:  0.5341653\n",
            "Doc:  If not, explain why \n",
            "Probability:  0.47671738\n",
            "Doc:  15. Explain the steps that an operating system goes through when the CPU receives aninterrupt\n",
            "Topic 70 is above threhsold, it contains the following documents: \n",
            "Length:  7\n",
            "--------------------------------------------------------------------------------\n",
            "Probability:  0.97333735\n",
            "Doc:  We believe that understanding how operating systems work is essential for any studentinterested in building modern computer systems. Of course, everyone who uses acomputer or a smartphone — or even a modern toaster — uses an operating system, sounderstanding the function of an operating system is useful to most computer scientists\n",
            "Probability:  0.98206437\n",
            "Doc:  In its role as referee, an operating system is somewhat akin to that of a particularly patientkindergarten teacher . It balances needs, separates conflicts, and facilitates sharing. Oneuser should not be allowed to monopolize system resources or to access or corruptanother user ’s files without permission; a buggy application should not be able to crash theoperating system or other unrelated applications; and yet, applications must also worktogether . Enforcing and balancing these concerns is a central role of the operating system\n",
            "Probability:  0.987272\n",
            "Doc:  Neither open nor proprietary systems are intrinsically better for adoption. Windows 8 andMacOS are proprietary operating systems; Linux is an open operating system. All three arewidely used. Open systems are easier to adapt to a wide variety of hardware platforms, butthey risk devolving into multiple versions, impairing the network ef fect. Purveyors ofproprietary operating systems argue that their systems are more reliable and betteradapted to the needs of their customers. Interoperability problems can be reduced if thesame company controls both the hardware and the software, but limiting an operatingsystem to one hardware platform impairs the network ef fect and risks alienatingconsumers\n",
            "Probability:  0.9848532\n",
            "Doc:  EXAMPLE: To illustrate the tradeof f between performance and complexity , consider thefollowing true story . A research operating system developed in the late 1980’ s used a type-safe language to reduce the incidence of programmer errors. For speed, the mostfrequently used routines at the core of the operating system were implemented inassembly code. In one of these routines, the implementation team decided to use asequence of instructions that shaved a single instruction of f a very frequently used codepath, but that would sometimes break if the operating system exceeded a particular size\n",
            "Probability:  0.97486585\n",
            "Doc:  Embedded devices typically run a customized operating system bundled with the task-specific software that controls the device. Although you might think these systems astoo simple to merit much attention, software errors in them can have devastatingeffects. One example is the Therac-25, an early computer-controlled radiology device\n",
            "Probability:  0.8637952\n",
            "Doc:  To allow applications to implement operating system-like functionality , we need somethingmore. For many of the reasons that kernels need interrupt-based event delivery ,applications can also benefit from being told when events occur that need their immediateattention. Throughout this book, we will see this pattern repeatedly: the need to virtualizesome part of the kernel so that applications can behave more like operating systems. W ecall virtualized interrupts and exceptions upcalls . In UNIX, they are called signals ; inWindows, they are asynchronous events \n",
            "Probability:  0.97801715\n",
            "Doc:  How do we make this choice? It is important to realize that the choice can be (mostly)transparent to both the user and the application programmer . The user wants a system thatworks; the programmer wants a clean, convenient interface that does the job. As long asthe operating system provides that interface, where each function is implemented is up tothe operating system, based on a tradeof f between flexibility , reliability , performance, andsafety \n",
            "Topic 148 is above threhsold, it contains the following documents: \n",
            "Length:  14\n",
            "--------------------------------------------------------------------------------\n",
            "Probability:  0.50765073\n",
            "Doc:  This book aims to go much deeper than that, to explain operating system internals that werely on every day without realizing it\n",
            "Probability:  0.44801924\n",
            "Doc:  Figure 2.4: The operation of a CPU with kernel and user modes\n",
            "Probability:  0.6894008\n",
            "Doc:  The processor status register and privilege levelsConceptually, the kernel/user mode is a one-bit register. When set to 1, the processor is in kernel mode andcan do anything. When set to 0, the processor is in user mode and is restricted. On most processors, thekernel/user mode is stored in the processor status register. This register contains flags that control the\n",
            "Probability:  0.9834661\n",
            "Doc:  The kernel/user mode bit is one flag in the processor status register, set whenever the kernel is entered andreset whenever the kernel switches back to user mode. Other flags include condition codes, set as a sideeffect of arithmetic operations, to allow a more compact encoding of conditional branch instructions. Stillother flags can specify whether the processor is executing with 16-bit, 32-bit, or 64-bit addresses. Thespecific contents of the processor status register are processor architecture dependent\n",
            "Probability:  0.4948008\n",
            "Doc:  2.3.1 User to Kernel ModeWe first focus on transitions from user mode to kernel mode; as we will see, transitioning inthe other direction works by “undo\"-ing the transition from the user process into the kernel\n",
            "Probability:  0.9536941\n",
            "Doc:  Whether transitioning from user to kernel mode or in the opposite direction, care must betaken to ensure that a buggy or malicious user program cannot corrupt the kernel\n",
            "Probability:  0.7436217\n",
            "Doc:  Figure 2.9 summarizes the various states of a process’ s user and kernel stacks:If the process is running on the processor in user mode, its kernel stack is empty ,ready to be used for an interrupt, processor exception, or system call\n",
            "Probability:  0.7296594\n",
            "Doc:  Interrupt handlers: top and bottom halvesWhen a machine invokes an interrupt handler because some hardware event occurred (e.g., a timer expired,a key was pressed, a network packet arrived, or a disk I/O completed), the processor hardware typicallymasks interrupts while the interrupt handler executes. While interrupts are disabled, another hardware eventwill not trigger another invocation of the interrupt handler until the interrupt is re-enabled\n",
            "Probability:  0.4537959\n",
            "Doc:  If the processor is in user mode, the x86 pushes the interrupted process’ s stackpointer onto the kernel’ s interrupt stack and switches to the kernel stack\n",
            "Probability:  0.42818072\n",
            "Doc:  Privileged instructions: instructions available only in kernel mode\n",
            "Probability:  0.59062153\n",
            "Doc:  Return from interrupt: switch from kernel mode to user mode, to a specific location in a user process\n",
            "Probability:  0.74097085\n",
            "Doc:  1. When a user process is interrupted or causes a processor exception, the x86hardware switches the stack pointer to a kernel stack, before saving the currentprocess state. Explain why \n",
            "Probability:  0.4307301\n",
            "Doc:  6. Define four types of kernel-mode to user-mode transfers\n",
            "Probability:  0.6623552\n",
            "Doc:  7. Most hardware architectures provide an instruction to return from an interrupt, such asiret. This instruction switches the mode of operation from kernel-mode to user-mode\n",
            "Topic 159 is above threhsold, it contains the following documents: \n",
            "Length:  8\n",
            "--------------------------------------------------------------------------------\n",
            "Probability:  0.94471157\n",
            "Doc:  a link can cause someone else’ s code to run on your computer . How does the clientoperating system protect itself from compromise by a computer virus surreptitiouslyembedded into the scripting code?Suppose the web site administrator uses an editor to update the web page. The webserver must be able to read this file. How does the operating system store the byteson disk so that the web server can find and read them?Taking this a step further , the administrator may want to make a consistent set ofchanges to the web site so that embedded links are not left dangling, even temporarily \n",
            "Probability:  0.9647646\n",
            "Doc:  1.2.2 SecurityTwo concepts closely related to reliability are security and privacy . Security  means thecomputer ’s operation cannot be compromised by a malicious attacker . Privacy  is an aspectof security: data stored on the computer is only accessible to authorized users\n",
            "Probability:  0.5655264\n",
            "Doc:  2.2.1 Privileged InstructionsProcess isolation is possible only if there is a way to limit programs running in user modefrom directly changing their privilege level. W e discuss in Section 2.3 that processes canindirectly change their privilege level by executing a special instruction, called a systemcall, to transfer control into the kernel at a fixed location defined by the operating system\n",
            "Probability:  0.6116316\n",
            "Doc:   int staticVar = 0;    // a static variable   main() {       staticVar += 1;         // sleep causes the program to wait for x seconds       sleep(10);       printf (\"Address: %x; Value: %d\\n\", &staticVar, staticVar);   }    Produces:       Address: 5328; Value: 1Figure 2.7: A simple C program whose output illustrates the difference between execution in physicalmemory versus virtual memory. When multiple copies of this program run simultaneously, the output doesnot change\n",
            "Probability:  0.9474336\n",
            "Doc:  This block of bytes is called the bootloader . Once the BIOS has copied the bootloader intomemory , it jumps to the first instruction in the block. On some newer machines, the BIOSalso checks that the bootloader has not been corrupted by a computer virus. (If a viruscould change the bootloader and get the BIOS to jump to it, the virus would then be incontrol of the machine.) As a check, the bootloader is stored with a cryptographicsignature , a specially designed function of the bytes in a file and a private cryptographickey that allows someone with the corresponding public key to verify that an authorizedentity produced the file. It is computationally intractable for an attacker without the privatekey to create a dif ferent file with a valid signature. The BIOS checks that the bootloadercode matches the signature, verifying its authenticity \n",
            "Probability:  0.95356816\n",
            "Doc:  Process isolation is also essential to building more secure computer systems. Withoutisolation, computer users would be forced to trust every application loaded onto the\n",
            "Probability:  0.9337988\n",
            "Doc:  Application-layer sandboxing.  Increasingly , many applications are becoming mini-operating systems in their own right, capable of safely executing third-party software toextend and improve the user experience. Sophisticated scripts customize web sitebehavior; web browsers must efficiently and completely isolate these scripts so thatthey cannot steal the user’s data or corrupt the browser . Other applications — such asdatabases and desktop publishing systems — are also moving in the direction ofneeding application-layer sandboxing. Google’ s Native Client and Microsoft’ sApplication Domains are two example systems that provide general-purpose, safeexecution of third-party code at the user level\n",
            "Probability:  0.8270755\n",
            "Doc:  Finally , as we outlined in the previous chapter , UNIX provides a facility for one process tosend another an instant notification, or upcall. In UNIX, the notification is sent by callingsignal . Signals are used for terminating an application, suspending it temporarily fordebugging, resuming after a suspension, timer expiration, and a host of other reasons. Inthe default case, where the receiving application did not specify a signal handler , the kernelimplements a standard one on its behalf\n",
            "Topic 99 is above threhsold, it contains the following documents: \n",
            "Length:  8\n",
            "--------------------------------------------------------------------------------\n",
            "Probability:  0.99002385\n",
            "Doc:  Chapter roadmap:The rest of this chapter discusses three topics in detail:Operating System Definition.  What is an operating system, and what does it do?(Section 1.1)Operating System Evaluation.  What design goals should we look for in an operatingsystem? (Section 1.2)Operating Systems: Past, Present, and Future.  How have operating systemsevolved, and what new functionality are we likely to see in future operating systems?(Section 1.3)1.1 What Is An Operating System?An operating system  (OS) is the layer of software that manages a computer ’s resources forits users and their applications. Operating systems run in a wide range of computersystems. They may be invisible to the end user , controlling embedded devices such astoasters, gaming systems, and the many computers inside modern automobiles andairplanes. They are also essential to more general-purpose systems such as smartphones,desktop computers, and servers.\n",
            "Probability:  0.4366756\n",
            "Doc:  We next discuss these three roles in greater detail\n",
            "Probability:  0.41553944\n",
            "Doc:  With this approach, a processor has two extra registers, called base and bound . The basespecifies the start of the process’ s memory region in physical memory , while the boundgives its endpoint (Figure 2.5). These registers can be changed only by privilegedinstructions, that is, by the operating system executing in kernel mode. User-level codecannot change their values\n",
            "Probability:  0.99139464\n",
            "Doc:  Although it may seem redundant, many systems use both language-level protection andprocess-level protection. For example, Google’ s Chrome web browser creates a separateprocess (e.g., one per browser tab) to interpret the HTML, Javascript, or Java on a webpage. This way , a malicious attacker must compromise both the language runtime as wellas the operating system process boundary to gain control of the client machine. □2.2.3 Timer InterruptsProcess isolation also requires hardware to provide a way for the operating system kernelto periodically regain control of the processor . When the operating system starts a user-level program, the process is free to execute any user-level (non-privileged) instructions itchooses, call any function in the process’ s memory region, load or store any value to itsmemory , and so forth. T o the user program, it appears to have complete control of thehardware within the limits of its memory region\n",
            "Probability:  0.92214006\n",
            "Doc:  In the future, we are likely to see three complementary trends:Operating system support for fine-grained protection.  Process isolation isbecoming more flexible and fine-grained in order to reflect dif ferent levels of trust indifferent applications. Today , it is typical for a user application to have the permissionsof that user. This allows a virus masquerading as a screen saver to steal or corruptthat user’s data without needing to compromise the operating system first\n",
            "Probability:  0.5745683\n",
            "Doc:  2. For the “Hello world” program, we mentioned that the kernel must copy the string fromthe user program to screen memory . Why must the screen’ s buf fer memory beprotected? Explain what might happen if a malicious application could alter any pixelon the screen, not just those within its own window \n",
            "Probability:  0.66759527\n",
            "Doc:  Wait for multiple reads.  For client-server computing, a server may have a pipe opento multiple client processes. Normally , read will block if there is no data to be read, andit would be inef ficient for the server to poll each pipe in turn to check if there is work forit to do. The UNIX system call select(fd[], number) addresses this. Select allows theserver to wait for input from any of a set of file descriptors; it returns the file descriptorthat has data, but it does not read the data. Windows has an equivalent function,called W aitForMultipleObjects\n",
            "Probability:  0.97412395\n",
            "Doc:  In the rest of this chapter , we ask how should we organize the remaining parts of theoperating system. There are many dependencies among the modules inside the operatingsystem, and there is often quite frequent interaction between these modules:Many parts of the operating system depend on synchronization primitives forcoordinating access to shared data structures with the kernel\n",
            "Topic 167 is above threhsold, it contains the following documents: \n",
            "Length:  9\n",
            "--------------------------------------------------------------------------------\n",
            "Probability:  0.992924\n",
            "Doc:  Figure 1.3: This shows the structure of a general-purpose operating system, as an expansion on the simpleview presented in Figure 1.2. At the lowest level, the hardware provides processors, memory, and a set ofdevices for storing data and communicating with the outside world. The hardware also provides primitivesthat the operating system can use for fault isolation and synchronization. The operating system runs as thelowest layer of software on the computer. It contains both a device-specific layer for managing the myriadhardware devices and a set of device-independent services provided to applications. Since the operatingsystem must isolate malicious and buggy applications from other applications or the operating system itself,much of the operating system runs in a separate execution environment protected from application code. Aportion of the operating system can also run as a system library linked into each application. In turn,applications run in an execution context provided by the operating system kernel. The application context ismuch more than a simple abstraction on top of hardware devices: applications execute in a virtualenvironment that is more constrained (to prevent harm), more powerful (to mask hardware limitations), andmore useful (via common services) than the underlying hardware\n",
            "Probability:  0.51048523\n",
            "Doc:  Figure 1.5: Cloud computing software provides a convenient abstraction of server resources to cloudapplications\n",
            "Probability:  0.974128\n",
            "Doc:  Cloud computing  (Figure 1.5) is a model of computing where applications run onshared computing and storage infrastructure in large-scale data centers instead of onthe user ’s own computers. Cloud computing must address many of the same issuesas in operating systems in terms of sharing, abstraction, and common services\n",
            "Probability:  0.4746755\n",
            "Doc:  Enforcement  is how the operating system ensures that only permitted actions are allowed\n",
            "Probability:  0.48108262\n",
            "Doc:  Virtual machines address this limitation (see Figure 1.4). Instead of running a testoperating system directly on the hardware, virtual machines run an operating system  as anapplication. The host operating system , also called a virtual machine monitor , exports anabstract virtual machine (A VM) that is identical to the underlying hardware. The testoperating system running on top of the virtual machine does not need to know that it isrunning in a virtual environment — it executes instructions, accesses hardware devices,and restores application state after an interrupt just as if it were running on real hardware\n",
            "Probability:  0.93329763\n",
            "Doc:  Likewise, parts of the operating system can run in their own user-level processes. A window manager is oneexample. The window manager directs mouse actions and keyboard input that occurs inside a window to thecorrect application, and the manager also ensures that each application modifies only that application’sportion of the screen, and not the operating system’s menu bar or any other application’s window. Withoutthis restriction, a malicious application could potentially take control of the machine. For example, a viruscould present a login prompt that looked identical to the system login, potentially inducing users to disclosetheir passwords to the attacker\n",
            "Probability:  0.82583356\n",
            "Doc:  process has gone into an infinite loop. The timer handler can also switch execution toa different process to ensure that each process gets a turn. If no change is needed,the timer handler resumes execution at the interrupted instruction, transparently to theuser process\n",
            "Probability:  0.9795576\n",
            "Doc:  Unfortunately , there are quite a few aspects of the process that the parent might like tocontrol, such as: its privileges, where it sends its input and output, what it should store itsfiles, what to use as a scheduling priority , and so forth. W e cannot trust the child processitself to set its own privileges and priority , and it would be inconvenient to expect everyapplication to include code for figuring out its context. So the real interface toCreateProcess is quite a bit more complicated in practice, given in Figure 3.3\n",
            "Probability:  0.7155819\n",
            "Doc:  The Internet has a similar facility to UNIX pipes called TCP (Transmission ControlProtocol). Where UNIX pipes connect processes on the same machine, TCP providesa bi-directional pipe between two processes running on different machines. In TCP,data is written as a sequence of bytes on one machine and read out as the samesequence on the other machine\n",
            "Topic 172 is above threhsold, it contains the following documents: \n",
            "Length:  8\n",
            "--------------------------------------------------------------------------------\n",
            "Probability:  0.6981063\n",
            "Doc:  2. Illusionist.  Operating systems provide an abstraction of physical hardware to simplifyapplication design. To write a “Hello world!” program, you do not need (or want!) tothink about how much physical memory the system has, or how many other programsmight be sharing the computer ’s resources. Instead, operating systems provide theillusion of nearly infinite memory , despite having a limited amount of physical memory \n",
            "Probability:  0.67660147\n",
            "Doc:  As Figure 2.8 illustrates, the processor has a special register that points to an area ofkernel memory called the interrupt vector table . The interrupt vector table is an array ofpointers, with each entry pointing to the first instruction of a dif ferent handler procedure inthe kernel. An interrupt handler  is the term used for the procedure called by the kernel onan interrupt\n",
            "Probability:  0.964775\n",
            "Doc:  Some other processors have a smaller number of entry points, instead putting a codeindicating the cause of the interrupt into a special hardware register . In that case, theoperating system software uses the code to index into the interrupt vector table\n",
            "Probability:  0.7516887\n",
            "Doc:  2.4.2 Interrupt StackWhere should the interrupted process’ s state be saved, and what stack should the kernel’ scode use?On most processors, a special, privileged hardware register points to a region of kernelmemory called the interrupt stack . When an interrupt, processor exception, or system calltrap causes a context switch into the kernel, the hardware changes the stack pointer topoint to the base of the kernel’ s interrupt stack. The hardware automatically saves some ofthe interrupted process’ s registers by pushing them onto the interrupt stack before callingthe kernel’ s handler \n",
            "Probability:  0.6515147\n",
            "Doc:  When the kernel handler runs, it pushes any remaining registers onto the stack beforeperforming its work. When returning from the interrupt, processor exception or system calltrap, the reverse occurs: first, the handler pops the saved registers, and then, the hardwarerestores the registers it saved, returning to the point where the process was interrupted\n",
            "Probability:  0.7175498\n",
            "Doc:  When a user-level process is running, the current state of the processor , stack, kernelinterrupt vector table, and kernel stack is illustrated in Figure 2.10. When a processorexception or system call trap occurs, the hardware carefully saves a small amount of theinterrupted thread state, leaving the system as shown in Figure 2.11:Figure 2.11: State of the system after the x86 hardware has jumped to the interrupt handler. The hardwaresaves the user context on the kernel interrupt stack and changes the program counter/stack to locations inkernel memory\n",
            "Probability:  0.97066855\n",
            "Doc:  To prevent the optimizing compiler from “optimizing out\" your procedure calls, do notcompile with optimization on. Y ou should use a system call such as the UNIXgettimeofday() for time measurements. Design your code so the measurementoverhead is negligible. Also, be aware that timer values in some systems have limitedresolution (e.g., millisecond resolution)\n",
            "Probability:  0.9411039\n",
            "Doc:  What steps does CreateProcess take? As we explained in the previous chapter , the kernelneeds to:Create and initialize the process control block (PCB) in the kernel\n",
            "Topic 161 is above threhsold, it contains the following documents: \n",
            "Length:  9\n",
            "--------------------------------------------------------------------------------\n",
            "Probability:  0.9848549\n",
            "Doc:  3. Glue.  Operating systems provide a set of common services that facilitate sharingamong applications. As a result, cut and paste works uniformly across the system; afile written by one application can be read by another . Many operating systems providecommon user interface routines so applications can have the same “look and feel.”Perhaps most importantly , operating systems provide a layer separating applicationsfrom hardware input and output (I/O) devices so applications can be writtenindependently of the specific keyboard, mouse, and disk drive in use on a particularcomputer \n",
            "Probability:  0.98763263\n",
            "Doc:  1.2 Operating System EvaluationHaving defined what an operating system does, how should we choose among alternativedesigns? W e discuss several desirable criteria for operating systems:Reliability and A vailability . Does the operating system do what you want?Security . Can the operating system be corrupted by an attacker?Portability . Is the operating system easy to move to new hardware platforms?Performance.  Is the user interface responsive, or does the operating system imposetoo much overhead?Adoption.  How many other users are there for this operating system?In many cases, tradeof fs between these criteria are inevitable — improving a system alongone dimension may hurt it along another . We conclude this section with some concreteexamples of design tradeof fs\n",
            "Probability:  0.9780194\n",
            "Doc:  1.3.3 Multi-User Operating SystemsThe next step forward was sharing, introducing many of the advantages, and challenges,that we see in today’ s operating systems. When processor time is valuable, restricting thesystem to one user at a time is wasteful. For example, in early systems the processorremained idle while the user loaded the program, even if there was a long line of peoplewaiting their turn\n",
            "Probability:  0.96329254\n",
            "Doc:  Ubiquitous portable computing devices.  With the advent of smartphones, tablets,and e-book readers, computers and their operating systems will become untetheredfrom the keyboard and the screen, responding to voice, gestures, and perhaps evenbrain waves\n",
            "Probability:  0.98169184\n",
            "Doc:  Without protection, an application could gather any amount of processing time,memory , or disk space that it wants. On a single-user system, a buggy applicationcould prevent other applications from running or make them run so slowly that theyappear to stall. On a multi-user system, one user could grab all of the system’ sresources. Thus, for efficiency and fairness, an operating system must be able to limitthe amount of resources assigned to each application or user .\n",
            "Probability:  0.83741635\n",
            "Doc:  Of course, both the operating system kernel and application processes running withrestricted rights are in fact sharing the same machine — the same processor , the samememory , and the same disk. When reading this chapter , keep these two perspectives inmind: when we are running the operating system kernel, it can do anything; when we arerunning an application process on behalf of a user , the process’ s behavior is restricted\n",
            "Probability:  0.9914793\n",
            "Doc:  How does the operating system kernel prevent a process from harming other processes orthe operating system itself? After all, when multiple programs are loaded into memory atthe same time, what prevents a process from overwriting another process’ s datastructures, or even overwriting the operating system image stored on disk?If we step back from any consideration of performance, a very simple, safe, and entirelyhypothetical approach would be to have the operating system kernel simulate, step bystep, every instruction in every user process. Instead of the processor directly executinginstructions, a software interpreter would fetch, decode, and execute each user programinstruction in turn. Before executing each instruction, the interpreter could check if theprocess had permission to do the operation in question: is it referencing part of its ownmemory , or someone else’ s? Is it trying to branch into someone else’ s code? Is it directlyaccessing the disk, or is it using the correct routines in the operating system to do so? Theinterpreter could allow all legal operations while halting any application that overstepped itsbounds.\n",
            "Probability:  0.5671388\n",
            "Doc:  To start running the program, the kernel must also:Copy arguments into user memory . When starting a program, the user may give itarguments, much like calling a procedure. For example, when you click on a file iconin MacOS or Windows, the window manager asks the kernel to start the applicationassociated with the file, passing it the file name to open. The kernel copies the filename from the memory of the window manager process to a special region of memoryin the new process. By convention, arguments to a process are copied to the base ofthe user-level stack, and the user ’s stack pointer is incremented so those addressesare not overwritten when the program starts running\n",
            "Probability:  0.5811815\n",
            "Doc:  17. Write a program to verify that the operating system on your computer correctlyprotects itself from rogue system calls. For a single system call — such as file systemopen — try all possible illegal calls: e.g., an invalid system call number , an invalidstack pointer , an invalid pointer stored on the stack, etc. What happens?\n",
            "Topic 137 is above threhsold, it contains the following documents: \n",
            "Length:  8\n",
            "--------------------------------------------------------------------------------\n",
            "Probability:  0.8340279\n",
            "Doc:  1.1.1 Resource Sharing: Operating System as RefereeSharing is central to most uses of computers. Right now , my laptop is running a browser ,podcast library , text editor , email program, document viewer , and newspaper . Theoperating system must somehow keep all of these activities separate, yet allow each thefull capacity of the machine if the others are not running. At a minimum, when one programstops running, the operating system should let me run another . Better still, the operatingsystem should let multiple applications run at the same time, so I can read email while Idownload a security patch to the system software\n",
            "Probability:  0.99268746\n",
            "Doc:  Chapter roadmap:  Protection raises several important questions that we will answer in therest of the chapter:The Process Abstraction.  What is a process and how does it dif fer from a program?(Section 2.1)Dual-Mode Operation.  What hardware enables the operating system to efficientlyimplement the process abstraction? (Section 2.2)Types of Mode T ransfer . What causes the processor to switch control from a user-level program to the kernel? (Section 2.3)Implementing Safe Mode T ransfer . How do we safely switch between user level andthe kernel? (Section 2.4)Putting It All T ogether: x86 Mode T ransfer . What happens on an x86 mode switch?(Section 2.5)Implementing Secure System Calls.  How do library code and the kernel worktogether to implement protected procedure calls from the application into the kernel?(Section 2.6)Starting a New Process.  How does the operating system kernel start a new process?(Section 2.7)Implementing Upcalls.  How does the operating system kernel deliver anasynchronous event to a user process? (Section 2.8)Case Study: Booting an OS Kernel.  What steps are needed to start running anoperating system kernel, to the point where it can create a process? (Section 2.9)\n",
            "Probability:  0.85787916\n",
            "Doc:  The compiler also defines any static data the program needs, along with its initial values,and includes them in the executable image\n",
            "Probability:  0.6155939\n",
            "Doc:  2.4 Implementing Safe Mode Transfer\n",
            "Probability:  0.66247094\n",
            "Doc:  2.4.3 Two Stacks per ProcessMost operating system kernels go one step farther and allocate a kernel interrupt stack forevery user-level process (and as we discuss in Chapter 4, every thread that executes usercode). When a user-level process is running, the hardware interrupt stack points to thatprocess’ s kernel stack. Note that when a process is running at user level, it is not runningin the kernel so its kernel stack is empty \n",
            "Probability:  0.9343008\n",
            "Doc:  UNIX and kernel stacksIn the original implementation of UNIX, kernel memory was at a premium; main memory was roughly onemillion times more expensive per byte than it is today. The initial system could run with only 50KB of mainmemory. Instead of allocating an entire interrupt stack per process, UNIX allocated just enough memory inthe process control block to store the user-level registers saved on a mode switch. In this way, UNIX couldsuspend a user-level process with the minimal amount of memory. UNIX still needed a few kernel stacks:one to run the interrupt handler and one for every system call waiting for an I/O event to complete, but that ismuch less than one for every process\n",
            "Probability:  0.8619966\n",
            "Doc:  a. Why do instructions like popf prevent transparent virtualization of the (old) x86architecture?b. How would you change the (old) x86 hardware to fix this problem?10. Which of the following components is responsible for loading the initial value in theprogram counter for an application program before it starts running: the compiler , thelinker , the kernel, or the boot ROM?11. We described how the operating system kernel mediates access to I/O devices forsafety . Some newer I/O devices are virtualizable  — they permit safe access from user-level programs, such as a guest operating system running in a virtual machine\n",
            "Probability:  0.6477784\n",
            "Doc:  Client-server . An alternative model is to allow two-way communication betweenprocesses, as in client-server computing. The server implements some specializedtask, such as managing the printer queue or managing the display . Clients sendrequests to the server to do some task, and when the operation is complete, theserver replies back to the client\n",
            "Topic 120 is above threhsold, it contains the following documents: \n",
            "Length:  10\n",
            "--------------------------------------------------------------------------------\n",
            "Probability:  0.43072352\n",
            "Doc:  Sharing raises several challenges for an operating system:Resource allocation.  The operating system must keep all simultaneous activitiesseparate, allocating resources to each as appropriate. A computer usually has only a\n",
            "Probability:  0.40889332\n",
            "Doc:  An important reason for the operating system to provide common services, rather thanletting each application provide its own, is to facilitate sharing among applications. The web\n",
            "Probability:  0.9785579\n",
            "Doc:  Most of the code in an operating system implements these common services. However ,much of the complexity of operating systems is due to resource sharing and the masking ofhardware limits. Because common service code uses the abstractions provided by theother two operating system roles, this book will focus primarily on the operating system asa referee and as an illusionist\n",
            "Probability:  0.987633\n",
            "Doc:  While the portability of an operating system becomes apparent over time, the performanceof an operating system is often immediately visible to its users. Although we oftenassociate performance with each individual application, the operating system’ s design cangreatly af fect the application’ s perceived performance. The operating system decides whenan application can run, how much memory it can use, and whether its files are cached inmemory or clustered ef ficiently on disk. The operating system also mediates applicationaccess to memory , the network, and the disk. It must avoid slowing down the critical pathwhile still providing needed fault isolation and resource sharing between applications\n",
            "Probability:  0.53427905\n",
            "Doc:  1.3.2 Early Operating Systems\n",
            "Probability:  0.9888872\n",
            "Doc:  A batch operating system  works on a queue of tasks. It runs a simple loop: load, run, andunload each job in turn. While one job was running, the operating system sets up the I/Odevices to do background transfers for the next/previous job using a process called directmemory access (DMA) . With DMA, the I/O device transfers its data directly into memory ata location specified by the operating system. When the I/O transfer completes, thehardware interrupts the processor , transferring control to the operating system interrupthandler . The operating system starts the next DMA  transfer and then resumes execution ofthe application. The interrupt appears to the application as if nothing had happened, exceptfor some delay between one instruction and the next\n",
            "Probability:  0.6282814\n",
            "Doc:  1.3.4 Time-Sharing Operating SystemsFigure 1.9: Genealogy of several modern operating systems.\n",
            "Probability:  0.96329415\n",
            "Doc:  Because third-party applications might surreptitiously gather private data such as theuser’s contact list for marketing purposes, the operating system must be designed tolimit access to protected user data\n",
            "Probability:  0.66123474\n",
            "Doc:  Managing all this is the job of the operating system.\n",
            "Probability:  0.40522134\n",
            "Doc:  At a minimum, this common sequence must provide:Limited entry into the kernel.  To transfer control to the operating system kernel, thehardware must ensure that the entry point into the kernel is one set up by the kernel\n",
            "Topic 73 is above threhsold, it contains the following documents: \n",
            "Length:  7\n",
            "--------------------------------------------------------------------------------\n",
            "Probability:  0.9410796\n",
            "Doc:  up boundaries, an operating system must also allow those boundaries to be crossed incarefully controlled ways when the need arises\n",
            "Probability:  0.8665376\n",
            "Doc:  This means that operating systems must be designed to support applications that have notyet been written and to run on hardware that has not yet been developed. Likewise,developers do not want to re-write applications when the operating system is ported frommachine to machine. Sometimes, the importance of “future-proofing” an operating systemis discovered only in retrospect. Microsoft’ s first operating system, MS/DOS, was designedin 1981 assuming that personal computers would never have more than 640 KB ofmemory . This limitation was acceptable at the time, but today , even cellphones have ordersof magnitude more memory than that\n",
            "Probability:  0.985357\n",
            "Doc:  Today , Linux is an example of a highly portable operating system. It has been used as theoperating system for web servers, personal computers, tablets, netbooks, e-book readers,smartphones, set top boxes, routers, WiFi access points, and game consoles. Linux isbased on an operating system called UNIX, which was originally developed in the early1970’ s. UNIX was written by a small team of developers. It was designed to be compact,simple to program, and highly portable, but at some cost in performance. Over the years,UNIX’ s and Linux’ s portability and convenient programming abstractions have been keys totheir success\n",
            "Probability:  0.919423\n",
            "Doc:  The operating system also needs to regain control of the processor in normal operation\n",
            "Probability:  0.79887843\n",
            "Doc:  EXAMPLE: How does the kernel know if an application is in an infinite loop?ANSWER: It doesn’t. T ypically , the operating system will terminate a process only whenrequested by the user or system administrator , e.g., because the application has becomenon-responsive to user input. The operating system needs to be able to regain control tobe able to ask the user if she wants to shut down a particular process. □2.3 Types of Mode TransferOnce the kernel has placed a user process in a carefully constructed sandbox, the nextquestion is how to safely transition from executing a user process to executing the kernel,and vice versa. These transitions are not rare events. A high-performance web server , forexample, might switch between user mode and kernel mode thousands of times persecond. Thus, the mechanism must be both fast and safe, leaving no room for malicious orbuggy programs to corrupt the kernel, either intentionally or inadvertently \n",
            "Probability:  0.7524609\n",
            "Doc:  Operating systems can provide any number of system calls. Examples include systemcalls to establish a connection to a web server , to send or receive packets over thenetwork, to create or delete files, to read or write data into files, and to create a newuser process. T o the user program, these are called like normal procedures, withparameters and return values. The caller needs to be concerned only with theinterface; it does not need to know that the routine is actually being implemented bythe kernel. The kernel handles the details of checking and copying arguments,performing the operation, and copying return values back into the process’ s memory \n",
            "Probability:  0.8261558\n",
            "Doc:  To simplify the kernel design, the hardware provides a privileged instruction to temporarilydefer delivery of an interrupt until it is safe to do so. On the x86 and several otherprocessors, this instruction is called disable interrupts . However , this is a misnomer: theinterrupt is only deferred (masked), and not ignored. Once a corresponding enableinterrupts  instruction is executed, any pending interrupts are delivered to the processor \n",
            "Topic 128 is above threhsold, it contains the following documents: \n",
            "Length:  9\n",
            "--------------------------------------------------------------------------------\n",
            "Probability:  0.6313128\n",
            "Doc:  Figure 1.4: A guest operating system running inside a virtual machine\n",
            "Probability:  0.61106706\n",
            "Doc:  Pushing this one step further , some operating systems virtualize the entire computer ,running the operating system as an application on top of another operating system (seeFigure 1.4). This is called creating a virtual machine . The operating system running in thevirtual machine, called the guest operating system , thinks it is running on a real, physicalmachine, but this is an illusion presented by the true operating system running underneath\n",
            "Probability:  0.6804207\n",
            "Doc:  One benefit of a virtual machine is application portability . If a program runs only on an oldversion of an operating system, it can still work on a new system running a virtual machine\n",
            "Probability:  0.468625\n",
            "Doc:  Virtual machines address this limitation (see Figure 1.4). Instead of running a testoperating system directly on the hardware, virtual machines run an operating system  as anapplication. The host operating system , also called a virtual machine monitor , exports anabstract virtual machine (A VM) that is identical to the underlying hardware. The testoperating system running on top of the virtual machine does not need to know that it isrunning in a virtual environment — it executes instructions, accesses hardware devices,and restores application state after an interrupt just as if it were running on real hardware\n",
            "Probability:  0.9848876\n",
            "Doc:  Virtual machines are now widely used for operating system development, backwardcompatibility , and cross-platform support. Application software that runs only on an oldversion of an operating system can share hardware with entirely new applications. Thevirtual machine monitor runs two virtual machines — one for the new operating system forcurrent applications and a separate one for legacy applications. As another example,MacOS users who need to run Windows or Linux applications can do so by running theminside a virtual machine\n",
            "Probability:  0.4115428\n",
            "Doc:  Virtual machines.  As we noted, a virtual machine monitor is an operating system thatcan run another operating system as if it were an application. Examples includeVMW are, Xen, and Windows Virtual PC. Virtual machine monitors face many of thesame challenges as other operating systems, with the added challenge posed bycoordinating a set of coordinators. A guest operating system running inside a virtualmachine makes resource allocation and fault isolation decisions as if it were incomplete control of its resources, even though it is sharing the system with otheroperating systems and applications\n",
            "Probability:  0.46298382\n",
            "Doc:  A potential future use for multiple privilege levels would be to simplify running an operating system as anapplication, or virtual machine, on top of another operating system. Applications running on top of the virtualmachine operating system would run at user level; the virtual machine would run at some intermediate level;and the true kernel would run in kernel mode. Of course, with only four levels, this does not work for a virtualmachine running on a virtual machine running on a virtual machine. For our discussion, we assume thesimpler and more universal case of two levels of hardware protection\n",
            "Probability:  0.46411932\n",
            "Doc:  2.10 Case Study: Virtual MachinesSome operating system kernels provide the abstraction of an entire virtual machine at userlevel. How do interrupts, processor exceptions, and system calls work in this context? T oavoid confusion when discussing virtual machines, we need to recap some terminologyintroduced in Chapter 1. The operating system providing the virtual machine abstraction iscalled the host operating system . The operating system running inside the virtual machineis called the guest operating system \n",
            "Probability:  0.40812746\n",
            "Doc:  Hardware support for virtualization.  Virtual machines provide an extra layer ofprotection beneath the operating system. Even if a malicious process run by a guestoperating system on a virtual machine were able to corrupt the kernel, its impact wouldbe limited to just that virtual machine. Below the virtual machine interface, the hostoperating system needs to provide isolation between different virtual machines; this ismuch easier in practice because the virtual machine interface is much simpler than thekernel’ s system call interface. For example, in a data center , virtual machines provideusers with the flexibility to run any application without compromising data centeroperation\n",
            "Topic 147 is above threhsold, it contains the following documents: \n",
            "Length:  7\n",
            "--------------------------------------------------------------------------------\n",
            "Probability:  0.9250035\n",
            "Doc:  server must be able to read the file that the text editor wrote. For applications to share files,they must be stored in a standard format, with a standard system for managing filedirectories. Most operating systems also provide a standard way for applications to passmessages and to share memory \n",
            "Probability:  0.95096815\n",
            "Doc:  Alas, no useful computer is perfectly secure! Any complex piece of software has bugs, andseemingly innocuous bugs can be exploited by an attacker to gain control of the system\n",
            "Probability:  0.9774503\n",
            "Doc:  1.2.5 AdoptionIn addition to reliability , portability and performance, the success of an operating systemdepends on two factors outside its immediate control: the wide availability of applicationsported to that operating system, and the wide availability of hardware that the operatingsystem can support. An iPhone runs iOS, but without the pre-installed applications and thecontents of the App Store, the iPhone would be just another cellphone\n",
            "Probability:  0.61465484\n",
            "Doc:  System calls.  User processes can also transition into the operating system kernelvoluntarily to request that the kernel perform an operation on the user ’s behalf. Asystem call  is any procedure provided by the kernel that can be called from user level\n",
            "Probability:  0.69960505\n",
            "Doc:  3. The hardware transfers control to the kernel, vectoring to the system call handler . Thehandler acts as a stub on the kernel side, copying and checking arguments and thencalling the kernel implementation of system call\n",
            "Probability:  0.89856666\n",
            "Doc:  Reliability . Improved reliability is another reason to keep the operating system kernelminimal. Kernel code needs the power to set up hardware devices, such as the disk,and to control protection boundaries between applications. However , kernel modulesare typically not protected from one another , and so a bug in kernel code (whethersensitive or not) may corrupt user or kernel data. This has led some systems to use aphilosophy of “what can be at user level, should be.” An extreme version of approachis to isolate privileged, but less critical, parts of the operating system such as the filesystem or the window system, from the rest of the kernel. This is called a microkerneldesign. In a microkernel, the kernel itself is kept small, and instead most of thefunctionality of a traditional operating system kernel is put into a set of user-levelprocesses, or servers, accessed from user applications via interprocesscommunication\n",
            "Probability:  0.7744354\n",
            "Doc:  Kernel-buffered writes.  Likewise, outgoing data is stored in a kernel buf fer fortransmission when the device becomes available. In the normal case, the system callwrite copies the data into the kernel buffer and returns immediately . This decouplesthe application from the device, allowing each to go at its own speed. If the applicationgenerates data faster than the device can receive it (as is common when spoolingdata to a printer), the write system call blocks in the kernel until there is enough roomto store the new data in the buf fer.\n",
            "Topic 4 is above threhsold, it contains the following documents: \n",
            "Length:  7\n",
            "--------------------------------------------------------------------------------\n",
            "Probability:  0.4239173\n",
            "Doc:  We next describe some of the systems with design challenges similar to those found inoperating systems:\n",
            "Probability:  0.41850573\n",
            "Doc:  Thus, an operating system needs both an enforcement mechanism and a security policy \n",
            "Probability:  0.98458725\n",
            "Doc:  1.2.6 Design T radeoffsMost practical operating system designs strike a balance between the goals of reliability ,security , portability , performance, and adoption. Design choices that improve portability —for example, preserving legacy interfaces — often make the system as a whole lessreliable and less secure. Similarly , it is often possible to increase system performance bybreaking an abstraction. However , such performance optimizations may add complexityand therefore potentially hurt reliability . The operating system designer must carefullyweigh these competing goals\n",
            "Probability:  0.98745435\n",
            "Doc:  1.3.6 Future Operating SystemsWhere are operating systems heading from here over the next decade? Operating systemshave become dramatically better at resisting malicious attacks, but they still have quite aways to go. Provided security and reliability challenges can be met, huge potential benefitswould result from having computers tightly control and coordinate physical infrastructure,such as the power grid, the telephone network, and a hospital’ s medical devices andmedical record systems. Thousands of lives are lost annually through traf fic accidents thatcould potentially be prevented through computer control of automobiles. If we are to rely oncomputers for these critical systems, we need greater assurance that operating systemsare up to the task\n",
            "Probability:  0.96476513\n",
            "Doc:  By contrast, operating systems need frequent updates, as bugs and security vulnerabilitiesare discovered and fixed. This, and the fact that ROM storage is relatively slow andexpensive, argues for putting only a small amount of code in the BIOS\n",
            "Probability:  0.84764373\n",
            "Doc:  Instead, the BIOS provides a level of indirection, as illustrated in Figure 2.18. The BIOSreads a fixed-size block of bytes from a fixed position on disk (or flash RAM) into memory \n",
            "Probability:  0.90576273\n",
            "Doc:  Figure  3.8 illustrates the code for the basic operation of a shell. The shell reads acommand line from the input, and it forks a process to execute that command. UNIX forkautomatically duplicates all open file descriptors in the parent, incrementing the kernel’ sreference counts for those descriptors, so the input and output of the child is the same asthe parent. The parent waits for the child to finish before it reads the next command toexecute\n",
            "Topic 154 is above threhsold, it contains the following documents: \n",
            "Length:  10\n",
            "--------------------------------------------------------------------------------\n",
            "Probability:  0.9647693\n",
            "Doc:  Figure 1.7: Databases perform many of the tasks of an operating system: they allocate resourcesamong user queries to ensure responsiveness, they mask differences in the underlying operatingsystem and hardware, and they provide a convenient programming abstraction to developers\n",
            "Probability:  0.74536943\n",
            "Doc:  How might we design an operating system to achieve portability? As we illustrated earlierin Figure 1.3, it helps to have a simple, standard way for applications to interact with theoperating system, the abstract virtual machine (A VM). This is the interface provided byoperating systems to applications, including: (i) the application programming interface(API) , the list of function calls the operating system provides to applications, (ii) thememory access model, and (iii) which instructions can be legally executed. For example,an instruction to change whether the hardware is executing trusted operating system code,or untrusted application code, must be available to the operating system but not toapplications\n",
            "Probability:  0.9755699\n",
            "Doc:  The operating system keeps track of the various processes on the computer using a datastructure called the process control block , or PCB. The PCB stores all the information theoperating system needs about a particular process: where it is stored in memory , where itsexecutable image resides on disk, which user asked it to execute, what privileges theprocess has, and so forth\n",
            "Probability:  0.97334105\n",
            "Doc:  Memory-mapped devicesOn most computers, the operating system controls input/output devices — such as the disk, network, orkeyboard — by reading and writing to special memory locations. Each device monitors the memory bus forthe address assigned to it, and when it sees its address, the device triggers the desired I/O operation\n",
            "Probability:  0.45627487\n",
            "Doc:  Buffer descriptors are stored in memory, accessed by the device using DMA (direct memory access)\n",
            "Probability:  0.9453738\n",
            "Doc:  Efficient delivery of network I/O packets is even more challenging. A high performance server might sendand receive tens of thousands of packets per second, representing thousands of different connections. Froma processing perspective, it is best to deliver incoming packets to the processor responsible for handling thatconnection; this requires the network interface hardware to re-direct the incoming packet based on thecontents of its header (e.g., the IP address and port number of the client). Recent network controllersaccomplish this by supporting multiple buffer descriptor rings for the same device, choosing which ring touse, and therefore which processor to interrupt, based on the header of the arriving packet\n",
            "Probability:  0.4762122\n",
            "Doc:  2.5 Putting It All Together: x86 Mode TransferThe high level steps needed to handle an interrupt, processor exception, or system call aresimple, but the details require some care\n",
            "Probability:  0.9870864\n",
            "Doc:  How large is the 32-bit x86 trapframe in the example given above?ANSWER: The hardware saves six registers; the interrupt handler saves another eightgeneral-purpose registers. In all, 56 bytes  are saved in the trapframe. □2.6 Implementing Secure System CallsThe operating system kernel constructs a restricted environment for process execution tolimit the impact of erroneous and malicious programs on system reliability . Any time aprocess needs to perform an action outside of its protection domain — to create a newprocess, read from the keyboard, or write a disk block — it must ask the operating systemto perform the action on its behalf, via a system call\n",
            "Probability:  0.85837984\n",
            "Doc:  Handling I/O interrupts is simpler: the simulation of the virtual device does not need to beanything like a real device. When the guest kernel makes a request to a virtual disk, thekernel writes instructions to the buf fer descriptor ring for the disk device; the host kerneltranslates these instructions into operations on the virtual disk. The host kernel cansimulate the disk request however it likes — e.g., through regular file reads and writes,copied into the guest kernel memory as if there was true DMA hardware. The guest kernelexpects to receive an interrupt when the virtual disk completes its work; this can be\n",
            "Probability:  0.98089415\n",
            "Doc:  This has fostered a blizzard of innovation. T oday , programs that create and manageprocesses include window managers, web servers, web browsers, shell command lineinterpreters, source code control systems, databases, compilers, and documentpreparation systems. W e could go on, but you get the idea. If creating a process issomething a process can do, then anyone can build a new version of any of theseapplications, without recompiling the kernel or forcing anyone else to use it\n",
            "Topic 143 is above threhsold, it contains the following documents: \n",
            "Length:  10\n",
            "--------------------------------------------------------------------------------\n",
            "Probability:  0.955917\n",
            "Doc:  interpose a runtime system on top of the operating system to manage user-levelparallelism, essentially building a mini-operating system on top of the underlying one\n",
            "Probability:  0.98583645\n",
            "Doc:  Despite these changes, operating systems still face the same conceptual challenges asthey did fifty years ago. T o manage computer resources for applications and users, theymust allocate resources among applications, provide fault isolation and communicationservices, abstract hardware limitations, and so forth. W e have made tremendous progresstowards improving the reliability , security , efficiency , and portability of operating systems,but much more is needed. Although we do not know precisely how computing technologyor application demand will evolve over the next 10-20 years, it is highly likely that thesefundamental operating system challenges will persist\n",
            "Probability:  0.45409426\n",
            "Doc:  These services made it more likely that a user ’s program would produce useful output\n",
            "Probability:  0.9831067\n",
            "Doc:  b. How should the operating system allocate physical memory to applications? Whatshould happen if the set of applications does not fit in memory at the same time?c. How should the operating system allocate its disk space? Should the first user toask acquire all of the free space? What would the likely outcome be for thatpolicy?5. Now suppose the computer system needs to support fault isolation. What hardwareand/or operating support do you think would be needed to do the following?a. Protect an application’ s data structures in memory from being corrupted by otherapplications\n",
            "Probability:  0.62379426\n",
            "Doc:  b. Protecting one user ’s disk files from being accessed or corrupted by another user \n",
            "Probability:  0.98459154\n",
            "Doc:  MS/DOS and memory protectionAs an illustration of the power of memory protection, MS/DOS was an early Microsoft operating system thatdid not provide it. Instead, user programs could read and modify any memory location in the system,including operating system data structures. While this was seen as acceptable for a personal computer thatwas only used by a single person at a time, there were a number of downsides. One obvious problem wassystem reliability: application bugs frequently crashed the operating system or corrupted other applications\n",
            "Probability:  0.40335438\n",
            "Doc:  Implementing system calls requires the operating system to define a calling convention  —how to name system calls, pass arguments, and receive return values across the\n",
            "Probability:  0.7742233\n",
            "Doc:  Allocate memory for the process\n",
            "Probability:  0.96070176\n",
            "Doc:  Interprocess communication.  Most interprocess communication can be handled withsystem calls — one process writes data, while the other reads it sometime later . Akernel upcall is needed if a process generates an event that needs the instantattention of another process. As an example, UNIX sends an upcall to notify a processwhen the debugger wants to suspend or resume the process. Another use is for logout— to notify applications that they should save file data and cleanly terminate\n",
            "Probability:  0.5567127\n",
            "Doc:  Signal stack.  Applications have the option to run UNIX signal handlers on theprocess’ s normal execution stack or on a special signal stack allocated by the userprocess in user memory . Running signal handlers on the normal stack makes it moredifficult for the signal handler to manipulate the stack, e.g., if the runtime needs toraise a language-level exception\n",
            "Topic 62 is above threhsold, it contains the following documents: \n",
            "Length:  8\n",
            "--------------------------------------------------------------------------------\n",
            "Probability:  0.9897912\n",
            "Doc:  Referee.  When there are more tasks to perform than processors, how does theruntime system decide which tasks to perform first?Illusionist.  How does the runtime system hide physical details of the hardwarefrom the programmer , such as the number of processors or the interprocessorcommunication latency?Glue.  Highly concurrent data structures can make it easier to write efficientparallel programs; how do we program trees, hash tables, and lists so that theycan be used by multiple processors at the same time?The Internet  is used everyday by a huge number of people, but at the physical layer ,those users share the same underlying resources. How should the Internet handleresource contention? Because of its diverse user base, the Internet is rife withmalicious behavior , such as denial-of-service attacks that flood traf fic on certain linksto prevent legitimate users from communicating. V arious attempts are underway todesign solutions that will let the Internet continue to function despite such attacks\n",
            "Probability:  0.9804656\n",
            "Doc:  A related concept is availability , the percentage of time that the system is usable. A buggyoperating system that crashes frequently , losing the user ’s work, is both unreliable andunavailable. A buggy operating system that crashes frequently but never loses the user ’swork and cannot be subverted by a malicious attack is reliable but unavailable. Anoperating system that has been subverted but continues to appear to run normally whilelogging the user ’s keystrokes is unreliable but available\n",
            "Probability:  0.5900193\n",
            "Doc:  On a multiprocessor , each processor needs to have its own interrupt stack so that, forexample, the kernel can handle simultaneous system calls and exceptions across multipleprocessors. For each processor , the kernel allocates a separate region of memory as thatprocessor ’s interrupt stack\n",
            "Probability:  0.86266464\n",
            "Doc:  The SPARC architecture is in the first camp. SPARC defines a set of register windows that operate like ahardware stack. Each register window includes a full set of the registers defined by the SPARC instructionset. When the processor performs a procedure call, it shifts to a new window, so the compiler never needs tosave and restore registers across procedure calls, making them quite fast. (At a deep enough level ofrecursion, the SPARC will run out of its register windows; it then takes an exception that saves half thewindows and resumes execution. Another exception occurs when the processor pops its last window,allowing the kernel to reload the saved windows.)Mode switches can be quite fast on the SPARC. On a mode switch, the processor switches to a differentregister window. The kernel handler can then run, using the registers from the new window and notdisturbing the values stored in the interrupted process’s copy of its registers. Unfortunately, this comes at acost: switching between different processes is quite expensive on the SPARC, as the kernel needs to saveand restore the entire register set of every active window\n",
            "Probability:  0.9930902\n",
            "Doc:  run operations in the background, signified by appending ‘&’ to the command line. (As withfork, the word wait is now a bit ambiguous. It is used for pausing the current UNIX processto wait for another process to complete; it is also used in thread synchronization, forwaiting on a condition variable. T o disambiguate, we will always use the term “UNIX wait”to refer to UNIX’ s wait system call. Oddly , waiting for a thread to complete is called “threadjoin”, even though it is most analogous to UNIX wait. Windows is simpler , with a singlefunction called “W aitForSingleObject” that can wait for process completion, threadcompletion, or on a condition variable.)Kernel handles and garbage collectionAs we discussed in the previous chapter, when a UNIX process finishes, it calls the system call exit. Exit canrelease various resources associated with the process, such as the user stack, heap, and code segments. Itmust be careful, however, in how it garbage collects the process control block (PCB). Even though the childprocess has finished, if it deletes the PCB, then the parent process will be left with a dangling pointer if lateron it calls UNIX wait. Of course, we don’t know for sure if the parent will ever call wait, so to be safe, thePCB can only be reclaimed when both the parent and the child have finished or crashed\n",
            "Probability:  0.4138763\n",
            "Doc:  Figure 3.7 summarizes the dozen UNIX system calls discussed in this section\n",
            "Probability:  0.5966037\n",
            "Doc:  exit ()Tell the kernel the current process is complete, and its data structuresshould be garbage collected\n",
            "Probability:  0.60730237\n",
            "Doc:  Figure 3.7: List of UNIX system calls discussed in this section\n",
            "Topic 39 is above threhsold, it contains the following documents: \n",
            "Length:  7\n",
            "--------------------------------------------------------------------------------\n",
            "Probability:  0.9580301\n",
            "Doc:  Even without intentionally malicious attacks, extremely rare corner cases can occurregularly: for an operating system with a million users, a once in a billion event willeventually occur to someone.\n",
            "Probability:  0.9706708\n",
            "Doc:  Throughout this book, we will present various approaches to improving operating systemreliability and availability . In many cases, the abstractions may seem at first glance overlyrigid and formulaic. It is important to realize this is done on purpose! Only preciseabstractions provide a basis for constructing reliable and available systems\n",
            "Probability:  0.47365463\n",
            "Doc:  Thus, a process is an instance  of a program, in much the same way that an object is aninstance of a class in object-oriented programming. Each program can have zero, one ormore processes executing it. For each instance of a program, there is a process with itsown copy of the program in memory \n",
            "Probability:  0.41840425\n",
            "Doc:  Memory fragmentation.  Once a program starts, it is nearly impossible to relocate it\n",
            "Probability:  0.98207116\n",
            "Doc:  With virtual addresses, if multiple copies of this program run simultaneously , each copy ofthe program will print exactly the same result. This would be impossible if each copy weredirectly addressing physical memory locations. In other words, each instance of theprogram appears to run in its own complete copy of memory: when it stores a value to amemory location, it alone sees its changes to that location. Other processes change theirown copies of the memory location. In this way , a process cannot alter any other process’ s\n",
            "Probability:  0.54227996\n",
            "Doc:  memory , because it has no way to reference the other process’ s memory; only the kernelcan read or write the memory of a process other than itself\n",
            "Probability:  0.9804733\n",
            "Doc:  UNIX fork  creates a complete copy of the parent process, with one key exception. (W eneed some way to distinguish between which copy is the parent and which is the child.)The child process sets up privileges, priorities, and I/O for the program that is about to bestarted, e.g., by closing some files, opening others, reducing its priority if it is to run in thebackground, etc. Because the child runs exactly the same code as the parent, it can betrusted to set up the context for the new program correctly \n",
            "Topic 17 is above threhsold, it contains the following documents: \n",
            "Length:  9\n",
            "--------------------------------------------------------------------------------\n",
            "Probability:  0.9755721\n",
            "Doc:  Thus, both reliability and availability are desirable. A vailability is af fected by two factors: thefrequency of failures, measured as the mean time to failure (MTTF) , and the time it takes torestore a system to a working state after a failure (for example, to reboot), called the meantime to repair (MTTR) . Availability can be improved by increasing the MTTF or reducing theMTTR\n",
            "Probability:  0.499669\n",
            "Doc:  As a result, most successful operating systems have a lifetime measured in decades\n",
            "Probability:  0.875142\n",
            "Doc:  Eventually , the cumulative ef fect of Moore’ s Law meant that the cost of computing droppedto where systems could be optimized for users rather than for ef ficient use of theprocessor . UNIX, for example, was developed in the early 70’ s on a spare computer thatno one was using at the time. UNIX became the basis for Apple’ s MacOS X, Linux,VMware (a widely used virtual machine monitor), and Google Android. Figure 1.9 tracesthe lineage of these operating systems\n",
            "Probability:  0.49269134\n",
            "Doc:  Thus, a process is an instance  of a program, in much the same way that an object is aninstance of a class in object-oriented programming. Each program can have zero, one ormore processes executing it. For each instance of a program, there is a process with itsown copy of the program in memory \n",
            "Probability:  0.837584\n",
            "Doc:  Open before use.  Before an application does I/O, it must first call open on the device,file, or communication channel. This gives the operating system a chance to checkaccess permissions and to set up any internal bookkeeping. Some devices, such as aprinter , only allow one application access at a time — the open call can return an errorif the device is in use\n",
            "Probability:  0.6958608\n",
            "Doc:  3.5.1 Monolithic Kernels\n",
            "Probability:  0.9851141\n",
            "Doc:  Almost all widely used commercial operating systems, such as Windows, MacOS, andLinux, take a similar approach to the architecture of the kernel — a monolithic design. Asshown in Figure 3.13, with a monolithic kernel , most of the operating system functionalityruns inside the operating system kernel. In truth, the term is a bit of a misnomer , becauseeven in so-called monolithic systems, there are often large segments of what usersconsider the operating system that runs outside the kernel, either as utilities like the shell,or in system libraries, such as libraries to manage the user interface\n",
            "Probability:  0.9862791\n",
            "Doc:  Bug tracking.  After every system crash, the operating system can collect informationabout the system configuration and the current kernel stack, and sends thisinformation back to a central database for analysis. Microsoft does this on a widescale. With hundreds of millions of installed computers, even a low rate of failure canyield millions of bug reports per day. Many crashes happen inside the device driveritself, but even those that do not can sometimes be tracked down. For example, iffailures are correlated with the presence of a particular device driver , or increase afterthe release of a new version of the driver , that can indicate the source of a problem\n",
            "Probability:  0.6156169\n",
            "Doc:  5. Suppose you were the instructor of a very large introductory programming class\n",
            "Topic 123 is above threhsold, it contains the following documents: \n",
            "Length:  10\n",
            "--------------------------------------------------------------------------------\n",
            "Probability:  0.98991\n",
            "Doc:  The most striking aspect of the last fifty years in computing technology has been thecumulative ef fect of Moore’ s Law and the comparable advances in related technologies,such as memory and disk storage. Moore’ s Law  states that transistor density increasesexponentially over time; similar exponential improvements have occurred in many othercomponent technologies. Figure 1.8 provides an overview of the past three decades oftechnology improvements in computer hardware. The cost of processing and memory hasdecreased by almost six orders of magnitude over this period; the cost of disk capacity hasdecreased by seven orders of magnitude. Not all technologies have improved at the samerate; disk latency (not shown in the table) has improved, but at a much slower rate thandisk capacity . These relative changes have radically altered both the use of computers andthe tradeof fs faced by operating system designers\n",
            "Probability:  0.57505625\n",
            "Doc:  Virtual machines.  As we noted, a virtual machine monitor is an operating system thatcan run another operating system as if it were an application. Examples includeVMW are, Xen, and Windows Virtual PC. Virtual machine monitors face many of thesame challenges as other operating systems, with the added challenge posed bycoordinating a set of coordinators. A guest operating system running inside a virtualmachine makes resource allocation and fault isolation decisions as if it were incomplete control of its resources, even though it is sharing the system with otheroperating systems and applications\n",
            "Probability:  0.73709977\n",
            "Doc:  Now suppose we want to speed up our hypothetical simulator . Most instructions areperfectly safe, such as adding two registers together and storing the result in a thirdregister . Can we modify the processor in some way to allow safe instructions to executedirectly on the hardware?To accomplish this, we implement the same checks as in our hypothetical interpreter , but inhardware rather than software. This is called dual-mode operation , represented by a singlebit in the processor status register that signifies the current mode of the processor . In usermode , the processor checks each instruction before executing it to verify that it is permittedto be performed by that process. (W e describe the specific checks next.) In kernel mode ,the operating system executes with protection checks turned of f\n",
            "Probability:  0.98689276\n",
            "Doc:  Over time, some applications took advantage of the ability to change operating system data structures, forexample, to change certain control parameters or to directly manipulate the frame buffer for controlling thedisplay. As a result, changing the operating system became quite difficult; either the new version could notrun the old applications, limiting its appeal, or it needed to leave these data structures in precisely the sameplace as they were in the old version. In other words, memory protection is not only useful for reliability andsecurity; it also helps to enforce a well-defined interface between applications and the operating systemkernel to aid future evolvability and portability\n",
            "Probability:  0.9140368\n",
            "Doc:  In practice, this approach means that system security depends on the correct operation ofthe compiler in addition to the operating system kernel. Any bug in the compiler orlanguage runtime becomes a possible way for an attacker to gain control of the machine\n",
            "Probability:  0.9762317\n",
            "Doc:  However , this too is only an illusion. If the application enters an infinite loop, or if the usersimply becomes impatient and wants the system to stop the application, then the operatingsystem must be able to regain control. Of course, the operating system needs to executeinstructions to decide if it should stop the application, but if the application controls theprocessor , the operating system by definition is not running on that processor \n",
            "Probability:  0.40502796\n",
            "Doc:  processor that an I/O device has completed its work, likewise transfer control from the userprocess to the kernel. A timer or other interrupt does not imply that the program has anerror; in most cases, after resetting the timer , the operating system resumes execution ofthe process, setting the mode, program counter and registers back to the values they hadimmediately before the interrupt occurred. W e discuss the hardware and kernelmechanisms for implementing interrupts in Section 2.4\n",
            "Probability:  0.5289343\n",
            "Doc:  When the kernel starts running, it can initialize its data structures, including setting up theinterrupt vector table to point to the various interrupt, processor exception, and system callhandlers. The kernel then starts the first process, typically the user login page. T o run thisprocess, the operating system reads the code for the login program from its disk location,and jumps to the first instruction in the program, using the start process proceduredescribed above. The login process in turn can trap into the kernel using a system callwhenever it needs the kernel’ s services, e.g., to render the login prompt on the screen. W ediscuss the system calls needed for processes to do useful work in Chapter 3\n",
            "Probability:  0.93192184\n",
            "Doc:  8. A hardware designer argues that there is now enough on-chip transistors to provide1024 integer registers and 512 floating point registers. As a result, the compiler shouldalmost never need to store anything on the stack. As an operating system guru, giveyour opinion of this design\n",
            "Probability:  0.7965204\n",
            "Doc:  A microkernel design of fers considerable benefit to the operating system developer , as iteasier to modularize and debug user-level services than kernel code. Aside from apotential reliability improvement, however , microkernels of fer little in the way of visiblebenefit to end users and can slow down overall performance by inserting extra stepsbetween the application and the services it needs. Thus, in practice, most systems adopt ahybrid model where some operating system services are run at user-level and some are inthe kernel, depending on the specific tradeof f between code complexity and performance\n",
            "Topic 97 is above threhsold, it contains the following documents: \n",
            "Length:  8\n",
            "--------------------------------------------------------------------------------\n",
            "Probability:  0.97249943\n",
            "Doc:  Embedded systems.  Over time, computers have become cheap enough to integrateinto any number of consumer devices, from cable TV set-top boxes, to microwaveovens, the control systems for automobiles and airplanes, LEGO robots, and medicaldevices, such as MRI machines and WiFi-based intravenous titration systems\n",
            "Probability:  0.98431057\n",
            "Doc:  Without protection, a malicious user might surreptitiously change application files oreven the operating system itself, leaving the user none the wiser . For example, if amalicious application can write directly to the disk, it could modify the file containingthe operating system’ s code; the next time the system starts, the modified operatingsystem would boot instead, installing spyware and disabling virus protection. Forsecurity , an operating system must prevent untrusted code from modifying systemstate\n",
            "Probability:  0.98689115\n",
            "Doc:  The operating system can use memory protection to prevent user-level processes from accessing thesespecial memory locations. Thus, memory protection has the added advantage of limiting direct access toinput/output devices by user code. By limiting each process to just its own memory locations, the kernelprevents processes from directly reading or writing to the disk controller or other devices. In this way, abuggy or malicious application cannot modify the operating system’s image stored on disk, and a usercannot gain access to another user’s files without first going through the operating system to check filepermissions\n",
            "Probability:  0.9198826\n",
            "Doc:  user/kernel boundary . Typically , the operating system uses the same convention as thecompiler uses for normal procedures — some combination of passing arguments inregisters and on the execution stack\n",
            "Probability:  0.7741473\n",
            "Doc:  2.7 Starting a New Process\n",
            "Probability:  0.57982683\n",
            "Doc:  Transfer control to user mode.  When a new process starts, there is no saved stateto restore. While it would be possible to write special code for this case, mostoperating systems re-use the same code to exit the kernel for starting a new processand for returning from a system call. When we create the new process, we allocate akernel stack to it, and we reserve room at the bottom of the kernel stack for the initialvalues of its user-space registers, program counter , stack pointer , and processorstatus word. T o start the new program, we can then switch to the new stack and jumpto the end of the interrupt handler . When the handler executes popad and iret, theprocessor “returns” to the start of the user program\n",
            "Probability:  0.9862753\n",
            "Doc:  This chapter concerns how we choose to use the process abstraction: what functionalitydoes the operating system provide applications, and what should go where — whatfunctionality should be put in the operating system kernel, what should be put into user-level libraries, and how should the operating system itself be organized?There are as many answers to this as there are operating systems. Describing the fullprogramming interface and internal organization for even a single operating system wouldtake an entire book. Instead, in this chapter we explore a subset of the programminginterface for UNIX, the foundation of Linux, MacOS, iOS, and Android. W e also touch onhow the same issues are addressed in Windows\n",
            "Probability:  0.6608571\n",
            "Doc:  User-level device drivers.  Both Apple and Microsoft strongly encourage new devicedrivers to run at user-level rather than in the kernel. Each device driver runs in aseparate user-level process, using system calls to manipulate the physical device\n",
            "Topic 51 is above threhsold, it contains the following documents: \n",
            "Length:  9\n",
            "--------------------------------------------------------------------------------\n",
            "Probability:  0.98916304\n",
            "Doc:  geographically distributed data centers located close to users. If one computer failsdue to a hardware fault, software crash, or power failure, another computer can takeover its role. If demand for the web site exceeds what a single computer canaccommodate, web requests can be partitioned among multiple machines. As withnormal operating systems, server cluster applications run on top of an abstract clusterinterface to isolate the application from hardware changes and to isolate faults in oneapplication from af fecting other applications in the same data center . Likewise,resources can be shared between: (1) various applications on the same web site(such as Google Search, Google Earth, and Gmail), and (2) multiple web sites hostedon the same cluster hardware (such as with Amazon’ s Elastic Compute Cloud orGoogle’ s Compute Engine)\n",
            "Probability:  0.7577027\n",
            "Doc:  What hardware is needed to let the operating system kernel protect applications and usersfrom one another , yet also let user code run directly on the processor? At a minimum, thehardware must support three things:Privileged Instructions.  All potentially unsafe instructions are prohibited whenexecuting in user mode. (Section 2.2.1 )Memory Protection.  All memory accesses outside of a process’ s valid memory regionare prohibited when executing in user mode. (Section 2.2.2 )Timer Interrupts.  Regardless of what the process does, the kernel must have a wayto periodically regain control from the current process. (Section 2.2.3 )In addition, the hardware must also provide a way to safely transfer control from user modeto kernel mode and back. As the mechanisms to do this are relatively involved, we deferthe discussion of that topic to Sections 2.3 and  2.4\n",
            "Probability:  0.9673939\n",
            "Doc:  Suppose you are listening to music on your computer , downloading a file, and typing at thesame time. T o smoothly play the music, and to respond in a timely way to user input, theoperating system must be able to regain control to switch to a new task\n",
            "Probability:  0.9509832\n",
            "Doc:  However , the call to wait is optional in UNIX. For example, the Chrome browser does notneed to wait for its forked clones to finish. Likewise, most UNIX shells have an option to\n",
            "Probability:  0.718146\n",
            "Doc:  Open returns a handle to be used in later calls to read, write and close to identify thefile, device or channel; this handle is somewhat misleadingly called a file descriptor ,even when it refers to a device or channel so there is no file involved. Forconvenience, the UNIX shell starts applications with open file descriptors for readingand writing to the terminal\n",
            "Probability:  0.822318\n",
            "Doc:  Explicit close.  When an application is done with the device or file, it calls close. Thissignals to the operating system that it can decrement the reference-count on thedevice, and garbage collect any unused kernel data structures\n",
            "Probability:  0.6448549\n",
            "Doc:  Open vs. creat vs. statBy default, the UNIX open system call returns an error if the application tries to open a file that does notexist; as an option (not shown above), a parameter can tell the kernel to instead create the file if it does notexist. Since UNIX also has system calls for creating a file (creat) and for testing whether a file exists (stat), itmight seem as if open could be simplified to always assume that the file already exists\n",
            "Probability:  0.8034323\n",
            "Doc:  close(fileDescriptor)Tell the kernel the process is done with this file, channel, or device\n",
            "Probability:  0.70992124\n",
            "Doc:  The dif ference between a monolithic and a microkernel design is often transparent to theapplication programmer . The location of the service can be hidden in a user-level library —calls go to the library , which casts the requests either as system calls or as reads andwrites to the server through a pipe. The location of the server can also be hidden inside thekernel — the application calls the kernel as if the kernel implements the service, butinstead the kernel reformats the request into a pipe that the server can read\n",
            "Topic 126 is above threhsold, it contains the following documents: \n",
            "Length:  8\n",
            "--------------------------------------------------------------------------------\n",
            "Probability:  0.5060685\n",
            "Doc:  6. How should an operating system support communication between applications?Explain your reasoning\n",
            "Probability:  0.94109297\n",
            "Doc:  Security . Some users or applications on a system may be less than completelytrustworthy; therefore, the operating system must limit the scope of what they can do\n",
            "Probability:  0.98560077\n",
            "Doc:  Some processor architectures, including the Intel x86, support more than two privilege levels in theprocessor status register (the x86 supports four privilege levels). The original reason for this was to allow theoperating system kernel to be separated into two layers: (i) a core with unlimited access to the machine, and(ii) an outer layer restricted from certain operations, but with more power than completely unprivilegedapplication code. This way, bugs in one part of the operating system kernel might not crash the entiresystem. However, to our knowledge, neither MacOS, Windows, nor Linux make use of this feature\n",
            "Probability:  0.4496612\n",
            "Doc:  To make this concrete, consider the x86 architecture. Rather than relying on handlersoftware to do all the work, when an interrupt or trap occurs:\n",
            "Probability:  0.9768583\n",
            "Doc:  To give a concrete example of how such “carefully crafted” code works, we now describeone way to implement an interrupt-triggered mode switch on the x86 architecture. Dif ferentoperating systems on the x86 follow this basic approach, though details dif fer. Similarly ,different architectures handle the same types of issues, but they may do so with dif ferenthardware support\n",
            "Probability:  0.6694678\n",
            "Doc:  Byte-oriented.  All devices, even those that transfer fixed-size blocks of data, areaccessed with byte arrays. Similarly , file and communication channel access is interms of bytes, even though we store data structures in files and send data structuresacross channels\n",
            "Probability:  0.9795566\n",
            "Doc:  This has led operating system designers to wrestle with a fundamental tradeof f: bycentralizing functionality in the kernel, performance is improved and it makes it easier toarrange tight integration between kernel modules. However , the resulting systems are lessflexible, less easy to change, and less adaptive to user or application needs. W e discussthese tradeof fs by describing several options for the operating system architecture\n",
            "Probability:  0.9559072\n",
            "Doc:  Operating systems that are portable across processor families, say between an ARM andan x86 or between a 32-bit and a 64-bit x86, will need processor-specific code for process\n",
            "Topic 67 is above threhsold, it contains the following documents: \n",
            "Length:  12\n",
            "--------------------------------------------------------------------------------\n",
            "Probability:  0.44554865\n",
            "Doc:  Figure 2.1: User-level and kernel-level operation. The operating system kernel is trusted to arbitratebetween untrusted applications and users\n",
            "Probability:  0.42994556\n",
            "Doc:  When the kernel completes the system call, it resumes user-level execution at theinstruction immediately after the trap\n",
            "Probability:  0.4148887\n",
            "Doc:  System calls provide the illusion that the operating system kernel is simply a set of libraryroutines available to user programs. T o the user program, the kernel provides a set ofsystem call procedures, each with its own arguments and return values, that can be calledlike any other routine. The user program need not concern itself with how the kernelimplements these calls\n",
            "Probability:  0.62086326\n",
            "Doc:  returns to the trap handler, which copies the return value into user memory and (5) resumes the user stubimmediately after the trap. (6) The user stub returns to the user-level caller\n",
            "Probability:  0.45194587\n",
            "Doc:  Figure 2.13 illustrates the sequence of steps involved in a system call:1. The user program calls the user stub in the normal way , oblivious to the fact theimplementation of the procedure is in fact in the kernel\n",
            "Probability:  0.56052554\n",
            "Doc:  5. The handler returns to user level at the next instruction in the stub\n",
            "Probability:  0.9675089\n",
            "Doc:  Copy back any results.  For the user program to access the results of the system call,the stub must copy the result from the kernel into user memory . Again, the kernel mustfirst check the user address and convert it to a kernel address before performing thecopy.\n",
            "Probability:  0.84921515\n",
            "Doc:  Putting this together , Figure 2.15 shows the kernel stub for the system call open. In thiscase, the return value fits in a register so the stub can return directly; in other cases, suchas a file read, the stub would need to copy data back into a user-level buf fer\n",
            "Probability:  0.60103965\n",
            "Doc:  Allocate a user-level stack for user-level execution\n",
            "Probability:  0.4343477\n",
            "Doc:  Allocate a kernel-level stack for handling system calls, interrupts and processorexceptions\n",
            "Probability:  0.4815543\n",
            "Doc:  3. The guest kernel performs the system call — saving user state and checkingarguments\n",
            "Probability:  0.5229726\n",
            "Doc:  4. When the guest kernel attempts to return from the system call back to user level, thiscauses a processor exception, dropping back into the host kernel\n",
            "Topic 165 is above threhsold, it contains the following documents: \n",
            "Length:  9\n",
            "--------------------------------------------------------------------------------\n",
            "Probability:  0.7346169\n",
            "Doc:  As parallel computers became more popular, though, we once again needed a word for a logical sequenceof instructions. A multiprocessor program can have multiple instruction sequences running in parallel, eachwith its own program counter, but all cooperating within a single protection boundary. For a time, these were\n",
            "Probability:  0.62331444\n",
            "Doc:  Processor exceptions are also caused by more benign program events. For example,to set a breakpoint in a program, the kernel replaces the machine instruction inmemory with a special instruction that invokes a trap. When the program reaches thatpoint in its execution, the hardware switches into kernel mode. The kernel restores theold instruction and transfers control to the debugger . The debugger can then examinethe program’ s variables, set a new breakpoint, and resume the program at theinstruction causing the exception\n",
            "Probability:  0.57448226\n",
            "Doc:  changes to the Internet packet delivery mechanism; likewise, the introduction of wireless networksrequired changes in hardware devices and in the operating system, but no changes in networkapplications. Although the Internet’s “thin waist” can sometimes lead to inefficiencies, the upside is tofoster innovation in both applications and hardware by decoupling changes in one from changes in theother\n",
            "Probability:  0.96856767\n",
            "Doc:  There is an app for thatUser-level process management is another way of saying “there is an app for that.” Instead of a singleprogram that does everything, we can create specialized programs for each task, and mix and match whatwe need. The formatting system for this textbook uses over fifty separate programs\n",
            "Probability:  0.85100543\n",
            "Doc:  Create and initialize a new address space\n",
            "Probability:  0.5012034\n",
            "Doc:  Load the program prog into the address space\n",
            "Probability:  0.661298\n",
            "Doc:  Inform the scheduler that the new process is ready to run\n",
            "Probability:  0.9616169\n",
            "Doc:  Create and initialize the process control block (PCB) in the kernelCreate a new address spaceInitialize the address space with a copy of the entire contents of the address space ofthe parentInherit the execution context of the parent (e.g., any open files)Inform the scheduler that the new process is ready to runA strange aspect of UNIX fork is that the system call returns twice : once to the parent andonce to the child. T o the parent, UNIX returns the process ID of the child; to the child, itreturns zero indicating success. Just as if you made a clone of yourself, you would needsome way to tell who was the clone and who was the original, UNIX uses the return valuefrom fork to distinguish the two copies. Some sample code to call fork is given inFigure 3.5\n",
            "Probability:  0.82757455\n",
            "Doc:  fork ()Create a child process as a clone of the current process. The fork callreturns to both the parent and child\n",
            "Topic 2 is above threhsold, it contains the following documents: \n",
            "Length:  7\n",
            "--------------------------------------------------------------------------------\n",
            "Probability:  0.40989366\n",
            "Doc:  If the free block is larger than needed, the kernel returns the remainder to the heap forallocation to some other process\n",
            "Probability:  0.98168784\n",
            "Doc:  Virtual addresses can also let the heap and the stack start at separate ends of the virtualaddress space so they can grow according to program need (Figure 2.6). If either the stackor heap grows beyond its initially allocated region, the operating system can move it to adifferent larger region in physical memory but leave it at the same virtual address. Theexpansion is completely transparent to the user process. W e discuss virtual addresses inmore depth in Chapter 8.\n",
            "Probability:  0.63172984\n",
            "Doc:  Figure 2.6: Virtual addresses allow the stack and heap regions of a process to grow independently. To growthe heap, the operating system can move the heap in physical memory without changing the heap’s virtualaddress\n",
            "Probability:  0.84811395\n",
            "Doc:  5. To start a process, the guest kernel issues instructions to resume execution at userlevel, e.g., using iret on the x86. Since changing the privilege level is a privilegedoperation, this instruction traps into the host kernel\n",
            "Probability:  0.98046386\n",
            "Doc:  UNIX has a system call, naturally enough called wait, that pauses the parent until the childfinishes, crashes, or is terminated. Since the parent could have created many childprocesses, wait is parameterized with the process ID of the child. With wait, a shell cancreate a new process to perform some step of its instructions, and then pause for that stepto complete before proceeding to the next step. It would be hard to build a usable shellwithout wait\n",
            "Probability:  0.8203962\n",
            "Doc:  wait(processID)Pause until the child process has exited\n",
            "Probability:  0.9733345\n",
            "Doc:  Figure 3.13: In a monolithic operating system kernel, most of the operating system functionality is linkedtogether inside the kernel. Kernel modules directly call into other kernel modules to perform neededfunctions. For example, the virtual memory system uses buffer management, synchronization, and thehardware abstraction layer\n",
            "Topic 81 is above threhsold, it contains the following documents: \n",
            "Length:  9\n",
            "--------------------------------------------------------------------------------\n",
            "Probability:  0.9685651\n",
            "Doc:  Over time, as applications start and finish at irregular times, memory will becomeincreasingly fragmented. Potentially , memory fragmentation may reach a point wherethere is not enough contiguous space to start a new process, despite suf ficient freememory in aggregate\n",
            "Probability:  0.99002683\n",
            "Doc:  Processor exceptions and virtualizationProcessor exceptions are a particularly powerful tool for virtualization — the emulation of hardware thatdoes not actually exist. As one example, it is common for different versions of a processor architecturefamily to support some parts of the instruction set and not others, such as when an inexpensive, low-power processor does not support floating point operations. At some cost in performance, theoperating system can use processor exceptions to make the difference completely transparent to theuser process. When the program issues a floating point instruction, an exception is raised, trapping intothe operating system kernel. Instead of halting the process, the operating system can emulate themissing instruction, and, on completion, return to the user process at the instruction immediately afterthe one that caused the exception. In this way, the same program binary can run on different versionsof the processor\n",
            "Probability:  0.6972946\n",
            "Doc:  2.4.4 Interrupt MaskingInterrupts arrive asynchronously; the processor could be executing either user or kernelcode when an interrupt arrives. In certain regions of the kernel — such as inside interrupthandlers themselves, or inside the CPU scheduler — taking an interrupt could causeconfusion. If an interrupt handler is interrupted, we cannot set the stack pointer to point tothe base of the kernel’ s interrupt stack — doing so would obliterate the state of the firsthandler \n",
            "Probability:  0.86814225\n",
            "Doc:  How does the host kernel manage mode transfer between guest processes and the guestkernel? During boot, the host kernel initializes its interrupt vector table to point to its owninterrupt handlers in host kernel memory . When the host kernel starts the virtual machine,the guest kernel starts running as if it is being booted:1. The host loads the guest bootloader from the virtual disk and starts it running\n",
            "Probability:  0.91130793\n",
            "Doc:  2. The guest bootloader loads the guest kernel from the virtual disk into memory andstarts it running\n",
            "Probability:  0.51887894\n",
            "Doc:  3. The guest kernel then initializes its interrupt vector table to point to the guest interrupthandlers\n",
            "Probability:  0.9013237\n",
            "Doc:  4. The guest kernel loads a process from the virtual disk into guest memory \n",
            "Probability:  0.41471678\n",
            "Doc:  2. The host kernel transfers control to the guest kernel at the beginning of the interrupthandler , but with the guest kernel running with user-mode privilege\n",
            "Probability:  0.62183654\n",
            "Doc:  int write(fileDesc,buffer, size)Analogous to read, write up to size bytes into kernel output buffer for a file,channel, or device. W rite normally returns immediately but may stall ifthere is no space in the kernel buffer\n",
            "Topic 130 is above threhsold, it contains the following documents: \n",
            "Length:  12\n",
            "--------------------------------------------------------------------------------\n",
            "Probability:  0.7536753\n",
            "Doc:  Most processors implement system calls with a special trap or syscall  instruction.\n",
            "Probability:  0.41598612\n",
            "Doc:  When returning from a system call, the value of the saved program counter must beincremented so that the hardware returns to the instruction immediately after the one thatcaused the trap\n",
            "Probability:  0.7927499\n",
            "Doc:  Security . On a multiprocessor , other threads running in the same process can modifyuser memory during the system call. If the kernel handler stores its local variables onthe user-level stack, the user program might be able to modify the kernel’ s returnaddress, potentially causing the kernel to jump to arbitrary code\n",
            "Probability:  0.6317218\n",
            "Doc:  If the processor takes an interrupt in kernel mode with interrupts enabled, it is safe to usethe current stack pointer rather than resetting it to the base of the interrupt stack. Thisapproach can recursively push a series of handlers’ states onto the stack; then, as eachone completes, its state is popped from the stack, and the earlier handler is resumedwhere it left of f\n",
            "Probability:  0.55687743\n",
            "Doc:  Implementing system calls requires the operating system to define a calling convention  —how to name system calls, pass arguments, and receive return values across the\n",
            "Probability:  0.95564556\n",
            "Doc:  Once the arguments are in the correct format, the user-level program can issue a systemcall by executing the trap instruction to transfer control to the kernel. System calls, likeinterrupts and processor exceptions, share the same mechanism for switching betweenuser and kernel mode. In fact, the x86 instruction to trap into the kernel on a system call iscalled int, for “software interrupt.”Inside the kernel, a procedure implements each system call. This procedure behavesexactly as if the call was made from within the kernel but with one notable dif ference: thekernel must implement its system calls in a way that protects itself from all errors andattacks that might be launched by the misuse of the interface. Of course, most applicationswill use the interface correctly! But errors in an application program must not crash thekernel, and a computer virus must not be able to use the system call interface to takecontrol of the kernel. One can think of this as an extreme version of defensiveprogramming: the kernel should always assume that the parameters passed to a systemcall are intentionally designed to be as malicious as possible\n",
            "Probability:  0.7749003\n",
            "Doc:   // We assume that the caller put the filename onto the stack,   // using the standard calling convention for the x86.     open:  // Put the code for the system call we want into %eax.       movl #SysCallOpen, %eax     // Trap into the kernel.       int #TrapCode     // Return to the caller; the kernel puts the return value in %eax.       retFigure 2.14: User-level library stub for the file system open system call for the x86 processor. SysCallOpenis the code for the specific system call to run. TrapCode is the index into the x86 interrupt vector table for thesystem call handler\n",
            "Probability:  0.975597\n",
            "Doc:          exit();     // If main returns, call exit.      } 2.8 Implementing UpcallsWe can use system calls for most of the communication between applications and theoperating system kernel. When a program requests a protected operation, it can trap toask the kernel to perform the operation on its behalf. Likewise, if the application needs datainside the kernel, a system call can retrieve it\n",
            "Probability:  0.42205524\n",
            "Doc:  System calls trap to the kernel to perform a privileged action on behalf of a user program\n",
            "Probability:  0.98460567\n",
            "Doc:  The reason for this success is obvious. Without process isolation, computer systems wouldbe much more fragile and less secure. As recently as a decade ago, it was common forpersonal computers to crash on a daily basis. T oday , laptops can remain working for weeksat a time without rebooting. This has occurred even though the operating system andapplication software on these systems have become more complex. While some of theimprovement is due to better hardware reliability and automated bug tracking, processisolation has been a key technology in constructing more reliable system software\n",
            "Probability:  0.9320275\n",
            "Doc:  use the same stack as the application program? Assume that the application programis blocked while the system call runs\n",
            "Probability:  0.9124633\n",
            "Doc:  and thread context switches. The interrupt, processor exception, and system call traphandling is also processor-specific; all systems have those functions, but the specificimplementation will vary . As we will see in Chapter 8, machines dif fer quite a bit in theirarchitecture for managing virtual address spaces; most kernels provide portableabstractions on top of the machine-dependent routines, such as to translate virtualaddresses to physical addresses or to copy memory from applications to kernel memoryand vice versa\n",
            "Topic 61 is above threhsold, it contains the following documents: \n",
            "Length:  7\n",
            "--------------------------------------------------------------------------------\n",
            "Probability:  0.65495765\n",
            "Doc:  Figure 2.9: In most operating systems, a process has two stacks: one for executing user code and one forkernel code. The Figure shows the kernel and user stacks for various states of a process. When a processis running in user mode, its kernel stack is empty. When a process has been preempted (ready but notrunning), its kernel stack will contain the user-level processor state at the point when the user process wasinterrupted. When a process is inside a system call waiting for I/O, the kernel stack contains the context to\n",
            "Probability:  0.6553177\n",
            "Doc:  be resumed when the I/O completes, and the user stack contains the context to be resumed when thesystem call returns\n",
            "Probability:  0.9368432\n",
            "Doc:  If the process is available to run but is waiting for its turn on the processor , its kernelstack contains the registers and state to be restored when the process is resumed\n",
            "Probability:  0.6227107\n",
            "Doc:  If the process is waiting for an I/O event to complete, its kernel stack contains thesuspended computation to be resumed when the I/O finishes\n",
            "Probability:  0.8367204\n",
            "Doc:  There are several uses for immediate event delivery with upcalls:Preemptive user-level threads.  Just as the operating system kernel runs multipleprocesses on a single processor , an application may run multiple tasks, or threads, ina process. A user-level thread package can use a periodic timer upcall as a trigger toswitch tasks, to share the processor more evenly among user-level tasks or to stop arunaway task, e.g., if a web browser needs to terminate an embedded third partyscript\n",
            "Probability:  0.9881332\n",
            "Doc:  With this design, UNIX fork takes no arguments and returns an integer . UNIX exec takestwo arguments (the name of the program to run and an array of arguments to pass to theprogram). This is in place of the ten parameters needed for CreateProcess. In partbecause of the simplicity of UNIX fork and exec, this interface has remained nearlyunchanged since UNIX was designed in the early 70’ s. (Although the interface has notchanged, the word fork is now a bit ambiguous. It is used for creating a new copy of aUNIX process, and in thread systems for creating a new thread. T o disambiguate, we willalways use the term “UNIX fork” to refer to UNIX’ s copy process system call.)UNIX forkThe steps for implementing UNIX fork in the kernel are:\n",
            "Probability:  0.50595343\n",
            "Doc:  Creating and managing processes\n"
          ]
        }
      ]
    },
    {
      "cell_type": "code",
      "source": [
        "lda_index = Faiss(list(key_to_embeddings.values()), models.encoder_models)"
      ],
      "metadata": {
        "id": "B1hStNMWr0Fv"
      },
      "execution_count": null,
      "outputs": []
    },
    {
      "cell_type": "code",
      "source": [
        "normal_index = Faiss(books.global_doc_embeddings, models.encoder_models)"
      ],
      "metadata": {
        "id": "doXGnFAVzVDg"
      },
      "execution_count": null,
      "outputs": []
    },
    {
      "cell_type": "code",
      "source": [
        "question = \"What are privileged instructions?\"\n",
        "D,I = lda_index.serve_query(question)"
      ],
      "metadata": {
        "colab": {
          "base_uri": "https://localhost:8080/"
        },
        "id": "qQWKPVH5tikO",
        "outputId": "dfab9d1e-ff9e-4ee3-82fc-5ae35b1398dd"
      },
      "execution_count": null,
      "outputs": [
        {
          "output_type": "stream",
          "name": "stderr",
          "text": [
            "/usr/local/lib/python3.10/dist-packages/transformers/tokenization_utils_base.py:2722: UserWarning: Though `pad_to_max_length` = `True`, it is ignored because `padding`=`True`.\n",
            "  warnings.warn(\"Though `pad_to_max_length` = `True`, it is ignored because `padding`=`True`.\")\n"
          ]
        }
      ]
    },
    {
      "cell_type": "code",
      "source": [
        "print_docs(books.global_paragraphs, I[0])"
      ],
      "metadata": {
        "colab": {
          "base_uri": "https://localhost:8080/"
        },
        "id": "z-Cuc1E-zvmr",
        "outputId": "3de3157d-2f05-4cbd-ca86-7c79b763add0"
      },
      "execution_count": null,
      "outputs": [
        {
          "output_type": "stream",
          "name": "stdout",
          "text": [
            "Doc:  Instructions available in kernel mode, but not in user mode, are called privilegedinstructions . The operating system kernel must be able to execute these instructions to doits work — it needs to change privilege levels, adjust memory access, and disable andenable interrupts. If these instructions were available to applications, then a rogueapplication would in ef fect have the power of the operating system kernel\n",
            "Doc:  2.11 Summary and Future DirectionsThe process concept — the ability to execute arbitrary user programs with restricted rights— has been remarkably successful. With the exception of devices that run only a singleapplication at a time (such as embedded systems and game consoles), every commerciallysuccessful operating system provides process isolation\n",
            "Doc:  The instructions to mask and unmask interrupts must be privileged; otherwise, user code\n",
            "Doc:  Privileged instructions: instructions available only in kernel mode\n",
            "Doc:  Other instructions are also limited to use by kernel code. The application cannot be allowedto change the set of memory locations it can access; we discuss in Section 2.2.2  howlimiting an application to accessing only its own memory is essential to preventing it fromeither intentionally , or accidentally , corrupting or misusing the data or code from otherapplications or the operating system. Further , applications cannot disable processorinterrupts, as we will explain in Section 2.2.3 \n"
          ]
        }
      ]
    },
    {
      "cell_type": "code",
      "source": [
        "D, I = normal_index.serve_query(question)"
      ],
      "metadata": {
        "colab": {
          "base_uri": "https://localhost:8080/"
        },
        "id": "Qf5l1CLWzeq3",
        "outputId": "6019f0f2-05ca-4e3c-fc55-9d554564b91f"
      },
      "execution_count": null,
      "outputs": [
        {
          "output_type": "stream",
          "name": "stderr",
          "text": [
            "/usr/local/lib/python3.10/dist-packages/transformers/tokenization_utils_base.py:2722: UserWarning: Though `pad_to_max_length` = `True`, it is ignored because `padding`=`True`.\n",
            "  warnings.warn(\"Though `pad_to_max_length` = `True`, it is ignored because `padding`=`True`.\")\n"
          ]
        }
      ]
    },
    {
      "cell_type": "code",
      "source": [
        "def print_docs(docs, retr):\n",
        "    for id in retr:\n",
        "        print(\"Doc: \",docs[id])\n",
        "    return"
      ],
      "metadata": {
        "id": "mjx2uWy8zkP1"
      },
      "execution_count": null,
      "outputs": []
    },
    {
      "cell_type": "code",
      "source": [
        "D"
      ],
      "metadata": {
        "colab": {
          "base_uri": "https://localhost:8080/"
        },
        "id": "Iab-ulfkt5RR",
        "outputId": "a91f63aa-917c-4e3d-9e27-dba3afc20cbf"
      },
      "execution_count": null,
      "outputs": [
        {
          "output_type": "execute_result",
          "data": {
            "text/plain": [
              "array([[0.73964655, 0.7552498 , 0.76811624, 0.7718016 , 0.7767606 ]],\n",
              "      dtype=float32)"
            ]
          },
          "metadata": {},
          "execution_count": 95
        }
      ]
    },
    {
      "cell_type": "code",
      "source": [
        "I[0]"
      ],
      "metadata": {
        "colab": {
          "base_uri": "https://localhost:8080/"
        },
        "id": "EltybTHAt7tj",
        "outputId": "6587cfbc-77b7-4047-b42d-8fc9e4b545f7"
      },
      "execution_count": null,
      "outputs": [
        {
          "output_type": "execute_result",
          "data": {
            "text/plain": [
              "array([107,  43,  29,  66,  49])"
            ]
          },
          "metadata": {},
          "execution_count": 96
        }
      ]
    },
    {
      "cell_type": "code",
      "source": [
        "print_retrieved(books.global_paragraphs, key_to_docids, keyid_to_key, I[0])"
      ],
      "metadata": {
        "colab": {
          "base_uri": "https://localhost:8080/"
        },
        "id": "jPhPoZsgum0v",
        "outputId": "09bcdddb-86cd-41be-98bf-776e4436a795"
      },
      "execution_count": null,
      "outputs": [
        {
          "output_type": "stream",
          "name": "stdout",
          "text": [
            "For topic 40\n",
            "Doc:  Every time the processor fetches an instruction, it checks the address of the programcounter to see if it is between the base and the bound registers. If so, the instruction fetchis allowed to proceed; otherwise, the hardware raises an exception, suspending theprogram and transferring control back to the operating system kernel. Although it mightseem extravagant to perform two extra comparisons for each instruction, memoryprotection is worth the cost. In fact, we will discuss much more sophisticated and“extravagant\" memory protection schemes in Chapter 8.\n",
            "Doc:  a. Explain where in the operating system this instruction would be used\n",
            "Doc:  b. Explain what happens if an application program executes this instruction\n",
            "Doc:  13. Suppose you have to implement an operating system on hardware that supportsinterrupts and exceptions but does not have a trap instruction. Can you devise asatisfactory substitute for traps using interrupts and/or exceptions? If so, explain how \n",
            "Doc:  If not, explain why \n",
            "Doc:  14. Suppose you have to implement an operating system on hardware that supportsexceptions and traps but does not have interrupts. Can you devise a satisfactorysubstitute for interrupts using exceptions and/or traps? If so, explain how . If not,explain why \n",
            "Doc:  We can put the functionality in the operating system kernel, accessed through asystem call. In Windows and UNIX, low-level process management, the file systemand the network stack are all implemented in the kernel\n",
            "Doc:  Operating systems use the system call interface to provide services to applications and toaid in the internal structuring of the operating system itself. Almost all general-purposecomputer systems today have a user-level shell and/or a window manager that can startand manage applications on behalf of the user . Many systems also implement parts of theoperating system as user-level services accessed through kernel pipes\n",
            "---------------------------------\n",
            "For topic 35\n",
            "Doc:  Media players , such as Flash and Silverlight, are often packaged as browser plug-ins,but they themselves provide an execution environment for scripting programs. Thus,these systems face many of the same issues as both browsers and operating systemson which they run: isolation of buggy or malicious code, concurrent background andforeground tasks, and plug-in architectures\n",
            "Doc:  Instructions available in kernel mode, but not in user mode, are called privilegedinstructions . The operating system kernel must be able to execute these instructions to doits work — it needs to change privilege levels, adjust memory access, and disable andenable interrupts. If these instructions were available to applications, then a rogueapplication would in ef fect have the power of the operating system kernel\n",
            "Doc:  Figure 2.5: Base and bound memory protection using physical addresses. Every code and data addressgenerated by the program is first checked to verify that its address lies within the memory region of theprocess\n",
            "---------------------------------\n",
            "For topic 0\n",
            "Doc:  In its role as referee, an operating system is somewhat akin to that of a particularly patientkindergarten teacher . It balances needs, separates conflicts, and facilitates sharing. Oneuser should not be allowed to monopolize system resources or to access or corruptanother user ’s files without permission; a buggy application should not be able to crash theoperating system or other unrelated applications; and yet, applications must also worktogether . Enforcing and balancing these concerns is a central role of the operating system\n",
            "Doc:  However , network hardware is composed of many discrete network elementswith: (i) the ability to transmit limited size packets over a limited distance, and (ii)some chance that packets will be garbled in the process. The Internet transformsthe network into something more useful for applications like the web — a facility toreliably transmit data of arbitrary length, anywhere in the world\n",
            "Doc:  Even without intentionally malicious attacks, extremely rare corner cases can occurregularly: for an operating system with a million users, a once in a billion event willeventually occur to someone.\n",
            "Doc:  The operating system also needs to regain control of the processor in normal operation\n",
            "Doc:  Instead, all application programmers were told to design their systems to periodically call into the operatingsystem to check if there was other work to be done. The operating system would then save the state of theoriginal process, switch control to another application, and return only when it again became the originalprocess’s turn. This had a drawback: if a process failed to yield, e.g., because it had a bug and entered aninfinite loop, the operating system kernel had no recourse. The user needed to reboot the machine to returncontrol to the operating system. This happened frequently enough that it was given its own name: the“spinning cursor of death.”Almost all computer systems include a device called a hardware timer , which can be set tointerrupt the processor after a specified delay (either in time or after some number ofinstructions have been executed). Each timer interrupts only one processor , so amultiprocessor will usually have a separate timer for each CPU. The operating systemmight set each timer to expire every few milliseconds; human reaction time is a fewhundred of milliseconds. Resetting the timer is a privileged operation, accessible onlywithin the kernel, so that the user-level process cannot inadvertently or maliciously disablethe timer \n",
            "Doc:  Figure 2.13: A pair of stubs mediates between the user-level caller and the kernel’s implementation ofsystem calls. The code is for the file_open system call; other calls have their own stubs. (1) The userprocess makes a normal procedure call to a stub linked with the process. (2) The stub executes the trapinstruction. This transfers control to the kernel trap handler. The trap handler copies and checks itsarguments and then (3) calls a routine to do the operation. Once the operation completes, (4) the code\n",
            "---------------------------------\n",
            "For topic 144\n",
            "Doc:  carpoolers needing to coordinate their pickups. Scrapping the car and building mass transitcan improve predictability , throughput, and fairness\n",
            "Doc:  With this approach, a processor has two extra registers, called base and bound . The basespecifies the start of the process’ s memory region in physical memory , while the boundgives its endpoint (Figure 2.5). These registers can be changed only by privilegedinstructions, that is, by the operating system executing in kernel mode. User-level codecannot change their values\n",
            "Doc:  Open before use.  Before an application does I/O, it must first call open on the device,file, or communication channel. This gives the operating system a chance to checkaccess permissions and to set up any internal bookkeeping. Some devices, such as aprinter , only allow one application access at a time — the open call can return an errorif the device is in use\n",
            "---------------------------------\n",
            "For topic 91\n",
            "Doc:  Referee.  Should the Internet treat all users identically (e.g., network neutrality) orshould ISPs be able to favor some uses over others? Can the Internet be re-designed to prevent denial-of-service, spam, phishing, and other maliciousbehaviors?Illusionist.  The Internet provides the illusion of a single worldwide network thatcan deliver a packet from any machine on the Internet to any other machine\n",
            "Doc:  The host kernel handles processor exceptions similarly , with one caveat. Some exceptionsgenerated by the virtual machine are due to the user process; the host kernel forwardsthese to the guest kernel for handling. Other exceptions are generated by the guest kernel(e.g., when it tries to execute privileged instructions); the host kernel simulates these itself\n",
            "Doc:  Unfortunately , there are quite a few aspects of the process that the parent might like tocontrol, such as: its privileges, where it sends its input and output, what it should store itsfiles, what to use as a scheduling priority , and so forth. W e cannot trust the child processitself to set its own privileges and priority , and it would be inconvenient to expect everyapplication to include code for figuring out its context. So the real interface toCreateProcess is quite a bit more complicated in practice, given in Figure 3.3\n",
            "---------------------------------\n"
          ]
        }
      ]
    },
    {
      "cell_type": "code",
      "execution_count": null,
      "metadata": {
        "id": "JlafRjy0bS5m"
      },
      "outputs": [],
      "source": [
        "class Book:\n",
        "    def __init__(self, book_paths, device=DEVICE):\n",
        "        self.models = Models()\n",
        "        self.book_paths = book_paths\n",
        "\n",
        "        #some global identifiers\n",
        "        self.global_paragraphs = None\n",
        "        self.global_doc_embeddings = None\n",
        "        self.pobj = None\n",
        "        self.num_paragraphs = 0\n",
        "\n",
        "        #read book\n",
        "        self.books = [PdfParagraphExtractor(book_path, self.models.encoder_model) for book_path in book_paths]\n",
        "\n",
        "        self.bookid_to_pid = defaultdict(list)\n",
        "        self.pid_to_bookid = defaultdict(int)\n",
        "        self.set_global_info()\n",
        "\n",
        "        ##Hypergraph Models\n",
        "        self.kw_model = KeyBertModel(self.global_paragraphs, self.global_doc_embeddings)\n",
        "        self.lda = LDA(self.global_paragraphs, self.global_doc_embeddings)\n",
        "\n",
        "        ##hypergraph maps\n",
        "        #keyword\n",
        "        self.keyword_hg_embeddings = np.vstack(list(self.kw_model.key_map.values()))\n",
        "        self.keyword_list = list(self.kw_model.key_map.keys())\n",
        "        self.key_to_ids = self.kw_model.key_to_ids\n",
        "\n",
        "        #topics\n",
        "        self.topic_hg_embeddings = self.lda.arr_embeddings\n",
        "        self.topic_dictionary = self.lda.topic_dictionary\n",
        "        self.topic_list = self.lda.arr_topics\n",
        "\n",
        "        ##indexes\n",
        "        self.topic_index = Faiss(self.topic_hg_embeddings, self.query_encoder_model)\n",
        "        self.keyword_index = Faiss(self.keyword_hg_embeddings, self.query_encoder_model)\n",
        "        self.vector_index = Faiss(self.global_doc_embeddings, self.query_encoder_model)\n",
        "\n",
        "    def set_global_info(self):\n",
        "        all_ps = []\n",
        "        all_objs = []\n",
        "        all_doc_embeddings = []\n",
        "\n",
        "        for bookid, book in enumerate(self.books):\n",
        "            for pid, paragraph in enumerate(book.paragraphs):\n",
        "                all_ps.append(paragraph)\n",
        "                all_doc_embeddings.append(book.doc_embeddings[pid])\n",
        "\n",
        "                self.bookid_to_pid[bookid].append(pid)\n",
        "                self.pid_to_bookid[pid] = bookid\n",
        "\n",
        "        self.num_paragraphs = len(all_ps)\n",
        "        self.global_paragraphs = all_ps\n",
        "        self.global_doc_embeddings = all_doc_embeddings\n",
        "\n",
        "        for id in range(self.num_paragraphs):\n",
        "            all_objs.append(Paragraph(self.pid_to_bookid[id], id, all_ps[id], all_doc_embeddings[id]))\n",
        "        self.pobj = all_objs\n",
        "\n",
        "        return\n",
        "\n",
        "    def retrieve(self, query: str):\n",
        "        query = query.replace('\\n', '').replace('\\t', '')\n",
        "\n",
        "        topic_scores, topic_res = self.topic_index.serve_query(query)\n",
        "        key_scores, key_res = self.keyword_index.serve_query(query)\n",
        "\n",
        "        para_scores, para_res = self.vector_index.serve_query(query)\n",
        "\n",
        "        topic_res = topic_res[0]\n",
        "        key_res = key_res[0]\n",
        "        para_res = para_res[0]\n",
        "\n",
        "        topic_docs = []\n",
        "        key_docs = []\n",
        "        para = []\n",
        "\n",
        "        for topic_id in topic_res:\n",
        "\n",
        "            topic = self.topic_list[topic_id]\n",
        "            pids = self.topic_dictionary[topic]\n",
        "\n",
        "            ps = [self.global_paragraphs[pid[0]] for pid in pids]\n",
        "            doc = ' '.join(ps)\n",
        "            topic_docs.append(doc)\n",
        "\n",
        "        for key_id in key_res:\n",
        "            key = self.keyword_list[key_id]\n",
        "            pids = self.key_to_ids[key]\n",
        "\n",
        "            ps =  [self.global_paragraphs[pid] for pid in pids]\n",
        "            doc = ' '.join(ps)\n",
        "            key_docs.append(doc)\n",
        "\n",
        "        for para_id in para_res:\n",
        "            para.append(self.global_paragraphs[para_id])\n",
        "\n",
        "        return (topic_docs, key_docs, para)\n",
        "\n",
        "\n",
        "    def encode_passages(self, batch_text_passages, tokenizer, max_length):\n",
        "        p = tokenizer(\n",
        "            batch_text_passages,\n",
        "            max_length=max_length,\n",
        "            pad_to_max_length=True,\n",
        "            return_tensors='pt',\n",
        "            truncation=True\n",
        "        )\n",
        "        passage_ids = p['input_ids'][None]\n",
        "        passage_masks = p['attention_mask'][None]\n",
        "\n",
        "        passage_ids = np.transpose(passage_ids, (1, 0, 2))\n",
        "        passage_masks = np.transpose(passage_masks, (1, 0, 2))\n",
        "\n",
        "        return passage_ids, passage_masks.bool()\n",
        "\n",
        "    def append_question(self, question,docs):\n",
        "        return [question + \" \" + t for t in docs]\n",
        "\n",
        "    def generate(self, docs, question):\n",
        "        text_passages = [self.append_question(question,passage) for passage in docs]\n",
        "\n",
        "        context_ids,context_mask=self.encode_passages(text_passages,self.decoder_tokenizer,1000)\n",
        "\n",
        "        ans=None\n",
        "        with torch.no_grad():\n",
        "            outputs = self.decoder_model.generate(\n",
        "                    input_ids=context_ids.to(device),\n",
        "                    attention_mask=context_mask.to(device),\n",
        "                    max_length=100)\n",
        "            torch.cuda.empty_cache()\n",
        "            for k, o in enumerate(outputs):\n",
        "                ans = self.decoder_tokenizer.decode(o, skip_special_tokens=True)\n",
        "        return ans\n",
        "\n",
        "\n",
        "\n",
        "\n",
        "\n",
        "\n",
        "\n",
        "\n",
        "\n",
        "\n"
      ]
    },
    {
      "cell_type": "code",
      "execution_count": null,
      "metadata": {
        "id": "r1i-95IA4Ahh"
      },
      "outputs": [],
      "source": [
        "pdf_paths = ['/content/Distributed Systems - 3rd Edition (Maarten van Steen, Andrew S. Tanenbaum) (z-lib.org).pdf']"
      ]
    },
    {
      "cell_type": "code",
      "execution_count": null,
      "metadata": {
        "colab": {
          "base_uri": "https://localhost:8080/",
          "height": 1000
        },
        "id": "BMgZvTTO3FYg",
        "outputId": "d13ac839-6a1d-4df7-ea18-2426caa6931b",
        "collapsed": true
      },
      "outputs": [
        {
          "output_type": "stream",
          "name": "stderr",
          "text": [
            "Some weights of DPRQuestionEncoder were not initialized from the model checkpoint at facebook/dpr-ctx_encoder-single-nq-base and are newly initialized: ['bert_model.embeddings.LayerNorm.bias', 'bert_model.embeddings.LayerNorm.weight', 'bert_model.embeddings.position_embeddings.weight', 'bert_model.embeddings.token_type_embeddings.weight', 'bert_model.embeddings.word_embeddings.weight', 'bert_model.encoder.layer.0.attention.output.LayerNorm.bias', 'bert_model.encoder.layer.0.attention.output.LayerNorm.weight', 'bert_model.encoder.layer.0.attention.output.dense.bias', 'bert_model.encoder.layer.0.attention.output.dense.weight', 'bert_model.encoder.layer.0.attention.self.key.bias', 'bert_model.encoder.layer.0.attention.self.key.weight', 'bert_model.encoder.layer.0.attention.self.query.bias', 'bert_model.encoder.layer.0.attention.self.query.weight', 'bert_model.encoder.layer.0.attention.self.value.bias', 'bert_model.encoder.layer.0.attention.self.value.weight', 'bert_model.encoder.layer.0.intermediate.dense.bias', 'bert_model.encoder.layer.0.intermediate.dense.weight', 'bert_model.encoder.layer.0.output.LayerNorm.bias', 'bert_model.encoder.layer.0.output.LayerNorm.weight', 'bert_model.encoder.layer.0.output.dense.bias', 'bert_model.encoder.layer.0.output.dense.weight', 'bert_model.encoder.layer.1.attention.output.LayerNorm.bias', 'bert_model.encoder.layer.1.attention.output.LayerNorm.weight', 'bert_model.encoder.layer.1.attention.output.dense.bias', 'bert_model.encoder.layer.1.attention.output.dense.weight', 'bert_model.encoder.layer.1.attention.self.key.bias', 'bert_model.encoder.layer.1.attention.self.key.weight', 'bert_model.encoder.layer.1.attention.self.query.bias', 'bert_model.encoder.layer.1.attention.self.query.weight', 'bert_model.encoder.layer.1.attention.self.value.bias', 'bert_model.encoder.layer.1.attention.self.value.weight', 'bert_model.encoder.layer.1.intermediate.dense.bias', 'bert_model.encoder.layer.1.intermediate.dense.weight', 'bert_model.encoder.layer.1.output.LayerNorm.bias', 'bert_model.encoder.layer.1.output.LayerNorm.weight', 'bert_model.encoder.layer.1.output.dense.bias', 'bert_model.encoder.layer.1.output.dense.weight', 'bert_model.encoder.layer.10.attention.output.LayerNorm.bias', 'bert_model.encoder.layer.10.attention.output.LayerNorm.weight', 'bert_model.encoder.layer.10.attention.output.dense.bias', 'bert_model.encoder.layer.10.attention.output.dense.weight', 'bert_model.encoder.layer.10.attention.self.key.bias', 'bert_model.encoder.layer.10.attention.self.key.weight', 'bert_model.encoder.layer.10.attention.self.query.bias', 'bert_model.encoder.layer.10.attention.self.query.weight', 'bert_model.encoder.layer.10.attention.self.value.bias', 'bert_model.encoder.layer.10.attention.self.value.weight', 'bert_model.encoder.layer.10.intermediate.dense.bias', 'bert_model.encoder.layer.10.intermediate.dense.weight', 'bert_model.encoder.layer.10.output.LayerNorm.bias', 'bert_model.encoder.layer.10.output.LayerNorm.weight', 'bert_model.encoder.layer.10.output.dense.bias', 'bert_model.encoder.layer.10.output.dense.weight', 'bert_model.encoder.layer.11.attention.output.LayerNorm.bias', 'bert_model.encoder.layer.11.attention.output.LayerNorm.weight', 'bert_model.encoder.layer.11.attention.output.dense.bias', 'bert_model.encoder.layer.11.attention.output.dense.weight', 'bert_model.encoder.layer.11.attention.self.key.bias', 'bert_model.encoder.layer.11.attention.self.key.weight', 'bert_model.encoder.layer.11.attention.self.query.bias', 'bert_model.encoder.layer.11.attention.self.query.weight', 'bert_model.encoder.layer.11.attention.self.value.bias', 'bert_model.encoder.layer.11.attention.self.value.weight', 'bert_model.encoder.layer.11.intermediate.dense.bias', 'bert_model.encoder.layer.11.intermediate.dense.weight', 'bert_model.encoder.layer.11.output.LayerNorm.bias', 'bert_model.encoder.layer.11.output.LayerNorm.weight', 'bert_model.encoder.layer.11.output.dense.bias', 'bert_model.encoder.layer.11.output.dense.weight', 'bert_model.encoder.layer.2.attention.output.LayerNorm.bias', 'bert_model.encoder.layer.2.attention.output.LayerNorm.weight', 'bert_model.encoder.layer.2.attention.output.dense.bias', 'bert_model.encoder.layer.2.attention.output.dense.weight', 'bert_model.encoder.layer.2.attention.self.key.bias', 'bert_model.encoder.layer.2.attention.self.key.weight', 'bert_model.encoder.layer.2.attention.self.query.bias', 'bert_model.encoder.layer.2.attention.self.query.weight', 'bert_model.encoder.layer.2.attention.self.value.bias', 'bert_model.encoder.layer.2.attention.self.value.weight', 'bert_model.encoder.layer.2.intermediate.dense.bias', 'bert_model.encoder.layer.2.intermediate.dense.weight', 'bert_model.encoder.layer.2.output.LayerNorm.bias', 'bert_model.encoder.layer.2.output.LayerNorm.weight', 'bert_model.encoder.layer.2.output.dense.bias', 'bert_model.encoder.layer.2.output.dense.weight', 'bert_model.encoder.layer.3.attention.output.LayerNorm.bias', 'bert_model.encoder.layer.3.attention.output.LayerNorm.weight', 'bert_model.encoder.layer.3.attention.output.dense.bias', 'bert_model.encoder.layer.3.attention.output.dense.weight', 'bert_model.encoder.layer.3.attention.self.key.bias', 'bert_model.encoder.layer.3.attention.self.key.weight', 'bert_model.encoder.layer.3.attention.self.query.bias', 'bert_model.encoder.layer.3.attention.self.query.weight', 'bert_model.encoder.layer.3.attention.self.value.bias', 'bert_model.encoder.layer.3.attention.self.value.weight', 'bert_model.encoder.layer.3.intermediate.dense.bias', 'bert_model.encoder.layer.3.intermediate.dense.weight', 'bert_model.encoder.layer.3.output.LayerNorm.bias', 'bert_model.encoder.layer.3.output.LayerNorm.weight', 'bert_model.encoder.layer.3.output.dense.bias', 'bert_model.encoder.layer.3.output.dense.weight', 'bert_model.encoder.layer.4.attention.output.LayerNorm.bias', 'bert_model.encoder.layer.4.attention.output.LayerNorm.weight', 'bert_model.encoder.layer.4.attention.output.dense.bias', 'bert_model.encoder.layer.4.attention.output.dense.weight', 'bert_model.encoder.layer.4.attention.self.key.bias', 'bert_model.encoder.layer.4.attention.self.key.weight', 'bert_model.encoder.layer.4.attention.self.query.bias', 'bert_model.encoder.layer.4.attention.self.query.weight', 'bert_model.encoder.layer.4.attention.self.value.bias', 'bert_model.encoder.layer.4.attention.self.value.weight', 'bert_model.encoder.layer.4.intermediate.dense.bias', 'bert_model.encoder.layer.4.intermediate.dense.weight', 'bert_model.encoder.layer.4.output.LayerNorm.bias', 'bert_model.encoder.layer.4.output.LayerNorm.weight', 'bert_model.encoder.layer.4.output.dense.bias', 'bert_model.encoder.layer.4.output.dense.weight', 'bert_model.encoder.layer.5.attention.output.LayerNorm.bias', 'bert_model.encoder.layer.5.attention.output.LayerNorm.weight', 'bert_model.encoder.layer.5.attention.output.dense.bias', 'bert_model.encoder.layer.5.attention.output.dense.weight', 'bert_model.encoder.layer.5.attention.self.key.bias', 'bert_model.encoder.layer.5.attention.self.key.weight', 'bert_model.encoder.layer.5.attention.self.query.bias', 'bert_model.encoder.layer.5.attention.self.query.weight', 'bert_model.encoder.layer.5.attention.self.value.bias', 'bert_model.encoder.layer.5.attention.self.value.weight', 'bert_model.encoder.layer.5.intermediate.dense.bias', 'bert_model.encoder.layer.5.intermediate.dense.weight', 'bert_model.encoder.layer.5.output.LayerNorm.bias', 'bert_model.encoder.layer.5.output.LayerNorm.weight', 'bert_model.encoder.layer.5.output.dense.bias', 'bert_model.encoder.layer.5.output.dense.weight', 'bert_model.encoder.layer.6.attention.output.LayerNorm.bias', 'bert_model.encoder.layer.6.attention.output.LayerNorm.weight', 'bert_model.encoder.layer.6.attention.output.dense.bias', 'bert_model.encoder.layer.6.attention.output.dense.weight', 'bert_model.encoder.layer.6.attention.self.key.bias', 'bert_model.encoder.layer.6.attention.self.key.weight', 'bert_model.encoder.layer.6.attention.self.query.bias', 'bert_model.encoder.layer.6.attention.self.query.weight', 'bert_model.encoder.layer.6.attention.self.value.bias', 'bert_model.encoder.layer.6.attention.self.value.weight', 'bert_model.encoder.layer.6.intermediate.dense.bias', 'bert_model.encoder.layer.6.intermediate.dense.weight', 'bert_model.encoder.layer.6.output.LayerNorm.bias', 'bert_model.encoder.layer.6.output.LayerNorm.weight', 'bert_model.encoder.layer.6.output.dense.bias', 'bert_model.encoder.layer.6.output.dense.weight', 'bert_model.encoder.layer.7.attention.output.LayerNorm.bias', 'bert_model.encoder.layer.7.attention.output.LayerNorm.weight', 'bert_model.encoder.layer.7.attention.output.dense.bias', 'bert_model.encoder.layer.7.attention.output.dense.weight', 'bert_model.encoder.layer.7.attention.self.key.bias', 'bert_model.encoder.layer.7.attention.self.key.weight', 'bert_model.encoder.layer.7.attention.self.query.bias', 'bert_model.encoder.layer.7.attention.self.query.weight', 'bert_model.encoder.layer.7.attention.self.value.bias', 'bert_model.encoder.layer.7.attention.self.value.weight', 'bert_model.encoder.layer.7.intermediate.dense.bias', 'bert_model.encoder.layer.7.intermediate.dense.weight', 'bert_model.encoder.layer.7.output.LayerNorm.bias', 'bert_model.encoder.layer.7.output.LayerNorm.weight', 'bert_model.encoder.layer.7.output.dense.bias', 'bert_model.encoder.layer.7.output.dense.weight', 'bert_model.encoder.layer.8.attention.output.LayerNorm.bias', 'bert_model.encoder.layer.8.attention.output.LayerNorm.weight', 'bert_model.encoder.layer.8.attention.output.dense.bias', 'bert_model.encoder.layer.8.attention.output.dense.weight', 'bert_model.encoder.layer.8.attention.self.key.bias', 'bert_model.encoder.layer.8.attention.self.key.weight', 'bert_model.encoder.layer.8.attention.self.query.bias', 'bert_model.encoder.layer.8.attention.self.query.weight', 'bert_model.encoder.layer.8.attention.self.value.bias', 'bert_model.encoder.layer.8.attention.self.value.weight', 'bert_model.encoder.layer.8.intermediate.dense.bias', 'bert_model.encoder.layer.8.intermediate.dense.weight', 'bert_model.encoder.layer.8.output.LayerNorm.bias', 'bert_model.encoder.layer.8.output.LayerNorm.weight', 'bert_model.encoder.layer.8.output.dense.bias', 'bert_model.encoder.layer.8.output.dense.weight', 'bert_model.encoder.layer.9.attention.output.LayerNorm.bias', 'bert_model.encoder.layer.9.attention.output.LayerNorm.weight', 'bert_model.encoder.layer.9.attention.output.dense.bias', 'bert_model.encoder.layer.9.attention.output.dense.weight', 'bert_model.encoder.layer.9.attention.self.key.bias', 'bert_model.encoder.layer.9.attention.self.key.weight', 'bert_model.encoder.layer.9.attention.self.query.bias', 'bert_model.encoder.layer.9.attention.self.query.weight', 'bert_model.encoder.layer.9.attention.self.value.bias', 'bert_model.encoder.layer.9.attention.self.value.weight', 'bert_model.encoder.layer.9.intermediate.dense.bias', 'bert_model.encoder.layer.9.intermediate.dense.weight', 'bert_model.encoder.layer.9.output.LayerNorm.bias', 'bert_model.encoder.layer.9.output.LayerNorm.weight', 'bert_model.encoder.layer.9.output.dense.bias', 'bert_model.encoder.layer.9.output.dense.weight']\n",
            "You should probably TRAIN this model on a down-stream task to be able to use it for predictions and inference.\n",
            "Some weights of the model checkpoint at facebook/dpr-question_encoder-single-nq-base were not used when initializing DPRQuestionEncoder: ['question_encoder.bert_model.pooler.dense.bias', 'question_encoder.bert_model.pooler.dense.weight']\n",
            "- This IS expected if you are initializing DPRQuestionEncoder from the checkpoint of a model trained on another task or with another architecture (e.g. initializing a BertForSequenceClassification model from a BertForPreTraining model).\n",
            "- This IS NOT expected if you are initializing DPRQuestionEncoder from the checkpoint of a model that you expect to be exactly identical (initializing a BertForSequenceClassification model from a BertForSequenceClassification model).\n",
            "Special tokens have been added in the vocabulary, make sure the associated word embeddings are fine-tuned or trained.\n",
            "IOPub data rate exceeded.\n",
            "The notebook server will temporarily stop sending output\n",
            "to the client in order to avoid crashing it.\n",
            "To change this limit, set the config variable\n",
            "`--NotebookApp.iopub_data_rate_limit`.\n",
            "\n",
            "Current values:\n",
            "NotebookApp.iopub_data_rate_limit=1000000.0 (bytes/sec)\n",
            "NotebookApp.rate_limit_window=3.0 (secs)\n",
            "\n",
            "/usr/local/lib/python3.10/dist-packages/transformers/tokenization_utils_base.py:2668: UserWarning: Though `pad_to_max_length` = `True`, it is ignored because `padding`=`True`.\n",
            "  warnings.warn(\"Though `pad_to_max_length` = `True`, it is ignored because `padding`=`True`.\")\n"
          ]
        },
        {
          "output_type": "stream",
          "name": "stdout",
          "text": [
            "torch.Size([32, 191])\n",
            "torch.Size([32, 230])\n",
            "torch.Size([32, 230])\n",
            "torch.Size([32, 179])\n",
            "torch.Size([32, 159])\n",
            "torch.Size([32, 276])\n",
            "torch.Size([32, 214])\n",
            "torch.Size([32, 188])\n",
            "torch.Size([32, 205])\n",
            "torch.Size([32, 198])\n",
            "torch.Size([32, 285])\n",
            "torch.Size([32, 311])\n",
            "torch.Size([32, 286])\n",
            "torch.Size([32, 199])\n",
            "torch.Size([32, 264])\n",
            "torch.Size([32, 242])\n",
            "torch.Size([32, 313])\n",
            "torch.Size([32, 260])\n",
            "torch.Size([32, 246])\n",
            "torch.Size([32, 172])\n",
            "torch.Size([32, 328])\n",
            "torch.Size([32, 195])\n",
            "torch.Size([32, 222])\n",
            "torch.Size([32, 272])\n",
            "torch.Size([32, 225])\n",
            "torch.Size([32, 187])\n",
            "torch.Size([32, 222])\n",
            "torch.Size([32, 288])\n",
            "torch.Size([32, 262])\n",
            "torch.Size([32, 211])\n",
            "torch.Size([32, 245])\n",
            "torch.Size([32, 165])\n",
            "torch.Size([32, 201])\n",
            "torch.Size([32, 197])\n",
            "torch.Size([32, 151])\n",
            "torch.Size([32, 268])\n",
            "torch.Size([32, 166])\n",
            "torch.Size([32, 241])\n",
            "torch.Size([32, 218])\n",
            "torch.Size([32, 189])\n",
            "torch.Size([32, 188])\n",
            "torch.Size([32, 154])\n",
            "torch.Size([32, 234])\n",
            "torch.Size([32, 170])\n",
            "torch.Size([32, 155])\n",
            "torch.Size([32, 213])\n",
            "torch.Size([32, 267])\n",
            "torch.Size([32, 166])\n",
            "torch.Size([32, 177])\n",
            "torch.Size([32, 229])\n",
            "torch.Size([32, 129])\n",
            "torch.Size([32, 195])\n",
            "torch.Size([32, 265])\n",
            "torch.Size([32, 128])\n",
            "torch.Size([32, 186])\n",
            "torch.Size([32, 186])\n",
            "torch.Size([32, 226])\n"
          ]
        },
        {
          "output_type": "error",
          "ename": "KeyboardInterrupt",
          "evalue": "",
          "traceback": [
            "\u001b[0;31m---------------------------------------------------------------------------\u001b[0m",
            "\u001b[0;31mKeyboardInterrupt\u001b[0m                         Traceback (most recent call last)",
            "\u001b[0;32m<ipython-input-113-91668084d99a>\u001b[0m in \u001b[0;36m<cell line: 1>\u001b[0;34m()\u001b[0m\n\u001b[0;32m----> 1\u001b[0;31m \u001b[0mbooks\u001b[0m \u001b[0;34m=\u001b[0m \u001b[0mBook\u001b[0m\u001b[0;34m(\u001b[0m\u001b[0mpdf_paths\u001b[0m\u001b[0;34m)\u001b[0m\u001b[0;34m\u001b[0m\u001b[0;34m\u001b[0m\u001b[0m\n\u001b[0m",
            "\u001b[0;32m<ipython-input-111-b69db479b3ce>\u001b[0m in \u001b[0;36m__init__\u001b[0;34m(self, book_paths, device)\u001b[0m\n\u001b[1;32m     16\u001b[0m \u001b[0;34m\u001b[0m\u001b[0m\n\u001b[1;32m     17\u001b[0m         \u001b[0;31m#read book\u001b[0m\u001b[0;34m\u001b[0m\u001b[0;34m\u001b[0m\u001b[0m\n\u001b[0;32m---> 18\u001b[0;31m         \u001b[0mself\u001b[0m\u001b[0;34m.\u001b[0m\u001b[0mbooks\u001b[0m \u001b[0;34m=\u001b[0m \u001b[0;34m[\u001b[0m\u001b[0mPdfParagraphExtractor\u001b[0m\u001b[0;34m(\u001b[0m\u001b[0mbook_path\u001b[0m\u001b[0;34m,\u001b[0m \u001b[0mself\u001b[0m\u001b[0;34m.\u001b[0m\u001b[0mencoder_model\u001b[0m\u001b[0;34m)\u001b[0m \u001b[0;32mfor\u001b[0m \u001b[0mbook_path\u001b[0m \u001b[0;32min\u001b[0m \u001b[0mbook_paths\u001b[0m\u001b[0;34m]\u001b[0m\u001b[0;34m\u001b[0m\u001b[0;34m\u001b[0m\u001b[0m\n\u001b[0m\u001b[1;32m     19\u001b[0m \u001b[0;34m\u001b[0m\u001b[0m\n\u001b[1;32m     20\u001b[0m         \u001b[0mself\u001b[0m\u001b[0;34m.\u001b[0m\u001b[0mbookid_to_pid\u001b[0m \u001b[0;34m=\u001b[0m \u001b[0mdefaultdict\u001b[0m\u001b[0;34m(\u001b[0m\u001b[0mlist\u001b[0m\u001b[0;34m)\u001b[0m\u001b[0;34m\u001b[0m\u001b[0;34m\u001b[0m\u001b[0m\n",
            "\u001b[0;32m<ipython-input-111-b69db479b3ce>\u001b[0m in \u001b[0;36m<listcomp>\u001b[0;34m(.0)\u001b[0m\n\u001b[1;32m     16\u001b[0m \u001b[0;34m\u001b[0m\u001b[0m\n\u001b[1;32m     17\u001b[0m         \u001b[0;31m#read book\u001b[0m\u001b[0;34m\u001b[0m\u001b[0;34m\u001b[0m\u001b[0m\n\u001b[0;32m---> 18\u001b[0;31m         \u001b[0mself\u001b[0m\u001b[0;34m.\u001b[0m\u001b[0mbooks\u001b[0m \u001b[0;34m=\u001b[0m \u001b[0;34m[\u001b[0m\u001b[0mPdfParagraphExtractor\u001b[0m\u001b[0;34m(\u001b[0m\u001b[0mbook_path\u001b[0m\u001b[0;34m,\u001b[0m \u001b[0mself\u001b[0m\u001b[0;34m.\u001b[0m\u001b[0mencoder_model\u001b[0m\u001b[0;34m)\u001b[0m \u001b[0;32mfor\u001b[0m \u001b[0mbook_path\u001b[0m \u001b[0;32min\u001b[0m \u001b[0mbook_paths\u001b[0m\u001b[0;34m]\u001b[0m\u001b[0;34m\u001b[0m\u001b[0;34m\u001b[0m\u001b[0m\n\u001b[0m\u001b[1;32m     19\u001b[0m \u001b[0;34m\u001b[0m\u001b[0m\n\u001b[1;32m     20\u001b[0m         \u001b[0mself\u001b[0m\u001b[0;34m.\u001b[0m\u001b[0mbookid_to_pid\u001b[0m \u001b[0;34m=\u001b[0m \u001b[0mdefaultdict\u001b[0m\u001b[0;34m(\u001b[0m\u001b[0mlist\u001b[0m\u001b[0;34m)\u001b[0m\u001b[0;34m\u001b[0m\u001b[0;34m\u001b[0m\u001b[0m\n",
            "\u001b[0;32m<ipython-input-90-ce447de88d3e>\u001b[0m in \u001b[0;36m__init__\u001b[0;34m(self, book_path, encoder_model)\u001b[0m\n\u001b[1;32m     25\u001b[0m \u001b[0;34m\u001b[0m\u001b[0m\n\u001b[1;32m     26\u001b[0m         \u001b[0mself\u001b[0m\u001b[0;34m.\u001b[0m\u001b[0mparagraph_generator\u001b[0m\u001b[0;34m(\u001b[0m\u001b[0;34m)\u001b[0m\u001b[0;34m\u001b[0m\u001b[0;34m\u001b[0m\u001b[0m\n\u001b[0;32m---> 27\u001b[0;31m         \u001b[0mself\u001b[0m\u001b[0;34m.\u001b[0m\u001b[0mcompute_doc_embeddings\u001b[0m\u001b[0;34m(\u001b[0m\u001b[0;34m)\u001b[0m\u001b[0;34m\u001b[0m\u001b[0;34m\u001b[0m\u001b[0m\n\u001b[0m\u001b[1;32m     28\u001b[0m         \u001b[0;32mreturn\u001b[0m\u001b[0;34m\u001b[0m\u001b[0;34m\u001b[0m\u001b[0m\n\u001b[1;32m     29\u001b[0m \u001b[0;34m\u001b[0m\u001b[0m\n",
            "\u001b[0;32m<ipython-input-90-ce447de88d3e>\u001b[0m in \u001b[0;36mcompute_doc_embeddings\u001b[0;34m(self)\u001b[0m\n\u001b[1;32m     75\u001b[0m             \u001b[0mlast_page\u001b[0m \u001b[0;34m=\u001b[0m \u001b[0mpage_number\u001b[0m\u001b[0;34m\u001b[0m\u001b[0;34m\u001b[0m\u001b[0m\n\u001b[1;32m     76\u001b[0m     \u001b[0;32mdef\u001b[0m \u001b[0mcompute_doc_embeddings\u001b[0m\u001b[0;34m(\u001b[0m\u001b[0mself\u001b[0m\u001b[0;34m)\u001b[0m\u001b[0;34m:\u001b[0m\u001b[0;34m\u001b[0m\u001b[0;34m\u001b[0m\u001b[0m\n\u001b[0;32m---> 77\u001b[0;31m         \u001b[0mself\u001b[0m\u001b[0;34m.\u001b[0m\u001b[0mdoc_embeddings\u001b[0m \u001b[0;34m=\u001b[0m \u001b[0mself\u001b[0m\u001b[0;34m.\u001b[0m\u001b[0mencoder_model\u001b[0m\u001b[0;34m.\u001b[0m\u001b[0mencode\u001b[0m\u001b[0;34m(\u001b[0m\u001b[0mself\u001b[0m\u001b[0;34m.\u001b[0m\u001b[0mparagraphs\u001b[0m\u001b[0;34m)\u001b[0m\u001b[0;34m\u001b[0m\u001b[0;34m\u001b[0m\u001b[0m\n\u001b[0m\u001b[1;32m     78\u001b[0m         \u001b[0mr\u001b[0m\u001b[0;34m,\u001b[0m \u001b[0mc\u001b[0m \u001b[0;34m=\u001b[0m \u001b[0mself\u001b[0m\u001b[0;34m.\u001b[0m\u001b[0mdoc_embeddings\u001b[0m\u001b[0;34m.\u001b[0m\u001b[0mshape\u001b[0m\u001b[0;34m\u001b[0m\u001b[0;34m\u001b[0m\u001b[0m\n\u001b[1;32m     79\u001b[0m         \u001b[0mself\u001b[0m\u001b[0;34m.\u001b[0m\u001b[0mdoc_embeddings\u001b[0m \u001b[0;34m=\u001b[0m \u001b[0;34m[\u001b[0m\u001b[0mdoc_emb\u001b[0m\u001b[0;34m[\u001b[0m\u001b[0;34m:\u001b[0m\u001b[0;34m]\u001b[0m\u001b[0;34m.\u001b[0m\u001b[0mreshape\u001b[0m\u001b[0;34m(\u001b[0m\u001b[0;36m1\u001b[0m\u001b[0;34m,\u001b[0m\u001b[0;34m-\u001b[0m\u001b[0;36m1\u001b[0m\u001b[0;34m)\u001b[0m \u001b[0;32mfor\u001b[0m \u001b[0mdoc_emb\u001b[0m \u001b[0;32min\u001b[0m \u001b[0mself\u001b[0m\u001b[0;34m.\u001b[0m\u001b[0mdoc_embeddings\u001b[0m\u001b[0;34m]\u001b[0m\u001b[0;34m\u001b[0m\u001b[0;34m\u001b[0m\u001b[0m\n",
            "\u001b[0;32m<ipython-input-110-3fde4fb76224>\u001b[0m in \u001b[0;36mencode\u001b[0;34m(self, paragraph)\u001b[0m\n\u001b[1;32m     33\u001b[0m                 \u001b[0mdoc_embeddings\u001b[0m \u001b[0;34m=\u001b[0m \u001b[0mself\u001b[0m\u001b[0;34m.\u001b[0m\u001b[0mmodel\u001b[0m\u001b[0;34m(\u001b[0m\u001b[0minput_ids\u001b[0m\u001b[0;34m,\u001b[0m \u001b[0mattention_mask\u001b[0m\u001b[0;34m=\u001b[0m\u001b[0mattention_mask\u001b[0m\u001b[0;34m)\u001b[0m\u001b[0;34m.\u001b[0m\u001b[0mpooler_output\u001b[0m\u001b[0;34m\u001b[0m\u001b[0;34m\u001b[0m\u001b[0m\n\u001b[1;32m     34\u001b[0m \u001b[0;34m\u001b[0m\u001b[0m\n\u001b[0;32m---> 35\u001b[0;31m             \u001b[0mcloned_doc_embeddings\u001b[0m\u001b[0;34m.\u001b[0m\u001b[0mappend\u001b[0m\u001b[0;34m(\u001b[0m\u001b[0mtorch\u001b[0m\u001b[0;34m.\u001b[0m\u001b[0mclone\u001b[0m\u001b[0;34m(\u001b[0m\u001b[0mdoc_embeddings\u001b[0m\u001b[0;34m)\u001b[0m\u001b[0;34m.\u001b[0m\u001b[0mcpu\u001b[0m\u001b[0;34m(\u001b[0m\u001b[0;34m)\u001b[0m\u001b[0;34m.\u001b[0m\u001b[0mnumpy\u001b[0m\u001b[0;34m(\u001b[0m\u001b[0;34m)\u001b[0m\u001b[0;34m)\u001b[0m\u001b[0;34m\u001b[0m\u001b[0;34m\u001b[0m\u001b[0m\n\u001b[0m\u001b[1;32m     36\u001b[0m \u001b[0;34m\u001b[0m\u001b[0m\n\u001b[1;32m     37\u001b[0m             \u001b[0;31m##clean up\u001b[0m\u001b[0;34m\u001b[0m\u001b[0;34m\u001b[0m\u001b[0m\n",
            "\u001b[0;31mKeyboardInterrupt\u001b[0m: "
          ]
        }
      ],
      "source": [
        "books = Book(pdf_paths)"
      ]
    },
    {
      "cell_type": "code",
      "execution_count": null,
      "metadata": {
        "id": "OJL0ftxbADSz"
      },
      "outputs": [],
      "source": [
        "# books.kw_model.set_keyword_map(books.global_doc_embeddings, 0)"
      ]
    },
    {
      "cell_type": "code",
      "execution_count": null,
      "metadata": {
        "id": "RNtHAe1MAQFh"
      },
      "outputs": [],
      "source": [
        "# books.kw_model.key_to_ids"
      ]
    },
    {
      "cell_type": "markdown",
      "source": [
        "# Exp"
      ],
      "metadata": {
        "id": "v7NSv5twyWtr"
      }
    },
    {
      "cell_type": "code",
      "source": [
        "def generate(obj, docs, question):\n",
        "    text_passages = obj.append_question(question,docs)\n",
        "\n",
        "    context_ids,context_mask=obj.encode_passages(text_passages,obj.decoder_tokenizer,1000)\n",
        "    print(\"SHape of context ids: \",context_ids.shape)\n",
        "    ans=None\n",
        "    with torch.no_grad():\n",
        "        outputs = obj.decoder_model.generate(\n",
        "                input_ids=context_ids.to(device),\n",
        "                attention_mask=context_mask.to(device),\n",
        "                max_length=500)\n",
        "        torch.cuda.empty_cache()\n",
        "        anss = []\n",
        "\n",
        "        generated_answers = [obj.decoder_tokenizer.decode(output, skip_special_tokens=True) for output in outputs]\n",
        "\n",
        "    return generated_answers"
      ],
      "metadata": {
        "id": "OeEyl1RvvtWL"
      },
      "execution_count": null,
      "outputs": []
    },
    {
      "cell_type": "code",
      "source": [
        "def retrieve(obj, query: str):\n",
        "    query = query.replace('\\n', '').replace('\\t', '')\n",
        "\n",
        "    topic_scores, topic_res = obj.topic_index.serve_query(query)\n",
        "    key_scores, key_res = obj.keyword_index.serve_query(query)\n",
        "\n",
        "    topic_res = topic_res[0]\n",
        "    key_res = key_res[0]\n",
        "\n",
        "    topic_docs = []\n",
        "    key_docs = []\n",
        "\n",
        "    for topic_id in topic_res:\n",
        "\n",
        "        topic = books.topic_list[topic_id]\n",
        "        pids = books.topic_dictionary[topic]\n",
        "\n",
        "        ps = [books.global_paragraphs[pid[0]] for pid in pids]\n",
        "        doc = ' '.join(ps)\n",
        "        topic_docs.append(doc)\n",
        "\n",
        "    for key_id in key_res:\n",
        "        key = books.keyword_list[key_id]\n",
        "        pids = books.key_to_ids[key]\n",
        "\n",
        "        ps =  [books.global_paragraphs[pid] for pid in pids]\n",
        "        doc = ' '.join(ps)\n",
        "        key_docs.append(doc)\n",
        "    all_docs = key_docs+topic_docs\n",
        "    print(all_docs)\n",
        "    print(type(all_docs))\n",
        "    return all_docs\n",
        "    # ans = obj.generate(all_docs, query)\n",
        "    # return {\n",
        "    #     'topic': topic_docs,\n",
        "    #     'key': key_docs,\n",
        "    #     'ans': ans\n",
        "    # }"
      ],
      "metadata": {
        "id": "7ePf7vHwvyP7"
      },
      "execution_count": null,
      "outputs": []
    },
    {
      "cell_type": "code",
      "source": [
        "def encode_passages(batch_text_passages, tokenizer, max_length):\n",
        "    p = tokenizer(\n",
        "        batch_text_passages,\n",
        "        max_length=max_length,\n",
        "        pad_to_max_length=True,\n",
        "        return_tensors='pt',\n",
        "        truncation=True\n",
        "    )\n",
        "    passage_ids = p['input_ids'][None]\n",
        "    passage_masks = p['attention_mask'][None]\n",
        "\n",
        "    return passage_ids, passage_masks.bool()"
      ],
      "metadata": {
        "id": "z3LDvvLSzyam"
      },
      "execution_count": null,
      "outputs": []
    },
    {
      "cell_type": "code",
      "execution_count": null,
      "metadata": {
        "id": "IVe9Qf013FWM"
      },
      "outputs": [],
      "source": [
        "question = '''What do you mean by Kernel?'''"
      ]
    },
    {
      "cell_type": "code",
      "source": [
        "d = books.retrieve(question)"
      ],
      "metadata": {
        "colab": {
          "base_uri": "https://localhost:8080/"
        },
        "id": "y0mRQpdI4nLk",
        "outputId": "c6b92a08-eb1e-4a85-c027-824d4323c6c6"
      },
      "execution_count": null,
      "outputs": [
        {
          "output_type": "stream",
          "name": "stdout",
          "text": [
            "['Exercises', 'Creating and managing processes', 'Allocate memory for the process', 'wait(processID)Pause until the child process has exited', 'Server clusters.  For fault tolerance, scale, and responsiveness, web sites areincreasingly implemented on distributed clusters of computers housed in one or more', 'Throughout this book, we will present various approaches to improving operating systemreliability and availability . In many cases, the abstractions may seem at first glance overlyrigid and formulaic. It is important to realize this is done on purpose! Only preciseabstractions provide a basis for constructing reliable and available systems', 'wait(processID)Pause until the child process has exited', 'This starts the handler software', 'Interrupt masking prevents interrupts from being delivered at inopportune times', 'This starts the handler software', 'Suppose further that everyone in the world were completely honest and trustworthy . Inother words, we need not consider fault isolation 5. The host kernel can then restore the state of the user process, running at user level,as if the guest OS had been able to return there directly  UNIX has a system call, naturally enough called wait, that pauses the parent until the childfinishes, crashes, or is terminated. Since the parent could have created many childprocesses, wait is parameterized with the process ID of the child. With wait, a shell cancreate a new process to perform some step of its instructions, and then pause for that stepto complete before proceeding to the next step. It would be hard to build a usable shellwithout wait wait(processID)Pause until the child process has exited Streamlining client-server communicationClient-server communication is a common pattern in many systems, and so one can ask: how can weimprove its performance? One step is to recognize that both the client and the server issue a writeimmediately followed by a read, to wait for the other side to reply; at the cost of adding a system call, thesecan be combined to eliminate two kernel crossings per round trip. Further, the client will always need to waitfor the server, so it makes sense for it to donate its processor to run the server code, reducing delay', 'Figure 3.8: Example code for a simple UNIX shell Figure  3.8 illustrates the code for the basic operation of a shell. The shell reads acommand line from the input, and it forks a process to execute that command. UNIX forkautomatically duplicates all open file descriptors in the parent, incrementing the kernel’ sreference counts for those descriptors, so the input and output of the child is the same asthe parent. The parent waits for the child to finish before it reads the next command toexecute', 'Second, underlying hardware changes will often trigger new work in operating systemdesign. The future of operating systems is also the future of hardware:Very large scale data centers.  Operating systems will need to coordinate thehundreds of thousands or even millions of computers in data centers to supportessential online services Very large scale multicore systems.  Computer architectures already contain severalprocessors per chip; this trend will continue, yielding systems with hundreds orpossibly even thousands of processors per machine 5. Suppose you were the instructor of a very large introductory programming class', 'Finally , although you can think of a user program as starting with a call to main, in fact thecompiler inserts one level of indirection. It puts a stub at the location in the process’ smemory where the kernel will jump when the process starts. The stub’ s job is to call mainand then, if main returns, to call exit — the system call to terminate the process. Withoutthe stub, a user program that returned from main would try to pop the return programcounter , and since there is no such address on the stack, the processor would startexecuting random code      start(arg1, arg2) {          main(arg1, arg2);  // Call program main.   A program can read its input from a file.  Likewise, by using dup2 to change thestdin file descriptor , the shell can cause the child to read its input from a file. In thestandard UNIX shell, this is signified with a “less than” symbol. Thus, “zork < solution\"plays the game “zork” with a list of instructions stored in the file “solution.”The output of one program can be the input to another program.  The shell canuse a pipe to connect two programs together , so that the output of one is the input ofanother . This is called a producer -consumer  relationship. For example, in the C-compiler , the output of the preprocessor is sent to the parser , and the output of theparser is sent to the code-generator and then to the assembler . In the standard UNIXshell, a pipe connecting two programs is signified by a “|” symbol, as in: “cpp file.c |cparse | cgen | as > file.o”. In this case the shell creates four separate child processes,each connected by pipes to its predecessor and successor . Each of the phases canrun in parallel, with the parent waiting for all of them to finish. Virtual machine device drivers.  To handle legacy device drivers, one approach thathas gained some traction is to run device driver code inside a guest operating systemrunning on a virtual machine, as shown in Figure 3.14. The guest operating systemloads the device drivers as if it was running directly on the real hardware, but when thedevices attempt to access the physical hardware, the underlying virtual machinemonitor regains control to ensure safety . Device drivers can still have bugs, but theycan only corrupt the guest operating system and not other applications running on theunderlying virtual machine monitor ', '1.3.1 Impact of T echnology T rends1981 1997 2014Factor (2014 /1981)Single processor speed(MIPS)1 200 2500 2.5 KCPUs per computer 1 1 10+ 10+Processor $ / MIP $100K $25 $0.20 500 KDRAM capacity (MiB) / $0.002 2 1K 500 KDisk capacity (GiB) / $ 0.003 7 25K 10 MHome Internet 300 bps 256 Kbps 20 Mbps 100 K In the meantime, while the processor is handling the interrupt, the device is idle Architectural support for fast mode switchesSome processor architectures are able to execute user- and kernel-mode switches very efficiently, whileother architectures are much slower at performing these switches User-level exception handling.  Earlier , we described a mechanism where processorexceptions, such as divide-by-zero errors, are handled by the kernel. However , manyapplications have their own exception handling routines, e.g., to ensure that files aresaved before the application shuts down. For this, the operating system needs toinform the application when it receives a processor exception so the applicationruntime, rather than the kernel, handles the event. Explicit close.  When an application is done with the device or file, it calls close. Thissignals to the operating system that it can decrement the reference-count on thedevice, and garbage collect any unused kernel data structures close(fileDescriptor)Tell the kernel the process is done with this file, channel, or device', 'It might seem like there was no need for an operating system in this setting. However ,since computers were enormously expensive, reducing the likelihood of programmer errorwas paramount. The first operating systems were developed as a way to reduce errors byproviding a standard set of common services. For example, early operating systemsprovided standard input/output (I/O) routines that each user could link into their programs Needless to say , this was an expensive operation, often scheduled for the dead of thenight For higher performance, the operating system sets up a circular queue of requests for each device tohandle. (A network interface will have two queues: one for incoming packets and one for outgoingpackets.) Each entry in the queue, called a buffer descriptor, specifies one I/O operation: the requestedoperation (e.g., disk read or write) and the location of the buffer to contain the data. The devicehardware reads the buffer descriptor to determine what operations to perform. Provided the queue ofbuffer descriptors is full, the device can start working on the next operation while the operating systemhandles with the previous one Buffer descriptors are stored in memory, accessed by the device using DMA (direct memory access) An implication is that each logical I/O operation can involve several DMA requests: one to downloadthe buffer descriptor from memory into the device, then to copy the data in or out, and then to store thesuccess/failure of the operation back into buffer descriptor', 'GET request. The web server decodes the packet, reads the file from disk, and sends thecontents of the file back over the network to the user ’s machine Figure 1.1: The operation of a web server. The client machine sends an HTTP GET request to the webserver. The server decodes the packet, reads the file, and sends the contents back to the client Nevertheless, an operating system can be, and should be, designed to minimize itsvulnerability to attack. For example, strong fault isolation can prevent third partyapplications from taking over the system. Downloading and installing a screen saver orother application should not provide a way for an attacker to surreptitiously install acomputer virus  on the system. A computer program that modifies an operating system orapplication to copy itself from computer to computer without the computer owner ’spermission or knowledge. Once installed on a computer , a virus often provides the attackercontrol over the system’ s resources or data. An example computer virus is a keylogger: aprogram that modifies the operating system to record every keystroke entered by the userand send them back to the attacker ’s machine. In this way , the attacker could gain accessto the user ’s passwords, bank account numbers, and other private information. Likewise, amalicious screen saver might surreptitiously scan the disk for files containing personalinformation or turn the system into an email spam server  c. Protecting the network from a virus trying to use your computer to send spam.', '3.2 Input/OutputComputer systems have a wide diversity of input and output devices: keyboard, mouse,disk, USB port, Ethernet, WiFi, display , hardware timer , microphone, camera,accelerometer , and GPS, to name a few  Replace file descriptor . By manipulating the file descriptors of the child process, theshell can cause the child to read its input from, or send its output to, a file or a pipeinstead of from a keyboard or to the screen. This way, the child process does not needto be aware of who is providing or consuming its I/O. The shell does this redirectionusing a special system call named dup2(from, to) that replaces the to file descriptorwith a copy of the from file descriptor  Because the commands to read and write to an open file descriptor are the same whetherthe file descriptor represents a keyboard, screen, file, device, or pipe, UNIX programs donot need to be aware of where their input is coming from, or where their output is going A program can send its output to a file. By changing the stdout file descriptor in thechild, the shell can redirect the child’ s output to a file. In the standard UNIX shell, thisis signified with a “greater than” symbol. Thus, “ls > tmp\" lists the contents of thecurrent directory into the file “tmp.” After the fork and before the exec, the shell canreplace the stdout file descriptor for the child using dup2. Because the parent hasbeen cloned, changing stdout for the child has no ef fect on the parent stdin and stdout in the child process with the pipe file descriptors; that is the role ofdup2', 'Alas, no useful computer is perfectly secure! Any complex piece of software has bugs, andseemingly innocuous bugs can be exploited by an attacker to gain control of the system Whether transitioning from user to kernel mode or in the opposite direction, care must betaken to ensure that a buggy or malicious user program cannot corrupt the kernel User programs cannot be allowed to jump to arbitrary locations in the kernel. Forexample, the kernel code for handling the read file system call first checks whether theuser program has permission to do so. If not, the kernel should return an error . Withoutlimited entry points into the kernel, a malicious program could jump immediately afterthe code to perform the check, allowing the program to access to anyone’ s file', 'Application and hardware designers spend their ef forts on those operating systemplatforms with the most users, while users favor those operating systems with the bestapplications or the cheapest hardware. If this sounds circular , it is! More users imply moreapplications and cheaper hardware; more applications and cheaper hardware imply moreusers, in a virtuous cycle Eventually , the cumulative ef fect of Moore’ s Law meant that the cost of computing droppedto where systems could be optimized for users rather than for ef ficient use of theprocessor . UNIX, for example, was developed in the early 70’ s on a spare computer thatno one was using at the time. UNIX became the basis for Apple’ s MacOS X, Linux,VMware (a widely used virtual machine monitor), and Google Android. Figure 1.9 tracesthe lineage of these operating systems Exercises1. What is an example of an operating system as:a. Referee?b. Illusionist?c. Glue?2. What is the dif ference, if any , between the following terms:a. Reliability vs. availability?b. Security vs. privacy?c. Security enforcement vs. security policy?d. Throughput vs. response time?e. Efficiency vs. overhead?f. Application programming interface (API) vs. abstract virtual machine (A VM)?g. Abstract virtual machine (A VM) vs. hardware abstraction layer (HAL)?h. Proprietary vs. open operating system?i. Batch vs. interactive operating system?j. Host vs. guest operating system?3. Define the term, direct memory access (DMA) Typically , a pointer to the trapframe is passed as an argument to the handler , e.g., to allowsystem calls to access arguments passed in registers Figure 3.14: Legacy device drivers can run inside a guest operating system on top of a virtual machinein order to isolate the effect of implementation errors in driver code In addition to the fine-grained sandboxing and process creation we described at the end ofthe last chapter , a trend is to re-structure the system call interface to make resourceallocation decisions explicit and visible to applications. Traditionally , operating systemsmake resource allocation decisions — when to schedule a process or a thread, how muchmemory to give a particular application, where and when to store its disk blocks, when tosend its network packets — transparently to the application, with a goal of improving enduser and overall system performance. Applications are unaware of how many resourcesthey have, appearing to run by themselves, isolated on their own (virtual) machine']\n",
            "<class 'list'>\n"
          ]
        }
      ]
    },
    {
      "cell_type": "code",
      "source": [
        "generate(books, d, question)"
      ],
      "metadata": {
        "id": "kxjUyc007tSz"
      },
      "execution_count": null,
      "outputs": []
    },
    {
      "cell_type": "code",
      "source": [
        "d"
      ],
      "metadata": {
        "id": "En1JGLWD7_H6"
      },
      "execution_count": null,
      "outputs": []
    },
    {
      "cell_type": "code",
      "source": [
        "# books.topic_index.serve_query(question)[1][0]"
      ],
      "metadata": {
        "colab": {
          "base_uri": "https://localhost:8080/"
        },
        "id": "zES6GlHxs9_H",
        "outputId": "e1c3e1fb-1b39-427c-e182-d2533d736448"
      },
      "execution_count": null,
      "outputs": [
        {
          "output_type": "execute_result",
          "data": {
            "text/plain": [
              "array([ 33,  96,  37,  12,  19,  61,  97,  83,  27, 112])"
            ]
          },
          "metadata": {},
          "execution_count": 79
        }
      ]
    },
    {
      "cell_type": "code",
      "source": [
        "# d = retrieve(books, question)"
      ],
      "metadata": {
        "id": "rI-7G-AbGOx1",
        "colab": {
          "base_uri": "https://localhost:8080/"
        },
        "outputId": "7d3a9d0e-6d9a-41b1-c2bf-13c6d85e0c09"
      },
      "execution_count": null,
      "outputs": [
        {
          "output_type": "stream",
          "name": "stdout",
          "text": [
            "['Thrashing', 'Databases', 'Detecting Deadlock', 'Compacttranslationtables', 'FIFORef', 'sync', 'Returnvalues', 'Pipelining', 'Exercises', 'Whichpagesshouldbeevicted', 'This brings us to Solution 3 Solution 3.  Solution 2 was safe because a thread would avoid buying milk if there wereany chance that the other thread might  buy milk. For Solution 3, we ensure that at leastone of the threads determines whether the other thread has bought milk or not beforedeciding whether or not to buy . In particular , we do the following:  Path A noteA = 1;         // leave note A   while (noteB==1) { // wait for no note B       ;              // spin   }  if (milk==0) {     // if no milk M       milk++;        // buy milk   }  noteA = 0;         // remove note A   Path B noteB = 1;          // leave note B   if (noteA==0) {     // if no note A       if (milk==0) {  // if no milk           milk++;     // buy milk       }               //   }                   //   noteB = 0;          // remove note B    We can show that Solution 3 is safe using an argument similar to the one we used forSolution 2 15.Supposeweareusingtheclockalgorithmtodecidepagereplacement,initssimplestform(“first-chance”replacement,wheretheclockisonlyadvancedonapagefaultandnotinthebackground)', 'Because third-party applications might surreptitiously gather private data such as theuser’s contact list for marketing purposes, the operating system must be designed tolimit access to protected user data This design pattern — extensible applications running third-party scripts — occurs in manydifferent domains. Applications become more powerful and widely used if third partydevelopers and users can customize them, but doing so raises the issue of how to protectthe application itself from rogue extensions. This chapter focuses on how the operatingsystem protects the kernel from untrusted applications, but the principles also apply at theapplication level Application-layer sandboxing.  Increasingly , many applications are becoming mini-operating systems in their own right, capable of safely executing third-party software toextend and improve the user experience. Sophisticated scripts customize web sitebehavior; web browsers must efficiently and completely isolate these scripts so thatthey cannot steal the user’s data or corrupt the browser . Other applications — such asdatabases and desktop publishing systems — are also moving in the direction ofneeding application-layer sandboxing. Google’ s Native Client and Microsoft’ sApplication Domains are two example systems that provide general-purpose, safeexecution of third-party code at the user level Third-levelcache', 'The most striking aspect of the last fifty years in computing technology has been thecumulative ef fect of Moore’ s Law and the comparable advances in related technologies,such as memory and disk storage. Moore’ s Law  states that transistor density increasesexponentially over time; similar exponential improvements have occurred in many othercomponent technologies. Figure 1.8 provides an overview of the past three decades oftechnology improvements in computer hardware. The cost of processing and memory hasdecreased by almost six orders of magnitude over this period; the cost of disk capacity hasdecreased by seven orders of magnitude. Not all technologies have improved at the samerate; disk latency (not shown in the table) has improved, but at a much slower rate thandisk capacity . These relative changes have radically altered both the use of computers andthe tradeof fs faced by operating system designers Figure 4.9: The states of a thread during its lifetime Figure 6.23 shows the pseudo-code for the isDeadlocked method, a variation of the isSafemethod shown in Figure 6.21 for the Banker ’s Algorithm. Figure 7.19: Exponential probability distribution Puttingthesetogether,thelatencyofareadrequestisasfollows:Latency(readrequest)=Prob(cachehit)×Latency(cachehit)+Prob(cachemiss)×Latency(cachemiss)Figure9.2:Abstractoperationofamemorycachewrite.Memoryrequestsarebufferedandthensenttothecacheinthebackground.Typically,thecachestoresablockofdata,soeachwriteensuresthattherestoftheblockisinthecachebeforeupdatingthecache.Ifthecacheiswritethrough,thedataisthensentonwardtothenextlevelofcacheormemory', 'now do whatever work it needs to do Thus, to find the bootloader , the BIOS needs to read a block of raw bytes from disk; thebootloader , in turn, needs to know how to read from the file system to find and read theoperating system image File system.  Another way programs can be connected together is through readingand writing files. A text editor can import an image created by a drawing program, andthe editor can in turn write an HTML file that a web server can read to know how todisplay a web page. A key distinction is that, unlike the first two modes,communication through the file system can be separated in time: the writer of the filedoes not need to be running at the same time as the file reader . Therefore, data needsto be stored persistently on disk or other stable storage, and the data needs to benamed so that you can find the file when needed later on', 'Typically , a pointer to the trapframe is passed as an argument to the handler , e.g., to allowsystem calls to access arguments passed in registers The third argument, i, is passed to that function        tcb->state = READY;       readyList.add(tcb);    // Put tcb on ready list   }    void  stub(void (*func)(int), int arg) {       (*func)(arg);           // Execute the function func()       thread_exit(0);         // If func() does not call exit,  call it here.   } Figure 4.13: Pseudo-code for thread creation. The specifics of initializing the stack and the conventions forpassing arguments to the initial function are machine-dependent. On the Intel x86 architecture, the stackstarts at high addresses and grows down, while arguments are passed on the stack. On other systems, thestack can grow upwards and/or arguments can be passed in registers. Figure 4.14 provides pseudo-code forthread_dummySwitchFrame', 'Put condition variables on a queue in FIFO order  FIFO and memcachedAlthough you may think that FIFO is too simple to be useful, there are some important cases where it isexactly the right choice for the workload. One such example is memcached. Many web services, such asFacebook, store their user data in a database. The database provides flexible and consistent lookups, suchas, which friends need to be notified of a particular update to a user’s Facebook wall. In order to improveperformance, Facebook and other systems put a cache called memcached in front of the database, so that ifa user posts two items to her Facebook wall, the system only needs to lookup the friend list once. Thesystem first checks whether the information is cached, and if so uses that copy Because almost all requests are for small amounts of data, memcached replies to requests in FIFO order 8.3.2SuperpagesOnewaytoimprovetheTLBhitrateisusingaconceptcalledsuperpages.Asuperpageisasetofcontiguouspagesinphysicalmemorythatmapacontiguousregionofvirtualmemory,wherethepagesarealignedsothattheysharethesamehigh-order(superpage)address.Forexample,an8KBsuperpagewouldconsistoftwoadjacent4KBpagesthatlieonan8KBboundaryinbothvirtualandphysicalmemory.Superpagesareatthe NowconsiderhowFacebookorganizesitsdatatomakeallofthiswork.HowdoesFacebookassemblethedataneededtodisplayapage?Oneoptionwouldbetokeepallofthedataforaparticularuser’spageinoneplace.However,theinformationthatIneedtodrawmypageoverlapswiththeinformationthatmyfriends’friendsneedtodrawtheirpages.Myfriends’friends’friends’friendsincludeprettymuchtheentireplanet.Wecaneitherstoreeveryone’sdatainoneplaceorspreadthedataaround.Eitherway,performancewillsuffer!IfwestoreallthedatainCalifornia,FacebookwillbeslowforeveryonefromEurope,andviceversa.Equally,integratingdatafrommanydifferentlocationsisalsolikelytobeslow,especiallyforFacebook’smorecosmopolitanusers 9.5.2First-In-First-Out(FIFO)Alessarbitrarypolicyistoevictthecacheblockorpagethathasbeeninmemorythelongest,thatis,FirstInFirstOut,orFIFO.Particularlyforusingmemoryasacachefordisk,thiscanseemfair—eachprogram’spagesspendaroughlyequalamountoftimeinmemorybeforebeingevicted FIFO(3slots)Ref', 'Alas, no useful computer is perfectly secure! Any complex piece of software has bugs, andseemingly innocuous bugs can be exploited by an attacker to gain control of the system Or the computer hardware might be tampered with, to provide access to the attacker . Orthe computer ’s administrator might be untrustworthy , using his or her credentials to stealuser data. Or an OS software developer might be untrustworthy , inserting a backdoor forthe attacker to gain access to the system Nevertheless, an operating system can be, and should be, designed to minimize itsvulnerability to attack. For example, strong fault isolation can prevent third partyapplications from taking over the system. Downloading and installing a screen saver orother application should not provide a way for an attacker to surreptitiously install acomputer virus  on the system. A computer program that modifies an operating system orapplication to copy itself from computer to computer without the computer owner ’spermission or knowledge. Once installed on a computer , a virus often provides the attackercontrol over the system’ s resources or data. An example computer virus is a keylogger: aprogram that modifies the operating system to record every keystroke entered by the userand send them back to the attacker ’s machine. In this way , the attacker could gain accessto the user ’s passwords, bank account numbers, and other private information. Likewise, amalicious screen saver might surreptitiously scan the disk for files containing personalinformation or turn the system into an email spam server  c. Protecting the network from a virus trying to use your computer to send spam. Privacy . On a multi-user system, each user must be limited to only the data that she ispermitted to access. Without protection provided by the operating system, any user orapplication running on a system could access anyone’ s data, without the knowledge orapproval of the data’ s owner . For example, hackers often use popular applications —such as games or screen savers — as a way to gain access to personal email,telephone numbers, and credit card data stored on a smartphone or laptop. Forprivacy , an operating system must prevent untrusted code from accessingunauthorized data The lack of memory protection also made the system more vulnerable to computer viruses. 13. Three tasks, A, B, and C are run concurrently on a computer system Processor utilization    20.0%Disk    99.7%Network    5.0%Figure 7.24: Measured utilizations of a computer system', '2. Avoid defining a synchronized block in the middle of a method Any method declaration can include the keyword synchronized to indicate that theobject’ s lock is to be automatically acquired on entry to the method and automaticallyreleased on any return from the method. For example:   public synchronized foo() {       // Do something; lock is automatically acquired/released.   } This syntax is useful — it follows rule #2 above, and it frees the programmer fromhaving to worry about details, like making sure the lock is released before everypossible return point including exceptions. The pitfall is that Java also allows asynchronized block  in the middle of a method. For example:  public bar() {       // Do something without holding the lock       synchronized{           // Do something while holding the lock       }      // Do something without holding the lock   } This construct violates rule #3 from Section 5.5.2  and suf fers from the disadvantageslisted there. The solution is the same as discussed above: when you find yourselftempted to write a synchronized block in the middle of a Java method, treat that as astrong hint that you should define a separate method to more clearly encapsulate thelogical chunk you have identified The search method is read-only: after registering with readLock, it scans down the list untilit finds an element with a matching key . If the element is found, the method uses theparameter to return the value field and then returns TRUE. Otherwise, the method returnsFALSE to indicate that no matching record was found', 'This example demonstrates that acquiring and releasing a lock can be inexpensive Programmers often assume that acquiring a lock is an expensive operation, and thereforetry to reduce locking throughout their programs. The most likely result from prematureoptimization is a program that is buggy , hard to maintain, no faster than a cleanimplementation, and, ironically , harder to tune than a cleanly architected program. On mostplatforms, acquiring or releasing a lock is a highly tuned primitive — acquiring anuncontended lock is often nearly free. If there is contention, you probably needed the lock!In Section 6.3, we saw an example of synchronization without locks. RCU lets readsproceed without acquiring a lock or updating shared synchronization state, but it stillrequires updates to acquire locks. If the thread that holds the lock is interrupted, has a bugthat causes it to stop making progress, or becomes deadlocked, other threads can bedelayed for a long — perhaps unlimited — period of time', 'Software engineers use many of the same technologies and design patterns as those usedin operating systems to build other complex systems. Whether your goal is to work on theinternals of an operating system kernel — or to build the next generation of software forcloud computing, secure web browsers, game consoles, graphical user interfaces, mediaplayers, databases, or multicore software — the concepts and abstractions needed forreliable, portable, ef ficient and secure software are much the same. In our experience, thebest way to learn these concepts is to study how they are used in operating systems, butwe hope you will apply them to a much broader range of computer systems To avoid spreading our discussion too thinly , this book focuses on how operating systemswork. Just as it is easier to learn a second computer programming language after youbecome fluent in the first, it is better to see how operating systems principles apply in onecontext before learning how they can be applied in other settings. W e hope and expect,however , that you will be able to apply the concepts in this book more widely than justoperating system design This starts the handler software Software-loadedTLBIftheTLBiseffectiveatamortizingthecostofdoingafulladdresstranslationacrossmanymemoryreferences,wecanaskaradicalquestion:doweneedhardwaremulti-levelpagetablelookuponaTLBmiss?Thisistheconceptbehindasoftware-loadedTLB.ATLBhitworksasbefore,asafastpath.OnaTLBmiss,insteadofdoinghardwareaddresstranslation,theprocessortrapstotheoperatingsystemkernel.Inthetraphandler,thekernelisresponsiblefordoingtheaddresslookup,loadingtheTLBwiththenewtranslation,andrestartingtheapplication']\n",
            "<class 'list'>\n"
          ]
        }
      ]
    },
    {
      "cell_type": "code",
      "source": [
        "d"
      ],
      "metadata": {
        "colab": {
          "base_uri": "https://localhost:8080/"
        },
        "id": "xO9U6ETZ48ud",
        "outputId": "b26e64bd-8991-4e42-cb8e-8d4cc274976a"
      },
      "execution_count": null,
      "outputs": [
        {
          "output_type": "execute_result",
          "data": {
            "text/plain": [
              "['Exercises',\n",
              " 'Creating and managing processes',\n",
              " 'Allocate memory for the process',\n",
              " 'wait(processID)Pause until the child process has exited',\n",
              " 'Server clusters.  For fault tolerance, scale, and responsiveness, web sites areincreasingly implemented on distributed clusters of computers housed in one or more',\n",
              " 'Throughout this book, we will present various approaches to improving operating systemreliability and availability . In many cases, the abstractions may seem at first glance overlyrigid and formulaic. It is important to realize this is done on purpose! Only preciseabstractions provide a basis for constructing reliable and available systems',\n",
              " 'wait(processID)Pause until the child process has exited',\n",
              " 'This starts the handler software',\n",
              " 'Interrupt masking prevents interrupts from being delivered at inopportune times',\n",
              " 'This starts the handler software',\n",
              " 'If not, explain why  Explain (in English) how you would use UNIX system calls to automate testing ofsubmitted homework assignments',\n",
              " 'Alas, no useful computer is perfectly secure! Any complex piece of software has bugs, andseemingly innocuous bugs can be exploited by an attacker to gain control of the system Application-layer sandboxing.  Increasingly , many applications are becoming mini-operating systems in their own right, capable of safely executing third-party software toextend and improve the user experience. Sophisticated scripts customize web sitebehavior; web browsers must efficiently and completely isolate these scripts so thatthey cannot steal the user’s data or corrupt the browser . Other applications — such asdatabases and desktop publishing systems — are also moving in the direction ofneeding application-layer sandboxing. Google’ s Native Client and Microsoft’ sApplication Domains are two example systems that provide general-purpose, safeexecution of third-party code at the user level With this design, UNIX fork takes no arguments and returns an integer . UNIX exec takestwo arguments (the name of the program to run and an array of arguments to pass to theprogram). This is in place of the ten parameters needed for CreateProcess. In partbecause of the simplicity of UNIX fork and exec, this interface has remained nearlyunchanged since UNIX was designed in the early 70’ s. (Although the interface has notchanged, the word fork is now a bit ambiguous. It is used for creating a new copy of aUNIX process, and in thread systems for creating a new thread. T o disambiguate, we willalways use the term “UNIX fork” to refer to UNIX’ s copy process system call.)UNIX forkThe steps for implementing UNIX fork in the kernel are: UNIX fork and the Chrome Web browserAlthough UNIX fork is normally paired with a call to exec, in some cases UNIX fork is useful on its own. Aparticularly interesting example is in Google’s Chrome web browser. When the user clicks on a link, Chromeforks a process to fetch and render the web page at the link, in a new tab on the browser. The parentprocess continues to display the original referring web page, while the child process runs the same browser,but in its own address space and protection boundary. The motivation for this design is to isolate the newlink, so that if the web site is infected with a virus, it will not infect the rest of the browser. Closing theinfected browser tab will then remove the link and the virus from the system Creating and managing processes',\n",
              " 'Referee.  Should the Internet treat all users identically (e.g., network neutrality) orshould ISPs be able to favor some uses over others? Can the Internet be re-designed to prevent denial-of-service, spam, phishing, and other maliciousbehaviors?Illusionist.  The Internet provides the illusion of a single worldwide network thatcan deliver a packet from any machine on the Internet to any other machine c. Protecting the network from a virus trying to use your computer to send spam. 2.4.1 Interrupt V ector T able Finally , for any network-attached devices, such as a network printer , the operating systemcan load those drivers over the Internet',\n",
              " 'The x86 architecture has complementary features for restoring state: a popad instruction topop an array of integer register values of f the stack into the registers and an iret (returnfrom interrupt) instruction that loads a stack pointer , instruction pointer , and processorstatus word of f of the stack into the appropriate processor registers In the future, we are likely to see three complementary trends:Operating system support for fine-grained protection.  Process isolation isbecoming more flexible and fine-grained in order to reflect dif ferent levels of trust indifferent applications. Today , it is typical for a user application to have the permissionsof that user. This allows a virus masquerading as a screen saver to steal or corruptthat user’s data without needing to compromise the operating system first UNIX has a system call, naturally enough called wait, that pauses the parent until the childfinishes, crashes, or is terminated. Since the parent could have created many childprocesses, wait is parameterized with the process ID of the child. With wait, a shell cancreate a new process to perform some step of its instructions, and then pause for that stepto complete before proceeding to the next step. It would be hard to build a usable shellwithout wait wait(processID)Pause until the child process has exited',\n",
              " 'The int instruction saves the program counter , stack pointer , and eflags on the kernel stackbefore jumping to the system call handler through the interrupt vector table. The kernelhandler saves any additional registers that must be preserved across function calls. It thenexamines the system call integer code in %eax, verifies that it is a legal opcode, and callsthe correct stub for that system call      start(arg1, arg2) {          main(arg1, arg2);  // Call program main.    9. Consider the following program:     main (int argc, char ** argv) {          int child = fork();          int x = 5;               if (child == 0) {              x += 5;          } else {              child = fork();              x += 10;              if(child) {                  x += 5;              }          }      } How many dif ferent copies of the variable x are there? What are their values whentheir process finishes?10. What is the output of the following programs? (Please try to solve the problem withoutcompiling and running the programs.)    // Program 1      main() {          int val = 5;          int pid;               if (pid = fork())              wait(pid);          val++;          printf(\"%d\\\\n\", val);          return val;      }    // Program 2:      main() {          int val = 5;          int pid;          if (pid = fork())              wait(pid);          else              exit(val);          val++;          printf(\"%d\\\\n\", val);          return val;      }11. Implement a simple Linux shell in C capable of executing a sequence of programs thatcommunicate through a pipe. For example, if the user types ls | wc, your programshould fork of f the two programs, which together will calculate the number of files inthe directory . For this, you will need to use several of the Linux system calls describedin this chapter: fork, exec, open, close, pipe, dup2, and wait. Note:  You will to replace',\n",
              " 'MacOS and preemptive schedulingUntil 2002, Apple’s MacOS lacked the ability to force a process to yield the processor back to the kernel UNIX exec and waitThe UNIX system call exec completes the steps needed to start running a new program UNIX exec does the following steps:Load the program prog into the current address space',\n",
              " 'Likewise, they provide the illusion that each program has the computer ’s processorsentirely to itself. Obviously , the reality is quite different! These illusions let you writeapplications independently of the amount of physical memory on the system or thephysical number of processors. Because applications are written to a higher level ofabstraction, the operating system can invisibly change the amount of resourcesassigned to each application Figure 3.8: Example code for a simple UNIX shell A program can read its input from a file.  Likewise, by using dup2 to change thestdin file descriptor , the shell can cause the child to read its input from a file. In thestandard UNIX shell, this is signified with a “less than” symbol. Thus, “zork < solution\"plays the game “zork” with a list of instructions stored in the file “solution.”The output of one program can be the input to another program.  The shell canuse a pipe to connect two programs together , so that the output of one is the input ofanother . This is called a producer -consumer  relationship. For example, in the C-compiler , the output of the preprocessor is sent to the parser , and the output of theparser is sent to the code-generator and then to the assembler . In the standard UNIXshell, a pipe connecting two programs is signified by a “|” symbol, as in: “cpp file.c |cparse | cgen | as > file.o”. In this case the shell creates four separate child processes,each connected by pipes to its predecessor and successor . Each of the phases canrun in parallel, with the parent waiting for all of them to finish.',\n",
              " 'We next discuss these three roles in greater detail 4. Push the three key values onto the new stack.  Next, the hardware stores theinternally saved values onto the stack 5. The host kernel can then restore the state of the user process, running at user level,as if the guest OS had been able to return there directly ',\n",
              " 'Now the good news: operating systems concepts are also among the most accessible incomputer science. Many topics in this book will seem familiar to you — if you have evertried to do two things at once, or picked the “wrong” line at a grocery store, or tried to keepa roommate or sibling from messing with your things, or succeeded at pulling of f an AprilFool’ s joke. Each of these activities has an analogue in operating systems. It is thisfamiliarity that gives us hope that we can explain how operating systems work in a singletextbook. All we assume of the reader is a basic understanding of the operation of acomputer and the ability to read pseudo-code up boundaries, an operating system must also allow those boundaries to be crossed incarefully controlled ways when the need arises Enforcement  is how the operating system ensures that only permitted actions are allowed The security policy  defines what is permitted — who is allowed to access what data, andwho can perform what operations User programs cannot be allowed to jump to arbitrary locations in the kernel. Forexample, the kernel code for handling the read file system call first checks whether theuser program has permission to do so. If not, the kernel should return an error . Withoutlimited entry points into the kernel, a malicious program could jump immediately afterthe code to perform the check, allowing the program to access to anyone’ s file',\n",
              " 'As a result, most successful operating systems have a lifetime measured in decades 2.11 Summary and Future DirectionsThe process concept — the ability to execute arbitrary user programs with restricted rights— has been remarkably successful. With the exception of devices that run only a singleapplication at a time (such as embedded systems and game consoles), every commerciallysuccessful operating system provides process isolation Just as with system calls, these interfaces must be carefully designed to be bulletproof against malicioususe. A decade ago, email viruses became widespread because scripts could be embedded in documentsthat were executed on opening; the programming interfaces for these scripts would allow them to discoverthe list of correspondents known to the current email user and to send them email, thereby propagating and']"
            ]
          },
          "metadata": {},
          "execution_count": 84
        }
      ]
    },
    {
      "cell_type": "code",
      "source": [
        "# books.encode_passages(['This',''])"
      ],
      "metadata": {
        "id": "Xxkg-xJJ431G"
      },
      "execution_count": null,
      "outputs": []
    },
    {
      "cell_type": "code",
      "source": [
        "generate(books, d, question)"
      ],
      "metadata": {
        "colab": {
          "base_uri": "https://localhost:8080/"
        },
        "id": "SzLEQEeS6vME",
        "outputId": "754a8495-2ab3-4443-bfdd-02fcc3536faa"
      },
      "execution_count": null,
      "outputs": [
        {
          "output_type": "stream",
          "name": "stdout",
          "text": [
            "SHape of context ids:  torch.Size([1, 20, 1000])\n"
          ]
        },
        {
          "output_type": "execute_result",
          "data": {
            "text/plain": [
              "['a kernel with a kernel with a kernel with a kernel. What do you mean by Kernel? What is the processor f the processoras well as in thread systems for creating a new thread, treat all users equally??b... But an operating system must.. then exits the process..  or crashed. is terminated. with']"
            ]
          },
          "metadata": {},
          "execution_count": 95
        }
      ]
    },
    {
      "cell_type": "code",
      "source": [
        "generate(books, d, question)"
      ],
      "metadata": {
        "colab": {
          "base_uri": "https://localhost:8080/",
          "height": 53
        },
        "id": "lXd9UT5g4Y2i",
        "outputId": "8ad144ba-d144-4665-a214-e6c863ca6142"
      },
      "execution_count": null,
      "outputs": [
        {
          "output_type": "execute_result",
          "data": {
            "text/plain": [
              "'a kernel with a kernel with a kernel with a kernel. What do you mean by Kernel? What is the processor f the processoras well as in thread systems for creating a new thread, treat all users equally??b... But an operating system must.. then exits the process..'"
            ],
            "application/vnd.google.colaboratory.intrinsic+json": {
              "type": "string"
            }
          },
          "metadata": {},
          "execution_count": 91
        }
      ]
    },
    {
      "cell_type": "code",
      "source": [
        "context_ids,context_mask = encode_passages(d, books.decoder_tokenizer, 1000)"
      ],
      "metadata": {
        "id": "ixEPhCBV0HNi"
      },
      "execution_count": null,
      "outputs": []
    },
    {
      "cell_type": "code",
      "source": [
        "context_ids.shape"
      ],
      "metadata": {
        "colab": {
          "base_uri": "https://localhost:8080/"
        },
        "id": "MiOW7b9B0hz0",
        "outputId": "157f9a47-7c8c-4100-bf65-d46ac63208f5"
      },
      "execution_count": null,
      "outputs": [
        {
          "output_type": "execute_result",
          "data": {
            "text/plain": [
              "torch.Size([1, 20, 1000])"
            ]
          },
          "metadata": {},
          "execution_count": 108
        }
      ]
    },
    {
      "cell_type": "code",
      "source": [
        "for i in d:\n",
        "    print(type(i))\n",
        "    print(len(i))"
      ],
      "metadata": {
        "colab": {
          "base_uri": "https://localhost:8080/"
        },
        "id": "cNKbEzIpyUJY",
        "outputId": "8cf975a1-ad71-40a9-9ae8-ae2bc5e00b6e"
      },
      "execution_count": null,
      "outputs": [
        {
          "output_type": "stream",
          "name": "stdout",
          "text": [
            "<class 'str'>\n",
            "24\n",
            "<class 'str'>\n",
            "12\n",
            "<class 'str'>\n",
            "20\n",
            "<class 'str'>\n",
            "6\n",
            "<class 'str'>\n",
            "12\n",
            "<class 'str'>\n",
            "15\n",
            "<class 'str'>\n",
            "22\n",
            "<class 'str'>\n",
            "10\n",
            "<class 'str'>\n",
            "31\n",
            "<class 'str'>\n",
            "21\n",
            "<class 'str'>\n",
            "326\n",
            "<class 'str'>\n",
            "664\n",
            "<class 'str'>\n",
            "1402\n",
            "<class 'str'>\n",
            "1030\n",
            "<class 'str'>\n",
            "1083\n",
            "<class 'str'>\n",
            "1691\n",
            "<class 'str'>\n",
            "1410\n",
            "<class 'str'>\n",
            "2058\n",
            "<class 'str'>\n",
            "1278\n",
            "<class 'str'>\n",
            "1040\n"
          ]
        }
      ]
    },
    {
      "cell_type": "code",
      "source": [
        "books.generate(d, question)"
      ],
      "metadata": {
        "colab": {
          "base_uri": "https://localhost:8080/",
          "height": 408
        },
        "id": "PA3x-7nUyUGF",
        "outputId": "1d04b03c-ce8a-4aa6-df22-0441548c8e54"
      },
      "execution_count": null,
      "outputs": [
        {
          "output_type": "error",
          "ename": "RuntimeError",
          "evalue": "Sizes of tensors must match except in dimension 0. Expected size 24 but got size 12 for tensor number 1 in the list.",
          "traceback": [
            "\u001b[0;31m---------------------------------------------------------------------------\u001b[0m",
            "\u001b[0;31mRuntimeError\u001b[0m                              Traceback (most recent call last)",
            "\u001b[0;32m<ipython-input-100-ea907e81a3a1>\u001b[0m in \u001b[0;36m<cell line: 1>\u001b[0;34m()\u001b[0m\n\u001b[0;32m----> 1\u001b[0;31m \u001b[0mbooks\u001b[0m\u001b[0;34m.\u001b[0m\u001b[0mgenerate\u001b[0m\u001b[0;34m(\u001b[0m\u001b[0md\u001b[0m\u001b[0;34m,\u001b[0m \u001b[0mquestion\u001b[0m\u001b[0;34m)\u001b[0m\u001b[0;34m\u001b[0m\u001b[0;34m\u001b[0m\u001b[0m\n\u001b[0m",
            "\u001b[0;32m<ipython-input-80-ff95afb35915>\u001b[0m in \u001b[0;36mgenerate\u001b[0;34m(self, docs, question)\u001b[0m\n\u001b[1;32m    125\u001b[0m         \u001b[0mtext_passages\u001b[0m \u001b[0;34m=\u001b[0m \u001b[0;34m[\u001b[0m\u001b[0mself\u001b[0m\u001b[0;34m.\u001b[0m\u001b[0mappend_question\u001b[0m\u001b[0;34m(\u001b[0m\u001b[0mquestion\u001b[0m\u001b[0;34m,\u001b[0m\u001b[0mpassage\u001b[0m\u001b[0;34m)\u001b[0m \u001b[0;32mfor\u001b[0m \u001b[0mpassage\u001b[0m \u001b[0;32min\u001b[0m \u001b[0mdocs\u001b[0m\u001b[0;34m]\u001b[0m\u001b[0;34m\u001b[0m\u001b[0;34m\u001b[0m\u001b[0m\n\u001b[1;32m    126\u001b[0m \u001b[0;34m\u001b[0m\u001b[0m\n\u001b[0;32m--> 127\u001b[0;31m         \u001b[0mcontext_ids\u001b[0m\u001b[0;34m,\u001b[0m\u001b[0mcontext_mask\u001b[0m\u001b[0;34m=\u001b[0m\u001b[0mself\u001b[0m\u001b[0;34m.\u001b[0m\u001b[0mencode_passages\u001b[0m\u001b[0;34m(\u001b[0m\u001b[0mtext_passages\u001b[0m\u001b[0;34m,\u001b[0m\u001b[0mself\u001b[0m\u001b[0;34m.\u001b[0m\u001b[0mdecoder_tokenizer\u001b[0m\u001b[0;34m,\u001b[0m\u001b[0;36m1000\u001b[0m\u001b[0;34m)\u001b[0m\u001b[0;34m\u001b[0m\u001b[0;34m\u001b[0m\u001b[0m\n\u001b[0m\u001b[1;32m    128\u001b[0m         \u001b[0mans\u001b[0m\u001b[0;34m=\u001b[0m\u001b[0;32mNone\u001b[0m\u001b[0;34m\u001b[0m\u001b[0;34m\u001b[0m\u001b[0m\n\u001b[1;32m    129\u001b[0m         \u001b[0;32mwith\u001b[0m \u001b[0mtorch\u001b[0m\u001b[0;34m.\u001b[0m\u001b[0mno_grad\u001b[0m\u001b[0;34m(\u001b[0m\u001b[0;34m)\u001b[0m\u001b[0;34m:\u001b[0m\u001b[0;34m\u001b[0m\u001b[0;34m\u001b[0m\u001b[0m\n",
            "\u001b[0;32m<ipython-input-80-ff95afb35915>\u001b[0m in \u001b[0;36mencode_passages\u001b[0;34m(self, batch_text_passages, tokenizer, max_length)\u001b[0m\n\u001b[1;32m    115\u001b[0m             \u001b[0mpassage_masks\u001b[0m\u001b[0;34m.\u001b[0m\u001b[0mappend\u001b[0m\u001b[0;34m(\u001b[0m\u001b[0mp\u001b[0m\u001b[0;34m[\u001b[0m\u001b[0;34m'attention_mask'\u001b[0m\u001b[0;34m]\u001b[0m\u001b[0;34m[\u001b[0m\u001b[0;32mNone\u001b[0m\u001b[0;34m]\u001b[0m\u001b[0;34m)\u001b[0m\u001b[0;34m\u001b[0m\u001b[0;34m\u001b[0m\u001b[0m\n\u001b[1;32m    116\u001b[0m \u001b[0;34m\u001b[0m\u001b[0m\n\u001b[0;32m--> 117\u001b[0;31m         \u001b[0mpassage_ids\u001b[0m \u001b[0;34m=\u001b[0m \u001b[0mtorch\u001b[0m\u001b[0;34m.\u001b[0m\u001b[0mcat\u001b[0m\u001b[0;34m(\u001b[0m\u001b[0mpassage_ids\u001b[0m\u001b[0;34m,\u001b[0m \u001b[0mdim\u001b[0m\u001b[0;34m=\u001b[0m\u001b[0;36m0\u001b[0m\u001b[0;34m)\u001b[0m\u001b[0;34m\u001b[0m\u001b[0;34m\u001b[0m\u001b[0m\n\u001b[0m\u001b[1;32m    118\u001b[0m         \u001b[0mpassage_masks\u001b[0m \u001b[0;34m=\u001b[0m \u001b[0mtorch\u001b[0m\u001b[0;34m.\u001b[0m\u001b[0mcat\u001b[0m\u001b[0;34m(\u001b[0m\u001b[0mpassage_masks\u001b[0m\u001b[0;34m,\u001b[0m \u001b[0mdim\u001b[0m\u001b[0;34m=\u001b[0m\u001b[0;36m0\u001b[0m\u001b[0;34m)\u001b[0m\u001b[0;34m\u001b[0m\u001b[0;34m\u001b[0m\u001b[0m\n\u001b[1;32m    119\u001b[0m         \u001b[0;32mreturn\u001b[0m \u001b[0mpassage_ids\u001b[0m\u001b[0;34m,\u001b[0m \u001b[0mpassage_masks\u001b[0m\u001b[0;34m.\u001b[0m\u001b[0mbool\u001b[0m\u001b[0;34m(\u001b[0m\u001b[0;34m)\u001b[0m\u001b[0;34m\u001b[0m\u001b[0;34m\u001b[0m\u001b[0m\n",
            "\u001b[0;31mRuntimeError\u001b[0m: Sizes of tensors must match except in dimension 0. Expected size 24 but got size 12 for tensor number 1 in the list."
          ]
        }
      ]
    },
    {
      "cell_type": "code",
      "source": [],
      "metadata": {
        "id": "evvJSHWfyUEU"
      },
      "execution_count": null,
      "outputs": []
    },
    {
      "cell_type": "code",
      "execution_count": null,
      "metadata": {
        "colab": {
          "base_uri": "https://localhost:8080/"
        },
        "id": "RYeSABWy98hK",
        "outputId": "375e3d51-9eec-4d77-ebc8-8065c80578b5"
      },
      "outputs": [
        {
          "output_type": "execute_result",
          "data": {
            "text/plain": [
              "{'Contents': 5,\n",
              " 'Preface': 8,\n",
              " '1 Introduction': 17,\n",
              " '2 The Kernel Abstraction': 47,\n",
              " '3 The Programming Interface': 95,\n",
              " 'References': 125,\n",
              " 'Glossary': 136,\n",
              " 'About the Authors': 163}"
            ]
          },
          "metadata": {},
          "execution_count": 101
        }
      ],
      "source": [
        "books.books[0].pdf_contents"
      ]
    },
    {
      "cell_type": "code",
      "execution_count": null,
      "metadata": {
        "colab": {
          "base_uri": "https://localhost:8080/"
        },
        "id": "n7h4egHR3FNh",
        "outputId": "10c9744a-492c-4daf-d9c1-9d4b0f963e2a"
      },
      "outputs": [
        {
          "output_type": "execute_result",
          "data": {
            "text/plain": [
              "array([[1422, 1699, 1207,  669,  424, 1714,  238,  580, 1384,  790]])"
            ]
          },
          "metadata": {},
          "execution_count": 105
        }
      ],
      "source": [
        "js['keyword'][1]"
      ]
    },
    {
      "cell_type": "code",
      "execution_count": null,
      "metadata": {
        "id": "nOo0MRly3E7b"
      },
      "outputs": [],
      "source": [
        "for i in js['topic'][1][0]:\n",
        "    print(i)\n",
        "    topic_id = books.topic_list[i]\n",
        "    pids = books.topic_dictionary[topic_id]\n",
        "    for pid in pids:\n",
        "        print(books.global_paragraphs[pid[0]])"
      ]
    },
    {
      "cell_type": "code",
      "source": [
        "for i in js['keyword'][1][0]:\n",
        "    print(i)\n",
        "    key = books.keyword_list[i]\n",
        "    pids = books.key_to_ids[key]\n",
        "    for pid in pids:\n",
        "        print(books.global_paragraphs[pid])"
      ],
      "metadata": {
        "id": "jRAf_MEHEiCx"
      },
      "execution_count": null,
      "outputs": []
    },
    {
      "cell_type": "code",
      "source": [
        "books.kw_model.key_to_ids"
      ],
      "metadata": {
        "id": "8DbySdh-FPCj"
      },
      "execution_count": null,
      "outputs": []
    },
    {
      "cell_type": "code",
      "source": [
        "books.kw_model.extract(books.global_paragraphs, books.global_doc_embeddings)"
      ],
      "metadata": {
        "id": "o7nGExdhERKB"
      },
      "execution_count": null,
      "outputs": []
    },
    {
      "cell_type": "code",
      "execution_count": null,
      "metadata": {
        "id": "D_-F9xlR_SDc"
      },
      "outputs": [],
      "source": [
        "books.topic_dictionary"
      ]
    },
    {
      "cell_type": "code",
      "source": [],
      "metadata": {
        "id": "S7NKlLGiG6O1"
      },
      "execution_count": null,
      "outputs": []
    },
    {
      "cell_type": "code",
      "execution_count": null,
      "metadata": {
        "id": "lEay3X5G_bSb"
      },
      "outputs": [],
      "source": [
        "books.key_to_ids"
      ]
    },
    {
      "cell_type": "code",
      "execution_count": null,
      "metadata": {
        "id": "IqH3sxbVbS5p"
      },
      "outputs": [],
      "source": [
        "# arr_topics = list(lda.hyperedge_embeddings.keys())"
      ]
    },
    {
      "cell_type": "code",
      "execution_count": null,
      "metadata": {
        "id": "t2BfjOIwbS5p"
      },
      "outputs": [],
      "source": [
        "# arr_embeddings = list(lda.hyperedge_embeddings.values())"
      ]
    },
    {
      "cell_type": "code",
      "execution_count": null,
      "metadata": {
        "id": "1naVbcMCbS5p"
      },
      "outputs": [],
      "source": [
        "# arr_embeddings = np.vstack(arr_embeddings)"
      ]
    },
    {
      "cell_type": "code",
      "source": [],
      "metadata": {
        "id": "PaW8Kqsyjmes"
      },
      "execution_count": null,
      "outputs": []
    }
  ]
}